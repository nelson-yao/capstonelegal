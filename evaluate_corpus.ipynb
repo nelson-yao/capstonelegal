{
 "cells": [
  {
   "cell_type": "code",
   "execution_count": 1,
   "metadata": {
    "collapsed": true
   },
   "outputs": [],
   "source": [
    "import pickle\n",
    "import random\n",
    "import pandas as pd\n",
    "from sklearn.feature_extraction.text import TfidfVectorizer \n",
    "from sklearn.ensemble import RandomForestClassifier\n",
    "from sklearn.ensemble import AdaBoostClassifier\n",
    "from sklearn.linear_model import LogisticRegression\n",
    "from sklearn.metrics import f1_score\n",
    "from sklearn.feature_extraction.text import TfidfTransformer\n",
    "import gzip # for compressing Pickeled data\n",
    "import xml.etree.ElementTree as ET\n",
    "from textblob import TextBlob\n"
   ]
  },
  {
   "cell_type": "markdown",
   "metadata": {},
   "source": [
    "### Read vectorizers and classifiers from disk"
   ]
  },
  {
   "cell_type": "code",
   "execution_count": 2,
   "metadata": {
    "collapsed": false
   },
   "outputs": [],
   "source": [
    "with gzip.open('./Data/classifiers_rforest.pk.gz', 'rb') as f:\n",
    "    models = pickle.load(f)\n"
   ]
  },
  {
   "cell_type": "code",
   "execution_count": 3,
   "metadata": {
    "collapsed": true
   },
   "outputs": [],
   "source": [
    "with gzip.open('./Data/vectorizers.pk.gz', 'rb') as f:\n",
    "    vectorizers = pickle.load(f)"
   ]
  },
  {
   "cell_type": "markdown",
   "metadata": {},
   "source": [
    "### Read a privacy policy from the corpus\n",
    "Using the ACL Coling dataset from https://www.usableprivacy.org/static/data/acl-coling-2014-corpus.zip"
   ]
  },
  {
   "cell_type": "code",
   "execution_count": 10,
   "metadata": {
    "collapsed": false,
    "scrolled": false
   },
   "outputs": [
    {
     "name": "stdout",
     "output_type": "stream",
     "text": [
      "For the purposes of this Privacy Policy, unless otherwise noted, all references to \"The New York Times\" include NYTimes.com and The New York Times newspaper.\n",
      "-----\n",
      "The New York Times Replica Edition, which is maintained by NewspaperDirect, maintains its own Privacy Policy.\n",
      "-----\n",
      "The New York Times advertising portal, for advertisers of The Times, also maintains a separate Privacy Policy.\n",
      "-----\n",
      "The NYT Services may contain links to other Web sites for your convenience and information.\n",
      "-----\n",
      "We are not responsible for the privacy practices or the content of those sites.\n",
      "-----\n"
     ]
    }
   ],
   "source": [
    "tree = ET.parse('./Data/corpus/www_nytimes.xml')\n",
    "\n",
    "# get a list of sentences from the privacy policy\n",
    "sentences = []\n",
    "for section in tree.getroot():\n",
    "    for subsection in section:\n",
    "        try:\n",
    "            blob = TextBlob(subsection.text)\n",
    "        except:\n",
    "            # ignore NoneType error\n",
    "            continue\n",
    "        #sentences.append(blob.sentences)\n",
    "        for s in blob.sentences:\n",
    "            sentences.append(str(s))\n",
    "\n",
    "\n",
    "for sentence in sentences[1:6]:\n",
    "    print(sentence)\n",
    "    print(\"-\"*5)\n"
   ]
  },
  {
   "cell_type": "markdown",
   "metadata": {},
   "source": [
    "### Apply classifiers to new document"
   ]
  },
  {
   "cell_type": "code",
   "execution_count": 11,
   "metadata": {
    "collapsed": false
   },
   "outputs": [
    {
     "name": "stdout",
     "output_type": "stream",
     "text": [
      "vectorizer: 53636, model: 53636, category: Data Retention\n",
      "vectorizer: 52872, model: 52872, category: Data Security\n",
      "vectorizer: 53066, model: 53066, category: Do Not Track\n",
      "vectorizer: 53195, model: 53195, category: First Party Collection/Use\n",
      "vectorizer: 53392, model: 53392, category: International and Specific Audiences\n",
      "vectorizer: 53738, model: 53738, category: Policy Change\n",
      "vectorizer: 53413, model: 53413, category: Third Party Sharing/Collection\n",
      "vectorizer: 53267, model: 53267, category: User Access, Edit and Deletion\n",
      "vectorizer: 52942, model: 52942, category: User Choice/Control\n"
     ]
    }
   ],
   "source": [
    "for category in models:\n",
    "    vectorizer = vectorizers[category]\n",
    "    model = models[category]\n",
    "\n",
    "    print(\"vectorizer: {}, model: {}, category: {}\".format(len(vectorizer.vocabulary_), model.n_features_, category))\n",
    "\n",
    "    X = vectorizer.transform(sentences)\n",
    "    predictions = model.predict(X)\n",
    "        "
   ]
  },
  {
   "cell_type": "code",
   "execution_count": null,
   "metadata": {
    "collapsed": true
   },
   "outputs": [],
   "source": []
  }
 ],
 "metadata": {
  "kernelspec": {
   "display_name": "Python 3",
   "language": "python",
   "name": "python3"
  },
  "language_info": {
   "codemirror_mode": {
    "name": "ipython",
    "version": 3
   },
   "file_extension": ".py",
   "mimetype": "text/x-python",
   "name": "python",
   "nbconvert_exporter": "python",
   "pygments_lexer": "ipython3",
   "version": "3.6.0"
  }
 },
 "nbformat": 4,
 "nbformat_minor": 2
}
