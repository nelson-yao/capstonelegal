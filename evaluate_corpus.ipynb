{
 "cells": [
  {
   "cell_type": "code",
   "execution_count": 1,
   "metadata": {
    "collapsed": true
   },
   "outputs": [],
   "source": [
    "import pickle\n",
    "import random\n",
    "import pandas as pd\n",
    "from sklearn.feature_extraction.text import TfidfVectorizer \n",
    "from sklearn.ensemble import RandomForestClassifier\n",
    "from sklearn.ensemble import AdaBoostClassifier\n",
    "from sklearn.linear_model import LogisticRegression\n",
    "from sklearn.metrics import f1_score\n",
    "from sklearn.feature_extraction.text import TfidfTransformer\n",
    "import gzip # for compressing Pickeled data\n",
    "import xml.etree.ElementTree as ET\n",
    "from textblob import TextBlob"
   ]
  },
  {
   "cell_type": "markdown",
   "metadata": {},
   "source": [
    "### Read vectorizers and classifiers from disk"
   ]
  },
  {
   "cell_type": "code",
   "execution_count": 2,
   "metadata": {
    "collapsed": false
   },
   "outputs": [],
   "source": [
    "with gzip.open('./Data/classifiers_rforest.pk.gz', 'rb') as f:\n",
    "    models = pickle.load(f)"
   ]
  },
  {
   "cell_type": "code",
   "execution_count": 3,
   "metadata": {
    "collapsed": true
   },
   "outputs": [],
   "source": [
    "with gzip.open('./Data/vectorizers.pk.gz', 'rb') as f:\n",
    "    vectorizers = pickle.load(f)"
   ]
  },
  {
   "cell_type": "markdown",
   "metadata": {},
   "source": [
    "### Read a privacy policy from the corpus\n",
    "Using the ACL Coling dataset from https://www.usableprivacy.org/static/data/acl-coling-2014-corpus.zip"
   ]
  },
  {
   "cell_type": "code",
   "execution_count": 44,
   "metadata": {
    "collapsed": false,
    "scrolled": false
   },
   "outputs": [
    {
     "name": "stdout",
     "output_type": "stream",
     "text": [
      "For the purposes of this Privacy Policy, unless otherwise noted, all references to \"The New York Times\" include NYTimes.com and The New York Times newspaper.\n",
      "---\n",
      "The New York Times Replica Edition, which is maintained by NewspaperDirect, maintains its own Privacy Policy.\n",
      "---\n",
      "The New York Times advertising portal, for advertisers of The Times, also maintains a separate Privacy Policy.\n",
      "---\n",
      "The NYT Services may contain links to other Web sites for your convenience and information.\n",
      "---\n",
      "We are not responsible for the privacy practices or the content of those sites.\n",
      "---\n"
     ]
    }
   ],
   "source": [
    "tree = ET.parse('./Data/corpus/www_nytimes.xml')\n",
    "\n",
    "# get a list of sentences from the privacy policy\n",
    "sentences = []\n",
    "for section in tree.getroot():\n",
    "    for subsection in section:\n",
    "        try:\n",
    "            blob = TextBlob(subsection.text)\n",
    "        except TypeError:\n",
    "            continue # ignore\n",
    "        for s in blob.sentences:\n",
    "            sentences.append(str(s))\n",
    "\n",
    "for sentence in sentences[1:6]:\n",
    "    print(sentence)\n",
    "    print(\"---\")"
   ]
  },
  {
   "cell_type": "markdown",
   "metadata": {},
   "source": [
    "### Classify sentences into categories"
   ]
  },
  {
   "cell_type": "code",
   "execution_count": 32,
   "metadata": {
    "collapsed": false
   },
   "outputs": [
    {
     "name": "stdout",
     "output_type": "stream",
     "text": [
      "CPU times: user 1.29 s, sys: 39 ms, total: 1.33 s\n",
      "Wall time: 1.33 s\n"
     ]
    }
   ],
   "source": [
    "%%time\n",
    "\n",
    "predictions = {}\n",
    "\n",
    "for category in models:\n",
    "    vectorizer = vectorizers[category]\n",
    "    model = models[category]\n",
    "\n",
    "    X = vectorizer.transform(sentences)\n",
    "    predictions[category] = model.predict(X)\n"
   ]
  },
  {
   "cell_type": "markdown",
   "metadata": {},
   "source": [
    "### Print a few example sentences from each category"
   ]
  },
  {
   "cell_type": "code",
   "execution_count": 33,
   "metadata": {
    "collapsed": false
   },
   "outputs": [
    {
     "name": "stdout",
     "output_type": "stream",
     "text": [
      "##############\n",
      "Data Retention\n",
      "##############\n",
      "This information will only be shared with third parties who perform tasks required to complete the purchase transaction.\n",
      "---\n",
      "The e-mail addresses that you supply to this service are saved for your convenience for future articles you may wish to e-mail; these addresses are not used for any other purpose, and will not be shared with any third parties.\n",
      "---\n",
      "\n",
      "#############\n",
      "Data Security\n",
      "#############\n",
      "Compliance with legal process\n",
      "Children's Guidelines\n",
      "Your California Privacy Rights\n",
      "Changes to this Privacy Policy\n",
      "\n",
      "TRUSTe: The New York Times has been awarded TRUSTe's Privacy Seal signifying that this privacy policy and our practices have been reviewed by TRUSTe for compliance with TRUSTe's program requirements including transparency, accountability and choice regarding the collection and use of your personal information.\n",
      "---\n",
      "TRUSTe's mission, as an independent third party, is to accelerate online trust among consumers and organizations globally through its leading privacy trustmark and innovative trust solutions.\n",
      "---\n",
      "This information will only be shared with third parties who perform tasks required to complete the purchase transaction.\n",
      "\n",
      "############\n",
      "Do Not Track\n",
      "############\n",
      "\n",
      "##########################\n",
      "First Party Collection/Use\n",
      "##########################\n",
      "What do we do with the information we gather about you?\n",
      "---\n",
      "With whom do we share the information that we gather?\n",
      "---\n",
      "What information do we gather about you?\n",
      "\n",
      "####################################\n",
      "International and Specific Audiences\n",
      "####################################\n",
      "Children's Guidelines\n",
      "---\n",
      "Except for The Learning Network (see below), The New York Times does not knowingly collect or store any personal information about children under the age of 13.\n",
      "---\n",
      "The Learning Network.\n",
      "\n",
      "#############\n",
      "Policy Change\n",
      "#############\n",
      "In the unlikely event of such changes they will be posted on this page.\n",
      "---\n",
      "If the changes represent a material departure from our current practice with respect to the use of children's personal information, the changes will be posted on this page thirty days prior to taking effect and will not affect children's personal information previously collected.\n",
      "---\n",
      "Any such changes will be posted on this page.\n",
      "\n",
      "##############################\n",
      "Third Party Sharing/Collection\n",
      "##############################\n",
      "Billing and Credit Card Information\n",
      "\n",
      "To enable payment and donations on the NYT services, we collect and store name, address, telephone number, e-mail address, credit card information and other billing information.\n",
      "---\n",
      "This information will only be shared with third parties who perform tasks required to complete the purchase transaction.\n",
      "---\n",
      "Examples of this include fulfilling orders and processing credit card payments.\n",
      "\n",
      "##############################\n",
      "User Access, Edit and Deletion\n",
      "##############################\n",
      "You may update and/or edit your Home Delivery account information online at the Home Delivery Web site by clicking on the link for Update Account.\n",
      "---\n",
      "You may review and update your NYTimes.com membership or account information and access your transaction history in the My Account area.\n",
      "---\n",
      "\n",
      "###################\n",
      "User Choice/Control\n",
      "###################\n",
      "How do I opt-out from receiving promotional offers?\n",
      "---\n",
      "By doing this, you are asking Facebook to send us certain information from your Facebook profile, and you authorize us to collect, store, and use in accordance with this Privacy Policy any and all information available to us through the Facebook interface.\n",
      "---\n",
      "To disassociate your NYTimes.com registration from third party accounts, please see our Social Media FAQ.\n",
      "\n"
     ]
    }
   ],
   "source": [
    "for category in models:\n",
    "    print (\"#\" * len(category))\n",
    "    print(category)\n",
    "    print (\"#\" * len(category))\n",
    "\n",
    "    printed = 0\n",
    "    for i, predict in enumerate(predictions[category]):\n",
    "        if predict == 1:\n",
    "            print (sentences[i])\n",
    "\n",
    "            # print 3 sentences from each category\n",
    "            printed += 1\n",
    "            if printed >= 3:\n",
    "                break\n",
    "            \n",
    "            print (\"---\")\n",
    "    \n",
    "    print()\n",
    "        "
   ]
  },
  {
   "cell_type": "code",
   "execution_count": null,
   "metadata": {
    "collapsed": true
   },
   "outputs": [],
   "source": []
  }
 ],
 "metadata": {
  "kernelspec": {
   "display_name": "Python 3",
   "language": "python",
   "name": "python3"
  },
  "language_info": {
   "codemirror_mode": {
    "name": "ipython",
    "version": 3
   },
   "file_extension": ".py",
   "mimetype": "text/x-python",
   "name": "python",
   "nbconvert_exporter": "python",
   "pygments_lexer": "ipython3",
   "version": "3.6.0"
  }
 },
 "nbformat": 4,
 "nbformat_minor": 2
}
