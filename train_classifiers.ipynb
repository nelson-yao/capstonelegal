{
 "cells": [
  {
   "cell_type": "code",
   "execution_count": 2,
   "metadata": {
    "collapsed": true
   },
   "outputs": [],
   "source": [
    "import pickle\n",
    "import random\n",
    "import pandas as pd\n",
    "from sklearn.feature_extraction.text import TfidfVectorizer \n",
    "from sklearn.ensemble import RandomForestClassifier\n",
    "from sklearn.ensemble import AdaBoostClassifier\n",
    "from sklearn.linear_model import LogisticRegression\n",
    "from sklearn.metrics import f1_score\n",
    "from sklearn.feature_extraction.text import TfidfTransformer\n",
    "import gzip # for compressing Pickeled data"
   ]
  },
  {
   "cell_type": "code",
   "execution_count": 3,
   "metadata": {
    "collapsed": false
   },
   "outputs": [],
   "source": [
    "## read in the training data\n",
    "#with open(\"/home/nyao/Code/Data/sentence_score_conso10.pk\", 'rb') as f:\n",
    "with open(\"./Data/sentence_score_conso10.pk\", 'rb') as f:\n",
    "    data=pickle.load(f)"
   ]
  },
  {
   "cell_type": "code",
   "execution_count": 4,
   "metadata": {
    "collapsed": false
   },
   "outputs": [
    {
     "data": {
      "text/html": [
       "<div>\n",
       "<table border=\"1\" class=\"dataframe\">\n",
       "  <thead>\n",
       "    <tr style=\"text-align: right;\">\n",
       "      <th></th>\n",
       "      <th>Website</th>\n",
       "      <th>Sentence</th>\n",
       "      <th>Data Retention</th>\n",
       "      <th>Data Security</th>\n",
       "      <th>Do Not Track</th>\n",
       "      <th>First Party Collection/Use</th>\n",
       "      <th>International and Specific Audiences</th>\n",
       "      <th>Not_used</th>\n",
       "      <th>Policy Change</th>\n",
       "      <th>Third Party Sharing/Collection</th>\n",
       "      <th>User Access, Edit and Deletion</th>\n",
       "      <th>User Choice/Control</th>\n",
       "    </tr>\n",
       "  </thead>\n",
       "  <tbody>\n",
       "    <tr>\n",
       "      <th>0</th>\n",
       "      <td>playstation.com</td>\n",
       "      <td>Privacy Policy    Last Revised: April, 2011</td>\n",
       "      <td>NaN</td>\n",
       "      <td>NaN</td>\n",
       "      <td>NaN</td>\n",
       "      <td>NaN</td>\n",
       "      <td>NaN</td>\n",
       "      <td>0.0</td>\n",
       "      <td>NaN</td>\n",
       "      <td>NaN</td>\n",
       "      <td>NaN</td>\n",
       "      <td>NaN</td>\n",
       "    </tr>\n",
       "    <tr>\n",
       "      <th>1</th>\n",
       "      <td>playstation.com</td>\n",
       "      <td>Sony Computer Entertainment America LLC (\"SCEA...</td>\n",
       "      <td>NaN</td>\n",
       "      <td>NaN</td>\n",
       "      <td>NaN</td>\n",
       "      <td>NaN</td>\n",
       "      <td>NaN</td>\n",
       "      <td>0.0</td>\n",
       "      <td>NaN</td>\n",
       "      <td>NaN</td>\n",
       "      <td>NaN</td>\n",
       "      <td>NaN</td>\n",
       "    </tr>\n",
       "  </tbody>\n",
       "</table>\n",
       "</div>"
      ],
      "text/plain": [
       "           Website                                           Sentence  \\\n",
       "0  playstation.com        Privacy Policy    Last Revised: April, 2011   \n",
       "1  playstation.com  Sony Computer Entertainment America LLC (\"SCEA...   \n",
       "\n",
       "   Data Retention  Data Security  Do Not Track  First Party Collection/Use  \\\n",
       "0             NaN            NaN           NaN                         NaN   \n",
       "1             NaN            NaN           NaN                         NaN   \n",
       "\n",
       "   International and Specific Audiences  Not_used  Policy Change  \\\n",
       "0                                   NaN       0.0            NaN   \n",
       "1                                   NaN       0.0            NaN   \n",
       "\n",
       "   Third Party Sharing/Collection  User Access, Edit and Deletion  \\\n",
       "0                             NaN                             NaN   \n",
       "1                             NaN                             NaN   \n",
       "\n",
       "   User Choice/Control  \n",
       "0                  NaN  \n",
       "1                  NaN  "
      ]
     },
     "execution_count": 4,
     "metadata": {},
     "output_type": "execute_result"
    }
   ],
   "source": [
    "data.head(2)"
   ]
  },
  {
   "cell_type": "code",
   "execution_count": 5,
   "metadata": {
    "collapsed": true
   },
   "outputs": [],
   "source": [
    "\n",
    "def getXY(scoretable, category, trainportion):\n",
    "    # trainportion means the percentage of data to be used as training, the rest are used as validation\n",
    "    # choose a category, get the data from the data file\n",
    "    categoryFrame=scoretable[[\"Sentence\", category]]\n",
    "    nonmissing=categoryFrame.dropna()\n",
    "    nonmissing=nonmissing.copy()\n",
    "    nonmissing.loc[:,category]=1\n",
    "    missingdata=categoryFrame.loc[pd.isnull(categoryFrame[category])]\n",
    "    missingdata=missingdata.copy()\n",
    "    missingdata.loc[:,category]=0\n",
    "\n",
    "    ## equal portion sampling, sample from both positive and negative group\n",
    "    shufflednonmissing=nonmissing.sample(frac=1)   # shuffle the data \n",
    "    shuffledmissing=missingdata.sample(frac=1)\n",
    "\n",
    "    nonmissingNumber=shufflednonmissing.shape[0]\n",
    "    missingNumber=shuffledmissing.shape[0]\n",
    "\n",
    "    trainPos=shufflednonmissing.iloc[0:int(nonmissingNumber*trainportion)]\n",
    "    valPos=shufflednonmissing.iloc[int(nonmissingNumber*trainportion)+1::]\n",
    "\n",
    "    trainNeg=shuffledmissing.iloc[0:int(missingNumber*trainportion)]\n",
    "    valNeg=shuffledmissing.iloc[int(missingNumber*trainportion)+1::]\n",
    "\n",
    "    trainData=pd.concat([trainPos, trainNeg], axis=0)\n",
    "    valData=pd.concat([valPos, valNeg], axis=0)\n",
    "\n",
    "    trainData=trainData.sample(frac=1)\n",
    "    valData=valData.sample(frac=1)\n",
    "\n",
    "    trainTexts=trainData[\"Sentence\"].tolist()\n",
    "    trainLabels=trainData[category].tolist()\n",
    "\n",
    "    valTexts=valData[\"Sentence\"].tolist()\n",
    "    valLabels=valData[category].tolist()\n",
    "\n",
    "    return trainTexts, valTexts, trainLabels, valLabels\n",
    "\n",
    "\n",
    "def validate(vectorizer, classifier, traintexts, valTexts, trainlabels, valLabels):\n",
    "    results={}\n",
    "    \n",
    "    trainCounts=vectorizer.transform(traintexts)\n",
    "    valCounts=vectorizer.transform(valTexts)\n",
    "\n",
    "    # fit the model onto the data\n",
    "    classifier.fit(trainCounts, trainlabels)\n",
    "    \n",
    "    # predict the samples in the validation\n",
    "    predictions=classifier.predict(valCounts)\n",
    "    f1score=f1_score(valLabels, predictions, average=\"weighted\")\n",
    "    \n",
    "    # return the results\n",
    "    results={\"model\":classifier, \"validation_labels\":valLabels, \"predictions\":predictions, \"f1_score\":f1score}\n",
    "    \n",
    "    return results\n",
    "    "
   ]
  },
  {
   "cell_type": "markdown",
   "metadata": {},
   "source": [
    "### Create vectorizers"
   ]
  },
  {
   "cell_type": "code",
   "execution_count": 6,
   "metadata": {
    "collapsed": false,
    "scrolled": false
   },
   "outputs": [
    {
     "name": "stdout",
     "output_type": "stream",
     "text": [
      "CPU times: user 3.89 s, sys: 73.5 ms, total: 3.96 s\n",
      "Wall time: 3.96 s\n"
     ]
    }
   ],
   "source": [
    "%%time\n",
    "\n",
    "trainportion = 0.8\n",
    "\n",
    "# get list of categories\n",
    "categories = list(data)\n",
    "categories.remove(\"Not_used\")\n",
    "categories.remove(\"Website\")\n",
    "categories.remove(\"Sentence\")\n",
    "\n",
    "vectorizers = {}\n",
    "\n",
    "for category in categories:\n",
    "    ## initialize a vectorizer using unigrams and bigrams\n",
    "    vectorizer=TfidfVectorizer(max_df=0.2, stop_words=\"english\", ngram_range = (1,2))\n",
    "\n",
    "    # generate the data\n",
    "    traintexts, valTexts, trainlabels, valLabels = getXY(data, category, trainportion)\n",
    "\n",
    "    # fit a vectorizer\n",
    "    vectorizers[category] = vectorizer.fit(traintexts)\n"
   ]
  },
  {
   "cell_type": "markdown",
   "metadata": {},
   "source": [
    "### Write vectorizers to disk\n",
    "Note: vectorizers only take a few seconds to generate but consume lots of disk space. Suggest skipping this step."
   ]
  },
  {
   "cell_type": "code",
   "execution_count": 7,
   "metadata": {
    "collapsed": true
   },
   "outputs": [],
   "source": [
    "with gzip.open('./Data/vectorizers.pk.gz', 'wb') as f:\n",
    "    pickle.dump(vectorizers, f)"
   ]
  },
  {
   "cell_type": "markdown",
   "metadata": {},
   "source": [
    "### Train and test classifiers"
   ]
  },
  {
   "cell_type": "code",
   "execution_count": 16,
   "metadata": {
    "collapsed": false
   },
   "outputs": [
    {
     "name": "stdout",
     "output_type": "stream",
     "text": [
      "RandomForest, n=500 : Data Retention\n",
      "RandomForest, n=500 : Data Security\n",
      "RandomForest, n=500 : Do Not Track\n",
      "RandomForest, n=500 : First Party Collection/Use\n",
      "RandomForest, n=500 : International and Specific Audiences\n",
      "RandomForest, n=500 : Policy Change\n",
      "RandomForest, n=500 : Third Party Sharing/Collection\n",
      "RandomForest, n=500 : User Access, Edit and Deletion\n",
      "RandomForest, n=500 : User Choice/Control\n",
      "AdaBoost, n=500 : Data Retention\n",
      "AdaBoost, n=500 : Data Security\n",
      "AdaBoost, n=500 : Do Not Track\n",
      "AdaBoost, n=500 : First Party Collection/Use\n",
      "AdaBoost, n=500 : International and Specific Audiences\n",
      "AdaBoost, n=500 : Policy Change\n",
      "AdaBoost, n=500 : Third Party Sharing/Collection\n",
      "AdaBoost, n=500 : User Access, Edit and Deletion\n",
      "AdaBoost, n=500 : User Choice/Control\n",
      "\n",
      "CPU times: user 1h 29min 4s, sys: 12.4 s, total: 1h 29min 16s\n",
      "Wall time: 1h 29min 27s\n"
     ]
    }
   ],
   "source": [
    "%%time\n",
    "\n",
    "trainportion = 0.8\n",
    "\n",
    "# get list of categories\n",
    "categories = list(data)\n",
    "categories.remove(\"Not_used\")\n",
    "categories.remove(\"Website\")\n",
    "categories.remove(\"Sentence\")\n",
    "\n",
    "# TODO: Run on full dataset\n",
    "#categories = ['Data Retention','Data Security', 'Do Not Track']\n",
    "\n",
    "## initialize classifiers\n",
    "classifiers = {}\n",
    "classifiers['RandomForest, n=500'] = RandomForestClassifier(n_estimators=500)\n",
    "classifiers['AdaBoost, n=500'] = AdaBoostClassifier(n_estimators=500)\n",
    "\n",
    "allResults = {}\n",
    "\n",
    "for cname in classifiers:\n",
    "    allResults[cname] = {}\n",
    "\n",
    "    for category in categories:\n",
    "        print(\"{} : {}\".format(cname,category))\n",
    "        \n",
    "        vectorizer = vectorizers[category]\n",
    "        classifier = classifiers[cname]\n",
    "        \n",
    "        # generate the data\n",
    "        traintexts, valTexts, trainlabels, valLabels = getXY(data, category, trainportion)\n",
    "\n",
    "        results = validate(vectorizer, classifier, traintexts, valTexts, trainlabels, valLabels)\n",
    "        allResults[cname][category] = results\n",
    "        \n",
    "print()"
   ]
  },
  {
   "cell_type": "markdown",
   "metadata": {},
   "source": [
    "### Print test results"
   ]
  },
  {
   "cell_type": "code",
   "execution_count": 17,
   "metadata": {
    "collapsed": false
   },
   "outputs": [
    {
     "data": {
      "text/html": [
       "<div>\n",
       "<table border=\"1\" class=\"dataframe\">\n",
       "  <thead>\n",
       "    <tr style=\"text-align: right;\">\n",
       "      <th></th>\n",
       "      <th>Classifier</th>\n",
       "      <th>Data Retention</th>\n",
       "      <th>Data Security</th>\n",
       "      <th>Do Not Track</th>\n",
       "      <th>First Party Collection/Use</th>\n",
       "      <th>International and Specific Audiences</th>\n",
       "      <th>Policy Change</th>\n",
       "      <th>Third Party Sharing/Collection</th>\n",
       "      <th>User Access, Edit and Deletion</th>\n",
       "      <th>User Choice/Control</th>\n",
       "    </tr>\n",
       "  </thead>\n",
       "  <tbody>\n",
       "    <tr>\n",
       "      <th>0</th>\n",
       "      <td>RandomForest, n=500</td>\n",
       "      <td>0.9718</td>\n",
       "      <td>0.9410</td>\n",
       "      <td>0.9942</td>\n",
       "      <td>0.7877</td>\n",
       "      <td>0.9549</td>\n",
       "      <td>0.9698</td>\n",
       "      <td>0.8394</td>\n",
       "      <td>0.9537</td>\n",
       "      <td>0.8765</td>\n",
       "    </tr>\n",
       "    <tr>\n",
       "      <th>1</th>\n",
       "      <td>AdaBoost, n=500</td>\n",
       "      <td>0.9695</td>\n",
       "      <td>0.9448</td>\n",
       "      <td>0.9943</td>\n",
       "      <td>0.7845</td>\n",
       "      <td>0.9586</td>\n",
       "      <td>0.9763</td>\n",
       "      <td>0.8338</td>\n",
       "      <td>0.9618</td>\n",
       "      <td>0.8793</td>\n",
       "    </tr>\n",
       "  </tbody>\n",
       "</table>\n",
       "</div>"
      ],
      "text/plain": [
       "            Classifier  Data Retention  Data Security  Do Not Track  \\\n",
       "0  RandomForest, n=500          0.9718         0.9410        0.9942   \n",
       "1      AdaBoost, n=500          0.9695         0.9448        0.9943   \n",
       "\n",
       "   First Party Collection/Use  International and Specific Audiences  \\\n",
       "0                      0.7877                                0.9549   \n",
       "1                      0.7845                                0.9586   \n",
       "\n",
       "   Policy Change  Third Party Sharing/Collection  \\\n",
       "0         0.9698                          0.8394   \n",
       "1         0.9763                          0.8338   \n",
       "\n",
       "   User Access, Edit and Deletion  User Choice/Control  \n",
       "0                          0.9537               0.8765  \n",
       "1                          0.9618               0.8793  "
      ]
     },
     "execution_count": 17,
     "metadata": {},
     "output_type": "execute_result"
    }
   ],
   "source": [
    "rows = []\n",
    "\n",
    "for cname in classifiers:\n",
    "    # get all the f1_scores for this vectorizer/classifer combination\n",
    "    f1_scores = []\n",
    "    for category in categories:\n",
    "        results = allResults[cname][category]\n",
    "        f1_scores.append(results[\"f1_score\"])\n",
    "    row = [cname]\n",
    "    row.extend(f1_scores)\n",
    "    rows.append(row)\n",
    "\n",
    "# create a pandas dataframe from results\n",
    "cols = ['Classifier']\n",
    "cols.extend(categories)\n",
    "df = pd.DataFrame(rows,columns=cols)\n",
    "df.round(4)"
   ]
  },
  {
   "cell_type": "markdown",
   "metadata": {},
   "source": [
    "### Write classifiers to disk"
   ]
  },
  {
   "cell_type": "code",
   "execution_count": 18,
   "metadata": {
    "collapsed": false
   },
   "outputs": [],
   "source": [
    "# for now, pick just one algorithm for all models\n",
    "cname = \"RandomForest, n=500\"\n",
    "\n",
    "models = {}\n",
    "\n",
    "for category in categories:\n",
    "    results = allResults[cname][category]\n",
    "    models[category] = results[\"model\"]\n",
    "\n",
    "with gzip.open('./Data/classifiers_rforest.pk.gz', 'wb') as f:\n",
    "    pickle.dump(models, f)\n",
    "\n",
    "## output file is 18 MB"
   ]
  },
  {
   "cell_type": "code",
   "execution_count": 19,
   "metadata": {
    "collapsed": true
   },
   "outputs": [],
   "source": [
    "# for now, pick just one algorithm for all models\n",
    "cname = \"AdaBoost, n=500\"\n",
    "\n",
    "models = {}\n",
    "\n",
    "for category in categories:\n",
    "    results = allResults[cname][category]\n",
    "    models[category] = results[\"model\"]\n",
    "\n",
    "with gzip.open('./Data/classifiers_adaboost.pk.gz', 'wb') as f:\n",
    "    pickle.dump(models, f)\n",
    "\n",
    "# output file is 99 KB"
   ]
  },
  {
   "cell_type": "code",
   "execution_count": null,
   "metadata": {
    "collapsed": true
   },
   "outputs": [],
   "source": []
  }
 ],
 "metadata": {
  "kernelspec": {
   "display_name": "Python 3",
   "language": "python",
   "name": "python3"
  },
  "language_info": {
   "codemirror_mode": {
    "name": "ipython",
    "version": 3
   },
   "file_extension": ".py",
   "mimetype": "text/x-python",
   "name": "python",
   "nbconvert_exporter": "python",
   "pygments_lexer": "ipython3",
   "version": "3.6.0"
  }
 },
 "nbformat": 4,
 "nbformat_minor": 2
}
