{
 "cells": [
  {
   "cell_type": "code",
   "execution_count": 1,
   "metadata": {
    "collapsed": true
   },
   "outputs": [],
   "source": [
    "import pickle\n",
    "import random\n",
    "import pandas as pd\n",
    "from sklearn.feature_extraction.text import TfidfVectorizer \n",
    "from sklearn.ensemble import RandomForestClassifier\n",
    "from sklearn.ensemble import AdaBoostClassifier\n",
    "from sklearn.linear_model import LogisticRegression\n",
    "from sklearn.metrics import f1_score\n",
    "from sklearn.feature_extraction.text import TfidfTransformer\n",
    "import gzip # for compressing Pickeled data"
   ]
  },
  {
   "cell_type": "code",
   "execution_count": 2,
   "metadata": {
    "collapsed": false
   },
   "outputs": [],
   "source": [
    "## read in the training data\n",
    "#with open(\"/home/nyao/Code/Data/sentence_score_conso10.pk\", 'rb') as f:\n",
    "with open(\"./Data/sentence_score_conso10.pk\", 'rb') as f:\n",
    "    data=pickle.load(f)"
   ]
  },
  {
   "cell_type": "code",
   "execution_count": 3,
   "metadata": {
    "collapsed": false
   },
   "outputs": [
    {
     "data": {
      "text/html": [
       "<div>\n",
       "<table border=\"1\" class=\"dataframe\">\n",
       "  <thead>\n",
       "    <tr style=\"text-align: right;\">\n",
       "      <th></th>\n",
       "      <th>Website</th>\n",
       "      <th>Sentence</th>\n",
       "      <th>Data Retention</th>\n",
       "      <th>Data Security</th>\n",
       "      <th>Do Not Track</th>\n",
       "      <th>First Party Collection/Use</th>\n",
       "      <th>International and Specific Audiences</th>\n",
       "      <th>Not_used</th>\n",
       "      <th>Policy Change</th>\n",
       "      <th>Third Party Sharing/Collection</th>\n",
       "      <th>User Access, Edit and Deletion</th>\n",
       "      <th>User Choice/Control</th>\n",
       "    </tr>\n",
       "  </thead>\n",
       "  <tbody>\n",
       "    <tr>\n",
       "      <th>0</th>\n",
       "      <td>playstation.com</td>\n",
       "      <td>Privacy Policy    Last Revised: April, 2011</td>\n",
       "      <td>NaN</td>\n",
       "      <td>NaN</td>\n",
       "      <td>NaN</td>\n",
       "      <td>NaN</td>\n",
       "      <td>NaN</td>\n",
       "      <td>0.0</td>\n",
       "      <td>NaN</td>\n",
       "      <td>NaN</td>\n",
       "      <td>NaN</td>\n",
       "      <td>NaN</td>\n",
       "    </tr>\n",
       "    <tr>\n",
       "      <th>1</th>\n",
       "      <td>playstation.com</td>\n",
       "      <td>Sony Computer Entertainment America LLC (\"SCEA...</td>\n",
       "      <td>NaN</td>\n",
       "      <td>NaN</td>\n",
       "      <td>NaN</td>\n",
       "      <td>NaN</td>\n",
       "      <td>NaN</td>\n",
       "      <td>0.0</td>\n",
       "      <td>NaN</td>\n",
       "      <td>NaN</td>\n",
       "      <td>NaN</td>\n",
       "      <td>NaN</td>\n",
       "    </tr>\n",
       "  </tbody>\n",
       "</table>\n",
       "</div>"
      ],
      "text/plain": [
       "           Website                                           Sentence  \\\n",
       "0  playstation.com        Privacy Policy    Last Revised: April, 2011   \n",
       "1  playstation.com  Sony Computer Entertainment America LLC (\"SCEA...   \n",
       "\n",
       "   Data Retention  Data Security  Do Not Track  First Party Collection/Use  \\\n",
       "0             NaN            NaN           NaN                         NaN   \n",
       "1             NaN            NaN           NaN                         NaN   \n",
       "\n",
       "   International and Specific Audiences  Not_used  Policy Change  \\\n",
       "0                                   NaN       0.0            NaN   \n",
       "1                                   NaN       0.0            NaN   \n",
       "\n",
       "   Third Party Sharing/Collection  User Access, Edit and Deletion  \\\n",
       "0                             NaN                             NaN   \n",
       "1                             NaN                             NaN   \n",
       "\n",
       "   User Choice/Control  \n",
       "0                  NaN  \n",
       "1                  NaN  "
      ]
     },
     "execution_count": 3,
     "metadata": {},
     "output_type": "execute_result"
    }
   ],
   "source": [
    "data.head(2)"
   ]
  },
  {
   "cell_type": "code",
   "execution_count": 4,
   "metadata": {
    "collapsed": true
   },
   "outputs": [],
   "source": [
    "\n",
    "def getXY(scoretable, category, trainportion):\n",
    "    # trainportion means the percentage of data to be used as training, the rest are used as validation\n",
    "    # choose a category, get the data from the data file\n",
    "    categoryFrame=scoretable[[\"Sentence\", category]]\n",
    "    nonmissing=categoryFrame.dropna()\n",
    "    nonmissing=nonmissing.copy()\n",
    "    nonmissing.loc[:,category]=1\n",
    "    missingdata=categoryFrame.loc[pd.isnull(categoryFrame[category])]\n",
    "    missingdata=missingdata.copy()\n",
    "    missingdata.loc[:,category]=0\n",
    "\n",
    "    ## equal portion sampling, sample from both positive and negative group\n",
    "    shufflednonmissing=nonmissing.sample(frac=1)   # shuffle the data \n",
    "    shuffledmissing=missingdata.sample(frac=1)\n",
    "\n",
    "    nonmissingNumber=shufflednonmissing.shape[0]\n",
    "    missingNumber=shuffledmissing.shape[0]\n",
    "\n",
    "    trainPos=shufflednonmissing.iloc[0:int(nonmissingNumber*trainportion)]\n",
    "    valPos=shufflednonmissing.iloc[int(nonmissingNumber*trainportion)+1::]\n",
    "\n",
    "    trainNeg=shuffledmissing.iloc[0:int(missingNumber*trainportion)]\n",
    "    valNeg=shuffledmissing.iloc[int(missingNumber*trainportion)+1::]\n",
    "\n",
    "    trainData=pd.concat([trainPos, trainNeg], axis=0)\n",
    "    valData=pd.concat([valPos, valNeg], axis=0)\n",
    "\n",
    "    trainData=trainData.sample(frac=1)\n",
    "    valData=valData.sample(frac=1)\n",
    "\n",
    "    trainTexts=trainData[\"Sentence\"].tolist()\n",
    "    trainLabels=trainData[category].tolist()\n",
    "\n",
    "    valTexts=valData[\"Sentence\"].tolist()\n",
    "    valLabels=valData[category].tolist()\n",
    "\n",
    "    return trainTexts, valTexts, trainLabels, valLabels\n",
    "\n",
    "def modelAndValidate(datatable, category, vectorizer, classifier, trainportion):\n",
    "    results={}\n",
    "\n",
    "    # generate the data\n",
    "    traintexts, valTexts,trainlabels, valLabels =getXY(datatable, category, trainportion)\n",
    "    \n",
    "    # use the vectorizer to generate features, for both training and validation data\n",
    "    vectorizer.fit(traintexts)\n",
    "    trainCounts=vectorizer.transform(traintexts)\n",
    "    valCounts=vectorizer.transform(valTexts)\n",
    "    \n",
    "    # fit the model onto the data\n",
    "    classifier.fit(trainCounts, trainlabels)\n",
    "    \n",
    "    # predict the samples in the validation\n",
    "    predictions=classifier.predict(valCounts)\n",
    "    f1score=f1_score(valLabels, predictions, average=\"weighted\")\n",
    "    \n",
    "    # return the results\n",
    "    results={\"vectorizer\":vectorizer, \"model\":classifier, \"validation_labels\":valLabels, \"predictions\":predictions, \"f1_score\":f1score}\n",
    "    \n",
    "    return results\n"
   ]
  },
  {
   "cell_type": "markdown",
   "metadata": {},
   "source": [
    "### Train and test classifiers"
   ]
  },
  {
   "cell_type": "code",
   "execution_count": 5,
   "metadata": {
    "collapsed": false
   },
   "outputs": [
    {
     "name": "stdout",
     "output_type": "stream",
     "text": [
      "Data Retention\n",
      "Data Security\n",
      "Do Not Track\n",
      "First Party Collection/Use\n",
      "International and Specific Audiences\n",
      "Policy Change\n",
      "Third Party Sharing/Collection\n",
      "User Access, Edit and Deletion\n",
      "User Choice/Control\n",
      "\n",
      "CPU times: user 8min 22s, sys: 1.17 s, total: 8min 23s\n",
      "Wall time: 8min 24s\n"
     ]
    }
   ],
   "source": [
    "%%time\n",
    "\n",
    "trainportion = 0.8\n",
    "\n",
    "# get list of categories\n",
    "categories = list(data)\n",
    "categories.remove(\"Not_used\")\n",
    "categories.remove(\"Website\")\n",
    "categories.remove(\"Sentence\")\n",
    "\n",
    "# TODO: Run on full dataset\n",
    "#categories = ['Do Not Track']\n",
    "\n",
    "allResults = {}\n",
    "\n",
    "for category in categories:\n",
    "    print(category)\n",
    "\n",
    "    # initialize vectorizer and classifier\n",
    "    vectorizer = TfidfVectorizer(max_df=0.2, stop_words=\"english\", ngram_range = (1,2)) \n",
    "    classifier = RandomForestClassifier(n_estimators=500)\n",
    "\n",
    "    # generate the data\n",
    "    traintexts, valTexts, trainlabels, valLabels = getXY(data, category, trainportion)\n",
    "\n",
    "    results = modelAndValidate(data, category, vectorizer, classifier, 0.8)\n",
    "\n",
    "    # results = validate(vectorizer, classifier, traintexts, valTexts, trainlabels, valLabels)\n",
    "    \n",
    "    allResults[category] = results\n",
    "        \n",
    "print()"
   ]
  },
  {
   "cell_type": "markdown",
   "metadata": {},
   "source": [
    "### Print test results"
   ]
  },
  {
   "cell_type": "code",
   "execution_count": 6,
   "metadata": {
    "collapsed": false
   },
   "outputs": [
    {
     "data": {
      "text/html": [
       "<div>\n",
       "<table border=\"1\" class=\"dataframe\">\n",
       "  <thead>\n",
       "    <tr style=\"text-align: right;\">\n",
       "      <th></th>\n",
       "      <th>Data Retention</th>\n",
       "      <th>Data Security</th>\n",
       "      <th>Do Not Track</th>\n",
       "      <th>First Party Collection/Use</th>\n",
       "      <th>International and Specific Audiences</th>\n",
       "      <th>Policy Change</th>\n",
       "      <th>Third Party Sharing/Collection</th>\n",
       "      <th>User Access, Edit and Deletion</th>\n",
       "      <th>User Choice/Control</th>\n",
       "    </tr>\n",
       "  </thead>\n",
       "  <tbody>\n",
       "    <tr>\n",
       "      <th>0</th>\n",
       "      <td>0.9734</td>\n",
       "      <td>0.9379</td>\n",
       "      <td>0.9961</td>\n",
       "      <td>0.7901</td>\n",
       "      <td>0.9522</td>\n",
       "      <td>0.9745</td>\n",
       "      <td>0.8394</td>\n",
       "      <td>0.9561</td>\n",
       "      <td>0.8812</td>\n",
       "    </tr>\n",
       "  </tbody>\n",
       "</table>\n",
       "</div>"
      ],
      "text/plain": [
       "   Data Retention  Data Security  Do Not Track  First Party Collection/Use  \\\n",
       "0          0.9734         0.9379        0.9961                      0.7901   \n",
       "\n",
       "   International and Specific Audiences  Policy Change  \\\n",
       "0                                0.9522         0.9745   \n",
       "\n",
       "   Third Party Sharing/Collection  User Access, Edit and Deletion  \\\n",
       "0                          0.8394                          0.9561   \n",
       "\n",
       "   User Choice/Control  \n",
       "0               0.8812  "
      ]
     },
     "execution_count": 6,
     "metadata": {},
     "output_type": "execute_result"
    }
   ],
   "source": [
    "rows = []\n",
    "\n",
    "# get all the f1_scores for this vectorizer/classifer combination\n",
    "f1_scores = []\n",
    "for category in categories:\n",
    "    results = allResults[category]\n",
    "    f1_scores.append(results[\"f1_score\"])\n",
    "row = []\n",
    "row.extend(f1_scores)\n",
    "rows.append(row)\n",
    "\n",
    "# create a pandas dataframe from results\n",
    "cols = []\n",
    "cols.extend(categories)\n",
    "df = pd.DataFrame(rows,columns=cols)\n",
    "df.round(4)"
   ]
  },
  {
   "cell_type": "markdown",
   "metadata": {},
   "source": [
    "### Write vectorizers and classifiers to disk"
   ]
  },
  {
   "cell_type": "code",
   "execution_count": 7,
   "metadata": {
    "collapsed": false
   },
   "outputs": [],
   "source": [
    "vectorizers = {}\n",
    "models = {}\n",
    "\n",
    "for category in categories:\n",
    "    results = allResults[category]\n",
    "    vectorizers[category] = results[\"vectorizer\"]\n",
    "    models[category] = results[\"model\"]\n",
    "\n",
    "with gzip.open('./Data/vectorizers.pk.gz', 'wb') as f:\n",
    "    pickle.dump(vectorizers, f)\n",
    "    \n",
    "with gzip.open('./Data/classifiers_rforest.pk.gz', 'wb') as f:\n",
    "    pickle.dump(models, f)\n",
    "\n",
    "## output file is 18 MB"
   ]
  },
  {
   "cell_type": "code",
   "execution_count": null,
   "metadata": {
    "collapsed": true
   },
   "outputs": [],
   "source": []
  }
 ],
 "metadata": {
  "kernelspec": {
   "display_name": "Python 3",
   "language": "python",
   "name": "python3"
  },
  "language_info": {
   "codemirror_mode": {
    "name": "ipython",
    "version": 3
   },
   "file_extension": ".py",
   "mimetype": "text/x-python",
   "name": "python",
   "nbconvert_exporter": "python",
   "pygments_lexer": "ipython3",
   "version": "3.6.0"
  }
 },
 "nbformat": 4,
 "nbformat_minor": 2
}
