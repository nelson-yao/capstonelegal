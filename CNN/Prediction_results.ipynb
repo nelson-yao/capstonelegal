{
 "cells": [
  {
   "cell_type": "code",
   "execution_count": 98,
   "metadata": {
    "collapsed": true
   },
   "outputs": [],
   "source": [
    "from __future__ import division\n",
    "import pickle\n",
    "import glob \n",
    "import json\n",
    "import re"
   ]
  },
  {
   "cell_type": "code",
   "execution_count": null,
   "metadata": {
    "collapsed": true
   },
   "outputs": [],
   "source": [
    "corpus_sents=pickle.load(open())"
   ]
  },
  {
   "cell_type": "code",
   "execution_count": 61,
   "metadata": {
    "collapsed": false
   },
   "outputs": [],
   "source": [
    "scorefiles=glob.glob(\"runs/*/Scores*.json\")"
   ]
  },
  {
   "cell_type": "code",
   "execution_count": 63,
   "metadata": {
    "collapsed": false
   },
   "outputs": [
    {
     "data": {
      "text/plain": [
       "['runs/CNN_glove_UA_5760/Scores_UA.json',\n",
       " 'runs/CNN_glove_trainable_DS_1288/Scores_DS.json',\n",
       " 'runs/CNN_glove_DNT_2697/Scores_DNT.json',\n",
       " 'runs/CNN_glove_FP_2729/Scores_FP.json',\n",
       " 'runs/CNN_glove_trainable_UC_1724/Scores_UC.json',\n",
       " 'runs/CNN_glove_trainable_DR_2566/Scores_DR.json']"
      ]
     },
     "execution_count": 63,
     "metadata": {},
     "output_type": "execute_result"
    }
   ],
   "source": [
    "scorefiles"
   ]
  },
  {
   "cell_type": "code",
   "execution_count": 66,
   "metadata": {
    "collapsed": false
   },
   "outputs": [
    {
     "data": {
      "text/plain": [
       "[('a', 2), ('b', 3)]"
      ]
     },
     "execution_count": 66,
     "metadata": {},
     "output_type": "execute_result"
    }
   ],
   "source": [
    "a={\"a\":2, \"b\":3}\n",
    "a.items()"
   ]
  },
  {
   "cell_type": "code",
   "execution_count": null,
   "metadata": {
    "collapsed": true
   },
   "outputs": [],
   "source": [
    "for scorefile in scorefiles:\n",
    "    scoreresult=[]\n",
    "    categoryScores=json.load(open(scorefile), \"r\")\n",
    "    for category, score_dicts in categoryScores.iteritems():\n",
    "        for website, scorelist in score_dicts.iteritems():\n",
    "            scoresult.append({\"site\":website, \"categories\":[]})"
   ]
  },
  {
   "cell_type": "code",
   "execution_count": 69,
   "metadata": {
    "collapsed": true
   },
   "outputs": [],
   "source": [
    "test= [[\"To access the personally identifiable information that our Services collected about you online from the pages on which this Privacy Policy is posted, to correct factual errors in such information, or to update your interests, preferences or other portions of your user profile, please log into your profile if you have created one with us or send an email to privacy@flixster-inc.com.\", 2], [\"To protect your privacy and security, we will take reasonable steps to help verify your identity before granting access or making corrections.\", 2]]"
   ]
  },
  {
   "cell_type": "code",
   "execution_count": 71,
   "metadata": {
    "collapsed": false
   },
   "outputs": [
    {
     "data": {
      "text/plain": [
       "(2, 2)"
      ]
     },
     "execution_count": 71,
     "metadata": {},
     "output_type": "execute_result"
    }
   ],
   "source": [
    "zip(*test)[1]"
   ]
  },
  {
   "cell_type": "code",
   "execution_count": 95,
   "metadata": {
    "collapsed": false
   },
   "outputs": [],
   "source": [
    "def score_buffer(score_file_list):\n",
    "    scoreresult={}\n",
    "    for scorefile in score_file_list:\n",
    "        categoryScores=json.load(open(scorefile, \"r\"))\n",
    "        for category, score_dicts in categoryScores.items():\n",
    "            for website, scorelist in score_dicts.items():\n",
    "                scoreresult.setdefault(website, {})\n",
    "                scoreresult[website].setdefault(category, {\"good\":[], \"bad\":[], \"neutral\":[]})\n",
    "                if len(scorelist)>0:\n",
    "                    scoreresult[website][category][\"score\"]=sum(zip(*scorelist)[1])/(len(scorelist)*2)\n",
    "                    for sentence, score in scorelist:\n",
    "                        if score ==0:\n",
    "                            scoreresult[website][category][\"bad\"].append(sentence)\n",
    "                        elif score ==1:\n",
    "                            scoreresult[website][category][\"neutral\"].append(sentence)\n",
    "                        elif score ==2:\n",
    "                            scoreresult[website][category][\"good\"].append(sentence)\n",
    "                else:\n",
    "                    scoreresult[website][category][\"score\"]=\"Missing\"\n",
    "                    \n",
    "    return scoreresult\n",
    "intermediate=score_buffer(scorefiles)         "
   ]
  },
  {
   "cell_type": "code",
   "execution_count": 101,
   "metadata": {
    "collapsed": false
   },
   "outputs": [
    {
     "data": {
      "text/plain": [
       "{'bad': [u'You can manage and delete flash cookies by visiting http://kb2.adobe.com/cps/526/52697ee8.html.',\n",
       "  u'When we delete any information, it will be deleted from the active database, but may remain in our archives.'],\n",
       " 'good': [u'You may request deletion of your Personally Identifiable Information by us, but please note that we may be required to keep this information and not delete it (or to keep this information for a certain time, in which case we will comply with your deletion request only after we have fulfilled such requirements).'],\n",
       " 'neutral': [u'You may elect to change your User Registration at any time by logging in and editing your User Registration (each of our Covered Sites will contain log-in information).',\n",
       "  u'If you cancel your User Registration, we will retain your email address, user name and assigned user ID on file and use them only for the purpose of assuring you are not automatically registered again, against your wishes.'],\n",
       " 'score': 0.4}"
      ]
     },
     "execution_count": 101,
     "metadata": {},
     "output_type": "execute_result"
    }
   ],
   "source": [
    "intermediate[\"popularmechanics.com\"][\"Data Retention\"]"
   ]
  },
  {
   "cell_type": "code",
   "execution_count": 99,
   "metadata": {
    "collapsed": true
   },
   "outputs": [],
   "source": [
    "def cleanSiteName(name):\n",
    "    name=re.sub(\"www\\\\.\", \"\", name)\n",
    "    name=re.sub(\"\\\\.com\", \"\", name)\n",
    "    return name"
   ]
  },
  {
   "cell_type": "code",
   "execution_count": 105,
   "metadata": {
    "collapsed": false
   },
   "outputs": [],
   "source": [
    "def organizeJSON(intermediate_result):\n",
    "    grades=[\"E\", \"D\", \"C\", \"B\", \"A\"]\n",
    "    finalresult=[]\n",
    "    for website, information in intermediate_result.iteritems():\n",
    "        website_result={}\n",
    "        allscores=[]\n",
    "        website_result[\"site\"]=cleanSiteName(website)\n",
    "        website_result.setdefault(\"categories\",[])\n",
    "        for category, info in information.iteritems():\n",
    "            category_result=info\n",
    "            category_result[\"category\"]=category\n",
    "            website_result[\"categories\"].append(category_result)\n",
    "            allscores.append(category_result[\"score\"])\n",
    "        validscores=[score for score in allscores if score !=\"Missing\"]\n",
    "        if len(validscores)>0:\n",
    "            finalgrade=grades[int(sum(validscores)/len(validscores)*len(grades))]\n",
    "        else:\n",
    "            finalgrade=\"Missing\"\n",
    "        website_result[\"score\"]=finalgrade\n",
    "        finalresult.append(website_result)\n",
    "    return finalresult\n",
    "finalJSON = organizeJSON(intermediate)"
   ]
  },
  {
   "cell_type": "code",
   "execution_count": 109,
   "metadata": {
    "collapsed": false
   },
   "outputs": [],
   "source": [
    "with open(\"../Data/All_scores.json\", \"w\") as f:\n",
    "    json.dump(finalJSON, f)"
   ]
  }
 ],
 "metadata": {
  "kernelspec": {
   "display_name": "Python 2",
   "language": "python",
   "name": "python2"
  },
  "language_info": {
   "codemirror_mode": {
    "name": "ipython",
    "version": 2
   },
   "file_extension": ".py",
   "mimetype": "text/x-python",
   "name": "python",
   "nbconvert_exporter": "python",
   "pygments_lexer": "ipython2",
   "version": "2.7.13"
  }
 },
 "nbformat": 4,
 "nbformat_minor": 2
}
