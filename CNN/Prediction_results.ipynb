{
 "cells": [
  {
   "cell_type": "code",
   "execution_count": 111,
   "metadata": {
    "collapsed": true
   },
   "outputs": [],
   "source": [
    "from __future__ import division\n",
    "import cPickle\n",
    "import glob \n",
    "import json\n",
    "import re"
   ]
  },
  {
   "cell_type": "code",
   "execution_count": 112,
   "metadata": {
    "collapsed": false
   },
   "outputs": [],
   "source": [
    "with open(\"../Data/corpus_sentences_py2.pk\", 'rb') as f:\n",
    "    corpus_sent = cPickle.load(f)\n",
    "def getSetencesForCat(corpus, category):\n",
    "    sentences={}\n",
    "    for website, collection in corpus.items():\n",
    "        relevant_setences = collection[category]\n",
    "        sentences[website]=relevant_setences\n",
    "    return sentences\n",
    "relevantSents = getSetencesForCat(corpus_sent, 'User Access, Edit and Deletion')"
   ]
  },
  {
   "cell_type": "code",
   "execution_count": null,
   "metadata": {
    "collapsed": true
   },
   "outputs": [],
   "source": []
  },
  {
   "cell_type": "code",
   "execution_count": 113,
   "metadata": {
    "collapsed": false
   },
   "outputs": [],
   "source": [
    "scorefiles=glob.glob(\"runs/*_final_*/Scores*.json\")"
   ]
  },
  {
   "cell_type": "code",
   "execution_count": 114,
   "metadata": {
    "collapsed": false
   },
   "outputs": [
    {
     "data": {
      "text/plain": [
       "['runs/CNN_glove_final_FP_3151/Scores_FP.json',\n",
       " 'runs/CNN_glove_final_DR_2998/Scores_DR.json',\n",
       " 'runs/CNN_glove_final_DS_1795/Scores_DS.json',\n",
       " 'runs/CNN_glove_final_DNT_3120/Scores_DNT.json',\n",
       " 'runs/CNN_glove_final_UC_2206/Scores_UC.json',\n",
       " 'runs/CNN_glove_final_UA_9271/Scores_UA.json']"
      ]
     },
     "execution_count": 114,
     "metadata": {},
     "output_type": "execute_result"
    }
   ],
   "source": [
    "scorefiles"
   ]
  },
  {
   "cell_type": "code",
   "execution_count": null,
   "metadata": {
    "collapsed": true
   },
   "outputs": [],
   "source": [
    "for scorefile in scorefiles:\n",
    "    scoreresult=[]\n",
    "    categoryScores=json.load(open(scorefile), \"r\")\n",
    "    for category, score_dicts in categoryScores.iteritems():\n",
    "        for website, scorelist in score_dicts.iteritems():\n",
    "            scoresult.append({\"site\":website, \"categories\":[]})"
   ]
  },
  {
   "cell_type": "code",
   "execution_count": 69,
   "metadata": {
    "collapsed": true
   },
   "outputs": [],
   "source": [
    "test= [[\"To access the personally identifiable information that our Services collected about you online from the pages on which this Privacy Policy is posted, to correct factual errors in such information, or to update your interests, preferences or other portions of your user profile, please log into your profile if you have created one with us or send an email to privacy@flixster-inc.com.\", 2], [\"To protect your privacy and security, we will take reasonable steps to help verify your identity before granting access or making corrections.\", 2]]"
   ]
  },
  {
   "cell_type": "code",
   "execution_count": 71,
   "metadata": {
    "collapsed": false
   },
   "outputs": [
    {
     "data": {
      "text/plain": [
       "(2, 2)"
      ]
     },
     "execution_count": 71,
     "metadata": {},
     "output_type": "execute_result"
    }
   ],
   "source": [
    "zip(*test)[1]"
   ]
  },
  {
   "cell_type": "code",
   "execution_count": 115,
   "metadata": {
    "collapsed": false
   },
   "outputs": [],
   "source": [
    "def score_buffer(score_file_list):\n",
    "    scoreresult={}\n",
    "    for scorefile in score_file_list:\n",
    "        categoryScores=json.load(open(scorefile, \"r\"))\n",
    "        for category, score_dicts in categoryScores.items():\n",
    "            for website, scorelist in score_dicts.items():\n",
    "                scoreresult.setdefault(website, {})\n",
    "                scoreresult[website].setdefault(category, {\"good\":[], \"bad\":[], \"neutral\":[]})\n",
    "                if len(scorelist)>0:\n",
    "                    scoreresult[website][category][\"score\"]=sum(zip(*scorelist)[1])/(len(scorelist)*2)\n",
    "                    for sentence, score in scorelist:\n",
    "                        if score ==0:\n",
    "                            scoreresult[website][category][\"bad\"].append(sentence)\n",
    "                        elif score ==1:\n",
    "                            scoreresult[website][category][\"neutral\"].append(sentence)\n",
    "                        elif score ==2:\n",
    "                            scoreresult[website][category][\"good\"].append(sentence)\n",
    "                else:\n",
    "                    scoreresult[website][category][\"score\"]=\"Missing\"\n",
    "                    \n",
    "    return scoreresult\n",
    "intermediate=score_buffer(scorefiles)         "
   ]
  },
  {
   "cell_type": "code",
   "execution_count": 101,
   "metadata": {
    "collapsed": false
   },
   "outputs": [
    {
     "data": {
      "text/plain": [
       "{'bad': [u'You can manage and delete flash cookies by visiting http://kb2.adobe.com/cps/526/52697ee8.html.',\n",
       "  u'When we delete any information, it will be deleted from the active database, but may remain in our archives.'],\n",
       " 'good': [u'You may request deletion of your Personally Identifiable Information by us, but please note that we may be required to keep this information and not delete it (or to keep this information for a certain time, in which case we will comply with your deletion request only after we have fulfilled such requirements).'],\n",
       " 'neutral': [u'You may elect to change your User Registration at any time by logging in and editing your User Registration (each of our Covered Sites will contain log-in information).',\n",
       "  u'If you cancel your User Registration, we will retain your email address, user name and assigned user ID on file and use them only for the purpose of assuring you are not automatically registered again, against your wishes.'],\n",
       " 'score': 0.4}"
      ]
     },
     "execution_count": 101,
     "metadata": {},
     "output_type": "execute_result"
    }
   ],
   "source": [
    "intermediate[\"popularmechanics.com\"][\"Data Retention\"]"
   ]
  },
  {
   "cell_type": "code",
   "execution_count": 116,
   "metadata": {
    "collapsed": true
   },
   "outputs": [],
   "source": [
    "def cleanSiteName(name):\n",
    "    name=re.sub(\"www\\\\.\", \"\", name)\n",
    "    name=re.sub(\"\\\\.com\", \"\", name)\n",
    "    return name"
   ]
  },
  {
   "cell_type": "code",
   "execution_count": 120,
   "metadata": {
    "collapsed": false
   },
   "outputs": [],
   "source": [
    "def organizeJSON(intermediate_result):\n",
    "    grades=[\"E\", \"D\", \"C\", \"B\", \"A\"]\n",
    "    finalresult=[]\n",
    "    for website, information in intermediate_result.iteritems():\n",
    "        website_result={}\n",
    "        allscores=[]\n",
    "        website_result[\"site\"]=cleanSiteName(website)\n",
    "        website_result.setdefault(\"categories\",[])\n",
    "        for category, info in information.iteritems():\n",
    "            category_result=info\n",
    "            category_result[\"category\"]=category\n",
    "            website_result[\"categories\"].append(category_result)\n",
    "            allscores.append(category_result[\"score\"])\n",
    "        validscores=[score for score in allscores if score !=\"Missing\"]\n",
    "        if len(validscores)>0:\n",
    "            overallscore=sum(validscores)/len(validscores)*len(grades)-0.001\n",
    "            finalgrade=grades[int(overallscore)]\n",
    "        else:\n",
    "            finalgrade=\"Missing\"\n",
    "        website_result[\"score\"]=finalgrade\n",
    "        finalresult.append(website_result)\n",
    "    return finalresult\n",
    "finalJSON = organizeJSON(intermediate)"
   ]
  },
  {
   "cell_type": "code",
   "execution_count": 121,
   "metadata": {
    "collapsed": false
   },
   "outputs": [],
   "source": [
    "with open(\"../Data/All_scores.json\", \"w\") as f:\n",
    "    json.dump(finalJSON, f)"
   ]
  },
  {
   "cell_type": "markdown",
   "metadata": {},
   "source": [
    "## Model accuracies\n"
   ]
  },
  {
   "cell_type": "code",
   "execution_count": 130,
   "metadata": {
    "collapsed": false
   },
   "outputs": [],
   "source": [
    "import pandas as pd\n",
    "performances=glob.glob(\"runs/*_final_*/*performance.json\")\n",
    "resultlist=[]\n",
    "for result in performances:\n",
    "    with open(result, \"r\") as f:\n",
    "        resultlist.append(json.load(f))\n",
    "\n",
    "resultTable=pd.DataFrame(resultlist)\n",
    "\n",
    "simpletable=resultTable[[\"Category\", \"Precision\", \"Recall\", \"Development f1\"]]"
   ]
  },
  {
   "cell_type": "code",
   "execution_count": 142,
   "metadata": {
    "collapsed": false
   },
   "outputs": [
    {
     "data": {
      "text/html": [
       "<div>\n",
       "<table border=\"1\" class=\"dataframe\">\n",
       "  <thead>\n",
       "    <tr style=\"text-align: right;\">\n",
       "      <th></th>\n",
       "      <th>Category</th>\n",
       "      <th>Precision</th>\n",
       "      <th>Recall</th>\n",
       "      <th>Development f1</th>\n",
       "    </tr>\n",
       "  </thead>\n",
       "  <tbody>\n",
       "    <tr>\n",
       "      <th>0</th>\n",
       "      <td>First Party Collection/Use</td>\n",
       "      <td>0.872639</td>\n",
       "      <td>0.892086</td>\n",
       "      <td>0.892086</td>\n",
       "    </tr>\n",
       "    <tr>\n",
       "      <th>1</th>\n",
       "      <td>Data Retention</td>\n",
       "      <td>0.792339</td>\n",
       "      <td>0.777778</td>\n",
       "      <td>0.777778</td>\n",
       "    </tr>\n",
       "    <tr>\n",
       "      <th>2</th>\n",
       "      <td>Data Security</td>\n",
       "      <td>0.760818</td>\n",
       "      <td>0.795276</td>\n",
       "      <td>0.795276</td>\n",
       "    </tr>\n",
       "    <tr>\n",
       "      <th>3</th>\n",
       "      <td>Do Not Track</td>\n",
       "      <td>0.604938</td>\n",
       "      <td>0.777778</td>\n",
       "      <td>0.777778</td>\n",
       "    </tr>\n",
       "    <tr>\n",
       "      <th>4</th>\n",
       "      <td>User Choice/Control</td>\n",
       "      <td>0.922787</td>\n",
       "      <td>0.955446</td>\n",
       "      <td>0.955446</td>\n",
       "    </tr>\n",
       "    <tr>\n",
       "      <th>5</th>\n",
       "      <td>User Access, Edit and Deletion</td>\n",
       "      <td>0.871164</td>\n",
       "      <td>0.868852</td>\n",
       "      <td>0.868852</td>\n",
       "    </tr>\n",
       "  </tbody>\n",
       "</table>\n",
       "</div>"
      ],
      "text/plain": [
       "                         Category  Precision    Recall  Development f1\n",
       "0      First Party Collection/Use   0.872639  0.892086        0.892086\n",
       "1                  Data Retention   0.792339  0.777778        0.777778\n",
       "2                   Data Security   0.760818  0.795276        0.795276\n",
       "3                    Do Not Track   0.604938  0.777778        0.777778\n",
       "4             User Choice/Control   0.922787  0.955446        0.955446\n",
       "5  User Access, Edit and Deletion   0.871164  0.868852        0.868852"
      ]
     },
     "execution_count": 142,
     "metadata": {},
     "output_type": "execute_result"
    }
   ],
   "source": [
    "simpletable"
   ]
  },
  {
   "cell_type": "code",
   "execution_count": 141,
   "metadata": {
    "collapsed": false
   },
   "outputs": [],
   "source": [
    "scorejson=simpletable.to_json(\"../Data/CNN_accuracies.json\",orient=\"records\")\n"
   ]
  }
 ],
 "metadata": {
  "kernelspec": {
   "display_name": "Python 2",
   "language": "python",
   "name": "python2"
  },
  "language_info": {
   "codemirror_mode": {
    "name": "ipython",
    "version": 2
   },
   "file_extension": ".py",
   "mimetype": "text/x-python",
   "name": "python",
   "nbconvert_exporter": "python",
   "pygments_lexer": "ipython2",
   "version": "2.7.13"
  }
 },
 "nbformat": 4,
 "nbformat_minor": 2
}
