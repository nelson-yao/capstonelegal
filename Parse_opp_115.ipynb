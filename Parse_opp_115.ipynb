{
 "cells": [
  {
   "cell_type": "code",
   "execution_count": 214,
   "metadata": {
    "collapsed": false
   },
   "outputs": [
    {
     "name": "stdout",
     "output_type": "stream",
     "text": [
      "2.7.12 |Anaconda 4.2.0 (64-bit)| (default, Jul  2 2016, 17:42:40) \n",
      "[GCC 4.4.7 20120313 (Red Hat 4.4.7-1)]\n"
     ]
    }
   ],
   "source": [
    "import pandas as pd\n",
    "import sys\n",
    "print sys.version\n",
    "import os\n",
    "import glob\n",
    "from IPython.display import display, HTML"
   ]
  },
  {
   "cell_type": "code",
   "execution_count": 27,
   "metadata": {
    "collapsed": false
   },
   "outputs": [
    {
     "data": {
      "text/html": [
       "<div>\n",
       "<table border=\"1\" class=\"dataframe\">\n",
       "  <thead>\n",
       "    <tr style=\"text-align: right;\">\n",
       "      <th></th>\n",
       "      <th>ID</th>\n",
       "      <th>Type</th>\n",
       "      <th>number</th>\n",
       "      <th>number2</th>\n",
       "      <th>section</th>\n",
       "      <th>category</th>\n",
       "      <th>annotation</th>\n",
       "      <th>date</th>\n",
       "      <th>url</th>\n",
       "    </tr>\n",
       "  </thead>\n",
       "  <tbody>\n",
       "    <tr>\n",
       "      <th>0</th>\n",
       "      <td>20842</td>\n",
       "      <td>test_category_labeling_highlight_upitt</td>\n",
       "      <td>95</td>\n",
       "      <td>3836</td>\n",
       "      <td>0</td>\n",
       "      <td>Other</td>\n",
       "      <td>{\"Other Type\": {\"selectedText\": \"STATEMENT OF ...</td>\n",
       "      <td>12/23/14</td>\n",
       "      <td>http://www.honda.com/site/site_privacy.aspx</td>\n",
       "    </tr>\n",
       "    <tr>\n",
       "      <th>1</th>\n",
       "      <td>15695</td>\n",
       "      <td>test_category_labeling_highlight_upitt</td>\n",
       "      <td>103</td>\n",
       "      <td>3836</td>\n",
       "      <td>1</td>\n",
       "      <td>Other</td>\n",
       "      <td>{\"Other Type\": {\"selectedText\": \"American Hond...</td>\n",
       "      <td>12/23/14</td>\n",
       "      <td>http://www.honda.com/site/site_privacy.aspx</td>\n",
       "    </tr>\n",
       "    <tr>\n",
       "      <th>2</th>\n",
       "      <td>20843</td>\n",
       "      <td>test_category_labeling_highlight_upitt</td>\n",
       "      <td>95</td>\n",
       "      <td>3836</td>\n",
       "      <td>1</td>\n",
       "      <td>Other</td>\n",
       "      <td>{\"Other Type\": {\"selectedText\": \"American Hond...</td>\n",
       "      <td>12/23/14</td>\n",
       "      <td>http://www.honda.com/site/site_privacy.aspx</td>\n",
       "    </tr>\n",
       "  </tbody>\n",
       "</table>\n",
       "</div>"
      ],
      "text/plain": [
       "      ID                                    Type  number  number2  section  \\\n",
       "0  20842  test_category_labeling_highlight_upitt      95     3836        0   \n",
       "1  15695  test_category_labeling_highlight_upitt     103     3836        1   \n",
       "2  20843  test_category_labeling_highlight_upitt      95     3836        1   \n",
       "\n",
       "  category                                         annotation      date  \\\n",
       "0    Other  {\"Other Type\": {\"selectedText\": \"STATEMENT OF ...  12/23/14   \n",
       "1    Other  {\"Other Type\": {\"selectedText\": \"American Hond...  12/23/14   \n",
       "2    Other  {\"Other Type\": {\"selectedText\": \"American Hond...  12/23/14   \n",
       "\n",
       "                                           url  \n",
       "0  http://www.honda.com/site/site_privacy.aspx  \n",
       "1  http://www.honda.com/site/site_privacy.aspx  \n",
       "2  http://www.honda.com/site/site_privacy.aspx  "
      ]
     },
     "execution_count": 27,
     "metadata": {},
     "output_type": "execute_result"
    }
   ],
   "source": [
    "honda=pd.read_csv(\"../Data/OPP-115/annotations/1050_honda.com.csv\", header=None)\n",
    "honda.columns=[\"ID\", \"Type\", \"number\", \"number2\", \"section\", \"category\", \"annotation\", \"date\", \"url\"]\n",
    "honda.head(3)"
   ]
  },
  {
   "cell_type": "code",
   "execution_count": 21,
   "metadata": {
    "collapsed": false
   },
   "outputs": [],
   "source": [
    "hondaAnnot=honda.loc[:,[\"section\", \"category\", \"annotation\"]]"
   ]
  },
  {
   "cell_type": "code",
   "execution_count": 22,
   "metadata": {
    "collapsed": true
   },
   "outputs": [],
   "source": [
    "group=list(hondaAnnot.groupby([\"category\"]))"
   ]
  },
  {
   "cell_type": "code",
   "execution_count": 55,
   "metadata": {
    "collapsed": false
   },
   "outputs": [
    {
     "name": "stdout",
     "output_type": "stream",
     "text": [
      "     section       category                                         annotation\n",
      "66        14  Data Security  {\"Security Measure\": {\"selectedText\": \"America...\n",
      "67        14  Data Security  {\"Security Measure\": {\"selectedText\": \"The fol...\n",
      "68        14  Data Security  {\"Security Measure\": {\"selectedText\": \"In addi...\n",
      "69        14  Data Security  {\"Security Measure\": {\"selectedText\": \"However...\n",
      "70        14  Data Security  {\"Security Measure\": {\"selectedText\": \"This in...\n",
      "71        14  Data Security  {\"Security Measure\": {\"selectedText\": \"In addi...\n",
      "201       62  Data Security  {\"Security Measure\": {\"selectedText\": \"America...\n",
      "203       63  Data Security  {\"Security Measure\": {\"selectedText\": \"How do ...\n",
      "204       63  Data Security  {\"Security Measure\": {\"selectedText\": \"We main...\n",
      "264       14  Data Security  {\"Security Measure\": {\"selectedText\": \"America...\n",
      "265       14  Data Security  {\"Security Measure\": {\"selectedText\": \"This in...\n",
      "266       14  Data Security  {\"Security Measure\": {\"selectedText\": \"In addi...\n",
      "337       51  Data Security  {\"Security Measure\": {\"selectedText\": \"We have...\n",
      "366       63  Data Security  {\"Security Measure\": {\"selectedText\": \"We main...\n"
     ]
    }
   ],
   "source": [
    "print group[1][1]\n"
   ]
  },
  {
   "cell_type": "code",
   "execution_count": null,
   "metadata": {
    "collapsed": true
   },
   "outputs": [],
   "source": []
  },
  {
   "cell_type": "code",
   "execution_count": 33,
   "metadata": {
    "collapsed": false
   },
   "outputs": [
    {
     "name": "stdout",
     "output_type": "stream",
     "text": [
      "First Party Collection/Use\n"
     ]
    },
    {
     "data": {
      "text/plain": [
       "{'endIndexInSegment': -1,\n",
       " 'selectedText': 'Not selected',\n",
       " 'startIndexInSegment': -1,\n",
       " 'value': 'Unspecified'}"
      ]
     },
     "execution_count": 33,
     "metadata": {},
     "output_type": "execute_result"
    }
   ],
   "source": [
    "annolist=group[3][1][\"annotation\"].values\n",
    "print group[3][0]\n",
    "eval(group[3][1][\"annotation\"].iloc[0])[\"Purpose\"]"
   ]
  },
  {
   "cell_type": "code",
   "execution_count": null,
   "metadata": {
    "collapsed": false,
    "scrolled": true
   },
   "outputs": [],
   "source": [
    "for key in eval(annolist[0]):\n",
    "  print key\n",
    "  print eval(annolist[0])[key]"
   ]
  },
  {
   "cell_type": "code",
   "execution_count": 147,
   "metadata": {
    "collapsed": false
   },
   "outputs": [
    {
     "name": "stdout",
     "output_type": "stream",
     "text": [
      "['endIndexInSegment', 'startIndexInSegment', 'value']\n",
      "['endIndexInSegment', 'startIndexInSegment', 'selectedText', 'value']\n"
     ]
    }
   ],
   "source": [
    "\n",
    "## in some texts, not all annotation have the same attributes\n",
    "abita=pd.read_csv(\"../Data/OPP-115/annotations/571_abita.com.csv\", header=None)\n",
    "abita.columns=[\"ID\", \"Type\", \"number\", \"number2\", \"section\", \"category\", \"annotation\", \"date\", \"url\"]\n",
    "\n",
    "abitaGroup=list(abita[[ \"category\", \"annotation\", \"section\"]].groupby([\"category\"]))\n",
    "\"\"\"for index in abitaGroup[1][1].index:\n",
    "  annoRecord=eval(abitaGroup[1][1].ix[index, \"annotation\"])\n",
    "  print [len(annoRecord[topic].keys()) for topic in annoRecord]\n",
    "\"\"\"\n",
    "\n",
    "print eval(abitaGroup[1][1].iloc[0,1])[\"Collection Mode\"].keys()  # Collection Mode in the first annotation in the category\n",
    "print eval(abitaGroup[1][1].iloc[4,1])[\"Collection Mode\"].keys()  # Collection Mode in the 5th annotation in the category"
   ]
  },
  {
   "cell_type": "code",
   "execution_count": 169,
   "metadata": {
    "collapsed": false
   },
   "outputs": [
    {
     "data": {
      "text/html": [
       "<div>\n",
       "<table border=\"1\" class=\"dataframe\">\n",
       "  <thead>\n",
       "    <tr style=\"text-align: right;\">\n",
       "      <th></th>\n",
       "      <th>endIndexInSegment</th>\n",
       "      <th>selectedText</th>\n",
       "      <th>startIndexInSegment</th>\n",
       "      <th>value</th>\n",
       "    </tr>\n",
       "  </thead>\n",
       "  <tbody>\n",
       "    <tr>\n",
       "      <th>0</th>\n",
       "      <td>34</td>\n",
       "      <td>We may collect certain information</td>\n",
       "      <td>0</td>\n",
       "      <td>Unspecified</td>\n",
       "    </tr>\n",
       "    <tr>\n",
       "      <th>1</th>\n",
       "      <td>531</td>\n",
       "      <td>personal information we collect</td>\n",
       "      <td>500</td>\n",
       "      <td>Unspecified</td>\n",
       "    </tr>\n",
       "  </tbody>\n",
       "</table>\n",
       "</div>"
      ],
      "text/plain": [
       "   endIndexInSegment                        selectedText  startIndexInSegment  \\\n",
       "0                 34  We may collect certain information                    0   \n",
       "1                531     personal information we collect                  500   \n",
       "\n",
       "         value  \n",
       "0  Unspecified  \n",
       "1  Unspecified  "
      ]
     },
     "execution_count": 169,
     "metadata": {},
     "output_type": "execute_result"
    }
   ],
   "source": [
    "import json\n",
    "abitaFP=abitaGroup[1][1]\n",
    "abitaFPanno=abitaGroup[1][1][\"annotation\"]\n",
    "abitaFPannoEg=eval(abitaFPanno.iloc[0])\n",
    "abitaFPannoEg2=eval(abitaFPanno.iloc[5])\n",
    "#pd.DataFrame.from_dict([eval(anno) for anno in abitaFPanno], orient=\"index\")\n",
    "pds1=pd.Series(abitaFPannoEg[\"Action First-Party\"])\n",
    "pds2=pd.Series(abitaFPannoEg2[\"Action First-Party\"])\n",
    "pd.DataFrame([pds2, pds1])"
   ]
  },
  {
   "cell_type": "markdown",
   "metadata": {},
   "source": [
    "## Functions for packing annotations"
   ]
  },
  {
   "cell_type": "code",
   "execution_count": 210,
   "metadata": {
    "collapsed": false
   },
   "outputs": [],
   "source": [
    "## take two cateogries, put the values of the same key together in a list\n",
    "def joinDict(origin, newdict):\n",
    "  for key in origin:\n",
    "    try:\n",
    "      origin[key].extend([newdict[key]])\n",
    "    except KeyError:\n",
    "      origin[key].append(\"NaN\")\n",
    "  return origin\n",
    "\n",
    "## extract all the subcategory (topics) in a category, and gather the values of each topic into a \n",
    "## dataframe along with section value\n",
    "def packCategory(categoryFrame):\n",
    "  annocollect={}\n",
    "  annoFrames={}\n",
    "  for rownumber in range(categoryFrame.shape[0]):\n",
    "    anno=eval(categoryFrame[\"annotation\"].iloc[rownumber])\n",
    "    sectionValue=categoryFrame[\"section\"].iloc[rownumber]\n",
    "    for topic in anno:\n",
    "      annocollect.setdefault(topic, [])\n",
    "      topicAnno=anno[topic]\n",
    "      topicAnno[\"section\"]=sectionValue\n",
    "      annocollect[topic].append(pd.Series(topicAnno))\n",
    "\n",
    "    for topic in anno:\n",
    "      frame=pd.DataFrame(annocollect[topic])\n",
    "      #frame=frame[['selectedText','section','startIndexInSegment','endIndexInSegment','value']]\n",
    "      annoFrames[topic]=frame\n",
    "    \n",
    "  return annoFrames\n",
    "\n",
    "## pack each category in a list\n",
    "def packPolicy(policyDataFrame):\n",
    "  totalresult={}\n",
    "  filtered=policyDataFrame.loc[:,[ \"category\", \"annotation\", \"section\"]]\n",
    "  grouped=list(filtered.groupby([\"category\"]))\n",
    "  for group in grouped:\n",
    "    category=group[0]\n",
    "    categoryData=group[1]\n",
    "    totalresult[category]=packCategory(categoryData)\n",
    "  return totalresult\n",
    "\n",
    "def parseAllAnnotations(fileList):\n",
    "  fulloutput={}\n",
    "  for filepath in fileList:\n",
    "    website=os.path.splitext(os.path.basename(filepath))[0].split(\"_\")[1]\n",
    "    annoData=pd.read_csv(filepath, header=None, names=[\"number\", \"Type\", \"ID\", \"number2\", \"section\", \"category\", \"annotation\", \"date\", \"url\"])\n",
    "    parsedAnno=packPolicy(annoData)\n",
    "    fulloutput[website]=parsedAnno\n",
    "  return fulloutput\n"
   ]
  },
  {
   "cell_type": "code",
   "execution_count": 201,
   "metadata": {
    "collapsed": false
   },
   "outputs": [
    {
     "data": {
      "text/plain": [
       "['endIndexInSegment', 'startIndexInSegment', 'value']"
      ]
     },
     "execution_count": 201,
     "metadata": {},
     "output_type": "execute_result"
    }
   ],
   "source": [
    "eval(abitaGroup[1][1][\"annotation\"].iloc[0])['Collection Mode'].keys()"
   ]
  },
  {
   "cell_type": "code",
   "execution_count": 208,
   "metadata": {
    "collapsed": false
   },
   "outputs": [],
   "source": [
    "test=packCategory(abitaGroup[1][1])\n"
   ]
  },
  {
   "cell_type": "code",
   "execution_count": 205,
   "metadata": {
    "collapsed": false
   },
   "outputs": [
    {
     "data": {
      "text/plain": [
       "Index([u'endIndexInSegment', u'section', u'selectedText',\n",
       "       u'startIndexInSegment', u'value'],\n",
       "      dtype='object')"
      ]
     },
     "execution_count": 205,
     "metadata": {},
     "output_type": "execute_result"
    }
   ],
   "source": [
    "result=packPolicy(honda)\n",
    "result[\"First Party Collection/Use\"]['Collection Mode'].keys()"
   ]
  },
  {
   "cell_type": "code",
   "execution_count": 211,
   "metadata": {
    "collapsed": false,
    "scrolled": false
   },
   "outputs": [
    {
     "name": "stdout",
     "output_type": "stream",
     "text": [
      "CPU times: user 7min 40s, sys: 407 ms, total: 7min 40s\n",
      "Wall time: 7min 40s\n"
     ]
    }
   ],
   "source": [
    "%%time\n",
    "## pack all original annotations files\n",
    "originalAnnoFiles=glob.glob(\"../Data/OPP-115/annotations/*.csv\")\n",
    "packedAnnoOriginal=parseAllAnnotations(originalAnnoFiles)"
   ]
  },
  {
   "cell_type": "code",
   "execution_count": 216,
   "metadata": {
    "collapsed": false
   },
   "outputs": [
    {
     "name": "stdout",
     "output_type": "stream",
     "text": [
      "['Data Retention', 'First Party Collection/Use', 'User Choice/Control', 'Policy Change', 'Do Not Track', 'International and Specific Audiences', 'User Access, Edit and Deletion', 'Other', 'Data Security', 'Third Party Sharing/Collection']\n",
      "\n",
      "\n",
      "['Personal Information Type', 'Retention Period', 'Retention Purpose']\n",
      "\n",
      "\n",
      "Index([u'endIndexInSegment', u'section', u'selectedText',\n",
      "       u'startIndexInSegment', u'value'],\n",
      "      dtype='object')\n",
      "\n",
      "\n"
     ]
    },
    {
     "data": {
      "text/html": [
       "<div>\n",
       "<table border=\"1\" class=\"dataframe\">\n",
       "  <thead>\n",
       "    <tr style=\"text-align: right;\">\n",
       "      <th></th>\n",
       "      <th>endIndexInSegment</th>\n",
       "      <th>section</th>\n",
       "      <th>selectedText</th>\n",
       "      <th>startIndexInSegment</th>\n",
       "      <th>value</th>\n",
       "    </tr>\n",
       "  </thead>\n",
       "  <tbody>\n",
       "    <tr>\n",
       "      <th>0</th>\n",
       "      <td>234</td>\n",
       "      <td>35</td>\n",
       "      <td>We will retain your information for the period...</td>\n",
       "      <td>47</td>\n",
       "      <td>Limited</td>\n",
       "    </tr>\n",
       "    <tr>\n",
       "      <th>1</th>\n",
       "      <td>159</td>\n",
       "      <td>35</td>\n",
       "      <td>We will retain your information for the period...</td>\n",
       "      <td>47</td>\n",
       "      <td>Other</td>\n",
       "    </tr>\n",
       "    <tr>\n",
       "      <th>2</th>\n",
       "      <td>773</td>\n",
       "      <td>36</td>\n",
       "      <td>Remember that even after you cancel your accou...</td>\n",
       "      <td>0</td>\n",
       "      <td>Limited</td>\n",
       "    </tr>\n",
       "    <tr>\n",
       "      <th>3</th>\n",
       "      <td>402</td>\n",
       "      <td>36</td>\n",
       "      <td>We may also retain backup information related ...</td>\n",
       "      <td>206</td>\n",
       "      <td>Unspecified</td>\n",
       "    </tr>\n",
       "    <tr>\n",
       "      <th>4</th>\n",
       "      <td>234</td>\n",
       "      <td>35</td>\n",
       "      <td>or allowed by applicable law.</td>\n",
       "      <td>205</td>\n",
       "      <td>Unspecified</td>\n",
       "    </tr>\n",
       "    <tr>\n",
       "      <th>5</th>\n",
       "      <td>192</td>\n",
       "      <td>35</td>\n",
       "      <td>unless a longer retention period</td>\n",
       "      <td>160</td>\n",
       "      <td>Unspecified</td>\n",
       "    </tr>\n",
       "    <tr>\n",
       "      <th>6</th>\n",
       "      <td>314</td>\n",
       "      <td>36</td>\n",
       "      <td>for some time after cancelation</td>\n",
       "      <td>283</td>\n",
       "      <td>Unspecified</td>\n",
       "    </tr>\n",
       "    <tr>\n",
       "      <th>7</th>\n",
       "      <td>314</td>\n",
       "      <td>36</td>\n",
       "      <td>for some time after cancelation</td>\n",
       "      <td>283</td>\n",
       "      <td>Unspecified</td>\n",
       "    </tr>\n",
       "  </tbody>\n",
       "</table>\n",
       "</div>"
      ],
      "text/plain": [
       "   endIndexInSegment  section  \\\n",
       "0                234       35   \n",
       "1                159       35   \n",
       "2                773       36   \n",
       "3                402       36   \n",
       "4                234       35   \n",
       "5                192       35   \n",
       "6                314       36   \n",
       "7                314       36   \n",
       "\n",
       "                                        selectedText  startIndexInSegment  \\\n",
       "0  We will retain your information for the period...                   47   \n",
       "1  We will retain your information for the period...                   47   \n",
       "2  Remember that even after you cancel your accou...                    0   \n",
       "3  We may also retain backup information related ...                  206   \n",
       "4                      or allowed by applicable law.                  205   \n",
       "5                   unless a longer retention period                  160   \n",
       "6                    for some time after cancelation                  283   \n",
       "7                    for some time after cancelation                  283   \n",
       "\n",
       "         value  \n",
       "0      Limited  \n",
       "1        Other  \n",
       "2      Limited  \n",
       "3  Unspecified  \n",
       "4  Unspecified  \n",
       "5  Unspecified  \n",
       "6  Unspecified  \n",
       "7  Unspecified  "
      ]
     },
     "metadata": {},
     "output_type": "display_data"
    }
   ],
   "source": [
    "print packedAnnoOriginal[\"foxsports.com\"].keys()\n",
    "print \"\\n\"\n",
    "print packedAnnoOriginal[\"foxsports.com\"][\"Data Retention\"].keys()\n",
    "print \"\\n\"\n",
    "print packedAnnoOriginal[\"foxsports.com\"][\"Data Retention\"][\"Retention Period\"].columns\n",
    "print \"\\n\"\n",
    "display(packedAnnoOriginal[\"foxsports.com\"][\"Data Retention\"][\"Retention Period\"])"
   ]
  },
  {
   "cell_type": "code",
   "execution_count": 223,
   "metadata": {
    "collapsed": false
   },
   "outputs": [
    {
     "ename": "AttributeError",
     "evalue": "'DataFrame' object has no attribute 'to_list'",
     "output_type": "error",
     "traceback": [
      "\u001b[0;31m---------------------------------------------------------------------------\u001b[0m",
      "\u001b[0;31mAttributeError\u001b[0m                            Traceback (most recent call last)",
      "\u001b[0;32m<ipython-input-223-6c7db197c609>\u001b[0m in \u001b[0;36m<module>\u001b[0;34m()\u001b[0m\n\u001b[0;32m----> 1\u001b[0;31m \u001b[0mpackedAnnoOriginal\u001b[0m\u001b[0;34m[\u001b[0m\u001b[0;34m\"foxsports.com\"\u001b[0m\u001b[0;34m]\u001b[0m\u001b[0;34m[\u001b[0m\u001b[0;34m\"Data Retention\"\u001b[0m\u001b[0;34m]\u001b[0m\u001b[0;34m[\u001b[0m\u001b[0;34m\"Retention Period\"\u001b[0m\u001b[0;34m]\u001b[0m\u001b[0;34m.\u001b[0m\u001b[0mto_list\u001b[0m\u001b[0;34m(\u001b[0m\u001b[0;34m)\u001b[0m\u001b[0;34m\u001b[0m\u001b[0m\n\u001b[0m",
      "\u001b[0;32m/home/meaney.lab/nyao/anaconda2/lib/python2.7/site-packages/pandas/core/generic.pyc\u001b[0m in \u001b[0;36m__getattr__\u001b[0;34m(self, name)\u001b[0m\n\u001b[1;32m   2670\u001b[0m             \u001b[0;32mif\u001b[0m \u001b[0mname\u001b[0m \u001b[0;32min\u001b[0m \u001b[0mself\u001b[0m\u001b[0;34m.\u001b[0m\u001b[0m_info_axis\u001b[0m\u001b[0;34m:\u001b[0m\u001b[0;34m\u001b[0m\u001b[0m\n\u001b[1;32m   2671\u001b[0m                 \u001b[0;32mreturn\u001b[0m \u001b[0mself\u001b[0m\u001b[0;34m[\u001b[0m\u001b[0mname\u001b[0m\u001b[0;34m]\u001b[0m\u001b[0;34m\u001b[0m\u001b[0m\n\u001b[0;32m-> 2672\u001b[0;31m             \u001b[0;32mreturn\u001b[0m \u001b[0mobject\u001b[0m\u001b[0;34m.\u001b[0m\u001b[0m__getattribute__\u001b[0m\u001b[0;34m(\u001b[0m\u001b[0mself\u001b[0m\u001b[0;34m,\u001b[0m \u001b[0mname\u001b[0m\u001b[0;34m)\u001b[0m\u001b[0;34m\u001b[0m\u001b[0m\n\u001b[0m\u001b[1;32m   2673\u001b[0m \u001b[0;34m\u001b[0m\u001b[0m\n\u001b[1;32m   2674\u001b[0m     \u001b[0;32mdef\u001b[0m \u001b[0m__setattr__\u001b[0m\u001b[0;34m(\u001b[0m\u001b[0mself\u001b[0m\u001b[0;34m,\u001b[0m \u001b[0mname\u001b[0m\u001b[0;34m,\u001b[0m \u001b[0mvalue\u001b[0m\u001b[0;34m)\u001b[0m\u001b[0;34m:\u001b[0m\u001b[0;34m\u001b[0m\u001b[0m\n",
      "\u001b[0;31mAttributeError\u001b[0m: 'DataFrame' object has no attribute 'to_list'"
     ]
    }
   ],
   "source": [
    "packedAnnoOriginal[\"foxsports.com\"][\"Data Retention\"][\"Retention Period\"]."
   ]
  },
  {
   "cell_type": "code",
   "execution_count": 217,
   "metadata": {
    "collapsed": true
   },
   "outputs": [],
   "source": [
    "import pickle\n",
    "with open(\"Data/parsed-annotation-original.pk\", 'wb') as f:\n",
    "  pickle.dump(packedAnnoOriginal, f)"
   ]
  },
  {
   "cell_type": "code",
   "execution_count": 24,
   "metadata": {
    "collapsed": false,
    "scrolled": false
   },
   "outputs": [],
   "source": [
    "import json\n",
    "for key in packedAnnoOriginal:\n",
    "  with open(os.path.join(\"../Data/parsed-annotation-original\",key)+\".json\", \"w\") as f:\n",
    "    json.dump(packedAnnoOriginal[key], f)"
   ]
  },
  {
   "cell_type": "markdown",
   "metadata": {},
   "source": [
    "## Organize consolidated annotations"
   ]
  },
  {
   "cell_type": "code",
   "execution_count": 218,
   "metadata": {
    "collapsed": false
   },
   "outputs": [
    {
     "data": {
      "text/html": [
       "<div>\n",
       "<table border=\"1\" class=\"dataframe\">\n",
       "  <thead>\n",
       "    <tr style=\"text-align: right;\">\n",
       "      <th></th>\n",
       "      <th>Number</th>\n",
       "      <th>Type</th>\n",
       "      <th>annotator</th>\n",
       "      <th>number2</th>\n",
       "      <th>number3</th>\n",
       "      <th>category</th>\n",
       "      <th>annotation</th>\n",
       "      <th>date</th>\n",
       "      <th>url</th>\n",
       "    </tr>\n",
       "  </thead>\n",
       "  <tbody>\n",
       "    <tr>\n",
       "      <th>0</th>\n",
       "      <td>C549</td>\n",
       "      <td>test_category_labeling_highlight_fordham_aaaaa</td>\n",
       "      <td>121</td>\n",
       "      <td>3836</td>\n",
       "      <td>1</td>\n",
       "      <td>Other</td>\n",
       "      <td>{\"Other Type\": {\"selectedText\": \"American Hond...</td>\n",
       "      <td>12/23/14</td>\n",
       "      <td>http://www.honda.com/site/site_privacy.aspx</td>\n",
       "    </tr>\n",
       "    <tr>\n",
       "      <th>1</th>\n",
       "      <td>15696</td>\n",
       "      <td>test_category_labeling_highlight_upitt</td>\n",
       "      <td>103</td>\n",
       "      <td>3836</td>\n",
       "      <td>2</td>\n",
       "      <td>Other</td>\n",
       "      <td>{\"Other Type\": {\"selectedText\": \"This statemen...</td>\n",
       "      <td>12/23/14</td>\n",
       "      <td>http://www.honda.com/site/site_privacy.aspx</td>\n",
       "    </tr>\n",
       "  </tbody>\n",
       "</table>\n",
       "</div>"
      ],
      "text/plain": [
       "  Number                                            Type  annotator  number2  \\\n",
       "0   C549  test_category_labeling_highlight_fordham_aaaaa        121     3836   \n",
       "1  15696          test_category_labeling_highlight_upitt        103     3836   \n",
       "\n",
       "   number3 category                                         annotation  \\\n",
       "0        1    Other  {\"Other Type\": {\"selectedText\": \"American Hond...   \n",
       "1        2    Other  {\"Other Type\": {\"selectedText\": \"This statemen...   \n",
       "\n",
       "       date                                          url  \n",
       "0  12/23/14  http://www.honda.com/site/site_privacy.aspx  \n",
       "1  12/23/14  http://www.honda.com/site/site_privacy.aspx  "
      ]
     },
     "execution_count": 218,
     "metadata": {},
     "output_type": "execute_result"
    }
   ],
   "source": [
    "#/Users/NYao/Documents/MIDS/210/Data/OPP-115/consolidation/\n",
    "hondaConso=pd.read_csv(\"../Data/OPP-115/consolidation/threshold-1.0-overlap-similarity/1050_honda.com.csv\")\n",
    "hondaConso.columns=[\"Number\", \"Type\", \"annotator\", \"number2\", \"number3\", \"category\", \"annotation\", \"date\", \"url\"]\n",
    "hondaConso.head(2)"
   ]
  },
  {
   "cell_type": "code",
   "execution_count": 219,
   "metadata": {
    "collapsed": false
   },
   "outputs": [],
   "source": [
    "hondaConsoPack=packPolicy(hondaConso)"
   ]
  },
  {
   "cell_type": "code",
   "execution_count": 220,
   "metadata": {
    "collapsed": true
   },
   "outputs": [],
   "source": [
    "consoAnno10=glob.glob(\"../Data/OPP-115/consolidation/threshold-1.0-overlap-similarity/*.csv\")\n",
    "packedAnnoConso10=parseAllAnnotations(consoAnno10)"
   ]
  },
  {
   "cell_type": "code",
   "execution_count": 30,
   "metadata": {
    "collapsed": false
   },
   "outputs": [
    {
     "name": "stdout",
     "output_type": "stream",
     "text": [
      "115\n"
     ]
    }
   ],
   "source": [
    "print len(consoAnno10)"
   ]
  },
  {
   "cell_type": "code",
   "execution_count": 224,
   "metadata": {
    "collapsed": true
   },
   "outputs": [],
   "source": [
    "with open(\"Data/parsed-annotation-1.0.pk\", 'wb') as f:\n",
    "  pickle.dump(packedAnnoOriginal, f)"
   ]
  },
  {
   "cell_type": "code",
   "execution_count": 34,
   "metadata": {
    "collapsed": false
   },
   "outputs": [],
   "source": [
    "for key in packedAnnoConso10:\n",
    "  with open(os.path.join(\"Data/opp115-parsed-annotation-1.0\",key)+\".json\", \"w\") as f:\n",
    "    json.dump(packedAnnoConso10[key], f)"
   ]
  },
  {
   "cell_type": "markdown",
   "metadata": {},
   "source": [
    "## Consolidated Annotation with 0.5 threshold\n"
   ]
  },
  {
   "cell_type": "code",
   "execution_count": 226,
   "metadata": {
    "collapsed": false
   },
   "outputs": [
    {
     "name": "stdout",
     "output_type": "stream",
     "text": [
      "115\n"
     ]
    }
   ],
   "source": [
    "consoAnno05=glob.glob(\"../Data/OPP-115/consolidation/threshold-0.5-overlap-similarity/*.csv\")\n",
    "print(len(consoAnno05))\n",
    "packedAnnoConso05=parseAllAnnotations(consoAnno05)"
   ]
  },
  {
   "cell_type": "markdown",
   "metadata": {},
   "source": [
    "## Organize human-redable summaries"
   ]
  },
  {
   "cell_type": "code",
   "execution_count": 222,
   "metadata": {
    "collapsed": false
   },
   "outputs": [
    {
     "ename": "SyntaxError",
     "evalue": "invalid syntax (<ipython-input-222-668a0046ee05>, line 2)",
     "output_type": "error",
     "traceback": [
      "\u001b[0;36m  File \u001b[0;32m\"<ipython-input-222-668a0046ee05>\"\u001b[0;36m, line \u001b[0;32m2\u001b[0m\n\u001b[0;31m    print(i, flush=True)\u001b[0m\n\u001b[0m                  ^\u001b[0m\n\u001b[0;31mSyntaxError\u001b[0m\u001b[0;31m:\u001b[0m invalid syntax\n"
     ]
    }
   ],
   "source": [
    "for i in range(10):\n",
    "  print(i, flush=True)"
   ]
  },
  {
   "cell_type": "code",
   "execution_count": null,
   "metadata": {
    "collapsed": true
   },
   "outputs": [],
   "source": []
  },
  {
   "cell_type": "markdown",
   "metadata": {},
   "source": [
    "## Organize Privacy Policy Texts"
   ]
  },
  {
   "cell_type": "code",
   "execution_count": null,
   "metadata": {
    "collapsed": true
   },
   "outputs": [],
   "source": []
  }
 ],
 "metadata": {
  "anaconda-cloud": {},
  "kernelspec": {
   "display_name": "Python [conda root]",
   "language": "python",
   "name": "conda-root-py"
  },
  "language_info": {
   "codemirror_mode": {
    "name": "ipython",
    "version": 2
   },
   "file_extension": ".py",
   "mimetype": "text/x-python",
   "name": "python",
   "nbconvert_exporter": "python",
   "pygments_lexer": "ipython2",
   "version": "2.7.12"
  }
 },
 "nbformat": 4,
 "nbformat_minor": 1
}
