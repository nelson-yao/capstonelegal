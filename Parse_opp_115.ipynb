{
 "cells": [
  {
   "cell_type": "code",
   "execution_count": 2,
   "metadata": {
    "collapsed": false
   },
   "outputs": [
    {
     "name": "stdout",
     "output_type": "stream",
     "text": [
      "2.7.12 |Anaconda 4.2.0 (64-bit)| (default, Jul  2 2016, 17:42:40) \n",
      "[GCC 4.4.7 20120313 (Red Hat 4.4.7-1)]\n"
     ]
    }
   ],
   "source": [
    "import pandas as pd\n",
    "import sys\n",
    "print sys.version\n",
    "import os\n",
    "import glob"
   ]
  },
  {
   "cell_type": "code",
   "execution_count": 3,
   "metadata": {
    "collapsed": false
   },
   "outputs": [
    {
     "data": {
      "text/html": [
       "<div>\n",
       "<table border=\"1\" class=\"dataframe\">\n",
       "  <thead>\n",
       "    <tr style=\"text-align: right;\">\n",
       "      <th></th>\n",
       "      <th>ID</th>\n",
       "      <th>Type</th>\n",
       "      <th>number</th>\n",
       "      <th>number2</th>\n",
       "      <th>number3</th>\n",
       "      <th>category</th>\n",
       "      <th>annotation</th>\n",
       "      <th>date</th>\n",
       "      <th>url</th>\n",
       "    </tr>\n",
       "  </thead>\n",
       "  <tbody>\n",
       "    <tr>\n",
       "      <th>0</th>\n",
       "      <td>20842</td>\n",
       "      <td>test_category_labeling_highlight_upitt</td>\n",
       "      <td>95</td>\n",
       "      <td>3836</td>\n",
       "      <td>0</td>\n",
       "      <td>Other</td>\n",
       "      <td>{\"Other Type\": {\"selectedText\": \"STATEMENT OF ...</td>\n",
       "      <td>12/23/14</td>\n",
       "      <td>http://www.honda.com/site/site_privacy.aspx</td>\n",
       "    </tr>\n",
       "    <tr>\n",
       "      <th>1</th>\n",
       "      <td>15695</td>\n",
       "      <td>test_category_labeling_highlight_upitt</td>\n",
       "      <td>103</td>\n",
       "      <td>3836</td>\n",
       "      <td>1</td>\n",
       "      <td>Other</td>\n",
       "      <td>{\"Other Type\": {\"selectedText\": \"American Hond...</td>\n",
       "      <td>12/23/14</td>\n",
       "      <td>http://www.honda.com/site/site_privacy.aspx</td>\n",
       "    </tr>\n",
       "  </tbody>\n",
       "</table>\n",
       "</div>"
      ],
      "text/plain": [
       "      ID                                    Type  number  number2  number3  \\\n",
       "0  20842  test_category_labeling_highlight_upitt      95     3836        0   \n",
       "1  15695  test_category_labeling_highlight_upitt     103     3836        1   \n",
       "\n",
       "  category                                         annotation      date  \\\n",
       "0    Other  {\"Other Type\": {\"selectedText\": \"STATEMENT OF ...  12/23/14   \n",
       "1    Other  {\"Other Type\": {\"selectedText\": \"American Hond...  12/23/14   \n",
       "\n",
       "                                           url  \n",
       "0  http://www.honda.com/site/site_privacy.aspx  \n",
       "1  http://www.honda.com/site/site_privacy.aspx  "
      ]
     },
     "execution_count": 3,
     "metadata": {},
     "output_type": "execute_result"
    }
   ],
   "source": [
    "honda=pd.read_csv(\"../Data/OPP-115/annotations/1050_honda.com.csv\", header=None)\n",
    "honda.columns=[\"ID\", \"Type\", \"number\", \"number2\", \"number3\", \"category\", \"annotation\", \"date\", \"url\"]\n",
    "honda.head(2)"
   ]
  },
  {
   "cell_type": "code",
   "execution_count": 6,
   "metadata": {
    "collapsed": false
   },
   "outputs": [],
   "source": [
    "hondaAnnot=honda.loc[:,[ \"category\", \"annotation\"]]"
   ]
  },
  {
   "cell_type": "code",
   "execution_count": 7,
   "metadata": {
    "collapsed": true
   },
   "outputs": [],
   "source": [
    "group=list(hondaAnnot.groupby([\"category\"]))"
   ]
  },
  {
   "cell_type": "code",
   "execution_count": 43,
   "metadata": {
    "collapsed": false
   },
   "outputs": [
    {
     "name": "stdout",
     "output_type": "stream",
     "text": [
      "First Party Collection/Use\n"
     ]
    },
    {
     "data": {
      "text/plain": [
       "['Collection Mode',\n",
       " 'Identifiability',\n",
       " 'Action First-Party',\n",
       " 'Personal Information Type',\n",
       " 'Choice Type',\n",
       " 'Choice Scope',\n",
       " 'Does/Does Not',\n",
       " 'User Type',\n",
       " 'Purpose']"
      ]
     },
     "execution_count": 43,
     "metadata": {},
     "output_type": "execute_result"
    }
   ],
   "source": [
    "annolist=group[3][1][\"annotation\"].values\n",
    "print group[3][0]\n",
    "eval(group[3][1][\"annotation\"].iloc[0]).keys()"
   ]
  },
  {
   "cell_type": "code",
   "execution_count": 14,
   "metadata": {
    "collapsed": false,
    "scrolled": true
   },
   "outputs": [
    {
     "name": "stdout",
     "output_type": "stream",
     "text": [
      "Security Measure\n",
      "{'selectedText': 'American Honda has reasonable security measures in place to protect your personally identifiable information. This information is protected while being transmitted through a Secured Sockets Layer (SSL) connection. Most web pages that display personally identifiable information are encrypted using 128-bit SSL, which is an industry standard.', 'startIndexInSegment': 19, 'endIndexInSegment': 360, 'value': 'Secure data transfer'}\n"
     ]
    }
   ],
   "source": [
    "for key in eval(annolist[0]):\n",
    "  print key\n",
    "  print eval(annolist[0])[key]"
   ]
  },
  {
   "cell_type": "markdown",
   "metadata": {},
   "source": [
    "## Functions for packing annotations"
   ]
  },
  {
   "cell_type": "code",
   "execution_count": 13,
   "metadata": {
    "collapsed": false
   },
   "outputs": [],
   "source": [
    "## take two cateogries, put the values of the same key together in a list\n",
    "def joinDict(origin, newdict):\n",
    "  for key in newdict:\n",
    "    origin.setdefault(key, [])\n",
    "    origin[key]=origin[key]+[newdict[key]]\n",
    "  return origin\n",
    "\n",
    "## extract all the subcategory (topics) in a category, and gather all their attributes into lists\n",
    "def packCategory(annotationList):\n",
    "  annocollect={}\n",
    "  for string in annotationList:\n",
    "    anno=eval(string)\n",
    "    for key in anno:\n",
    "      annocollect.setdefault(key, {})\n",
    "      annocollect[key]=joinDict(annocollect[key], anno[key])\n",
    "  return annocollect\n",
    "\n",
    "## pack each category in a list\n",
    "def packPolicy(policyDataFrame):\n",
    "  totalresult={}\n",
    "  filtered=policyDataFrame.loc[:,[ \"category\", \"annotation\"]]\n",
    "  grouped=list(filtered.groupby([\"category\"]))\n",
    "  for group in grouped:\n",
    "    category=group[0]\n",
    "    annotationList=group[1][\"annotation\"].values\n",
    "    totalresult[category]=packCategory(annotationList)\n",
    "    \n",
    "  return totalresult\n",
    "\n",
    "def parseAllAnnotations(fileList):\n",
    "  fulloutput={}\n",
    "  for filepath in fileList:\n",
    "    website=os.path.splitext(os.path.basename(filepath))[0].split(\"_\")[1]\n",
    "    annoData=pd.read_csv(filepath, header=None, names=[\"number\", \"Type\", \"ID\", \"number2\", \"number3\", \"category\", \"annotation\", \"date\", \"url\"])\n",
    "    parsedAnno=packPolicy(annoData)\n",
    "    fulloutput[website]=parsedAnno\n",
    "  return fulloutput\n"
   ]
  },
  {
   "cell_type": "code",
   "execution_count": 7,
   "metadata": {
    "collapsed": false
   },
   "outputs": [
    {
     "name": "stdout",
     "output_type": "stream",
     "text": [
      "Data Retention\n",
      "Data Security\n",
      "Do Not Track\n",
      "First Party Collection/Use\n",
      "International and Specific Audiences\n",
      "Other\n",
      "Policy Change\n",
      "Third Party Sharing/Collection\n",
      "User Access, Edit and Deletion\n",
      "User Choice/Control\n"
     ]
    },
    {
     "data": {
      "text/plain": [
       "['Collection Mode',\n",
       " 'Action First-Party',\n",
       " 'Personal Information Type',\n",
       " 'Does/Does Not',\n",
       " 'User Type',\n",
       " 'Purpose',\n",
       " 'Choice Scope',\n",
       " 'Choice Type',\n",
       " 'Identifiability']"
      ]
     },
     "execution_count": 7,
     "metadata": {},
     "output_type": "execute_result"
    }
   ],
   "source": [
    "result=packPolicy(honda)\n",
    "result[\"First Party Collection/Use\"].keys()"
   ]
  },
  {
   "cell_type": "code",
   "execution_count": 14,
   "metadata": {
    "collapsed": false
   },
   "outputs": [
    {
     "name": "stdout",
     "output_type": "stream",
     "text": [
      "CPU times: user 3.26 s, sys: 16.6 ms, total: 3.28 s\n",
      "Wall time: 3.28 s\n"
     ]
    }
   ],
   "source": [
    "%%time\n",
    "## pack all original annotations files\n",
    "originalAnnoFiles=glob.glob(\"../Data/OPP-115/annotations/*.csv\")\n",
    "packedAnnoOriginal=parseAllAnnotations(originalAnnoFiles)"
   ]
  },
  {
   "cell_type": "code",
   "execution_count": 22,
   "metadata": {
    "collapsed": false
   },
   "outputs": [
    {
     "name": "stdout",
     "output_type": "stream",
     "text": [
      "['Data Retention', 'First Party Collection/Use', 'User Choice/Control', 'Policy Change', 'Do Not Track', 'International and Specific Audiences', 'User Access, Edit and Deletion', 'Other', 'Data Security', 'Third Party Sharing/Collection']\n",
      "\n",
      "\n",
      "['Personal Information Type', 'Retention Period', 'Retention Purpose']\n",
      "\n",
      "\n",
      "['selectedText', 'startIndexInSegment', 'endIndexInSegment', 'value']\n",
      "\n",
      "\n",
      "{'selectedText': ['We will retain your information for the period necessary to fulfill the purposes outlined in this Privacy Policy unless a longer retention period is required or allowed by applicable law.', 'We will retain your information for the period necessary to fulfill the purposes outlined in this Privacy Policy', 'Remember that even after you cancel your account, copies of some information from your account may remain viewable in some circumstances where, for example, you have shared information with Other Services. We may also retain backup information related to your account on our servers for some time after cancelation for fraud detection or to comply with applicable law or our internal security policies. It is not always possible to completely remove or delete all of your information due to technical constraints, contractual, financial or legal requirements. Because of the nature of caching technology, your account may not be instantly inaccessible to others, and there may be a delay in the removal of the content from elsewhere on the Internet and from search engines.', 'We may also retain backup information related to your account on our servers for some time after cancelation for fraud detection or to comply with applicable law or our internal security policies.', 'or allowed by applicable law.', 'unless a longer retention period', 'for some time after cancelation', 'for some time after cancelation'], 'startIndexInSegment': [47, 47, 0, 206, 205, 160, 283, 283], 'endIndexInSegment': [234, 159, 773, 402, 234, 192, 314, 314], 'value': ['Limited', 'Other', 'Limited', 'Unspecified', 'Unspecified', 'Unspecified', 'Unspecified', 'Unspecified']}\n"
     ]
    }
   ],
   "source": [
    "print packedAnnoOriginal[\"foxsports.com\"].keys()\n",
    "print \"\\n\"\n",
    "print packedAnnoOriginal[\"foxsports.com\"][\"Data Retention\"].keys()\n",
    "print \"\\n\"\n",
    "print packedAnnoOriginal[\"foxsports.com\"][\"Data Retention\"][\"Retention Period\"].keys()\n",
    "print \"\\n\"\n",
    "print packedAnnoOriginal[\"foxsports.com\"][\"Data Retention\"][\"Retention Period\"]"
   ]
  },
  {
   "cell_type": "code",
   "execution_count": 24,
   "metadata": {
    "collapsed": false,
    "scrolled": false
   },
   "outputs": [],
   "source": [
    "import json\n",
    "for key in packedAnnoOriginal:\n",
    "  with open(os.path.join(\"../Data/parsed-annotation-original\",key), \"w\") as f:\n",
    "    json.dump(packedAnnoOriginal[key], f)"
   ]
  },
  {
   "cell_type": "markdown",
   "metadata": {},
   "source": [
    "## Organize consolidated annotations"
   ]
  },
  {
   "cell_type": "code",
   "execution_count": 130,
   "metadata": {
    "collapsed": false
   },
   "outputs": [
    {
     "data": {
      "text/html": [
       "<div>\n",
       "<table border=\"1\" class=\"dataframe\">\n",
       "  <thead>\n",
       "    <tr style=\"text-align: right;\">\n",
       "      <th></th>\n",
       "      <th>Number</th>\n",
       "      <th>Type</th>\n",
       "      <th>annotator</th>\n",
       "      <th>number2</th>\n",
       "      <th>number3</th>\n",
       "      <th>category</th>\n",
       "      <th>annotation</th>\n",
       "      <th>date</th>\n",
       "      <th>url</th>\n",
       "    </tr>\n",
       "  </thead>\n",
       "  <tbody>\n",
       "    <tr>\n",
       "      <th>0</th>\n",
       "      <td>C549</td>\n",
       "      <td>test_category_labeling_highlight_fordham_aaaaa</td>\n",
       "      <td>121</td>\n",
       "      <td>3836</td>\n",
       "      <td>1</td>\n",
       "      <td>Other</td>\n",
       "      <td>{\"Other Type\": {\"selectedText\": \"American Hond...</td>\n",
       "      <td>12/23/14</td>\n",
       "      <td>http://www.honda.com/site/site_privacy.aspx</td>\n",
       "    </tr>\n",
       "    <tr>\n",
       "      <th>1</th>\n",
       "      <td>15696</td>\n",
       "      <td>test_category_labeling_highlight_upitt</td>\n",
       "      <td>103</td>\n",
       "      <td>3836</td>\n",
       "      <td>2</td>\n",
       "      <td>Other</td>\n",
       "      <td>{\"Other Type\": {\"selectedText\": \"This statemen...</td>\n",
       "      <td>12/23/14</td>\n",
       "      <td>http://www.honda.com/site/site_privacy.aspx</td>\n",
       "    </tr>\n",
       "  </tbody>\n",
       "</table>\n",
       "</div>"
      ],
      "text/plain": [
       "  Number                                            Type  annotator  number2  \\\n",
       "0   C549  test_category_labeling_highlight_fordham_aaaaa        121     3836   \n",
       "1  15696          test_category_labeling_highlight_upitt        103     3836   \n",
       "\n",
       "   number3 category                                         annotation  \\\n",
       "0        1    Other  {\"Other Type\": {\"selectedText\": \"American Hond...   \n",
       "1        2    Other  {\"Other Type\": {\"selectedText\": \"This statemen...   \n",
       "\n",
       "       date                                          url  \n",
       "0  12/23/14  http://www.honda.com/site/site_privacy.aspx  \n",
       "1  12/23/14  http://www.honda.com/site/site_privacy.aspx  "
      ]
     },
     "execution_count": 130,
     "metadata": {},
     "output_type": "execute_result"
    }
   ],
   "source": [
    "#/Users/NYao/Documents/MIDS/210/Data/OPP-115/consolidation/\n",
    "hondaConso=pd.read_csv(\"../Data/OPP-115/consolidation/threshold-1.0-overlap-similarity/1050_honda.com.csv\")\n",
    "hondaConso.columns=[\"Number\", \"Type\", \"annotator\", \"number2\", \"number3\", \"category\", \"annotation\", \"date\", \"url\"]\n",
    "hondaConso.head(2)"
   ]
  },
  {
   "cell_type": "code",
   "execution_count": 131,
   "metadata": {
    "collapsed": false
   },
   "outputs": [],
   "source": [
    "hondaConsoPack=packPolicy(hondaConso)"
   ]
  },
  {
   "cell_type": "code",
   "execution_count": 25,
   "metadata": {
    "collapsed": true
   },
   "outputs": [],
   "source": [
    "consoAnno10=glob.glob(\"../Data/OPP-115/consolidation/threshold-1.0-overlap-similarity/*.csv\")\n",
    "packedAnnoConso10=parseAllAnnotations(consoAnno10)"
   ]
  },
  {
   "cell_type": "code",
   "execution_count": 26,
   "metadata": {
    "collapsed": true
   },
   "outputs": [],
   "source": [
    "for key in packedAnnoConso10:\n",
    "  with open(os.path.join(\"../Data/OPP-115/opp115-parsed-annotation-1.0\",key), \"w\") as f:\n",
    "    json.dump(packedAnnoConso10[key], f)"
   ]
  },
  {
   "cell_type": "markdown",
   "metadata": {},
   "source": [
    "## Organize human-redable summaries"
   ]
  },
  {
   "cell_type": "code",
   "execution_count": null,
   "metadata": {
    "collapsed": true
   },
   "outputs": [],
   "source": []
  },
  {
   "cell_type": "code",
   "execution_count": null,
   "metadata": {
    "collapsed": true
   },
   "outputs": [],
   "source": []
  }
 ],
 "metadata": {
  "anaconda-cloud": {},
  "kernelspec": {
   "display_name": "Python [conda root]",
   "language": "python",
   "name": "conda-root-py"
  },
  "language_info": {
   "codemirror_mode": {
    "name": "ipython",
    "version": 2
   },
   "file_extension": ".py",
   "mimetype": "text/x-python",
   "name": "python",
   "nbconvert_exporter": "python",
   "pygments_lexer": "ipython2",
   "version": "2.7.12"
  }
 },
 "nbformat": 4,
 "nbformat_minor": 1
}
