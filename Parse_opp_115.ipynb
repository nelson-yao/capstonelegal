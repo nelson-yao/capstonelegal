{
 "cells": [
  {
   "cell_type": "code",
   "execution_count": 1,
   "metadata": {
    "collapsed": false
   },
   "outputs": [
    {
     "name": "stdout",
     "output_type": "stream",
     "text": [
      "3.6.0 |Anaconda 4.3.0 (64-bit)| (default, Dec 23 2016, 12:22:00) \n",
      "[GCC 4.4.7 20120313 (Red Hat 4.4.7-1)]\n"
     ]
    }
   ],
   "source": [
    "import pandas as pd\n",
    "import sys\n",
    "print(sys.version)\n",
    "import os\n",
    "import glob\n",
    "from IPython.display import display, HTML"
   ]
  },
  {
   "cell_type": "code",
   "execution_count": 17,
   "metadata": {
    "collapsed": false
   },
   "outputs": [
    {
     "data": {
      "text/html": [
       "<div>\n",
       "<table border=\"1\" class=\"dataframe\">\n",
       "  <thead>\n",
       "    <tr style=\"text-align: right;\">\n",
       "      <th></th>\n",
       "      <th>ID</th>\n",
       "      <th>Type</th>\n",
       "      <th>number</th>\n",
       "      <th>number2</th>\n",
       "      <th>section</th>\n",
       "      <th>category</th>\n",
       "      <th>annotation</th>\n",
       "      <th>date</th>\n",
       "      <th>url</th>\n",
       "    </tr>\n",
       "  </thead>\n",
       "  <tbody>\n",
       "    <tr>\n",
       "      <th>0</th>\n",
       "      <td>20842</td>\n",
       "      <td>test_category_labeling_highlight_upitt</td>\n",
       "      <td>95</td>\n",
       "      <td>3836</td>\n",
       "      <td>0</td>\n",
       "      <td>Other</td>\n",
       "      <td>{\"Other Type\": {\"selectedText\": \"STATEMENT OF ...</td>\n",
       "      <td>12/23/14</td>\n",
       "      <td>http://www.honda.com/site/site_privacy.aspx</td>\n",
       "    </tr>\n",
       "    <tr>\n",
       "      <th>1</th>\n",
       "      <td>15695</td>\n",
       "      <td>test_category_labeling_highlight_upitt</td>\n",
       "      <td>103</td>\n",
       "      <td>3836</td>\n",
       "      <td>1</td>\n",
       "      <td>Other</td>\n",
       "      <td>{\"Other Type\": {\"selectedText\": \"American Hond...</td>\n",
       "      <td>12/23/14</td>\n",
       "      <td>http://www.honda.com/site/site_privacy.aspx</td>\n",
       "    </tr>\n",
       "    <tr>\n",
       "      <th>2</th>\n",
       "      <td>20843</td>\n",
       "      <td>test_category_labeling_highlight_upitt</td>\n",
       "      <td>95</td>\n",
       "      <td>3836</td>\n",
       "      <td>1</td>\n",
       "      <td>Other</td>\n",
       "      <td>{\"Other Type\": {\"selectedText\": \"American Hond...</td>\n",
       "      <td>12/23/14</td>\n",
       "      <td>http://www.honda.com/site/site_privacy.aspx</td>\n",
       "    </tr>\n",
       "  </tbody>\n",
       "</table>\n",
       "</div>"
      ],
      "text/plain": [
       "      ID                                    Type  number  number2  section  \\\n",
       "0  20842  test_category_labeling_highlight_upitt      95     3836        0   \n",
       "1  15695  test_category_labeling_highlight_upitt     103     3836        1   \n",
       "2  20843  test_category_labeling_highlight_upitt      95     3836        1   \n",
       "\n",
       "  category                                         annotation      date  \\\n",
       "0    Other  {\"Other Type\": {\"selectedText\": \"STATEMENT OF ...  12/23/14   \n",
       "1    Other  {\"Other Type\": {\"selectedText\": \"American Hond...  12/23/14   \n",
       "2    Other  {\"Other Type\": {\"selectedText\": \"American Hond...  12/23/14   \n",
       "\n",
       "                                           url  \n",
       "0  http://www.honda.com/site/site_privacy.aspx  \n",
       "1  http://www.honda.com/site/site_privacy.aspx  \n",
       "2  http://www.honda.com/site/site_privacy.aspx  "
      ]
     },
     "execution_count": 17,
     "metadata": {},
     "output_type": "execute_result"
    }
   ],
   "source": [
    "honda=pd.read_csv(\"/share/pub/OPP-115/annotations/1050_honda.com.csv\", header=None)\n",
    "honda.columns=[\"ID\", \"Type\", \"number\", \"number2\", \"section\", \"category\", \"annotation\", \"date\", \"url\"]\n",
    "honda.head(3)"
   ]
  },
  {
   "cell_type": "code",
   "execution_count": 18,
   "metadata": {
    "collapsed": false
   },
   "outputs": [],
   "source": [
    "hondaAnnot=honda.loc[:,[\"section\", \"category\", \"annotation\"]]"
   ]
  },
  {
   "cell_type": "code",
   "execution_count": 9,
   "metadata": {
    "collapsed": true
   },
   "outputs": [],
   "source": [
    "group=list(hondaAnnot.groupby([\"category\"]))"
   ]
  },
  {
   "cell_type": "code",
   "execution_count": 11,
   "metadata": {
    "collapsed": false
   },
   "outputs": [
    {
     "name": "stdout",
     "output_type": "stream",
     "text": [
      "     section       category                                         annotation\n",
      "66        14  Data Security  {\"Security Measure\": {\"selectedText\": \"America...\n",
      "67        14  Data Security  {\"Security Measure\": {\"selectedText\": \"The fol...\n",
      "68        14  Data Security  {\"Security Measure\": {\"selectedText\": \"In addi...\n",
      "69        14  Data Security  {\"Security Measure\": {\"selectedText\": \"However...\n",
      "70        14  Data Security  {\"Security Measure\": {\"selectedText\": \"This in...\n",
      "71        14  Data Security  {\"Security Measure\": {\"selectedText\": \"In addi...\n",
      "201       62  Data Security  {\"Security Measure\": {\"selectedText\": \"America...\n",
      "203       63  Data Security  {\"Security Measure\": {\"selectedText\": \"How do ...\n",
      "204       63  Data Security  {\"Security Measure\": {\"selectedText\": \"We main...\n",
      "264       14  Data Security  {\"Security Measure\": {\"selectedText\": \"America...\n",
      "265       14  Data Security  {\"Security Measure\": {\"selectedText\": \"This in...\n",
      "266       14  Data Security  {\"Security Measure\": {\"selectedText\": \"In addi...\n",
      "337       51  Data Security  {\"Security Measure\": {\"selectedText\": \"We have...\n",
      "366       63  Data Security  {\"Security Measure\": {\"selectedText\": \"We main...\n"
     ]
    }
   ],
   "source": [
    "print (group[1][1])\n"
   ]
  },
  {
   "cell_type": "code",
   "execution_count": 15,
   "metadata": {
    "collapsed": false
   },
   "outputs": [
    {
     "name": "stdout",
     "output_type": "stream",
     "text": [
      "First Party Collection/Use\n"
     ]
    },
    {
     "data": {
      "text/plain": [
       "{'endIndexInSegment': -1,\n",
       " 'selectedText': 'Not selected',\n",
       " 'startIndexInSegment': -1,\n",
       " 'value': 'Unspecified'}"
      ]
     },
     "execution_count": 15,
     "metadata": {},
     "output_type": "execute_result"
    }
   ],
   "source": [
    "annolist=group[3][1][\"annotation\"].values\n",
    "print (group[3][0])\n",
    "eval(group[3][1][\"annotation\"].iloc[0])[\"Purpose\"]"
   ]
  },
  {
   "cell_type": "code",
   "execution_count": 2,
   "metadata": {
    "collapsed": false
   },
   "outputs": [
    {
     "name": "stdout",
     "output_type": "stream",
     "text": [
      "dict_keys(['endIndexInSegment', 'startIndexInSegment', 'value'])\n",
      "dict_keys(['endIndexInSegment', 'startIndexInSegment', 'selectedText', 'value'])\n"
     ]
    }
   ],
   "source": [
    "\n",
    "## in some texts, not all annotation have the same attributes\n",
    "abita=pd.read_csv(\"/share/pub/OPP-115/annotations/571_abita.com.csv\", header=None)\n",
    "abita.columns=[\"ID\", \"Type\", \"number\", \"number2\", \"section\", \"category\", \"annotation\", \"date\", \"url\"]\n",
    "\n",
    "abitaGroup=list(abita[[ \"category\", \"annotation\", \"section\"]].groupby([\"category\"]))\n",
    "\"\"\"for index in abitaGroup[1][1].index:\n",
    "  annoRecord=eval(abitaGroup[1][1].ix[index, \"annotation\"])\n",
    "  print [len(annoRecord[topic].keys()) for topic in annoRecord]\n",
    "\"\"\"\n",
    "\n",
    "print (eval(abitaGroup[1][1].iloc[0,1])[\"Collection Mode\"].keys())  # Collection Mode in the first annotation in the category\n",
    "print (eval(abitaGroup[1][1].iloc[4,1])[\"Collection Mode\"].keys())  # Collection Mode in the 5th annotation in the category"
   ]
  },
  {
   "cell_type": "code",
   "execution_count": 3,
   "metadata": {
    "collapsed": false
   },
   "outputs": [
    {
     "data": {
      "text/html": [
       "<div>\n",
       "<table border=\"1\" class=\"dataframe\">\n",
       "  <thead>\n",
       "    <tr style=\"text-align: right;\">\n",
       "      <th></th>\n",
       "      <th>endIndexInSegment</th>\n",
       "      <th>selectedText</th>\n",
       "      <th>startIndexInSegment</th>\n",
       "      <th>value</th>\n",
       "    </tr>\n",
       "  </thead>\n",
       "  <tbody>\n",
       "    <tr>\n",
       "      <th>0</th>\n",
       "      <td>34</td>\n",
       "      <td>We may collect certain information</td>\n",
       "      <td>0</td>\n",
       "      <td>Unspecified</td>\n",
       "    </tr>\n",
       "    <tr>\n",
       "      <th>1</th>\n",
       "      <td>531</td>\n",
       "      <td>personal information we collect</td>\n",
       "      <td>500</td>\n",
       "      <td>Unspecified</td>\n",
       "    </tr>\n",
       "  </tbody>\n",
       "</table>\n",
       "</div>"
      ],
      "text/plain": [
       "   endIndexInSegment                        selectedText  startIndexInSegment  \\\n",
       "0                 34  We may collect certain information                    0   \n",
       "1                531     personal information we collect                  500   \n",
       "\n",
       "         value  \n",
       "0  Unspecified  \n",
       "1  Unspecified  "
      ]
     },
     "execution_count": 3,
     "metadata": {},
     "output_type": "execute_result"
    }
   ],
   "source": [
    "import json\n",
    "abitaFP=abitaGroup[1][1]\n",
    "abitaFPanno=abitaGroup[1][1][\"annotation\"]\n",
    "abitaFPannoEg=eval(abitaFPanno.iloc[0])\n",
    "abitaFPannoEg2=eval(abitaFPanno.iloc[5])\n",
    "#pd.DataFrame.from_dict([eval(anno) for anno in abitaFPanno], orient=\"index\")\n",
    "pds1=pd.Series(abitaFPannoEg[\"Action First-Party\"])\n",
    "pds2=pd.Series(abitaFPannoEg2[\"Action First-Party\"])\n",
    "pd.DataFrame([pds2, pds1])"
   ]
  },
  {
   "cell_type": "markdown",
   "metadata": {},
   "source": [
    "## Functions for packing annotations"
   ]
  },
  {
   "cell_type": "code",
   "execution_count": 4,
   "metadata": {
    "collapsed": false
   },
   "outputs": [
    {
     "data": {
      "text/html": [
       "<div>\n",
       "<table border=\"1\" class=\"dataframe\">\n",
       "  <thead>\n",
       "    <tr style=\"text-align: right;\">\n",
       "      <th></th>\n",
       "      <th>cat2</th>\n",
       "      <th>cat3</th>\n",
       "      <th>cat1</th>\n",
       "    </tr>\n",
       "  </thead>\n",
       "  <tbody>\n",
       "    <tr>\n",
       "      <th>0</th>\n",
       "      <td>0</td>\n",
       "      <td>2</td>\n",
       "      <td>1</td>\n",
       "    </tr>\n",
       "    <tr>\n",
       "      <th>1</th>\n",
       "      <td>2</td>\n",
       "      <td>3</td>\n",
       "      <td>2</td>\n",
       "    </tr>\n",
       "    <tr>\n",
       "      <th>2</th>\n",
       "      <td>4</td>\n",
       "      <td>4</td>\n",
       "      <td>3</td>\n",
       "    </tr>\n",
       "    <tr>\n",
       "      <th>3</th>\n",
       "      <td>2</td>\n",
       "      <td>1</td>\n",
       "      <td>4</td>\n",
       "    </tr>\n",
       "  </tbody>\n",
       "</table>\n",
       "</div>"
      ],
      "text/plain": [
       "   cat2  cat3  cat1\n",
       "0     0     2     1\n",
       "1     2     3     2\n",
       "2     4     4     3\n",
       "3     2     1     4"
      ]
     },
     "execution_count": 4,
     "metadata": {},
     "output_type": "execute_result"
    }
   ],
   "source": [
    "a1=[1,2,3,4]\n",
    "a2=pd.DataFrame({\"cat2\":[0,2,4,2], \"cat3\":[2,3,4,1]})\n",
    "a3=a2.assign(cat1=a1)\n",
    "a3"
   ]
  },
  {
   "cell_type": "code",
   "execution_count": 42,
   "metadata": {
    "collapsed": false
   },
   "outputs": [
    {
     "data": {
      "text/html": [
       "<div>\n",
       "<table border=\"1\" class=\"dataframe\">\n",
       "  <thead>\n",
       "    <tr style=\"text-align: right;\">\n",
       "      <th></th>\n",
       "      <th>cat2</th>\n",
       "      <th>cat3</th>\n",
       "    </tr>\n",
       "  </thead>\n",
       "  <tbody>\n",
       "    <tr>\n",
       "      <th>0</th>\n",
       "      <td>2</td>\n",
       "      <td>0</td>\n",
       "    </tr>\n",
       "    <tr>\n",
       "      <th>1</th>\n",
       "      <td>3</td>\n",
       "      <td>2</td>\n",
       "    </tr>\n",
       "    <tr>\n",
       "      <th>2</th>\n",
       "      <td>4</td>\n",
       "      <td>4</td>\n",
       "    </tr>\n",
       "    <tr>\n",
       "      <th>3</th>\n",
       "      <td>1</td>\n",
       "      <td>2</td>\n",
       "    </tr>\n",
       "  </tbody>\n",
       "</table>\n",
       "</div>"
      ],
      "text/plain": [
       "   cat2  cat3\n",
       "0     2     0\n",
       "1     3     2\n",
       "2     4     4\n",
       "3     1     2"
      ]
     },
     "execution_count": 42,
     "metadata": {},
     "output_type": "execute_result"
    }
   ],
   "source": [
    "a4=pd.DataFrame({\"cat3\":[0,2,4,2], \"cat2\":[2,3,4,1]})\n",
    "pd.concat([a4, a3], axis=0)"
   ]
  },
  {
   "cell_type": "code",
   "execution_count": 53,
   "metadata": {
    "collapsed": false
   },
   "outputs": [],
   "source": [
    "## take two cateogries, put the values of the same key together in a list\n",
    "def joinDict(origin, newdict):\n",
    "  for key in origin:\n",
    "    try:\n",
    "      origin[key].extend([newdict[key]])\n",
    "    except KeyError:\n",
    "      origin[key].append(\"NaN\")\n",
    "  return origin\n",
    "\n",
    "## extract all the subcategory (topics) in a category, and gather the values of each topic into a \n",
    "## dataframe along with section value\n",
    "def packCategory(categoryFrame):\n",
    "  annocollect={}\n",
    "  annoFrames=[]\n",
    "  for rownumber in range(categoryFrame.shape[0]):\n",
    "    anno=eval(categoryFrame[\"annotation\"].iloc[rownumber])\n",
    "    sectionValue=categoryFrame[\"section\"].iloc[rownumber]\n",
    "    for topic in anno:\n",
    "      annocollect.setdefault(topic, [])\n",
    "      topicAnno=anno[topic]\n",
    "      topicAnno[\"section\"]=sectionValue\n",
    "      annocollect[topic].append(pd.Series(topicAnno))\n",
    "\n",
    "    for topic in anno:\n",
    "      frame=pd.DataFrame(annocollect[topic])\n",
    "      frame=frame.loc[:,[\"selectedText\",'section','startIndexInSegment','endIndexInSegment','value']]\n",
    "      frameTopic=frame.assign(Topic=[topic]*frame.shape[0])\n",
    "      annoFrames.append(frameTopic)\n",
    "  categoryFrame=pd.concat(annoFrames, axis=0)\n",
    "  categoryFrame=categoryFrame.loc[:, [\"Topic\", \"selectedText\",'section','startIndexInSegment','endIndexInSegment','value']]\n",
    "  return categoryFrame\n",
    "\n",
    "## Concatenate the datafram returned from each category\n",
    "def packPolicy(policyDataFrame):\n",
    "  totalresult=[]\n",
    "  filtered=policyDataFrame.loc[:,[ \"category\", \"annotation\", \"section\"]]\n",
    "  grouped=list(filtered.groupby([\"category\"]))\n",
    "  for group in grouped:\n",
    "    category=group[0]\n",
    "    categoryData=group[1]\n",
    "    categoryFrame=packCategory(categoryData)\n",
    "    categoryFrame=categoryFrame.assign(Category=[category]*categoryFrame.shape[0])\n",
    "    totalresult.append(categoryFrame)\n",
    "  policyAnnoFrame=pd.concat(totalresult, axis=0)\n",
    "  policyAnnoFrame=policyAnnoFrame.loc[:, [\"Category\",\"Topic\", \"selectedText\",'section','startIndexInSegment','endIndexInSegment','value']]\n",
    "  return policyAnnoFrame\n",
    "\n",
    "def parseAllAnnotations(fileList):\n",
    "  fulloutput=[]\n",
    "  for filepath in fileList:\n",
    "    website=os.path.splitext(os.path.basename(filepath))[0].split(\"_\")[1]\n",
    "    annoData=pd.read_csv(filepath, header=None, names=[\"number\", \"Type\", \"ID\", \"number2\", \"section\", \"category\", \"annotation\", \"date\", \"url\"])\n",
    "    parsedAnno=packPolicy(annoData)\n",
    "    parsedAnno=parsedAnno.assign(Website=[website]*parsedAnno.shape[0])\n",
    "    fulloutput.append(parsedAnno)\n",
    "  fullFrame=pd.concat(fulloutput, axis=0)\n",
    "  fullFrame=fullFrame.loc[:,[\"Website\",\"Category\",\"Topic\", \"selectedText\",'section','startIndexInSegment','endIndexInSegment','value'] ]\n",
    "  return fullFrame\n"
   ]
  },
  {
   "cell_type": "code",
   "execution_count": 30,
   "metadata": {
    "collapsed": false
   },
   "outputs": [
    {
     "data": {
      "text/plain": [
       "{'endIndexInSegment': -1, 'startIndexInSegment': -1, 'value': 'not-selected'}"
      ]
     },
     "execution_count": 30,
     "metadata": {},
     "output_type": "execute_result"
    }
   ],
   "source": [
    "eval(abitaGroup[1][1][\"annotation\"].iloc[0])['Collection Mode']"
   ]
  },
  {
   "cell_type": "code",
   "execution_count": 12,
   "metadata": {
    "collapsed": false
   },
   "outputs": [],
   "source": [
    "test=packCategory(abitaGroup[1][1])\n",
    "test.head()"
   ]
  },
  {
   "cell_type": "code",
   "execution_count": 27,
   "metadata": {
    "collapsed": false
   },
   "outputs": [
    {
     "name": "stdout",
     "output_type": "stream",
     "text": [
      "CPU times: user 31.5 s, sys: 52 ms, total: 31.5 s\n",
      "Wall time: 31.5 s\n"
     ]
    }
   ],
   "source": [
    "%%time\n",
    "result=packPolicy(honda)\n",
    "result.head()"
   ]
  },
  {
   "cell_type": "code",
   "execution_count": 44,
   "metadata": {
    "collapsed": false,
    "scrolled": false
   },
   "outputs": [],
   "source": [
    "%%time\n",
    "## pack all original annotations files\n",
    "originalAnnoFiles=glob.glob(\"/share/pub/OPP-115/annotations/*.csv\")\n",
    "packedAnnoOriginal=parseAllAnnotations(originalAnnoFiles)"
   ]
  },
  {
   "cell_type": "code",
   "execution_count": 50,
   "metadata": {
    "collapsed": false
   },
   "outputs": [],
   "source": [
    "packedAnnoOriginal=packedAnnoOriginal."
   ]
  },
  {
   "cell_type": "markdown",
   "metadata": {},
   "source": [
    "## Organize consolidated annotations"
   ]
  },
  {
   "cell_type": "code",
   "execution_count": 55,
   "metadata": {
    "collapsed": false
   },
   "outputs": [
    {
     "data": {
      "text/html": [
       "<div>\n",
       "<table border=\"1\" class=\"dataframe\">\n",
       "  <thead>\n",
       "    <tr style=\"text-align: right;\">\n",
       "      <th></th>\n",
       "      <th>Number</th>\n",
       "      <th>Type</th>\n",
       "      <th>annotator</th>\n",
       "      <th>number2</th>\n",
       "      <th>section</th>\n",
       "      <th>category</th>\n",
       "      <th>annotation</th>\n",
       "      <th>date</th>\n",
       "      <th>url</th>\n",
       "    </tr>\n",
       "  </thead>\n",
       "  <tbody>\n",
       "    <tr>\n",
       "      <th>0</th>\n",
       "      <td>C549</td>\n",
       "      <td>test_category_labeling_highlight_fordham_aaaaa</td>\n",
       "      <td>121</td>\n",
       "      <td>3836</td>\n",
       "      <td>1</td>\n",
       "      <td>Other</td>\n",
       "      <td>{\"Other Type\": {\"selectedText\": \"American Hond...</td>\n",
       "      <td>12/23/14</td>\n",
       "      <td>http://www.honda.com/site/site_privacy.aspx</td>\n",
       "    </tr>\n",
       "    <tr>\n",
       "      <th>1</th>\n",
       "      <td>15696</td>\n",
       "      <td>test_category_labeling_highlight_upitt</td>\n",
       "      <td>103</td>\n",
       "      <td>3836</td>\n",
       "      <td>2</td>\n",
       "      <td>Other</td>\n",
       "      <td>{\"Other Type\": {\"selectedText\": \"This statemen...</td>\n",
       "      <td>12/23/14</td>\n",
       "      <td>http://www.honda.com/site/site_privacy.aspx</td>\n",
       "    </tr>\n",
       "  </tbody>\n",
       "</table>\n",
       "</div>"
      ],
      "text/plain": [
       "  Number                                            Type  annotator  number2  \\\n",
       "0   C549  test_category_labeling_highlight_fordham_aaaaa        121     3836   \n",
       "1  15696          test_category_labeling_highlight_upitt        103     3836   \n",
       "\n",
       "   section category                                         annotation  \\\n",
       "0        1    Other  {\"Other Type\": {\"selectedText\": \"American Hond...   \n",
       "1        2    Other  {\"Other Type\": {\"selectedText\": \"This statemen...   \n",
       "\n",
       "       date                                          url  \n",
       "0  12/23/14  http://www.honda.com/site/site_privacy.aspx  \n",
       "1  12/23/14  http://www.honda.com/site/site_privacy.aspx  "
      ]
     },
     "execution_count": 55,
     "metadata": {},
     "output_type": "execute_result"
    }
   ],
   "source": [
    "#/Users/NYao/Documents/MIDS/210/Data/OPP-115/consolidation/\n",
    "hondaConso=pd.read_csv(\"/share/pub/OPP-115/consolidation/threshold-1.0-overlap-similarity/1050_honda.com.csv\")\n",
    "hondaConso.columns=[\"Number\", \"Type\", \"annotator\", \"number2\", \"section\", \"category\", \"annotation\", \"date\", \"url\"]\n",
    "hondaConso.head(2)"
   ]
  },
  {
   "cell_type": "code",
   "execution_count": 219,
   "metadata": {
    "collapsed": false
   },
   "outputs": [],
   "source": [
    "hondaConsoPack=packPolicy(hondaConso)"
   ]
  },
  {
   "cell_type": "code",
   "execution_count": 56,
   "metadata": {
    "collapsed": false
   },
   "outputs": [
    {
     "name": "stdout",
     "output_type": "stream",
     "text": [
      "115\n",
      "CPU times: user 17min 52s, sys: 2.61 s, total: 17min 55s\n",
      "Wall time: 17min 56s\n"
     ]
    }
   ],
   "source": [
    "%%time\n",
    "consoAnno10=glob.glob(\"/share/pub/OPP-115/consolidation/threshold-1.0-overlap-similarity/*.csv\")\n",
    "print (len(consoAnno10))\n",
    "packedAnnoConso10=parseAllAnnotations(consoAnno10)\n",
    "print(packedAnnoConso10.shape)"
   ]
  },
  {
   "cell_type": "markdown",
   "metadata": {},
   "source": [
    "## Consolidated Annotation with 0.5 threshold\n"
   ]
  },
  {
   "cell_type": "code",
   "execution_count": 74,
   "metadata": {
    "collapsed": false
   },
   "outputs": [
    {
     "name": "stdout",
     "output_type": "stream",
     "text": [
      "115\n",
      "(4049555, 8)\n",
      "CPU times: user 13min 57s, sys: 2.25 s, total: 14min\n",
      "Wall time: 13min 59s\n"
     ]
    }
   ],
   "source": [
    "%%time\n",
    "consoAnno05=glob.glob(\"/share/pub/OPP-115/consolidation/threshold-0.5-overlap-similarity/*.csv\")\n",
    "print(len(consoAnno05))\n",
    "packedAnnoConso05=parseAllAnnotations(consoAnno05)\n",
    "print(packedAnnoConso05.shape)"
   ]
  },
  {
   "cell_type": "markdown",
   "metadata": {},
   "source": [
    "## Consolidated Annotation with 0.75 threshold\n"
   ]
  },
  {
   "cell_type": "code",
   "execution_count": 75,
   "metadata": {
    "collapsed": false
   },
   "outputs": [
    {
     "name": "stdout",
     "output_type": "stream",
     "text": [
      "115\n",
      "(5275282, 8)\n",
      "CPU times: user 16min 35s, sys: 1.83 s, total: 16min 37s\n",
      "Wall time: 16min 36s\n"
     ]
    }
   ],
   "source": [
    "%%time\n",
    "consoAnno075=glob.glob(\"/share/pub/OPP-115/consolidation/threshold-0.75-overlap-similarity/*.csv\")\n",
    "print(len(consoAnno075))\n",
    "packedAnnoConso075=parseAllAnnotations(consoAnno075)\n",
    "print(packedAnnoConso075.shape)"
   ]
  },
  {
   "cell_type": "markdown",
   "metadata": {},
   "source": [
    "## Save results"
   ]
  },
  {
   "cell_type": "code",
   "execution_count": 62,
   "metadata": {
    "collapsed": false
   },
   "outputs": [],
   "source": [
    "datastore=pd.HDFStore(\"/share/pub/Results/DataStore.h5\")"
   ]
  },
  {
   "cell_type": "code",
   "execution_count": null,
   "metadata": {
    "collapsed": false
   },
   "outputs": [],
   "source": [
    "datastore.put(\"ParsedAnnotation_original\", packedAnnoOriginal)"
   ]
  },
  {
   "cell_type": "code",
   "execution_count": null,
   "metadata": {
    "collapsed": false
   },
   "outputs": [],
   "source": [
    "datastore.put(\"ParsedAnnotation_Conlidated0.75\", packedAnnoConso075)\n",
    "datastore.put(\"ParsedAnnotation_Conlidated0.5\", packedAnnoConso05)\n"
   ]
  },
  {
   "cell_type": "markdown",
   "metadata": {},
   "source": [
    "## Line up selected text with sentences"
   ]
  },
  {
   "cell_type": "code",
   "execution_count": null,
   "metadata": {
    "collapsed": true
   },
   "outputs": [],
   "source": []
  },
  {
   "cell_type": "code",
   "execution_count": null,
   "metadata": {
    "collapsed": true
   },
   "outputs": [],
   "source": [
    "def readPolicies(filelist):\n",
    "  soups={}\n",
    "  for filename in filelist:\n",
    "    base=os.path.basename(filename).split(\"_\")[1]\n",
    "    website=re.sub(\".html\", '', base)\n",
    "    soups[website]=BeautifulSoup(open(filename, \"r\").read(), 'html.parser')\n",
    "  return soups"
   ]
  }
 ],
 "metadata": {
  "anaconda-cloud": {},
  "kernelspec": {
   "display_name": "Python 3",
   "language": "python",
   "name": "python3"
  },
  "language_info": {
   "codemirror_mode": {
    "name": "ipython",
    "version": 3
   },
   "file_extension": ".py",
   "mimetype": "text/x-python",
   "name": "python",
   "nbconvert_exporter": "python",
   "pygments_lexer": "ipython3",
   "version": "3.6.0"
  }
 },
 "nbformat": 4,
 "nbformat_minor": 1
}
