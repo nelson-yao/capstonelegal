{
 "cells": [
  {
   "cell_type": "code",
   "execution_count": 1,
   "metadata": {
    "collapsed": false
   },
   "outputs": [],
   "source": [
    "## import labeled data from pickled object\n",
    "import pickle\n",
    "import random\n",
    "import pandas as pd\n",
    "from IPython.display import display, HTML\n",
    "import glob\n",
    "from bs4 import BeautifulSoup\n",
    "import os\n",
    "import re\n",
    "from nltk.corpus import stopwords\n",
    "from nltk import word_tokenize\n",
    "from nltk.tokenize import sent_tokenize\n",
    "import re\n",
    "import itertools\n",
    "import string\n",
    "engstop=set(stopwords.words(\"english\"))\n",
    "\n"
   ]
  },
  {
   "cell_type": "markdown",
   "metadata": {},
   "source": [
    "### Match the selected text with corresponding sentences"
   ]
  },
  {
   "cell_type": "code",
   "execution_count": 2,
   "metadata": {
    "collapsed": false
   },
   "outputs": [
    {
     "name": "stdout",
     "output_type": "stream",
     "text": [
      "115\n",
      "CPU times: user 2.88 s, sys: 204 ms, total: 3.08 s\n",
      "Wall time: 3.09 s\n"
     ]
    }
   ],
   "source": [
    "%%time\n",
    "policyFiles=glob.glob(\"/share/pub/OPP-115/sanitized_policies/*.html\")\n",
    "print(len(policyFiles))\n",
    "\n",
    "## read in annotation\n",
    "def readAnno(filelist):\n",
    "    annotations={}\n",
    "    for filename in filelist:\n",
    "        website=re.sub(\".json\", '', os.path.basename(filename))\n",
    "        with open(filename, \"r\") as f:\n",
    "            annotations[website]=json.load(f)\n",
    "        f.close()\n",
    "    return annotations\n",
    "\n",
    "def readPolicies(filelist):\n",
    "    soups={}\n",
    "    for filename in filelist:\n",
    "        base=os.path.basename(filename).split(\"_\")[1]\n",
    "        website=re.sub(\".html\", '', base)\n",
    "        soups[website]=BeautifulSoup(open(filename, \"r\").read(), 'html.parser')\n",
    "    return soups\n",
    "\n",
    "with open(\"Data/parsed-annotation-1.0.pk\", 'rb') as f:\n",
    "    annotations=pickle.load(f, encoding='latin1')\n",
    "  \n",
    "  \n",
    "## Get the texts from beautifulsoup objects\n",
    "\n",
    "def extractTexts(soups):\n",
    "    policyTexts={}\n",
    "    for website in soups:\n",
    "        policyTexts[website]=soups[website].get_text()\n",
    "    return policyTexts\n",
    "### read in sanitized policy texts\n",
    "policySoups=readPolicies(policyFiles)\n",
    "## get texts from soup objects\n",
    "policyTexts=extractTexts(policySoups)"
   ]
  },
  {
   "cell_type": "code",
   "execution_count": 3,
   "metadata": {
    "collapsed": false
   },
   "outputs": [
    {
     "name": "stdout",
     "output_type": "stream",
     "text": [
      "CPU times: user 7.92 s, sys: 12 ms, total: 7.93 s\n",
      "Wall time: 7.93 s\n"
     ]
    }
   ],
   "source": [
    "%%time\n",
    "## Each policy text is separated by sections using \"|||\" \n",
    "## Each selectedText has the section number and the character indices at which they start and end in the section\n",
    "\n",
    "def getSentIdx(raw):\n",
    "    \"\"\"Get the sentences and index of each sentence and their section number\"\"\"\n",
    "    allIdx={}\n",
    "    secList=raw.split(\"|||\")\n",
    "    for i in range(len(secList)):\n",
    "        try:\n",
    "            secText=secList[i]\n",
    "        except IndexError:\n",
    "            print(i)\n",
    "        secSents=sent_tokenize(secText)\n",
    "        secIdxLists=[]\n",
    "        for sent in secSents:\n",
    "            m=re.search(re.escape(sent), secText)  ## escape to account for quotes in the string\n",
    "            secIdxLists.append((sent, i, m.start(),m.end()))\n",
    "        allIdx[i]=secIdxLists\n",
    "    return allIdx\n",
    "\n",
    "def getAllIdx(textDict):\n",
    "    results={}\n",
    "    for website, text in textDict.items():\n",
    "        try:\n",
    "            senidxes=getSentIdx(text)\n",
    "            results[website]=senidxes\n",
    "        except IndexError:\n",
    "            print(website)\n",
    "    return results\n",
    "\n",
    "\n",
    "sentIdx=getAllIdx(policyTexts)\n",
    "# Structure : {website:{section:[(sentence, section, startIdx, endIdx)]}}"
   ]
  },
  {
   "cell_type": "code",
   "execution_count": 28,
   "metadata": {
    "collapsed": false
   },
   "outputs": [
    {
     "data": {
      "text/plain": [
       "[('PRIVACY POLICY   This Privacy Policy explains what information is collected via the Mohegan Sun website located at mohegansun.com, why the information is collected and how it is used.',\n",
       "  0,\n",
       "  0,\n",
       "  183),\n",
       " ('Mohegan Sun does not share or sell your personal information to anyone.',\n",
       "  0,\n",
       "  184,\n",
       "  255),\n",
       " ('Mohegan Sun does not participate in any format of SPAM and will not send any unsolicited emails.',\n",
       "  0,\n",
       "  256,\n",
       "  352)]"
      ]
     },
     "execution_count": 28,
     "metadata": {},
     "output_type": "execute_result"
    }
   ],
   "source": [
    "sentIdx[list(sentIdx.keys())[0]][0]"
   ]
  },
  {
   "cell_type": "code",
   "execution_count": 29,
   "metadata": {
    "collapsed": false
   },
   "outputs": [],
   "source": [
    "## repack the annotations\n",
    "def annotation2table(anno):\n",
    "    siteTableList=[]\n",
    "    for website, cat in anno.items():\n",
    "        cattableList=[]\n",
    "        for category, topictable in cat.items():\n",
    "            topictablelist=[]\n",
    "            for topic, table in topictable.items():\n",
    "                tableMod=table.assign(Topic=[topic]*table.shape[0])\n",
    "                topictablelist.append(tableMod)\n",
    "        \n",
    "            catFrame=pd.concat(topictablelist, axis=0)\n",
    "            catFrameMod=catFrame.assign(Category=[category]*catFrame.shape[0])\n",
    "            cattableList.append(catFrameMod)\n",
    "      \n",
    "        siteFrame=pd.concat(cattableList, axis=0)\n",
    "        siteFrameMod=siteFrame.assign(Website=[website]*siteFrame.shape[0])\n",
    "        siteTableList.append(siteFrameMod)\n",
    "        \n",
    "    annoFrame=pd.concat(siteTableList, axis=0)\n",
    "    \n",
    "    return annoFrame\n",
    "\n",
    "annotable1_0=annotation2table(annotations)"
   ]
  },
  {
   "cell_type": "code",
   "execution_count": 9,
   "metadata": {
    "collapsed": false
   },
   "outputs": [
    {
     "data": {
      "text/plain": [
       "(142850, 8)"
      ]
     },
     "execution_count": 9,
     "metadata": {},
     "output_type": "execute_result"
    }
   ],
   "source": [
    "annotable1_0.shape"
   ]
  },
  {
   "cell_type": "code",
   "execution_count": 34,
   "metadata": {
    "collapsed": false
   },
   "outputs": [
    {
     "name": "stdout",
     "output_type": "stream",
     "text": [
      "CPU times: user 1min 9s, sys: 40 ms, total: 1min 9s\n",
      "Wall time: 1min 9s\n"
     ]
    }
   ],
   "source": [
    "%%time\n",
    "# for each selectedText in annotation, search for corresponding sentence in the corpus \n",
    "# if a selectedText is more than one sentence long, it will be discarded, since it does not provide much information\n",
    "# for the importance of words\n",
    "def labelRel(anno, sentIdx):\n",
    "    sentlabels={}\n",
    "    for website, siteanno in anno.items():\n",
    "        sentlabels[website]={}\n",
    "        siteSents=sentIdx[website]\n",
    "        for section, sentList in siteSents.items():\n",
    "            sentlabels[website][section]=[list(sentTuple) for sentTuple in sentList]\n",
    "            for sentEntry in sentlabels[website][section]:\n",
    "                sentEntry.append([])\n",
    "\n",
    "        for category in siteanno:\n",
    "            for topic in siteanno[category]:\n",
    "                topicFrame=siteanno[category][topic].dropna()\n",
    "                for idx in topicFrame.index:\n",
    "                    \n",
    "                    if topicFrame.loc[idx][\"startIndexInSegment\"]!=-1 and topicFrame.loc[idx][\"value\"]!=\"Unspecified\":\n",
    "                        entry=topicFrame.loc[idx]\n",
    "                        anno_start=entry[\"endIndexInSegment\"]\n",
    "                        anno_end=entry[\"startIndexInSegment\"]\n",
    "                        corpusSents=sentlabels[website][entry[\"section\"]]\n",
    "                        \n",
    "                        for sent in corpusSents:\n",
    "                            corpus_start=sent[2]\n",
    "                            corpus_end=sent[3]\n",
    "                            if corpus_start <=anno_start and corpus_end >= anno_end:\n",
    "                                sent[4].append((category, topic, entry[\"value\"]))\n",
    "                            elif abs(corpus_start-anno_start) <10 and abs(corpus_end-anno_end)<10:\n",
    "                                sent[4].append((category,topic, entry[\"value\"]))\n",
    "                            elif anno_start<=corpus_start and anno_end >= corpus_end:\n",
    "                                sent[4].append((category,topic, entry[\"value\"]))\n",
    "                            sent[4]=list(set(sent[4]))\n",
    "              \n",
    "    return sentlabels\n",
    "\n",
    "labeledSents=labelRel(annotations, sentIdx)"
   ]
  },
  {
   "cell_type": "code",
   "execution_count": 35,
   "metadata": {
    "collapsed": false
   },
   "outputs": [
    {
     "data": {
      "text/plain": [
       "dict_keys(['playstation.com', 'honda.com', 'sports-reference.com', 'sltrib.com', 'foxsports.com', 'style.com', 'wnep.com', 'sheknows.com', 'mlb.mlb.com', 'coffeereview.com', 'jibjab.com', 'theatlantic.com', 'kaleidahealth.org', 'uptodate.com', 'gwdocs.com', 'meredith.com', 'ticketmaster.com', 'abita.com', 'www.loc.gov', 'washingtonian.com', 'lynda.com', 'highgearmedia.com', 'walmart.com', 'ted.com', 'nytimes.com', 'lodgemfg.com', 'enthusiastnetwork.com', 'kraftrecipes.com', 'rockstargames.com', 'geocaching.com', 'tangeroutlet.com', 'voxmedia.com', 'ironhorsevineyards.com', 'gawker.com', 'abcnews.com', 'eatchicken.com', 'allstate.com', 'austincc.edu', 'sidearmsports.com', 'uh.edu', 'dogbreedinfo.com', 'amazon.com', 'si.edu', 'ocregister.com', 'boardgamegeek.com', 'yahoo.com', 'freep.com', 'neworleansonline.com', 'instagram.com', 'tulsaworld.com', 'liquor.com', 'stlouisfed.org', 'gamestop.com', 'msn.com', 'cincymuseum.org', 'cariboucoffee.com', 'esquire.com', 'vikings.com', 'bankofamerica.com', 'dailynews.com', 'lids.com', 'tgifridays.com', 'thehill.com', 'sciencemag.org', 'dcccd.edu', 'acbj.com', 'restaurantnews.com', 'communitycoffee.com', 'adweek.com', 'newsbusters.org', 'nbcuniversal.com', 'solarviews.com', 'taylorswift.com', 'opensecrets.org', 'pbs.org', 'education.jlab.org', 'timeinc.com', 'steampowered.com', 'washingtonpost.com', 'usa.gov', 'military.com', 'dailyillini.com', 'latinpost.com', 'sci-news.com', 'aol.com', 'chasepaymentech.com', 'internetbrands.com', 'archives.gov', 'randomhouse.com', 'fortune.com', 'thefreedictionary.com', 'buffalowildwings.com', 'ifsa-butler.org', 'wsmv.com', 'naturalnews.com', 'earthkam.org', 'fool.com', 'fredericknewspost.com', 'minecraft.gamepedia.com', 'post-gazette.com', 'mohegansun.com', 'reddit.com', 'zacks.com', 'barnesandnoble.com', 'citizen.org', 'foodallergy.org', 'disinfo.com', 'dairyqueen.com', 'imdb.com', 'google.com', 'miaminewtimes.com', 'reference.com', 'redorbit.com', 'everydayhealth.com', 'cbsinteractive.com'])"
      ]
     },
     "execution_count": 35,
     "metadata": {},
     "output_type": "execute_result"
    }
   ],
   "source": [
    "labeledSents.keys()"
   ]
  },
  {
   "cell_type": "code",
   "execution_count": 12,
   "metadata": {
    "collapsed": false,
    "scrolled": false
   },
   "outputs": [
    {
     "data": {
      "text/plain": [
       "'\\ntable1=annotable1_0.loc[annotable1_0.Website==\\'coffeereview.com\\',:]\\ntable2=table1.loc[table1.section==2]\\ntable3=table2\\ntable3.loc[(table3[\"endIndexInSegment\"]<1000) & (table3[\"startIndexInSegment\"]>0) ]\\n'"
      ]
     },
     "execution_count": 12,
     "metadata": {},
     "output_type": "execute_result"
    }
   ],
   "source": [
    "#Random Checking\n",
    "\"\"\"\n",
    "table1=annotable1_0.loc[annotable1_0.Website=='coffeereview.com',:]\n",
    "table2=table1.loc[table1.section==2]\n",
    "table3=table2\n",
    "table3.loc[(table3[\"endIndexInSegment\"]<1000) & (table3[\"startIndexInSegment\"]>0) ]\n",
    "\"\"\""
   ]
  },
  {
   "cell_type": "code",
   "execution_count": 13,
   "metadata": {
    "collapsed": false
   },
   "outputs": [
    {
     "data": {
      "text/html": [
       "<div>\n",
       "<table border=\"1\" class=\"dataframe\">\n",
       "  <thead>\n",
       "    <tr style=\"text-align: right;\">\n",
       "      <th></th>\n",
       "      <th>Category</th>\n",
       "      <th>Topic</th>\n",
       "      <th>Value</th>\n",
       "      <th>n</th>\n",
       "      <th>Use</th>\n",
       "      <th>Polarity</th>\n",
       "    </tr>\n",
       "  </thead>\n",
       "  <tbody>\n",
       "    <tr>\n",
       "      <th>0</th>\n",
       "      <td>Data Retention</td>\n",
       "      <td>Personal Information Type</td>\n",
       "      <td>Unspecified</td>\n",
       "      <td>87</td>\n",
       "      <td>NaN</td>\n",
       "      <td>0</td>\n",
       "    </tr>\n",
       "    <tr>\n",
       "      <th>1</th>\n",
       "      <td>Data Retention</td>\n",
       "      <td>Personal Information Type</td>\n",
       "      <td>Generic personal information</td>\n",
       "      <td>54</td>\n",
       "      <td>NaN</td>\n",
       "      <td>-1</td>\n",
       "    </tr>\n",
       "    <tr>\n",
       "      <th>2</th>\n",
       "      <td>Data Retention</td>\n",
       "      <td>Personal Information Type</td>\n",
       "      <td>Contact</td>\n",
       "      <td>30</td>\n",
       "      <td>NaN</td>\n",
       "      <td>-1</td>\n",
       "    </tr>\n",
       "    <tr>\n",
       "      <th>3</th>\n",
       "      <td>Data Retention</td>\n",
       "      <td>Personal Information Type</td>\n",
       "      <td>Other</td>\n",
       "      <td>25</td>\n",
       "      <td>No</td>\n",
       "      <td>0</td>\n",
       "    </tr>\n",
       "    <tr>\n",
       "      <th>4</th>\n",
       "      <td>Data Retention</td>\n",
       "      <td>Personal Information Type</td>\n",
       "      <td>Cookies and tracking elements</td>\n",
       "      <td>22</td>\n",
       "      <td>NaN</td>\n",
       "      <td>-1</td>\n",
       "    </tr>\n",
       "  </tbody>\n",
       "</table>\n",
       "</div>"
      ],
      "text/plain": [
       "         Category                      Topic                          Value  \\\n",
       "0  Data Retention  Personal Information Type                    Unspecified   \n",
       "1  Data Retention  Personal Information Type   Generic personal information   \n",
       "2  Data Retention  Personal Information Type                        Contact   \n",
       "3  Data Retention  Personal Information Type                          Other   \n",
       "4  Data Retention  Personal Information Type  Cookies and tracking elements   \n",
       "\n",
       "    n  Use  Polarity  \n",
       "0  87  NaN         0  \n",
       "1  54  NaN        -1  \n",
       "2  30  NaN        -1  \n",
       "3  25   No         0  \n",
       "4  22  NaN        -1  "
      ]
     },
     "execution_count": 13,
     "metadata": {},
     "output_type": "execute_result"
    }
   ],
   "source": [
    "## import the labeled score that we annotated\n",
    "labelpolarity=pd.read_csv(\"/home/nyao/Code/Data/Label_score_170327.csv\")\n",
    "labelpolarity.head()"
   ]
  },
  {
   "cell_type": "code",
   "execution_count": 14,
   "metadata": {
    "collapsed": false
   },
   "outputs": [
    {
     "data": {
      "text/plain": [
       "(247, 6)"
      ]
     },
     "execution_count": 14,
     "metadata": {},
     "output_type": "execute_result"
    }
   ],
   "source": [
    "labelpolarityUse=labelpolarity.loc[labelpolarity.Use!=\"No\"]\n",
    "labelpolarityUse.shape"
   ]
  },
  {
   "cell_type": "code",
   "execution_count": 15,
   "metadata": {
    "collapsed": false
   },
   "outputs": [
    {
     "data": {
      "text/plain": [
       "array([['Data Retention', 'Personal Information Type', 'Unspecified', 87,\n",
       "        nan, 0],\n",
       "       ['Data Retention', 'Personal Information Type',\n",
       "        'Generic personal information', 54, nan, -1],\n",
       "       ['Data Retention', 'Personal Information Type', 'Contact', 30, nan,\n",
       "        -1],\n",
       "       ..., \n",
       "       ['User Choice/Control', 'User Type', 'User with account', 142, nan,\n",
       "        0],\n",
       "       ['User Choice/Control', 'User Type', 'Other', 35, nan, 0],\n",
       "       ['User Choice/Control', 'User Type', 'User without account', 18,\n",
       "        nan, 0]], dtype=object)"
      ]
     },
     "execution_count": 15,
     "metadata": {},
     "output_type": "execute_result"
    }
   ],
   "source": [
    "labelpolarityUse.values"
   ]
  },
  {
   "cell_type": "code",
   "execution_count": 16,
   "metadata": {
    "collapsed": false
   },
   "outputs": [],
   "source": [
    "## make the polarity table into a dictionary so that we can look up the \n",
    "## polarity given category, topic and value\n",
    "polarityMap={}\n",
    "for row in labelpolarityUse.values:\n",
    "  polarityMap[(row[0], row[1], row[2])]=row[5]"
   ]
  },
  {
   "cell_type": "code",
   "execution_count": 17,
   "metadata": {
    "collapsed": true
   },
   "outputs": [],
   "source": [
    "websites=list(annotations.keys())\n",
    "\n",
    "## choose the websites for training and validating \n",
    "seed=1324\n",
    "random.seed(seed)\n",
    "trainWebsites=random.sample(websites, 102)\n",
    "valWebsites=[thing for thing in websites if thing not in trainWebsites]"
   ]
  },
  {
   "cell_type": "code",
   "execution_count": 18,
   "metadata": {
    "collapsed": true
   },
   "outputs": [],
   "source": [
    "## A list of all topics \n",
    "\n",
    "topicList=[('Data Retention', 'Personal Information Type'),\n",
    " ('Data Retention', 'Retention Period'),\n",
    " ('Data Retention', 'Retention Purpose'),\n",
    " ('Data Security', 'Security Measure'),\n",
    " ('Do Not Track', 'Do Not Track policy'),\n",
    " ('First Party Collection/Use', 'Action First-Party'),\n",
    " ('First Party Collection/Use', 'Choice Scope'),\n",
    " ('First Party Collection/Use', 'Choice Type'),\n",
    " ('First Party Collection/Use', 'Collection Mode'),\n",
    " ('First Party Collection/Use', 'Does/Does Not'),\n",
    " ('First Party Collection/Use', 'Identifiability'),\n",
    " ('First Party Collection/Use', 'Personal Information Type'),\n",
    " ('First Party Collection/Use', 'Purpose'),\n",
    " ('First Party Collection/Use', 'User Type'),\n",
    " ('International and Specific Audiences', 'Audience Type'),\n",
    " ('Other', 'Other Type'),\n",
    " ('Policy Change', 'Change Type'),\n",
    " ('Policy Change', 'Notification Type'),\n",
    " ('Policy Change', 'User Choice'),\n",
    " ('Third Party Sharing/Collection', 'Action Third Party'),\n",
    " ('Third Party Sharing/Collection', 'Choice Scope'),\n",
    " ('Third Party Sharing/Collection', 'Choice Type'),\n",
    " ('Third Party Sharing/Collection', 'Does/Does Not'),\n",
    " ('Third Party Sharing/Collection', 'Identifiability'),\n",
    " ('Third Party Sharing/Collection', 'Personal Information Type'),\n",
    " ('Third Party Sharing/Collection', 'Purpose'),\n",
    " ('Third Party Sharing/Collection', 'Third Party Entity'),\n",
    " ('Third Party Sharing/Collection', 'User Type'),\n",
    " ('User Access, Edit and Deletion', 'Access Scope'),\n",
    " ('User Access, Edit and Deletion', 'Access Type'),\n",
    " ('User Access, Edit and Deletion', 'User Type'),\n",
    " ('User Choice/Control', 'Choice Scope'),\n",
    " ('User Choice/Control', 'Choice Type'),\n",
    " ('User Choice/Control', 'Personal Information Type'),\n",
    " ('User Choice/Control', 'Purpose'),\n",
    " ('User Choice/Control', 'User Type')]"
   ]
  },
  {
   "cell_type": "code",
   "execution_count": 22,
   "metadata": {
    "collapsed": false
   },
   "outputs": [],
   "source": [
    "def extractFeatureLabels(labeledSents):\n",
    "    results={}\n",
    "    for website, data in labeledSents.items():\n",
    "        websiteresult=[]\n",
    "        for section, infoList in data.items():\n",
    "            for sentence in infoList:\n",
    "                websiteresult.append([sentence[0], sentence[4]])\n",
    "            results[website]=websiteresult\n",
    "    return results\n",
    "\n",
    "simpleSentLabels=extractFeatureLabels(labeledSents)"
   ]
  },
  {
   "cell_type": "code",
   "execution_count": 23,
   "metadata": {
    "collapsed": false
   },
   "outputs": [
    {
     "data": {
      "text/plain": [
       "[('Other', 'Other Type', 'Practice not covered'),\n",
       " ('Data Security', 'Security Measure', 'Privacy/Security program'),\n",
       " ('Data Security', 'Security Measure', 'Privacy review/audit')]"
      ]
     },
     "execution_count": 23,
     "metadata": {},
     "output_type": "execute_result"
    }
   ],
   "source": [
    "simpleSentLabels[\"playstation.com\"][5][1]  # each sentence is grouped with the topic they are related to and the label"
   ]
  },
  {
   "cell_type": "code",
   "execution_count": 24,
   "metadata": {
    "collapsed": true
   },
   "outputs": [],
   "source": [
    "## The \"Other\" category will be removed from each sentence\n",
    "## and also organize the data  into a table \n",
    "\n",
    "def sentLabel2Table(sentLabel, remove=\"Other\"):\n",
    "  counter=0\n",
    "  for website, sentList in sentLabel.items():\n",
    "    table=[]\n",
    "    for sent in sentList:\n",
    "      labelist=list(set(sent[1]))\n",
    "      labels={\"Label\"+str(i):labelist[i] for i in range(len(labelist)) if remove not in labelist[i] }\n",
    "      entry={\"Sentence\":sent[0]}\n",
    "      entry.update(labels)\n",
    "      table.append(entry)\n",
    "    websiteTable=pd.DataFrame(table)\n",
    "    websiteTable=websiteTable.assign(Website=[website]*websiteTable.shape[0])\n",
    "    return websiteTable\n",
    "    "
   ]
  },
  {
   "cell_type": "code",
   "execution_count": 25,
   "metadata": {
    "collapsed": false
   },
   "outputs": [],
   "source": [
    "### For each sentence, get the score for each (category, topic, value) combination\n",
    "### make the result in to a list of dictionaries, each dictionary for a sentence\n",
    "### Save the the category of each value,and the score  ({category: score })\n",
    "### If the category is not in the map provdied .i.e, it is marked as not used\n",
    "### add the label  (\"Not_used\", 0)\n",
    "### so \"Not_used\" will be its own category\n",
    "\n",
    "def scoreSents(sentsWithLabels, scoreMap):\n",
    "  results={}\n",
    "  for website, sentlist in sentsWithLabels.items():\n",
    "    results.setdefault(website, [])\n",
    "    for sent in sentlist:\n",
    "      entry=[]\n",
    "      entry.append(sent[0])\n",
    "      labellist=sent[1]\n",
    "      entrylabel=[]\n",
    "      for label in set(labellist):\n",
    "        \n",
    "        try:\n",
    "          score=scoreMap[label]\n",
    "          cat=label[0]\n",
    "        except KeyError:\n",
    "          score=0\n",
    "          cat=\"Not_used\"\n",
    "        finally:\n",
    "          entrylabel.append((cat, score))\n",
    "    \n",
    "      entry.append(entrylabel)\n",
    "      results[website].append(entry)\n",
    "    \n",
    "  return results\n",
    "\n",
    "sentsWithScore=scoreSents(simpleSentLabels, polarityMap)"
   ]
  },
  {
   "cell_type": "code",
   "execution_count": 26,
   "metadata": {
    "collapsed": false
   },
   "outputs": [
    {
     "name": "stdout",
     "output_type": "stream",
     "text": [
      "First Party Collection/Use [0, 0, -2, 0, 0, 0, 0]\n",
      "First Party Collection/Use 0\n",
      "Not_used [0]\n",
      "Not_used 0\n",
      "User Choice/Control [1, 2, 0, 1, 2, 1]\n",
      "User Choice/Control 1\n"
     ]
    }
   ],
   "source": [
    "def majVote(scoreList):\n",
    "  return max(set(scoreList), key=scoreList.count)\n",
    "from itertools import groupby\n",
    "test=sentsWithScore[\"honda.com\"][8][1]\n",
    "test=sorted(test, key=lambda x: x[0])\n",
    "for key, group in groupby(test, lambda x: x[0]):\n",
    "  scorelist=[x[1] for x in group]\n",
    "  print(key, scorelist)\n",
    "  print(key, majVote(scorelist))"
   ]
  },
  {
   "cell_type": "code",
   "execution_count": 27,
   "metadata": {
    "collapsed": true
   },
   "outputs": [],
   "source": [
    "## make the final form of the training data\n",
    "## for each sentence, have a list of unique categories that they belong to, and the scores \n",
    "## for each sentence, if it has multiple scores for a category, then the scores will be merged \n",
    "## by taking a majority vote of the scores\n",
    "## e.g. if a sentence has 5 scores for a category -1,1,-1,-2,0, then the sentence likley contains \n",
    "## information that are negative , and therefore, will be given a score of -1\n",
    "## The final form will be a table, with website, and a score for category, \"NaN\" if the sentence does not belong to that category\n",
    "## \n",
    "\n",
    "def majVote(scoreList):\n",
    "  return max(set(scoreList), key=scoreList.count)\n",
    "\n",
    "\n",
    "def scoreSentUnify(sentscores):\n",
    "  resultlist=[]\n",
    "  for website, sentList in sentscores.items():\n",
    "    for sent in sentList:\n",
    "      # for each sentence, make a dictionary. This will help making the columns for the data frame later on\n",
    "      entry={\"Website\":website, \"Sentence\": sent[0]}\n",
    "      sortedlabels=sorted(sent[1], key=lambda x: x[0])\n",
    "      for cat, group in groupby(sortedlabels, lambda x: x[0]):\n",
    "        # for scores that are for the same category, use majority voting to select one\n",
    "        scorelist = [x[1] for x in group]\n",
    "        entry[cat]=majVote(scorelist)\n",
    "      resultlist.append(entry)\n",
    "  resulttable=pd.DataFrame(resultlist)\n",
    "  ## reorganize the column order\n",
    "  oldcolumns=resulttable.columns.tolist()\n",
    "  oldcolumns.remove(\"Website\")\n",
    "  oldcolumns.remove(\"Sentence\")\n",
    "  newcolumns=[\"Website\", \"Sentence\"]+oldcolumns\n",
    "  return resulttable[newcolumns]\n",
    "\n",
    "scoresUnified=scoreSentUnify(sentsWithScore)"
   ]
  },
  {
   "cell_type": "code",
   "execution_count": 36,
   "metadata": {
    "collapsed": false,
    "scrolled": false
   },
   "outputs": [
    {
     "data": {
      "text/plain": [
       "'To protect your privacy to the maximum extent possible, we have undertaken this privacy initiative and our websites have been reviewed and certified by ESRB Privacy Online to meet established online information collection and use practices.'"
      ]
     },
     "execution_count": 36,
     "metadata": {},
     "output_type": "execute_result"
    }
   ],
   "source": [
    "## Ta daaaa\n",
    "scoresUnified.head(100).loc[5][\"Sentence\"]"
   ]
  },
  {
   "cell_type": "code",
   "execution_count": 34,
   "metadata": {
    "collapsed": false,
    "scrolled": false
   },
   "outputs": [
    {
     "data": {
      "text/html": [
       "<div>\n",
       "<table border=\"1\" class=\"dataframe\">\n",
       "  <thead>\n",
       "    <tr style=\"text-align: right;\">\n",
       "      <th></th>\n",
       "      <th>Sentence</th>\n",
       "      <th>Data Retention</th>\n",
       "    </tr>\n",
       "  </thead>\n",
       "  <tbody>\n",
       "    <tr>\n",
       "      <th>0</th>\n",
       "      <td>Privacy Policy    Last Revised: April, 2011</td>\n",
       "      <td>NaN</td>\n",
       "    </tr>\n",
       "    <tr>\n",
       "      <th>1</th>\n",
       "      <td>Sony Computer Entertainment America LLC (\"SCEA...</td>\n",
       "      <td>NaN</td>\n",
       "    </tr>\n",
       "    <tr>\n",
       "      <th>2</th>\n",
       "      <td>This privacy policy is intended to provide you...</td>\n",
       "      <td>NaN</td>\n",
       "    </tr>\n",
       "    <tr>\n",
       "      <th>3</th>\n",
       "      <td>If you have any questions, complaints or comme...</td>\n",
       "      <td>NaN</td>\n",
       "    </tr>\n",
       "    <tr>\n",
       "      <th>4</th>\n",
       "      <td>This Privacy Statement and the certification s...</td>\n",
       "      <td>NaN</td>\n",
       "    </tr>\n",
       "    <tr>\n",
       "      <th>5</th>\n",
       "      <td>To protect your privacy to the maximum extent ...</td>\n",
       "      <td>NaN</td>\n",
       "    </tr>\n",
       "    <tr>\n",
       "      <th>6</th>\n",
       "      <td>As part of the privacy program, we are subject...</td>\n",
       "      <td>NaN</td>\n",
       "    </tr>\n",
       "    <tr>\n",
       "      <th>7</th>\n",
       "      <td>ESRB Privacy Online is a third-party seal prov...</td>\n",
       "      <td>NaN</td>\n",
       "    </tr>\n",
       "    <tr>\n",
       "      <th>8</th>\n",
       "      <td>ESRB Privacy Online promotes and enforces esta...</td>\n",
       "      <td>NaN</td>\n",
       "    </tr>\n",
       "    <tr>\n",
       "      <th>9</th>\n",
       "      <td>Whenever you visit a website that displays the...</td>\n",
       "      <td>NaN</td>\n",
       "    </tr>\n",
       "    <tr>\n",
       "      <th>10</th>\n",
       "      <td>THIS POLICY APPLIES TO:   This policy applies ...</td>\n",
       "      <td>NaN</td>\n",
       "    </tr>\n",
       "    <tr>\n",
       "      <th>11</th>\n",
       "      <td>In addition, we own several other domain names...</td>\n",
       "      <td>NaN</td>\n",
       "    </tr>\n",
       "    <tr>\n",
       "      <th>12</th>\n",
       "      <td>From time to time, we may add new websites not...</td>\n",
       "      <td>NaN</td>\n",
       "    </tr>\n",
       "    <tr>\n",
       "      <th>13</th>\n",
       "      <td>Finally, we collect information via dynamic in...</td>\n",
       "      <td>NaN</td>\n",
       "    </tr>\n",
       "    <tr>\n",
       "      <th>14</th>\n",
       "      <td>By use of our websites and games that have dyn...</td>\n",
       "      <td>NaN</td>\n",
       "    </tr>\n",
       "    <tr>\n",
       "      <th>15</th>\n",
       "      <td>If you do not agree to this policy, please do ...</td>\n",
       "      <td>NaN</td>\n",
       "    </tr>\n",
       "    <tr>\n",
       "      <th>16</th>\n",
       "      <td>THIS POLICY DOES NOT APPLY TO:   PlayStationNe...</td>\n",
       "      <td>NaN</td>\n",
       "    </tr>\n",
       "    <tr>\n",
       "      <th>17</th>\n",
       "      <td>PlayStation Network (\"PSN\") is one of these So...</td>\n",
       "      <td>NaN</td>\n",
       "    </tr>\n",
       "    <tr>\n",
       "      <th>18</th>\n",
       "      <td>With a Sony Online Services or Sony Entertainm...</td>\n",
       "      <td>NaN</td>\n",
       "    </tr>\n",
       "    <tr>\n",
       "      <th>19</th>\n",
       "      <td>Users can register for and log into a Sony Ent...</td>\n",
       "      <td>NaN</td>\n",
       "    </tr>\n",
       "    <tr>\n",
       "      <th>20</th>\n",
       "      <td>Collection and use of your information by Sony...</td>\n",
       "      <td>NaN</td>\n",
       "    </tr>\n",
       "    <tr>\n",
       "      <th>21</th>\n",
       "      <td>Links   SCEA may provide links to the websites...</td>\n",
       "      <td>NaN</td>\n",
       "    </tr>\n",
       "    <tr>\n",
       "      <th>22</th>\n",
       "      <td>This privacy policy does not apply to third-pa...</td>\n",
       "      <td>NaN</td>\n",
       "    </tr>\n",
       "    <tr>\n",
       "      <th>23</th>\n",
       "      <td>WHAT WE COLLECT:   Collection of Personal Info...</td>\n",
       "      <td>NaN</td>\n",
       "    </tr>\n",
       "    <tr>\n",
       "      <th>24</th>\n",
       "      <td>However, visitors who do not wish to, or are n...</td>\n",
       "      <td>NaN</td>\n",
       "    </tr>\n",
       "    <tr>\n",
       "      <th>25</th>\n",
       "      <td>Although personally identifying information ma...</td>\n",
       "      <td>NaN</td>\n",
       "    </tr>\n",
       "    <tr>\n",
       "      <th>26</th>\n",
       "      <td>Collection of personal information required to...</td>\n",
       "      <td>NaN</td>\n",
       "    </tr>\n",
       "    <tr>\n",
       "      <th>27</th>\n",
       "      <td>We collect personally identifying information ...</td>\n",
       "      <td>NaN</td>\n",
       "    </tr>\n",
       "    <tr>\n",
       "      <th>28</th>\n",
       "      <td>Some of our website activities require that th...</td>\n",
       "      <td>NaN</td>\n",
       "    </tr>\n",
       "    <tr>\n",
       "      <th>29</th>\n",
       "      <td>On our websites, PlayStation Network log in in...</td>\n",
       "      <td>NaN</td>\n",
       "    </tr>\n",
       "    <tr>\n",
       "      <th>...</th>\n",
       "      <td>...</td>\n",
       "      <td>...</td>\n",
       "    </tr>\n",
       "    <tr>\n",
       "      <th>170</th>\n",
       "      <td>Security   American Honda has reasonable secur...</td>\n",
       "      <td>NaN</td>\n",
       "    </tr>\n",
       "    <tr>\n",
       "      <th>171</th>\n",
       "      <td>This information is protected while being tran...</td>\n",
       "      <td>NaN</td>\n",
       "    </tr>\n",
       "    <tr>\n",
       "      <th>172</th>\n",
       "      <td>Most web pages that display personally identif...</td>\n",
       "      <td>NaN</td>\n",
       "    </tr>\n",
       "    <tr>\n",
       "      <th>173</th>\n",
       "      <td>The following brands' brochure requests, howev...</td>\n",
       "      <td>NaN</td>\n",
       "    </tr>\n",
       "    <tr>\n",
       "      <th>174</th>\n",
       "      <td>In addition, the Motorcycle brand site does no...</td>\n",
       "      <td>NaN</td>\n",
       "    </tr>\n",
       "    <tr>\n",
       "      <th>175</th>\n",
       "      <td>In addition, we have security procedures and p...</td>\n",
       "      <td>NaN</td>\n",
       "    </tr>\n",
       "    <tr>\n",
       "      <th>176</th>\n",
       "      <td>However, perfect security does not exist over ...</td>\n",
       "      <td>NaN</td>\n",
       "    </tr>\n",
       "    <tr>\n",
       "      <th>177</th>\n",
       "      <td>If you are an owners.honda.com/owners.acura.co...</td>\n",
       "      <td>NaN</td>\n",
       "    </tr>\n",
       "    <tr>\n",
       "      <th>178</th>\n",
       "      <td>Do Not Track Signals   Our websites do not tre...</td>\n",
       "      <td>NaN</td>\n",
       "    </tr>\n",
       "    <tr>\n",
       "      <th>179</th>\n",
       "      <td>Links   Our web sites may contain links to oth...</td>\n",
       "      <td>NaN</td>\n",
       "    </tr>\n",
       "    <tr>\n",
       "      <th>180</th>\n",
       "      <td>However, please be aware that if you access th...</td>\n",
       "      <td>NaN</td>\n",
       "    </tr>\n",
       "    <tr>\n",
       "      <th>181</th>\n",
       "      <td>As a result, we encourage users to read the pr...</td>\n",
       "      <td>NaN</td>\n",
       "    </tr>\n",
       "    <tr>\n",
       "      <th>182</th>\n",
       "      <td>Policy Updates   If we decide to change our pr...</td>\n",
       "      <td>NaN</td>\n",
       "    </tr>\n",
       "    <tr>\n",
       "      <th>183</th>\n",
       "      <td>We suggest periodically visiting this page to ...</td>\n",
       "      <td>NaN</td>\n",
       "    </tr>\n",
       "    <tr>\n",
       "      <th>184</th>\n",
       "      <td>Specific Web Site Provisions   This section be...</td>\n",
       "      <td>NaN</td>\n",
       "    </tr>\n",
       "    <tr>\n",
       "      <th>185</th>\n",
       "      <td>Acura   Honda Powersports   HRCA Clubhouse   H...</td>\n",
       "      <td>NaN</td>\n",
       "    </tr>\n",
       "    <tr>\n",
       "      <th>186</th>\n",
       "      <td>Honda Automobiles    Request A Quote.</td>\n",
       "      <td>NaN</td>\n",
       "    </tr>\n",
       "    <tr>\n",
       "      <th>187</th>\n",
       "      <td>When you select and build your choice in a veh...</td>\n",
       "      <td>NaN</td>\n",
       "    </tr>\n",
       "    <tr>\n",
       "      <th>188</th>\n",
       "      <td>We can also forward your quote to a local Hond...</td>\n",
       "      <td>NaN</td>\n",
       "    </tr>\n",
       "    <tr>\n",
       "      <th>189</th>\n",
       "      <td>If you choose to utilize this service, we will...</td>\n",
       "      <td>NaN</td>\n",
       "    </tr>\n",
       "    <tr>\n",
       "      <th>190</th>\n",
       "      <td>Although not required to do so, you may also p...</td>\n",
       "      <td>NaN</td>\n",
       "    </tr>\n",
       "    <tr>\n",
       "      <th>191</th>\n",
       "      <td>After submitting your request, you may choose ...</td>\n",
       "      <td>NaN</td>\n",
       "    </tr>\n",
       "    <tr>\n",
       "      <th>192</th>\n",
       "      <td>If you choose to do so, in certain instances, ...</td>\n",
       "      <td>NaN</td>\n",
       "    </tr>\n",
       "    <tr>\n",
       "      <th>193</th>\n",
       "      <td>If you do not want us to forward this informat...</td>\n",
       "      <td>NaN</td>\n",
       "    </tr>\n",
       "    <tr>\n",
       "      <th>194</th>\n",
       "      <td>See also the Honda Financial Services Apply fo...</td>\n",
       "      <td>NaN</td>\n",
       "    </tr>\n",
       "    <tr>\n",
       "      <th>195</th>\n",
       "      <td>Requesting a quote and providing your personal...</td>\n",
       "      <td>NaN</td>\n",
       "    </tr>\n",
       "    <tr>\n",
       "      <th>196</th>\n",
       "      <td>Financing Tools, Apply online for Pre-Approved...</td>\n",
       "      <td>NaN</td>\n",
       "    </tr>\n",
       "    <tr>\n",
       "      <th>197</th>\n",
       "      <td>If you choose to submit an application to Hond...</td>\n",
       "      <td>NaN</td>\n",
       "    </tr>\n",
       "    <tr>\n",
       "      <th>198</th>\n",
       "      <td>This information is collected and is used only...</td>\n",
       "      <td>NaN</td>\n",
       "    </tr>\n",
       "    <tr>\n",
       "      <th>199</th>\n",
       "      <td>For example, American Honda Finance Corporatio...</td>\n",
       "      <td>NaN</td>\n",
       "    </tr>\n",
       "  </tbody>\n",
       "</table>\n",
       "<p>200 rows × 2 columns</p>\n",
       "</div>"
      ],
      "text/plain": [
       "                                              Sentence  Data Retention\n",
       "0          Privacy Policy    Last Revised: April, 2011             NaN\n",
       "1    Sony Computer Entertainment America LLC (\"SCEA...             NaN\n",
       "2    This privacy policy is intended to provide you...             NaN\n",
       "3    If you have any questions, complaints or comme...             NaN\n",
       "4    This Privacy Statement and the certification s...             NaN\n",
       "5    To protect your privacy to the maximum extent ...             NaN\n",
       "6    As part of the privacy program, we are subject...             NaN\n",
       "7    ESRB Privacy Online is a third-party seal prov...             NaN\n",
       "8    ESRB Privacy Online promotes and enforces esta...             NaN\n",
       "9    Whenever you visit a website that displays the...             NaN\n",
       "10   THIS POLICY APPLIES TO:   This policy applies ...             NaN\n",
       "11   In addition, we own several other domain names...             NaN\n",
       "12   From time to time, we may add new websites not...             NaN\n",
       "13   Finally, we collect information via dynamic in...             NaN\n",
       "14   By use of our websites and games that have dyn...             NaN\n",
       "15   If you do not agree to this policy, please do ...             NaN\n",
       "16   THIS POLICY DOES NOT APPLY TO:   PlayStationNe...             NaN\n",
       "17   PlayStation Network (\"PSN\") is one of these So...             NaN\n",
       "18   With a Sony Online Services or Sony Entertainm...             NaN\n",
       "19   Users can register for and log into a Sony Ent...             NaN\n",
       "20   Collection and use of your information by Sony...             NaN\n",
       "21   Links   SCEA may provide links to the websites...             NaN\n",
       "22   This privacy policy does not apply to third-pa...             NaN\n",
       "23   WHAT WE COLLECT:   Collection of Personal Info...             NaN\n",
       "24   However, visitors who do not wish to, or are n...             NaN\n",
       "25   Although personally identifying information ma...             NaN\n",
       "26   Collection of personal information required to...             NaN\n",
       "27   We collect personally identifying information ...             NaN\n",
       "28   Some of our website activities require that th...             NaN\n",
       "29   On our websites, PlayStation Network log in in...             NaN\n",
       "..                                                 ...             ...\n",
       "170  Security   American Honda has reasonable secur...             NaN\n",
       "171  This information is protected while being tran...             NaN\n",
       "172  Most web pages that display personally identif...             NaN\n",
       "173  The following brands' brochure requests, howev...             NaN\n",
       "174  In addition, the Motorcycle brand site does no...             NaN\n",
       "175  In addition, we have security procedures and p...             NaN\n",
       "176  However, perfect security does not exist over ...             NaN\n",
       "177  If you are an owners.honda.com/owners.acura.co...             NaN\n",
       "178  Do Not Track Signals   Our websites do not tre...             NaN\n",
       "179  Links   Our web sites may contain links to oth...             NaN\n",
       "180  However, please be aware that if you access th...             NaN\n",
       "181  As a result, we encourage users to read the pr...             NaN\n",
       "182  Policy Updates   If we decide to change our pr...             NaN\n",
       "183  We suggest periodically visiting this page to ...             NaN\n",
       "184  Specific Web Site Provisions   This section be...             NaN\n",
       "185  Acura   Honda Powersports   HRCA Clubhouse   H...             NaN\n",
       "186              Honda Automobiles    Request A Quote.             NaN\n",
       "187  When you select and build your choice in a veh...             NaN\n",
       "188  We can also forward your quote to a local Hond...             NaN\n",
       "189  If you choose to utilize this service, we will...             NaN\n",
       "190  Although not required to do so, you may also p...             NaN\n",
       "191  After submitting your request, you may choose ...             NaN\n",
       "192  If you choose to do so, in certain instances, ...             NaN\n",
       "193  If you do not want us to forward this informat...             NaN\n",
       "194  See also the Honda Financial Services Apply fo...             NaN\n",
       "195  Requesting a quote and providing your personal...             NaN\n",
       "196  Financing Tools, Apply online for Pre-Approved...             NaN\n",
       "197  If you choose to submit an application to Hond...             NaN\n",
       "198  This information is collected and is used only...             NaN\n",
       "199  For example, American Honda Finance Corporatio...             NaN\n",
       "\n",
       "[200 rows x 2 columns]"
      ]
     },
     "execution_count": 34,
     "metadata": {},
     "output_type": "execute_result"
    }
   ],
   "source": [
    "dataretention=scoresUnified[[\"Sentence\", \"Data Retention\"]]\n",
    "dataretention.head(200)"
   ]
  },
  {
   "cell_type": "code",
   "execution_count": 315,
   "metadata": {
    "collapsed": false
   },
   "outputs": [],
   "source": [
    "## output to a file \n",
    "with open(\"Data/sentence_score_conso10.pk\", \"wb\") as f:\n",
    "    pickle.dump(scoresUnified, f)"
   ]
  },
  {
   "cell_type": "code",
   "execution_count": 29,
   "metadata": {
    "collapsed": false
   },
   "outputs": [],
   "source": [
    "## output to a file that is readable in python2\n",
    "import pickle\n",
    "with open(\"Data/sentence_score_conso10_py2.pk\", \"wb\") as f:\n",
    "    pickle.dump(scoresUnified, f, 2)"
   ]
  },
  {
   "cell_type": "markdown",
   "metadata": {},
   "source": [
    "## Generate Training data for each category"
   ]
  },
  {
   "cell_type": "code",
   "execution_count": 31,
   "metadata": {
    "collapsed": true
   },
   "outputs": [],
   "source": [
    "trainData={website:simpleSentLabels[website] for website in trainWebsites}\n",
    "valData={website:simpleSentLabels[website] for website in valWebsites}"
   ]
  },
  {
   "cell_type": "code",
   "execution_count": 42,
   "metadata": {
    "collapsed": true
   },
   "outputs": [],
   "source": [
    "## Make a way to organize the training texts and labels\n",
    "## we need to make a model for each topic\n",
    "def generateXY(inputdata, topic):\n",
    "    results=[]\n",
    "    for website, data in inputdata.items():\n",
    "        for item in data:    \n",
    "            if topic in [x[0:2] for x in item[1]]:   # if the topic is in a (sentence, topic+label)  tuple\n",
    "                label=[x[2] for x in item[1] if x[0:2]==topic][0]\n",
    "                results.append([item[0], label])\n",
    "        text, labels=zip(*results)\n",
    "    return text, labels"
   ]
  },
  {
   "cell_type": "code",
   "execution_count": 43,
   "metadata": {
    "collapsed": false
   },
   "outputs": [],
   "source": [
    "topic=('Third Party Sharing/Collection', 'Personal Information Type')\n",
    "trainText, trainLabels=generateXY(trainData, topic)"
   ]
  },
  {
   "cell_type": "markdown",
   "metadata": {},
   "source": [
    "### Testing random functions\n"
   ]
  },
  {
   "cell_type": "code",
   "execution_count": 37,
   "metadata": {
    "collapsed": false
   },
   "outputs": [
    {
     "data": {
      "text/html": [
       "<div>\n",
       "<table border=\"1\" class=\"dataframe\">\n",
       "  <thead>\n",
       "    <tr style=\"text-align: right;\">\n",
       "      <th></th>\n",
       "      <th>a</th>\n",
       "      <th>b</th>\n",
       "    </tr>\n",
       "  </thead>\n",
       "  <tbody>\n",
       "    <tr>\n",
       "      <th>0</th>\n",
       "      <td>2</td>\n",
       "      <td>NaN</td>\n",
       "    </tr>\n",
       "    <tr>\n",
       "      <th>1</th>\n",
       "      <td>3</td>\n",
       "      <td>NaN</td>\n",
       "    </tr>\n",
       "    <tr>\n",
       "      <th>2</th>\n",
       "      <td>4</td>\n",
       "      <td>2.0</td>\n",
       "    </tr>\n",
       "  </tbody>\n",
       "</table>\n",
       "</div>"
      ],
      "text/plain": [
       "   a    b\n",
       "0  2  NaN\n",
       "1  3  NaN\n",
       "2  4  2.0"
      ]
     },
     "execution_count": 37,
     "metadata": {},
     "output_type": "execute_result"
    }
   ],
   "source": [
    "pd.DataFrame([{\"a\":2}, {\"a\":3}, {\"a\":4, \"b\":2}])"
   ]
  },
  {
   "cell_type": "code",
   "execution_count": 39,
   "metadata": {
    "collapsed": false
   },
   "outputs": [
    {
     "data": {
      "text/html": [
       "<div>\n",
       "<table border=\"1\" class=\"dataframe\">\n",
       "  <thead>\n",
       "    <tr style=\"text-align: right;\">\n",
       "      <th></th>\n",
       "      <th>A</th>\n",
       "      <th>B</th>\n",
       "      <th>key1</th>\n",
       "      <th>key2</th>\n",
       "    </tr>\n",
       "  </thead>\n",
       "  <tbody>\n",
       "    <tr>\n",
       "      <th>0</th>\n",
       "      <td>A0</td>\n",
       "      <td>B0</td>\n",
       "      <td>K0</td>\n",
       "      <td>K0</td>\n",
       "    </tr>\n",
       "    <tr>\n",
       "      <th>1</th>\n",
       "      <td>A1</td>\n",
       "      <td>B1</td>\n",
       "      <td>K0</td>\n",
       "      <td>K1</td>\n",
       "    </tr>\n",
       "    <tr>\n",
       "      <th>2</th>\n",
       "      <td>A2</td>\n",
       "      <td>B2</td>\n",
       "      <td>K1</td>\n",
       "      <td>K0</td>\n",
       "    </tr>\n",
       "    <tr>\n",
       "      <th>3</th>\n",
       "      <td>A3</td>\n",
       "      <td>B3</td>\n",
       "      <td>K2</td>\n",
       "      <td>K1</td>\n",
       "    </tr>\n",
       "  </tbody>\n",
       "</table>\n",
       "</div>"
      ],
      "text/plain": [
       "    A   B key1 key2\n",
       "0  A0  B0   K0   K0\n",
       "1  A1  B1   K0   K1\n",
       "2  A2  B2   K1   K0\n",
       "3  A3  B3   K2   K1"
      ]
     },
     "metadata": {},
     "output_type": "display_data"
    },
    {
     "data": {
      "text/html": [
       "<div>\n",
       "<table border=\"1\" class=\"dataframe\">\n",
       "  <thead>\n",
       "    <tr style=\"text-align: right;\">\n",
       "      <th></th>\n",
       "      <th>C</th>\n",
       "      <th>D</th>\n",
       "      <th>key1</th>\n",
       "      <th>key2</th>\n",
       "    </tr>\n",
       "  </thead>\n",
       "  <tbody>\n",
       "    <tr>\n",
       "      <th>0</th>\n",
       "      <td>C0</td>\n",
       "      <td>D0</td>\n",
       "      <td>K0</td>\n",
       "      <td>K0</td>\n",
       "    </tr>\n",
       "    <tr>\n",
       "      <th>1</th>\n",
       "      <td>C1</td>\n",
       "      <td>D1</td>\n",
       "      <td>K1</td>\n",
       "      <td>K0</td>\n",
       "    </tr>\n",
       "    <tr>\n",
       "      <th>2</th>\n",
       "      <td>C2</td>\n",
       "      <td>D2</td>\n",
       "      <td>K1</td>\n",
       "      <td>K0</td>\n",
       "    </tr>\n",
       "    <tr>\n",
       "      <th>3</th>\n",
       "      <td>C3</td>\n",
       "      <td>D3</td>\n",
       "      <td>K2</td>\n",
       "      <td>K0</td>\n",
       "    </tr>\n",
       "    <tr>\n",
       "      <th>4</th>\n",
       "      <td>C4</td>\n",
       "      <td>D4</td>\n",
       "      <td>K1</td>\n",
       "      <td>K0</td>\n",
       "    </tr>\n",
       "    <tr>\n",
       "      <th>5</th>\n",
       "      <td>C5</td>\n",
       "      <td>D5</td>\n",
       "      <td>K2</td>\n",
       "      <td>K1</td>\n",
       "    </tr>\n",
       "  </tbody>\n",
       "</table>\n",
       "</div>"
      ],
      "text/plain": [
       "    C   D key1 key2\n",
       "0  C0  D0   K0   K0\n",
       "1  C1  D1   K1   K0\n",
       "2  C2  D2   K1   K0\n",
       "3  C3  D3   K2   K0\n",
       "4  C4  D4   K1   K0\n",
       "5  C5  D5   K2   K1"
      ]
     },
     "metadata": {},
     "output_type": "display_data"
    },
    {
     "data": {
      "text/html": [
       "<div>\n",
       "<table border=\"1\" class=\"dataframe\">\n",
       "  <thead>\n",
       "    <tr style=\"text-align: right;\">\n",
       "      <th></th>\n",
       "      <th>A</th>\n",
       "      <th>B</th>\n",
       "      <th>key1</th>\n",
       "      <th>key2</th>\n",
       "      <th>C</th>\n",
       "      <th>D</th>\n",
       "    </tr>\n",
       "  </thead>\n",
       "  <tbody>\n",
       "    <tr>\n",
       "      <th>0</th>\n",
       "      <td>A0</td>\n",
       "      <td>B0</td>\n",
       "      <td>K0</td>\n",
       "      <td>K0</td>\n",
       "      <td>C0</td>\n",
       "      <td>D0</td>\n",
       "    </tr>\n",
       "    <tr>\n",
       "      <th>1</th>\n",
       "      <td>A2</td>\n",
       "      <td>B2</td>\n",
       "      <td>K1</td>\n",
       "      <td>K0</td>\n",
       "      <td>C1</td>\n",
       "      <td>D1</td>\n",
       "    </tr>\n",
       "    <tr>\n",
       "      <th>2</th>\n",
       "      <td>A2</td>\n",
       "      <td>B2</td>\n",
       "      <td>K1</td>\n",
       "      <td>K0</td>\n",
       "      <td>C2</td>\n",
       "      <td>D2</td>\n",
       "    </tr>\n",
       "    <tr>\n",
       "      <th>3</th>\n",
       "      <td>A2</td>\n",
       "      <td>B2</td>\n",
       "      <td>K1</td>\n",
       "      <td>K0</td>\n",
       "      <td>C4</td>\n",
       "      <td>D4</td>\n",
       "    </tr>\n",
       "    <tr>\n",
       "      <th>4</th>\n",
       "      <td>A3</td>\n",
       "      <td>B3</td>\n",
       "      <td>K2</td>\n",
       "      <td>K1</td>\n",
       "      <td>C5</td>\n",
       "      <td>D5</td>\n",
       "    </tr>\n",
       "  </tbody>\n",
       "</table>\n",
       "</div>"
      ],
      "text/plain": [
       "    A   B key1 key2   C   D\n",
       "0  A0  B0   K0   K0  C0  D0\n",
       "1  A2  B2   K1   K0  C1  D1\n",
       "2  A2  B2   K1   K0  C2  D2\n",
       "3  A2  B2   K1   K0  C4  D4\n",
       "4  A3  B3   K2   K1  C5  D5"
      ]
     },
     "metadata": {},
     "output_type": "display_data"
    }
   ],
   "source": [
    "left = pd.DataFrame({'key1': ['K0', 'K0', 'K1', 'K2'],\n",
    "                      'key2': ['K0', 'K1', 'K0', 'K1'],\n",
    "                     'A': ['A0', 'A1', 'A2', 'A3'],\n",
    "                     'B': ['B0', 'B1', 'B2', 'B3']})\n",
    "\n",
    "\n",
    "right = pd.DataFrame({'key1': ['K0', 'K1', 'K1', 'K2', 'K1', \"K2\"],\n",
    "                       'key2': ['K0', 'K0', 'K0', 'K0', \"K0\", \"K1\"],\n",
    "                      'C': ['C0', 'C1', 'C2', 'C3', \"C4\", \"C5\"],\n",
    "                      'D': ['D0', 'D1', 'D2', 'D3',\"D4\", \"D5\"]})\n",
    "\n",
    "display(left)\n",
    "display(right)\n",
    "\n",
    "result=pd.merge(left, right, how='inner', on=[\"key1\", \"key2\"])\n",
    "display(result)"
   ]
  },
  {
   "cell_type": "code",
   "execution_count": 40,
   "metadata": {
    "collapsed": false
   },
   "outputs": [
    {
     "name": "stdout",
     "output_type": "stream",
     "text": [
      "['A', 'B', 'key1', 'key2']\n",
      "['key1', 'B', 'A', 'key2']\n"
     ]
    }
   ],
   "source": [
    "a=left.columns.values.tolist()\n",
    "print(a)\n",
    "random.shuffle(a)\n",
    "print(a)"
   ]
  },
  {
   "cell_type": "code",
   "execution_count": 41,
   "metadata": {
    "collapsed": false
   },
   "outputs": [
    {
     "data": {
      "text/html": [
       "<div>\n",
       "<table border=\"1\" class=\"dataframe\">\n",
       "  <thead>\n",
       "    <tr style=\"text-align: right;\">\n",
       "      <th></th>\n",
       "      <th>A</th>\n",
       "      <th>B</th>\n",
       "      <th>C</th>\n",
       "      <th>D</th>\n",
       "      <th>key1</th>\n",
       "      <th>key2</th>\n",
       "    </tr>\n",
       "  </thead>\n",
       "  <tbody>\n",
       "    <tr>\n",
       "      <th>0</th>\n",
       "      <td>A0</td>\n",
       "      <td>B0</td>\n",
       "      <td>NaN</td>\n",
       "      <td>NaN</td>\n",
       "      <td>K0</td>\n",
       "      <td>K0</td>\n",
       "    </tr>\n",
       "    <tr>\n",
       "      <th>1</th>\n",
       "      <td>A1</td>\n",
       "      <td>B1</td>\n",
       "      <td>NaN</td>\n",
       "      <td>NaN</td>\n",
       "      <td>K0</td>\n",
       "      <td>K1</td>\n",
       "    </tr>\n",
       "    <tr>\n",
       "      <th>2</th>\n",
       "      <td>A2</td>\n",
       "      <td>B2</td>\n",
       "      <td>NaN</td>\n",
       "      <td>NaN</td>\n",
       "      <td>K1</td>\n",
       "      <td>K0</td>\n",
       "    </tr>\n",
       "    <tr>\n",
       "      <th>3</th>\n",
       "      <td>A3</td>\n",
       "      <td>B3</td>\n",
       "      <td>NaN</td>\n",
       "      <td>NaN</td>\n",
       "      <td>K2</td>\n",
       "      <td>K1</td>\n",
       "    </tr>\n",
       "    <tr>\n",
       "      <th>4</th>\n",
       "      <td>NaN</td>\n",
       "      <td>NaN</td>\n",
       "      <td>C0</td>\n",
       "      <td>D0</td>\n",
       "      <td>K0</td>\n",
       "      <td>K0</td>\n",
       "    </tr>\n",
       "    <tr>\n",
       "      <th>5</th>\n",
       "      <td>NaN</td>\n",
       "      <td>NaN</td>\n",
       "      <td>C1</td>\n",
       "      <td>D1</td>\n",
       "      <td>K1</td>\n",
       "      <td>K0</td>\n",
       "    </tr>\n",
       "    <tr>\n",
       "      <th>6</th>\n",
       "      <td>NaN</td>\n",
       "      <td>NaN</td>\n",
       "      <td>C2</td>\n",
       "      <td>D2</td>\n",
       "      <td>K1</td>\n",
       "      <td>K0</td>\n",
       "    </tr>\n",
       "    <tr>\n",
       "      <th>7</th>\n",
       "      <td>NaN</td>\n",
       "      <td>NaN</td>\n",
       "      <td>C3</td>\n",
       "      <td>D3</td>\n",
       "      <td>K2</td>\n",
       "      <td>K0</td>\n",
       "    </tr>\n",
       "    <tr>\n",
       "      <th>8</th>\n",
       "      <td>NaN</td>\n",
       "      <td>NaN</td>\n",
       "      <td>C4</td>\n",
       "      <td>D4</td>\n",
       "      <td>K1</td>\n",
       "      <td>K0</td>\n",
       "    </tr>\n",
       "    <tr>\n",
       "      <th>9</th>\n",
       "      <td>NaN</td>\n",
       "      <td>NaN</td>\n",
       "      <td>C5</td>\n",
       "      <td>D5</td>\n",
       "      <td>K2</td>\n",
       "      <td>K1</td>\n",
       "    </tr>\n",
       "  </tbody>\n",
       "</table>\n",
       "</div>"
      ],
      "text/plain": [
       "     A    B    C    D key1 key2\n",
       "0   A0   B0  NaN  NaN   K0   K0\n",
       "1   A1   B1  NaN  NaN   K0   K1\n",
       "2   A2   B2  NaN  NaN   K1   K0\n",
       "3   A3   B3  NaN  NaN   K2   K1\n",
       "4  NaN  NaN   C0   D0   K0   K0\n",
       "5  NaN  NaN   C1   D1   K1   K0\n",
       "6  NaN  NaN   C2   D2   K1   K0\n",
       "7  NaN  NaN   C3   D3   K2   K0\n",
       "8  NaN  NaN   C4   D4   K1   K0\n",
       "9  NaN  NaN   C5   D5   K2   K1"
      ]
     },
     "execution_count": 41,
     "metadata": {},
     "output_type": "execute_result"
    }
   ],
   "source": [
    "import random\n",
    "columnslist=left.columns.values.tolist()\n",
    "random.shuffle(columnslist)\n",
    "leftshuffle=left.loc[:,columnslist]\n",
    "\n",
    "pd.concat([leftshuffle, right], axis=0, ignore_index=True)"
   ]
  },
  {
   "cell_type": "code",
   "execution_count": 53,
   "metadata": {
    "collapsed": false
   },
   "outputs": [
    {
     "name": "stdout",
     "output_type": "stream",
     "text": [
      "(4, 4)\n"
     ]
    },
    {
     "ename": "TypeError",
     "evalue": "cannot concatenate a non-NDFrame object",
     "output_type": "error",
     "traceback": [
      "\u001b[0;31m---------------------------------------------------------------------------\u001b[0m",
      "\u001b[0;31mTypeError\u001b[0m                                 Traceback (most recent call last)",
      "\u001b[0;32m<ipython-input-53-ea98d907e347>\u001b[0m in \u001b[0;36m<module>\u001b[0;34m()\u001b[0m\n\u001b[1;32m      1\u001b[0m \u001b[0mprint\u001b[0m\u001b[0;34m(\u001b[0m\u001b[0mleft\u001b[0m\u001b[0;34m.\u001b[0m\u001b[0mshape\u001b[0m\u001b[0;34m)\u001b[0m\u001b[0;34m\u001b[0m\u001b[0m\n\u001b[1;32m      2\u001b[0m \u001b[0mextra\u001b[0m\u001b[0;34m=\u001b[0m\u001b[0;34m\"Hello\"\u001b[0m\u001b[0;34m\u001b[0m\u001b[0m\n\u001b[0;32m----> 3\u001b[0;31m \u001b[0mnew\u001b[0m\u001b[0;34m=\u001b[0m\u001b[0mpd\u001b[0m\u001b[0;34m.\u001b[0m\u001b[0mconcat\u001b[0m\u001b[0;34m(\u001b[0m\u001b[0;34m[\u001b[0m\u001b[0mleft\u001b[0m\u001b[0;34m,\u001b[0m \u001b[0;34m[\u001b[0m\u001b[0;36m1\u001b[0m\u001b[0;34m,\u001b[0m\u001b[0;36m2\u001b[0m\u001b[0;34m,\u001b[0m\u001b[0;36m3\u001b[0m\u001b[0;34m,\u001b[0m\u001b[0;36m4\u001b[0m\u001b[0;34m]\u001b[0m\u001b[0;34m]\u001b[0m\u001b[0;34m,\u001b[0m \u001b[0maxis\u001b[0m\u001b[0;34m=\u001b[0m\u001b[0;36m1\u001b[0m\u001b[0;34m)\u001b[0m\u001b[0;34m\u001b[0m\u001b[0m\n\u001b[0m\u001b[1;32m      4\u001b[0m \u001b[0mdisplay\u001b[0m\u001b[0;34m(\u001b[0m\u001b[0mnew\u001b[0m\u001b[0;34m)\u001b[0m\u001b[0;34m\u001b[0m\u001b[0m\n",
      "\u001b[0;32m/opt/anaconda/anaconda3/lib/python3.6/site-packages/pandas/tools/merge.py\u001b[0m in \u001b[0;36mconcat\u001b[0;34m(objs, axis, join, join_axes, ignore_index, keys, levels, names, verify_integrity, copy)\u001b[0m\n\u001b[1;32m   1449\u001b[0m                        \u001b[0mkeys\u001b[0m\u001b[0;34m=\u001b[0m\u001b[0mkeys\u001b[0m\u001b[0;34m,\u001b[0m \u001b[0mlevels\u001b[0m\u001b[0;34m=\u001b[0m\u001b[0mlevels\u001b[0m\u001b[0;34m,\u001b[0m \u001b[0mnames\u001b[0m\u001b[0;34m=\u001b[0m\u001b[0mnames\u001b[0m\u001b[0;34m,\u001b[0m\u001b[0;34m\u001b[0m\u001b[0m\n\u001b[1;32m   1450\u001b[0m                        \u001b[0mverify_integrity\u001b[0m\u001b[0;34m=\u001b[0m\u001b[0mverify_integrity\u001b[0m\u001b[0;34m,\u001b[0m\u001b[0;34m\u001b[0m\u001b[0m\n\u001b[0;32m-> 1451\u001b[0;31m                        copy=copy)\n\u001b[0m\u001b[1;32m   1452\u001b[0m     \u001b[0;32mreturn\u001b[0m \u001b[0mop\u001b[0m\u001b[0;34m.\u001b[0m\u001b[0mget_result\u001b[0m\u001b[0;34m(\u001b[0m\u001b[0;34m)\u001b[0m\u001b[0;34m\u001b[0m\u001b[0m\n\u001b[1;32m   1453\u001b[0m \u001b[0;34m\u001b[0m\u001b[0m\n",
      "\u001b[0;32m/opt/anaconda/anaconda3/lib/python3.6/site-packages/pandas/tools/merge.py\u001b[0m in \u001b[0;36m__init__\u001b[0;34m(self, objs, axis, join, join_axes, keys, levels, names, ignore_index, verify_integrity, copy)\u001b[0m\n\u001b[1;32m   1506\u001b[0m         \u001b[0;32mfor\u001b[0m \u001b[0mobj\u001b[0m \u001b[0;32min\u001b[0m \u001b[0mobjs\u001b[0m\u001b[0;34m:\u001b[0m\u001b[0;34m\u001b[0m\u001b[0m\n\u001b[1;32m   1507\u001b[0m             \u001b[0;32mif\u001b[0m \u001b[0;32mnot\u001b[0m \u001b[0misinstance\u001b[0m\u001b[0;34m(\u001b[0m\u001b[0mobj\u001b[0m\u001b[0;34m,\u001b[0m \u001b[0mNDFrame\u001b[0m\u001b[0;34m)\u001b[0m\u001b[0;34m:\u001b[0m\u001b[0;34m\u001b[0m\u001b[0m\n\u001b[0;32m-> 1508\u001b[0;31m                 \u001b[0;32mraise\u001b[0m \u001b[0mTypeError\u001b[0m\u001b[0;34m(\u001b[0m\u001b[0;34m\"cannot concatenate a non-NDFrame object\"\u001b[0m\u001b[0;34m)\u001b[0m\u001b[0;34m\u001b[0m\u001b[0m\n\u001b[0m\u001b[1;32m   1509\u001b[0m \u001b[0;34m\u001b[0m\u001b[0m\n\u001b[1;32m   1510\u001b[0m             \u001b[0;31m# consolidate\u001b[0m\u001b[0;34m\u001b[0m\u001b[0;34m\u001b[0m\u001b[0m\n",
      "\u001b[0;31mTypeError\u001b[0m: cannot concatenate a non-NDFrame object"
     ]
    }
   ],
   "source": [
    "print(left.shape)\n",
    "extra=\"Hello\"\n",
    "new=pd.concat([left, [1,2,3,4]], axis=1)\n",
    "display(new)\n"
   ]
  }
 ],
 "metadata": {
  "kernelspec": {
   "display_name": "Python 3",
   "language": "python",
   "name": "python3"
  },
  "language_info": {
   "codemirror_mode": {
    "name": "ipython",
    "version": 3
   },
   "file_extension": ".py",
   "mimetype": "text/x-python",
   "name": "python",
   "nbconvert_exporter": "python",
   "pygments_lexer": "ipython3",
   "version": "3.6.0"
  }
 },
 "nbformat": 4,
 "nbformat_minor": 2
}
