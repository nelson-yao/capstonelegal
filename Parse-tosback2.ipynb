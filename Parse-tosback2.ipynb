{
 "cells": [
  {
   "cell_type": "code",
   "execution_count": 1,
   "metadata": {
    "collapsed": true
   },
   "outputs": [],
   "source": [
    "from bs4 import BeautifulSoup"
   ]
  },
  {
   "cell_type": "code",
   "execution_count": 2,
   "metadata": {
    "collapsed": false
   },
   "outputs": [
    {
     "data": {
      "text/plain": [
       "['/home/meaney.lab/nyao/210/Data/crawl_reviewed/app.net/Terms of Service.txt']"
      ]
     },
     "execution_count": 2,
     "metadata": {},
     "output_type": "execute_result"
    }
   ],
   "source": [
    "import glob\n",
    "glob.glob(\"/home/meaney.lab/nyao/210/Data/crawl_reviewed/app.net/Terms of Service.txt\")"
   ]
  },
  {
   "cell_type": "code",
   "execution_count": 3,
   "metadata": {
    "collapsed": false
   },
   "outputs": [
    {
     "data": {
      "text/plain": [
       "('/home/meaney.lab/nyao/210/Data/crawl_reviewed/app.net',\n",
       " 'Terms of Service.txt')"
      ]
     },
     "execution_count": 3,
     "metadata": {},
     "output_type": "execute_result"
    }
   ],
   "source": [
    "import os\n",
    "os.path.split(\"/home/meaney.lab/nyao/210/Data/crawl_reviewed/app.net/Terms of Service.txt\")"
   ]
  },
  {
   "cell_type": "code",
   "execution_count": 33,
   "metadata": {
    "collapsed": false
   },
   "outputs": [
    {
     "name": "stdout",
     "output_type": "stream",
     "text": [
      " Terms Of Service Bitly Terms Of Service <p> Effective August 8, 2014 </p>\n",
      "<p>Please read these Terms of Service (collectively with Bitly, Inc.’s Privacy Policy [https://www.bitly.com/pages/privacy] and DMCA Copyright Policy [https://www.bitly.com/pages/dmca-copyright-policy], the “Terms of Service”) fully and carefully before using the services, features, and content offered by Bitly, Inc.\n",
      "(“we,” “us,” or “Bitly”) through its website, plugins, or software applications (collectively, the “Services”).\n",
      "These Terms of Service set forth the legally binding terms and conditions for your use of the Services.</p>\n",
      "1.\n",
      "Acceptance of Terms\n",
      "<ol>\n",
      "<li>By registering for and/or using the Services in any manner, including but not limited to visiting, browsing and using the Services to shorten a uniform resource locator (“URL”), you agree to these Terms of Service and all other operating rules, policies and procedures that may be published from time to time on the Services by Bitly, each of which is incorporated by reference and each of which may be updated from time to time without notice to you.</li>\n",
      "<li>Certain of the Services may be subject to additional terms and conditions specified by Bitly from time to time.\n",
      "your use of such Services is subject to those additional terms and conditions, which are incorporated into these Terms of Service by this reference.</li>\n",
      "<li>These Terms of Service apply to all users of the Services, including, without limitation, users who are contributors of content, information, and other materials or services, registered or otherwise.</li>\n",
      "</ol>2.\n",
      "Modification\n",
      "<p>Bitly reserves the right, at its sole discretion, to modify or replace any of these Terms of Service, or change, suspend, or discontinue the Services (including without limitation, the availability of any feature, database, or content) at any time by posting a notice or by sending you notice through the Services or by e-mail.\n",
      "Bitly may also impose limits on certain features of the Services or restrict your access to parts or all of the Services without notice or liability.\n",
      "It is your responsibility to check these Terms of Service periodically for changes.\n",
      "Your use of the Services following the posting of any changes to these Terms of Service constitutes acceptance of those changes.</p>\n",
      "3.\n",
      "Eligibility\n",
      "<p>You represent and warrant that you are at least 13 years of age.\n",
      "If you are under age 13, you may not, under any circumstances, use the Services.\n",
      "Bitly may, in its sole discretion, refuse to offer the Services to any person or entity and change its eligibility criteria at any time.\n",
      "You are solely responsible for ensuring that these Terms of Service are in compliance with all laws, rules and regulations applicable to you and the right to access the Services is revoked where these Terms of Service or use of the Services is prohibited or to the extent offering, sale or provision of the Services conflicts with any applicable law, rule or regulation.\n",
      "Further, the Services are offered only for your use, and not for the use or benefit of any third party.</p>\n",
      "4.\n",
      "Registration\n",
      "<p>While some features of the Service are available to unregistered users, for broader access to the Services you must register with Bitly (creating an “Account”).\n",
      "In order to register, you must provide an accurate e-mail address and select a username or you can use your account with Facebook, Twitter or other supported social network.\n",
      "You are responsible for updating the accuracy of the e-mail address that you provide to Bitly to be associated with your Account.\n",
      "Regarding usernames, you shall not (i) select or use, as your username, the name of another person with the intent to impersonate that person.\n",
      "(ii) select or use, as your username, a name subject to any rights of a person or entity other than you without appropriate authorization or (iii) select or use, as your username, a name that is otherwise offensive, vulgar or obscene.</p>\n",
      "5.\n",
      "Account Security\n",
      "<p>You are solely responsible for the activity that occurs on your Account, and for keeping your Account secure.\n",
      "You are not permitted to use another Account without permission.\n",
      "You must notify us immediately of any breach of security or other unauthorized use of your Account.\n",
      "You should never publish, distribute or post login information for your Account.</p>\n",
      "6.\n",
      "Bitly Services\n",
      "<ol>\n",
      "<li>\n",
      "<strong>Bitly Links</strong> The Services allow you to shorten and track URLs using the Bitly domain as the link.\n",
      "As long as you comply with these Terms of Service, you may use the Services your personal, non-commercial purposes.\n",
      "Please contact us if you would like to use the Services for your business.</li>\n",
      "<li>\n",
      "<strong>Software Applications</strong> We provide browser plugins and software applications that you can download (to your computer or mobile device) to access and use the Services.\n",
      "As long as you comply with these Terms of Service, you have the right to use this software to access and use the Services.\n",
      "This license is for the sole purpose of enabling you to use the Services, as permitted by these Terms of Service.\n",
      "You may not modify, re-distribute, or sell the software, nor may you decompile or attempt to extract the source code of that software.\n",
      "If you download software from the Apple App Store, Google Play or other app store (an “App Provider”), please note that:\n",
      "<ol>\n",
      "<li>These Terms of Service are concluded between us, and not with the App Provider, and that we (not the App Provider), are responsible for the software.</li>\n",
      "<li>The App Provider has no obligation to furnish any maintenance and support services with respect to that software or handle any warranty claims.</li>\n",
      "<li>The App Provider is not responsible for addressing any claims you have or any claims of any third party relating to the software, such as, product liability claims, consumer protection claims, intellectual property infringement claims, or any claim that the software fails to conform to any applicable legal or regulatory requirement.</li>\n",
      "<li>The App Provider is a third party beneficiary of these Terms of Service as related to your license of the software, and the App Provider will have the right to enforce these Terms of Service as related to your license of the software against you.</li>\n",
      "<li>You must also comply with any applicable terms from any third party services that you access when using the software.</li>\n",
      "</ol>\n",
      "</li>\n",
      "</ol>7.\n",
      "Bitly Metrics\n",
      "<ol>\n",
      "<li>\n",
      "<strong>Definition</strong> Certain features of the Services allow Bitly to collect and track metrics, and generate analytics, relating to URLs shortened using the Services, bundles of shortened URLs created using the Services, and other metrics and analytics related to use of the Services (“Bitly Metrics”).\n",
      "Bitly Metrics include, but are not limited to:\n",
      "<ol>\n",
      "<li>A history of all URLs shortened by a particular Account.</li>\n",
      "<li>A history of all clicks on a shortened URL.</li>\n",
      "<li>A history of all sharing of a shortened URL through third-party services such as Facebook and Twitter.</li>\n",
      "<li>A history of referral URLs for clicks of a shortened URL.</li>\n",
      "<li>A history of IP addresses used to access a shortened URL.</li>\n",
      "<li>Visual presentation of any or all of the above (excluding IP addresses).</li>\n",
      "</ol>\n",
      "</li>\n",
      "<li>\n",
      "<strong>Ownership Rights</strong> You acknowledge and agree that all Bitly Metrics that are collected and/or generated are owned by Bitly, and that Bitly has the right to use, license, sell or otherwise dispose of Bitly Metrics for any purpose.</li>\n",
      "</ol>8.\n",
      "Content\n",
      "<ol>\n",
      "<li>\n",
      "<strong>Definition</strong> For purposes of these Terms of Service, the term “Content” includes, without limitation, URLs, shortened URLs, curated URLs, bundles or packages of URLs, videos, audio clips, written posts and comments, information, data, text, photographs, software, scripts, graphics, and interactive features generated, provided, or otherwise made accessible on or through the Services.</li>\n",
      "<li>\n",
      "<strong>User Content</strong> All Content added, created, uploaded, submitted, distributed, or posted to the Services by users, whether publicly posted or privately transmitted (collectively “User Content”), is the sole responsibility of the user who originated it.\n",
      "You acknowledge that all Content accessed by you using the Services is at your own risk and you will be solely responsible for any damage or loss to you or any other party resulting therefrom.\n",
      "When you delete your User Content, it will be removed from the Services.\n",
      "However, you understand that (i) certain User Content (e.g., previously shortened URLs and related Bitly Metrics) will remain available and (ii) any removed User Content may persist in backup copies for a reasonable period of time (but will not following removal be shared with others).</li>\n",
      "<li>\n",
      "<strong>Bitly Content</strong> The Services contain Content specifically provided by Bitly or its partners and such Content is protected by copyrights, trademarks, service marks, patents, trade secrets or other proprietary rights and laws.\n",
      "Such Content includes, but is not limited to, Bitly Metrics.\n",
      "You shall abide by and maintain all copyright notices, information, and restrictions contained in any Content accessed through the Services.</li>\n",
      "<li>\n",
      "<strong>Use License</strong> Subject to these Terms of Service, Bitly grants each user of the Services a worldwide, non-exclusive, non-sublicensable and non-transferable license to use the Content, solely for personal, non-commercial use as part of using the Services.\n",
      "Use, reproduction, modification, distribution or storage of any Content for other than personal, non-commercial use is expressly prohibited without prior written permission from Bitly, or from the copyright holder identified in such Content’s copyright notice.\n",
      "If you would like to use the Services for commercial purposes, you must purchase a license for our Bitly Brand Tools, or contact us regarding other types of uses.</li>\n",
      "<li>\n",
      "<strong>License Grants</strong>\n",
      "<ol>\n",
      "<li>\n",
      "<strong>License to Bitly</strong> By submitting User Content through the Services, you hereby do and shall grant Bitly a worldwide, non-exclusive, royalty-free, fully paid, sublicensable and transferable license to use, edit, modify, reproduce, distribute, prepare derivative works of, display, perform, and otherwise fully exploit the User Content in connection with the Services and Bitly’s (and its successors and assigns’) business, including without limitation for promoting and redistributing part or all of the Services (and derivative works thereof) in any media formats and through any media channels (including, without limitation, third party websites and feeds).</li>\n",
      "<li>\n",
      "<strong>License to Users</strong> You also hereby do and shall grant each user of the Services a non-exclusive license to access your User Content through the Services, and to use, edit, modify, reproduce, distribute, prepare derivative works of, display and perform such User Content.</li>\n",
      "<li>\n",
      "<strong>No Infringement</strong> You represent and warrant that you have all rights to grant such licenses without infringement or violation of any third party rights, including without limitation, any privacy rights, publicity rights, copyrights, contract rights, or any other intellectual property or proprietary rights.</li>\n",
      "</ol>\n",
      "</li>\n",
      "<li>\n",
      "<strong>Availability of Content</strong> Bitly does not guarantee that any Content will be made available through the Services.\n",
      "Further, Bitly has no obligation to monitor the Services.\n",
      "However, Bitly reserves the right to (i) remove, edit or modify any Content in its sole discretion, at any time, without notice to you and for any reason (including, but not limited to, upon receipt of claims or allegations from third parties or authorities relating to such Content or if Bitly is concerned that you may have violated these Terms of Service), or for no reason at all and (ii) remove or block any Content from the Services.</li>\n",
      "</ol>9.\n",
      "Rules of Conduct\n",
      "<ol>\n",
      "<li>You promise not to use the Services for any purpose that is prohibited by these Terms of Service.\n",
      "You are responsible for all of your activity in connection with the Services.</li>\n",
      "<li>You shall not, and shall not permit any third party to, either (a) take any action or (b) upload, download, post, submit or otherwise distribute or facilitate distribution of any Content (including User Content) on or through the Service that:\n",
      "<ol>\n",
      "<li>infringes any patent, trademark, trade secret, copyright, right of publicity or other right of any other person or entity or violates any law or contractual duty (Bitly’s DMCA Copyright Policy [https://www.bitly.com/pages/dmca-copyright-policy]);</li>\n",
      "<li>is unlawful, such as content that is threatening, abusive, harassing, defamatory, libelous, fraudulent, invasive of another’s privacy, or tortuous;</li>\n",
      "<li>constitutes unauthorized or unsolicited advertising, junk or bulk e-mail (“spamming”);</li>\n",
      "<li>contains software viruses or any other computer codes, files, or programs that are designed or intended to disrupt, damage, limit or interfere with the proper function of any software, hardware, or telecommunications equipment or to damage or obtain unauthorized access to any system, data, password or other information of Bitly or any third party;</li>\n",
      "<li>impersonates any person or entity, including any employee or representative of Bitly;</li>\n",
      "<li>includes anyone’s identification documents or sensitive financial information.\n",
      "or</li>\n",
      "<li>is otherwise determined by Bitly to be inappropriate at its sole discretion.</li>\n",
      "</ol>\n",
      "</li>\n",
      "<li>You shall not: (i) take any action that imposes or may impose (as determined by Bitly in its sole discretion) an unreasonable or disproportionately large load on Bitly’s (or its third party providers’) infrastructure.\n",
      "(ii) interfere or attempt to interfere with the proper working of the Services or any activities conducted on the Services.\n",
      "(iii) bypass any measures Bitly may use to prevent or restrict access to the Services (or other accounts, computer systems or networks connected to the Services).\n",
      "(iv) run any form of auto-responder or “spam” on the Services.\n",
      "(v) use manual or automated software, devices, or other processes to “crawl” or “spider” any page of the Services.\n",
      "(vi) harvest or scrape any Content from the Services.\n",
      "or (vii) otherwise take any action in violation of Bitly’s guidelines and policies.</li>\n",
      "<li>You shall not (directly or indirectly): (i) decipher, decompile, disassemble, reverse engineer or otherwise attempt to derive any source code or underlying ideas or algorithms of any aspect, feature or part of the Services, except to the limited extent applicable laws specifically prohibit such restriction.\n",
      "(ii) modify, translate, or otherwise create derivative works of any part of the Services.\n",
      "or (iii) copy, rent, lease, distribute, or otherwise transfer any of the rights that you receive hereunder.\n",
      "You shall abide by all applicable local, state, national and international laws and regulations.</li>\n",
      "<li>Bitly also reserves the right to access, read, preserve, and disclose any information as it reasonably believes is necessary to (i) satisfy any applicable law, regulation, legal process or governmental request.\n",
      "(ii) enforce these Terms of Service, including investigation of potential violations hereof.\n",
      "(iii) detect, prevent, or otherwise address fraud, security or technical issues.\n",
      "(iv) respond to user support requests.\n",
      "or (v) protect the rights, property or safety of Bitly, its users and the public.\n",
      "This includes exchanging information with other companies and organizations for fraud protection and spam prevention.</li>\n",
      "</ol>10.\n",
      "Third Party Services\n",
      "<p>The Services may permit you to link to other websites, services or resources on the Internet, such as Twitter and Facebook, and other websites, services or resources may contain links to the Services.\n",
      "When you access third party resources on the Internet, you do so at your own risk.\n",
      "These other resources are not under the control of Bitly, and you acknowledge that Bitly is not responsible or liable for the content, functions, accuracy, legality, appropriateness or any other aspect of such websites or resources.\n",
      "The inclusion of any such link does not imply endorsement by Bitly or any association with its operators.\n",
      "You further acknowledge and agree that Bitly shall not be responsible or liable, directly or indirectly, for any damage or loss caused or alleged to be caused by or in connection with the use of or reliance on any such Content, goods or services available on or through any such website or resource.</p>\n",
      "11.\n",
      "Termination\n",
      "<p>Bitly may terminate your access to all or any part of the Services at any time, with or without cause, with or without notice, effective immediately, which may result in the forfeiture and destruction of all information associated with your Account.\n",
      "All provisions of these Terms of Service which by their nature should survive termination shall survive termination, including without limitation, ownership provisions, warranty disclaimers, indemnity and limitations of liability.</p>\n",
      "Warranty Disclaimer\n",
      "<ol>\n",
      "<li>Bitly has no special relationship with or fiduciary duty to you.\n",
      "You acknowledge that Bitly has no control over, and no duty to take any action regarding:\n",
      "<ol>\n",
      "<li>which users gains access to the Services;</li>\n",
      "<li>what Content you access via the Services;</li>\n",
      "<li>what effects the Content may have on you;</li>\n",
      "<li>how you may interpret or use the Content.\n",
      "or</li>\n",
      "<li>what actions you may take as a result of having been exposed to the Content.</li>\n",
      "</ol>\n",
      "</li>\n",
      "<li>You release Bitly from all liability for you having acquired or not acquired Content through the Services.\n",
      "The Services may contain, or direct you to websites containing, information that some people may find offensive or inappropriate.\n",
      "Bitly makes no representations concerning any Content contained in or accessed through the Services, and it will not be responsible or liable for the accuracy, copyright compliance, legality or decency of material contained in or accessed through the Services.</li>\n",
      "<li>THE SERVICES AND CONTENT ARE PROVIDED “AS IS”, “AS AVAILABLE” AND WITHOUT WARRANTY OF ANY KIND, EXPRESS OR IMPLIED, INCLUDING, BUT NOT LIMITED TO, THE IMPLIED WARRANTIES OF TITLE, NON-INFRINGEMENT, MERCHANTABILITY AND FITNESS FOR A PARTICULAR PURPOSE, AND ANY WARRANTIES IMPLIED BY ANY COURSE OF PERFORMANCE OR USAGE OF TRADE, ALL OF WHICH ARE EXPRESSLY DISCLAIMED.\n",
      "BITLY, AND ITS DIRECTORS, EMPLOYEES, AGENTS, SUPPLIERS, PARTNERS AND CONTENT PROVIDERS DO NOT WARRANT THAT: (I) THE SERVICES WILL BE SECURE OR AVAILABLE AT ANY PARTICULAR TIME OR LOCATION.\n",
      "(II) ANY DEFECTS OR ERRORS WILL BE CORRECTED.\n",
      "(III) ANY CONTENT OR SOFTWARE AVAILABLE AT OR THROUGH THE SERVICES IS FREE OF VIRUSES OR OTHER HARMFUL COMPONENTS.\n",
      "OR (IV) THE RESULTS OF USING THE SERVICES WILL MEET YOUR REQUIREMENTS.\n",
      "YOUR USE OF THE SERVICES IS SOLELY AT YOUR OWN RISK.\n",
      "SOME STATES DO NOT ALLOW LIMITATIONS ON IMPLIED WARRANTIES, SO THE FOREGOING LIMITATIONS MAY NOT APPLY TO YOU.</li>\n",
      "<li>ELECTRONIC COMMUNICATIONS PRIVACY ACT NOTICE (18 USC 2701-2711): BITLY MAKES NO GUARANTY OF CONFIDENTIALITY OR PRIVACY OF ANY COMMUNICATION OR INFORMATION TRANSMITTED ON THE SERVICES OR ANY WEBSITE LINKED TO THE SERVICES.\n",
      "Bitly will not be liable for the privacy of e-mail addresses, registration and identification information, disk space, communications, confidential or trade-secret information, or any other Content stored on Bitly’s equipment, transmitted over networks accessed by the Services, or otherwise connected with your use of the Services.</li>\n",
      "</ol>13.\n",
      "Indemnification\n",
      "<p>You shall defend, indemnify, and hold harmless Bitly, its affiliates and each of their respective employees, contractors, directors, suppliers and representatives from all liabilities, claims, and expenses, including reasonable attorneys’ fees, that arise from or relate to your use or misuse of, or access to, the Services, Content, or which otherwise arise from your User Content, violation of these Terms of Service, or infringement by you, or any third party using your Account, of any intellectual property or other right of any person or entity.\n",
      "Bitly reserves the right to assume the exclusive defense and control of any matter subject to indemnification by you, in which event you will assist and cooperate with Bitly in asserting any available defenses.</p>\n",
      "14.\n",
      "Limitation of Liability\n",
      "<p>IN NO EVENT SHALL BITLY, ITS AFFILIATES NOR ANY OF THEIR RESPECTIVE DIRECTORS, EMPLOYEES, CONTRACTORS, AGENTS, PARTNERS, SUPPLIERS, REPRESENTATIVES OR CONTENT PROVIDERS, BE LIABLE UNDER CONTRACT, TORT, STRICT LIABILITY, NEGLIGENCE OR ANY OTHER LEGAL OR EQUITABLE THEORY WITH RESPECT TO THE SERVICES (I) FOR ANY LOST PROFITS, DATA LOSS, COST OF PROCUREMENT OF SUBSTITUTE GOODS OR SERVICES, OR SPECIAL, DIRECT, INDIRECT, INCIDENTAL, PUNITIVE, OR CONSEQUENTIAL DAMAGES OF ANY KIND WHATSOEVER, SUBSTITUTE GOODS OR SERVICES (HOWEVER ARISING).\n",
      "OR (II) FOR ANY BUGS, VIRUSES, TROJAN HORSES, OR THE LIKE (REGARDLESS OF THE SOURCE OF ORIGINATION).\n",
      "NOTWITHSTANDING THE FOREGOING, UNDER NO CIRCUMSTANCES SHALL SUCH LIABILITY EXCEED ANY DAMAGES IN EXCESS OF ONE HUNDRED U.S.\n",
      "DOLLARS ($100.00) IN THE AGGREGATE.\n",
      "SOME STATES DO NOT ALLOW THE EXCLUSION OR LIMITATION OF INCIDENTAL OR CONSEQUENTIAL DAMAGES, SO THE ABOVE LIMITATIONS AND EXCLUSIONS MAY NOT APPLY TO YOU.</p>\n",
      "15.\n",
      "Governing Law and Jurisdiction.\n",
      "<p>These Terms of Service shall be governed by and construed in accordance with the laws of the State of New York, including its conflicts of law rules, and the United States of America.\n",
      "You agree that any dispute arising from or relating to the subject matter of these Terms of Service shall be governed by the exclusive jurisdiction and venue of the state and federal courts of New York County, New York.</p>\n",
      "16.\n",
      "Entire Agreement and Severability.\n",
      "<p>These Terms of Service are the entire agreement between you and Bitly with respect to the Services and supersede all prior or contemporaneous communications and proposals (whether oral, written or electronic) between you and Bitly with respect to the Services.\n",
      "If any provision of these Terms of Service is found to be unenforceable or invalid, that provision will be limited or eliminated to the minimum extent necessary so that these Terms of Service will otherwise remain in full force and effect and enforceable.</p>\n",
      "17.\n",
      "Miscellaneous\n",
      "<ol>\n",
      "<li>\n",
      "<strong>Force Majeure.</strong> Bitly shall not be liable for any failure to perform its obligations hereunder where such failure results from any cause beyond Bitly’s reasonable control, including, without limitation, mechanical, electronic or communications failure or degradation.</li>\n",
      "<li>\n",
      "<strong>Assignment.</strong> These Terms of Service are personal to you, and are not assignable, transferable or sublicensable by you except with Bitly’s prior written consent.\n",
      "Bitly may assign, transfer or delegate any of its rights and obligations hereunder without consent.</li>\n",
      "<li>\n",
      "<strong>Agency.</strong> No agency, partnership, joint venture, or employment relationship is created as a result of these Terms of Service and neither party has any authority of any kind to bind the other in any respect.</li>\n",
      "<li>\n",
      "<strong>Notices.</strong> Unless otherwise specified in these Term of Service, all notices under these Terms of Service will be in writing and will be deemed to have been duly given when received, if personally delivered or sent by certified or registered mail, return receipt requested.\n",
      "when receipt is electronically confirmed, if transmitted by facsimile or e-mail.\n",
      "or the day after it is sent, if sent for next day delivery by recognized overnight delivery service.</li>\n",
      "<li>\n",
      "<strong>No Waiver.</strong> The failure of Bitly to enforce any part of these Terms of Service shall not constitute a waiver of its right to later enforce that or any other part of these Terms of Service.\n",
      "Waiver of compliance in any particular instance, does not mean that we will do so in the future.\n",
      "In order for any waiver of compliance with these Terms of Service to be binding, Bitly must provide you with written notice of such waiver, provided by one of its authorized representatives.</li>\n",
      "<li>\n",
      "<strong>Headings.</strong> The section and paragraph headings in these Terms of Service are for convenience only and shall not affect their interpretation.</li>\n",
      "</ol>18.\n",
      "Contact\n",
      "<p>You may contact Bitly: by mail at 85 5th Ave, 4th Floor, New York, NY 10003.\n",
      "by e-mail at support@bitly.com.\n",
      "or on Twitter @bitly.</p>\n",
      "<p>\n",
      "<strong>Effective Date of Terms of Service: August 8, 2014.</strong>\n",
      "</p> \n",
      "\n"
     ]
    }
   ],
   "source": [
    "\n",
    "html = open(\"../Data/crawl_reviewed/bit.ly/Terms of Service.txt\").read()\n",
    "soup=BeautifulSoup(html, 'html.parser')\n",
    "print(soup.get_text())"
   ]
  },
  {
   "cell_type": "code",
   "execution_count": 32,
   "metadata": {
    "collapsed": false
   },
   "outputs": [
    {
     "data": {
      "text/plain": [
       "'bit.ly'"
      ]
     },
     "execution_count": 32,
     "metadata": {},
     "output_type": "execute_result"
    }
   ],
   "source": [
    "os.path.split(\"../Data/crawl_reviewed/bit.ly/Terms of Service.txt\")[0].split(\"/\")[-1]"
   ]
  },
  {
   "cell_type": "code",
   "execution_count": 18,
   "metadata": {
    "collapsed": false
   },
   "outputs": [
    {
     "name": "stdout",
     "output_type": "stream",
     "text": [
      "\n",
      "\n",
      "Introduction\n",
      "9GAG, Inc. (“9GAG”) takes the private nature of your personal information very seriously.\n",
      "\n",
      "This privacy policy, which we adapted from a policy originally provided by Automattic (WordPress.com), describes how we treat the information we collect when you visit and use our websites. Please read this notice very carefully.\n",
      "\n",
      "\n",
      "Website Visitors\n",
      "Like most website operators, 9GAG collects non-personally-identifying information of the sort that web browsers and servers typically make available, such as the browser type, language preference, referring site, and the date and time of each visitor request. 9GAG's purpose in collecting non-personally identifying information is to better understand how 9GAG's visitors use its website. From time to time, 9GAG may release non-personally-identifying information in the aggregate, e.g. by publishing a report on trends in the usage of its website.\n",
      "\n",
      "\n",
      "9GAG also collects potentially personally-identifying information like Internet Protocol (IP) addresses. 9GAG does not use such information to identify its visitors, and does not disclose such information, other than under the same circumstances that it uses and discloses personally-identifying information, as described below.\n",
      "\n",
      "\n",
      "Gathering of Personally-Identifying Information\n",
      "Certain visitors to 9GAG's websites choose to interact with 9GAG in ways that require 9GAG to gather personally-identifying information. The amount and type of information that 9GAG gathers depends on the nature of the interaction. For example, we ask visitors who sign up for 9GAG.com to provide a username and email address. In each case, 9GAG collects such information only insofar as is necessary or appropriate to fulfill the purpose of the visitor's interaction with 9GAG. 9GAG does not disclose personally-identifying information other than as described below. And visitors can always refuse to supply personally-identifying information, with the caveat that it may prevent them from engaging in certain website-related activities.\n",
      "\n",
      "\n",
      "Aggregated Statistics\n",
      "9GAG may collect statistics about the behavior of visitors to its websites. For instance, 9GAG may monitor the most popular collections on 9GAG.com. 9GAG may display this information publicly or provide it to others. However, 9GAG does not disclose personally-identifying information other than as described below.\n",
      "\n",
      "\n",
      "Protection of Certain Personally-Identifying Information\n",
      "9GAG discloses potentially personally-identifying and personally-identifying information only to those of its employees, contractors and affiliated organizations that (i) need to know that information in order to process it on 9GAG's behalf or to provide services available at 9GAG's websites, and (ii) that have agreed not to disclose it to others. Some of those employees, contractors and affiliated organizations may be located outside of your home country; by using 9GAG's websites, you consent to the transfer of such information to them. In addition, in some cases we may choose to buy or sell assets. In these types of transactions, user information is typically one of the business assets that is transferred. Moreover, if 9GAG or substantially all of its assets were acquired, or in the unlikely event that 9GAG goes out of business or enters bankruptcy, user information would be one of the assets that is transferred or acquired by a third party. You acknowledge that such transfers may occur, and that any acquiror of 9GAG may continue to use your personal and non-personal information only as set forth in this policy. Otherwise, 9GAG will not rent or sell potentially personally-identifying and personally-identifying information to anyone.\n",
      "\n",
      "\n",
      "Other than to its employees, contractors and affiliated organizations, as described above, 9GAG discloses potentially personally-identifying and personally-identifying information only when required to do so by law, or when 9GAG believes in good faith that disclosure is reasonably necessary to protect the property or rights of 9GAG, third parties or the public at large. If you are a registered user of a 9GAG website and have supplied your email address, 9GAG may occasionally send you an email to tell you about new features, solicit your feedback, or just keep you up to date with what's going on with 9GAG and its products. If you send us a request (for example via a support email or via one of our feedback mechanisms), we reserve the right to publish it in order to help us clarify or respond to your request or to help us support other users. 9GAG takes all measures reasonably necessary to protect against the unauthorized access, use, alteration or destruction of potentially personally-identifying and personally-identifying information.\n",
      "\n",
      "\n",
      "You should also be aware that if you submit information to “chat rooms,” “forums” or “message boards” such information becomes public information, meaning that you lose any privacy rights you might have with regards to that information. Such disclosures may also increase your chances of receiving unwanted communications.\n",
      "\n",
      "\n",
      "Cookies\n",
      "A cookie is a string of information that a website stores on a visitor's computer, and that the visitor's browser provides to the website each time the visitor returns. 9GAG uses cookies to help 9GAG identify and track visitors, their usage of 9GAG websites, and their website access preferences. 9GAG visitors who do not wish to have cookies placed on their computers should set their browsers to refuse cookies before using 9GAG's websites, with the drawback that certain features of 9GAG's websites may not function properly without the aid of cookies.\n",
      "\n",
      "\n",
      "Ads\n",
      "Ads appearing on any 9GAG websites may be delivered to users by advertising partners, who may set cookies. These cookies allow the ad server to recognize your computer each time they send you an online advertisement to compile information about you or others who use your computer. This information allows ad networks to, among other things, deliver targeted advertisements that they believe will be of most interest to you. This privacy policy covers the use of cookies by 9GAG and does not cover the use of cookies by any advertisers.\n",
      "\n",
      "\n",
      "Links to Third Party Sites\n",
      "This privacy policy only applies to information collected by 9GAG. This privacy policy does not apply to the practices of companies that 9GAG does not own or control, or employees that 9GAG does not manage. A 9GAG website may contain links to third party websites. Any information you provide to, or that is collected by, third-party sites may be subject to the privacy policies of those sites, if any. We encourage you to read such privacy policies of any third-party sites you visit. It is the sole responsibility of such third parties to adhere to any applicable restrictions on the disclosure of your personally-identifying information, and 9GAG and its affiliates shall not be liable for wrongful use or disclosure of your personally-identifying information by any third party.\n",
      "\n",
      "\n",
      "Security\n",
      "All non-personally-identifying information, potentially personally-identifying and personally identifying-information described above is stored on restricted database servers.\n",
      "\n",
      "\n",
      "Choice/Opt-out\n",
      "If we ever send you information by email concerning new products, services or information that you did not expressly request, we will provide you with an email address by which you may request no further notices.\n",
      "\n",
      "\n",
      "Address Book Data\n",
      "Any external address book data (email contacts, etc.) that a user voluntarily gives 9GAG access to will only be used for the described feature (looking up friends, etc.), and will not be stored or repurposed.\n",
      "\n",
      "\n",
      "Privacy Policy Changes\n",
      "Although most changes are likely to be minor, 9GAG may change its privacy policy from time to time, and in 9GAG's sole discretion. 9GAG encourages visitors to frequently check this page for any changes to its privacy policy. Your continued use of this site after any change in this privacy policy will constitute your acceptance of such change.\n",
      "\n",
      "\n",
      "Contact Us\n",
      "If you have any questions about this privacy policy or our sites in general, please contact us.\n",
      "\n",
      "\n"
     ]
    }
   ],
   "source": [
    "xml=open(\"../Data/corpus/9gag.xml\").read()\n",
    "xmlsoup=BeautifulSoup(xml, 'lxml-xml')\n",
    "print(xmlsoup.get_text())"
   ]
  },
  {
   "cell_type": "code",
   "execution_count": 11,
   "metadata": {
    "collapsed": false
   },
   "outputs": [
    {
     "data": {
      "text/plain": [
       "'9gag'"
      ]
     },
     "execution_count": 11,
     "metadata": {},
     "output_type": "execute_result"
    }
   ],
   "source": [
    "os.path.basename(\"../Data/corpus/9gag.xml\").split(\".\")[0]"
   ]
  },
  {
   "cell_type": "markdown",
   "metadata": {},
   "source": [
    "### Colleciton of Clean Texts"
   ]
  },
  {
   "cell_type": "code",
   "execution_count": 18,
   "metadata": {
    "collapsed": false
   },
   "outputs": [
    {
     "name": "stdout",
     "output_type": "stream",
     "text": [
      "903\n",
      "1010\n",
      "conduit.com\n",
      "nypost.com\n",
      "boardgamegeek.com\n",
      "soundcloud.com\n",
      "allrecipes.com\n",
      "vimeo.com\n",
      "bleacherreport.com\n",
      "photobucket.com\n",
      "comcast.com\n",
      "skype.com\n",
      "consumerist.com\n",
      "twitter.com\n",
      "digg.com\n",
      "mashable.com\n",
      "stackexchange.com\n",
      "imgur.com\n",
      "ezinearticles.com\n",
      "hootsuite.com\n"
     ]
    }
   ],
   "source": [
    "priPolClean={}\n",
    "priPolRawHtml={}\n",
    "priPolRawXml={}\n",
    "pathCrawl=glob.glob(\"/home/meaney.lab/nyao/210/Data/crawl/*/Privacy*\")\n",
    "pathAcl=glob.glob(\"/home/meaney.lab/nyao/210/Data/corpus/*.xml\")\n",
    "print len(pathCrawl)\n",
    "print len(pathAcl)\n",
    "\n",
    "for path in pathAcl:\n",
    "  rawxml=open(path).read()\n",
    "  website=os.path.basename(path).split(\".\")[0]+\".com\"\n",
    "  xmlsoup=BeautifulSoup(xml, 'lxml-xml')\n",
    "\n",
    "  priPolRawXml[website]=rawxml\n",
    "  priPolClean[website]=xmlsoup.get_text()\n",
    "\n",
    "for path in pathCrawl:\n",
    "  folder, filename=os.path.split(path)\n",
    "  website=folder.split(\"/\")[-1]\n",
    "  if website in priPolClean:\n",
    "    print website\n",
    "  rawhtml=open(path).read()\n",
    "  rawsoup=BeautifulSoup(rawhtml, \"html.parser\")\n",
    "  priPolRawHtml[website]=rawhtml\n",
    "  priPolClean[website]=rawsoup.get_text()\n",
    "  \n"
   ]
  },
  {
   "cell_type": "code",
   "execution_count": 16,
   "metadata": {
    "collapsed": false
   },
   "outputs": [
    {
     "name": "stdout",
     "output_type": "stream",
     "text": [
      "1895\n",
      "901\n",
      "1010\n"
     ]
    }
   ],
   "source": [
    "print len(priPolClean.keys())\n",
    "print len(priPolRawHtml.keys())\n",
    "print len(priPolRawXml.keys())"
   ]
  },
  {
   "cell_type": "code",
   "execution_count": 25,
   "metadata": {
    "collapsed": false,
    "scrolled": false
   },
   "outputs": [],
   "source": [
    "import pandas as pd\n",
    "priPolCleanTable=pd.DataFrame.from_dict(priPolClean, orient=\"index\", dtype=\"unicode\")\n",
    "priPolRawTable=pd.DataFrame.from_dict(priPolClean, orient=\"index\", dtype=\"unicode\")"
   ]
  },
  {
   "cell_type": "code",
   "execution_count": 26,
   "metadata": {
    "collapsed": false
   },
   "outputs": [],
   "source": [
    "\"\"\"import json\n",
    "with open(\"privacyClean.json\", \"w\") as f:\n",
    "  json.dump(priPolClean, f)\n",
    "  \n",
    "with open(\"privacyHTMLraw.json\", \"w\") as f:\n",
    "  json.dump(priPolRawHtml, f) \n",
    "  \n",
    "with open(\"privacyXMLraw.json\", \"w\") as f:\n",
    "  json.dump(priPolRawXml, f)\"\"\""
   ]
  },
  {
   "cell_type": "code",
   "execution_count": 30,
   "metadata": {
    "collapsed": false
   },
   "outputs": [
    {
     "name": "stdout",
     "output_type": "stream",
     "text": [
      "('10/02/2017, 11:04', '11:04')\n"
     ]
    }
   ],
   "source": [
    "import time\n",
    "print (time.strftime(\"%d/%m/%Y, %H:%M\"), time.strftime(\"%H:%M\"))"
   ]
  },
  {
   "cell_type": "code",
   "execution_count": 31,
   "metadata": {
    "collapsed": true
   },
   "outputs": [],
   "source": [
    "import logging\n",
    "logger = logging.getLogger('spam_application')\n",
    "logger.setLevel(logging.DEBUG)\n",
    "# create file handler which logs even debug messages\n",
    "fh = logging.FileHandler('spam.log')\n",
    "fh.setLevel(logging.DEBUG)\n",
    "# create console handler with a higher log level\n",
    "ch = logging.StreamHandler()\n",
    "ch.setLevel(logging.ERROR)\n",
    "# create formatter and add it to the handlers\n",
    "formatter = logging.Formatter('%(asctime)s - %(name)s - %(levelname)s - %(message)s')\n",
    "fh.setFormatter(formatter)\n",
    "ch.setFormatter(formatter)\n",
    "# add the handlers to the logger\n",
    "logger.addHandler(fh)\n",
    "logger.addHandler(ch)"
   ]
  },
  {
   "cell_type": "code",
   "execution_count": 32,
   "metadata": {
    "collapsed": true
   },
   "outputs": [],
   "source": [
    "logger.info(\"Start\")"
   ]
  }
 ],
 "metadata": {
  "anaconda-cloud": {},
  "kernelspec": {
   "display_name": "Python [conda root]",
   "language": "python",
   "name": "conda-root-py"
  },
  "language_info": {
   "codemirror_mode": {
    "name": "ipython",
    "version": 2
   },
   "file_extension": ".py",
   "mimetype": "text/x-python",
   "name": "python",
   "nbconvert_exporter": "python",
   "pygments_lexer": "ipython2",
   "version": "2.7.12"
  }
 },
 "nbformat": 4,
 "nbformat_minor": 1
}
