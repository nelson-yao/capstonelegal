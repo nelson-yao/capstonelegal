{
 "cells": [
  {
   "cell_type": "code",
   "execution_count": 6,
   "metadata": {
    "collapsed": true
   },
   "outputs": [],
   "source": [
    "import numpy as np\n",
    "import matplotlib.pyplot as plt\n"
   ]
  },
  {
   "cell_type": "code",
   "execution_count": 13,
   "metadata": {
    "collapsed": true
   },
   "outputs": [],
   "source": [
    "# Given matrices of 1s and 0s, row is number of observations\n",
    "# column is the number of variables , implement a function that calculates MI\n",
    "\n",
    "def MIscorePart(X,Y,xlabel, ylabel):\n",
    "  assert X.shape==Y.shape, \"Shape of the two input matrices must be the same\"\n",
    "  nrow=X.shape[0]\n",
    "  rightX=X==xlabel\n",
    "  rightY=Y==ylabel\n",
    "  margX=(np.sum(rightX, axis=0)+10**-10)/nrow\n",
    "  margY=(np.sum(rightY, axis=0)+10**-10)/nrow\n",
    "  \n",
    "  inter=(np.sum(np.logical_and(rightX, rightY), axis=0)+10**-10)/nrow\n",
    "  #print(margX, margY, inter)\n",
    "  #print(inter*np.log(margX*margY))\n",
    "  result=inter*np.log(inter/(margX*margY))\n",
    "  return result\n",
    "  \n",
    "\n",
    "\n",
    "def MIscore(X,Y):\n",
    "  assert X.shape==Y.shape, \"Shape of the two input matrices must be the same\"\n",
    "  nrow=X.shape[0]\n",
    "  part1=MIscorePart(X,Y,1,1) #x=1, y=1 \n",
    "  part2=MIscorePart(X,Y,1,0)\n",
    "  part3=MIscorePart(X,Y,0,1)\n",
    "  part4=MIscorePart(X,Y,0,0)\n",
    "  \n",
    "  score=part1+part2+part3+part4\n",
    "  return score"
   ]
  },
  {
   "cell_type": "code",
   "execution_count": 38,
   "metadata": {
    "collapsed": true
   },
   "outputs": [],
   "source": [
    "from sklearn.metrics import mutual_info_score\n",
    "def compareMI(X,Y):\n",
    "  scikitMI=mutual_info_score(X,Y)\n",
    "  myMI=MIscore(X,Y)\n",
    "  print(scikitMI-myMI)\n",
    "  return scikitMI-myMI"
   ]
  },
  {
   "cell_type": "code",
   "execution_count": 36,
   "metadata": {
    "collapsed": true
   },
   "outputs": [],
   "source": [
    "testx=np.random.randint(0,2,10000)\n",
    "testy=np.random.randint(0,2,10000)\n",
    "\n",
    "result=compareMI(testx, testy)\n",
    "print(result)"
   ]
  },
  {
   "cell_type": "code",
   "execution_count": 31,
   "metadata": {
    "collapsed": false
   },
   "outputs": [
    {
     "data": {
      "image/png": "[encoded data removed]",
      "text/plain": [
       "<matplotlib.figure.Figure at 0x7f4900ab78d0>"
      ]
     },
     "metadata": {},
     "output_type": "display_data"
    }
   ],
   "source": [
    "plotHist(compareMI(testx, testy), 100)"
   ]
  },
  {
   "cell_type": "code",
   "execution_count": null,
   "metadata": {
    "collapsed": true
   },
   "outputs": [],
   "source": []
  }
 ],
 "metadata": {
  "kernelspec": {
   "display_name": "Python 3",
   "language": "python",
   "name": "python3"
  },
  "language_info": {
   "codemirror_mode": {
    "name": "ipython",
    "version": 3
   },
   "file_extension": ".py",
   "mimetype": "text/x-python",
   "name": "python",
   "nbconvert_exporter": "python",
   "pygments_lexer": "ipython3",
   "version": "3.6.0"
  }
 },
 "nbformat": 4,
 "nbformat_minor": 2
}
