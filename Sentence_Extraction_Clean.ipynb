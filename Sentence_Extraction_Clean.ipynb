{
 "cells": [
  {
   "cell_type": "code",
   "execution_count": 2,
   "metadata": {
    "collapsed": false,
    "deletable": true,
    "editable": true
   },
   "outputs": [],
   "source": [
    "import json\n",
    "import pandas as pd \n",
    "import glob\n",
    "import os\n",
    "import re\n",
    "from bs4 import BeautifulSoup \n",
    "from IPython.display import display, HTML\n",
    "import pickle\n",
    "import numpy as np"
   ]
  },
  {
   "cell_type": "code",
   "execution_count": 3,
   "metadata": {
    "collapsed": false,
    "deletable": true,
    "editable": true
   },
   "outputs": [
    {
     "name": "stdout",
     "output_type": "stream",
     "text": [
      "115\n"
     ]
    }
   ],
   "source": [
    "## Read in consolidated annotations\n",
    "#annotations={}\n",
    "#annofiles=glob.glob(\"Data/opp115-parsed-annotation-1.0/*.json\")\n",
    "#print len(annofiles)\n",
    "policyFiles=glob.glob(\"/share/pub/OPP-115/sanitized_policies/*.html\")\n",
    "print(len(policyFiles))"
   ]
  },
  {
   "cell_type": "markdown",
   "metadata": {
    "deletable": true,
    "editable": true
   },
   "source": [
    "###  Read in the annotations and original policies"
   ]
  },
  {
   "cell_type": "code",
   "execution_count": 4,
   "metadata": {
    "collapsed": true,
    "deletable": true,
    "editable": true
   },
   "outputs": [],
   "source": [
    "def readAnno(filelist):\n",
    "  annotations={}\n",
    "  for filename in filelist:\n",
    "    website=re.sub(\".json\", '', os.path.basename(filename))\n",
    "    with open(filename, \"r\") as f:\n",
    "      annotations[website]=json.load(f)\n",
    "    f.close()\n",
    "  return annotations\n",
    "\n",
    "def readPolicies(filelist):\n",
    "  soups={}\n",
    "  for filename in filelist:\n",
    "    base=os.path.basename(filename).split(\"_\")[1]\n",
    "    website=re.sub(\".html\", '', base)\n",
    "    soups[website]=BeautifulSoup(open(filename, \"r\").read(), 'html.parser')\n",
    "  return soups"
   ]
  },
  {
   "cell_type": "code",
   "execution_count": 5,
   "metadata": {
    "collapsed": false,
    "deletable": true,
    "editable": true
   },
   "outputs": [],
   "source": [
    "with open(\"Data/parsed-annotation-0.5.pk\", 'rb') as f:\n",
    "  annotations=pickle.load(f, encoding='latin1')"
   ]
  },
  {
   "cell_type": "code",
   "execution_count": 6,
   "metadata": {
    "collapsed": false,
    "deletable": true,
    "editable": true
   },
   "outputs": [
    {
     "data": {
      "text/html": [
       "<div>\n",
       "<table border=\"1\" class=\"dataframe\">\n",
       "  <thead>\n",
       "    <tr style=\"text-align: right;\">\n",
       "      <th></th>\n",
       "      <th>endIndexInSegment</th>\n",
       "      <th>section</th>\n",
       "      <th>selectedText</th>\n",
       "      <th>startIndexInSegment</th>\n",
       "      <th>value</th>\n",
       "    </tr>\n",
       "  </thead>\n",
       "  <tbody>\n",
       "    <tr>\n",
       "      <th>0</th>\n",
       "      <td>153</td>\n",
       "      <td>18</td>\n",
       "      <td>promotional purpose through one of our websites</td>\n",
       "      <td>106</td>\n",
       "      <td>Marketing</td>\n",
       "    </tr>\n",
       "    <tr>\n",
       "      <th>1</th>\n",
       "      <td>201</td>\n",
       "      <td>18</td>\n",
       "      <td>or to make a purchase from the PlayStation Shop</td>\n",
       "      <td>154</td>\n",
       "      <td>Perform service</td>\n",
       "    </tr>\n",
       "    <tr>\n",
       "      <th>2</th>\n",
       "      <td>226</td>\n",
       "      <td>22</td>\n",
       "      <td>Email addresses collected from consumers durin...</td>\n",
       "      <td>0</td>\n",
       "      <td>Perform service</td>\n",
       "    </tr>\n",
       "    <tr>\n",
       "      <th>3</th>\n",
       "      <td>200</td>\n",
       "      <td>24</td>\n",
       "      <td>so that we may assist these customers with cur...</td>\n",
       "      <td>124</td>\n",
       "      <td>Perform service</td>\n",
       "    </tr>\n",
       "    <tr>\n",
       "      <th>4</th>\n",
       "      <td>159</td>\n",
       "      <td>40</td>\n",
       "      <td>necessary to fulfill the purposes outlined in ...</td>\n",
       "      <td>102</td>\n",
       "      <td>Other</td>\n",
       "    </tr>\n",
       "  </tbody>\n",
       "</table>\n",
       "</div>"
      ],
      "text/plain": [
       "   endIndexInSegment  section  \\\n",
       "0                153       18   \n",
       "1                201       18   \n",
       "2                226       22   \n",
       "3                200       24   \n",
       "4                159       40   \n",
       "\n",
       "                                        selectedText  startIndexInSegment  \\\n",
       "0    promotional purpose through one of our websites                  106   \n",
       "1    or to make a purchase from the PlayStation Shop                  154   \n",
       "2  Email addresses collected from consumers durin...                    0   \n",
       "3  so that we may assist these customers with cur...                  124   \n",
       "4  necessary to fulfill the purposes outlined in ...                  102   \n",
       "\n",
       "             value  \n",
       "0        Marketing  \n",
       "1  Perform service  \n",
       "2  Perform service  \n",
       "3  Perform service  \n",
       "4            Other  "
      ]
     },
     "execution_count": 6,
     "metadata": {},
     "output_type": "execute_result"
    }
   ],
   "source": [
    "annotations[\"playstation.com\"][\"Data Retention\"]['Retention Purpose']"
   ]
  },
  {
   "cell_type": "code",
   "execution_count": 7,
   "metadata": {
    "collapsed": false,
    "deletable": true,
    "editable": true
   },
   "outputs": [],
   "source": [
    "### read in sanitized policy texts\n",
    "policySoups=readPolicies(policyFiles)"
   ]
  },
  {
   "cell_type": "code",
   "execution_count": 8,
   "metadata": {
    "collapsed": false,
    "deletable": true,
    "editable": true
   },
   "outputs": [
    {
     "name": "stdout",
     "output_type": "stream",
     "text": [
      "115\n",
      "115\n"
     ]
    }
   ],
   "source": [
    "## make sure that the website names are the same in both dictinoaries\n",
    "test1=filter(lambda website: website in annotations.keys(), policySoups.keys())\n",
    "test2=filter(lambda website: website in policySoups.keys(), annotations.keys())\n",
    "print(len(list(test1)))\n",
    "print(len(list(test2)))"
   ]
  },
  {
   "cell_type": "markdown",
   "metadata": {
    "deletable": true,
    "editable": true
   },
   "source": [
    "## Get a list of ngrams from all of the policies"
   ]
  },
  {
   "cell_type": "code",
   "execution_count": 9,
   "metadata": {
    "collapsed": true,
    "deletable": true,
    "editable": true
   },
   "outputs": [],
   "source": [
    "## Get the texts from beautifulsoup objects\n",
    "\n",
    "def extractTexts(soups):\n",
    "  policyTexts={}\n",
    "  for website in soups:\n",
    "    policyTexts[website]=soups[website].get_text()\n",
    "  return policyTexts"
   ]
  },
  {
   "cell_type": "code",
   "execution_count": 10,
   "metadata": {
    "collapsed": true,
    "deletable": true,
    "editable": true
   },
   "outputs": [],
   "source": [
    "## get texts from soup objects\n",
    "policyTexts=extractTexts(policySoups)"
   ]
  },
  {
   "cell_type": "code",
   "execution_count": 11,
   "metadata": {
    "collapsed": false,
    "deletable": true,
    "editable": true
   },
   "outputs": [],
   "source": [
    "## get the training and validation set \n",
    "import random\n",
    "websites=policyTexts.keys()\n",
    "seed=124\n",
    "random.seed(seed)\n",
    "trainWebsites=random.sample(websites, 105)\n",
    "valWebsites=[web for web in websites if web not in trainWebsites]\n",
    "\n",
    "trainTexts={web:policyTexts[web] for web in trainWebsites}"
   ]
  },
  {
   "cell_type": "code",
   "execution_count": 12,
   "metadata": {
    "collapsed": false,
    "deletable": true,
    "editable": true
   },
   "outputs": [],
   "source": [
    "from nltk.corpus import stopwords\n",
    "from nltk import word_tokenize\n",
    "from nltk.tokenize import sent_tokenize\n",
    "import re\n",
    "import itertools\n",
    "import string\n",
    "engstop=set(stopwords.words(\"english\"))\n"
   ]
  },
  {
   "cell_type": "code",
   "execution_count": 13,
   "metadata": {
    "collapsed": false,
    "deletable": true,
    "editable": true
   },
   "outputs": [
    {
     "name": "stdout",
     "output_type": "stream",
     "text": [
      "!\"#$%&'()*+,-./:;<=>?@[\\]^_`{|}~\n"
     ]
    }
   ],
   "source": [
    "print (string.punctuation)"
   ]
  },
  {
   "cell_type": "code",
   "execution_count": 56,
   "metadata": {
    "collapsed": false,
    "deletable": true,
    "editable": true
   },
   "outputs": [],
   "source": [
    "from collections import Counter\n",
    "import itertools\n",
    "\n",
    "\n",
    "def cleantext(rawtext):\n",
    "  # remove punctuations\n",
    "  # remove=string.punctuations\n",
    "  cleaned3=re.sub(\"\\|\",\"\", rawtext.lower())\n",
    "  return cleaned3\n",
    "\n",
    "\n",
    "def getNgrams(rawtext, length, stopwords):  # length defines number of words in the token, i.e. unigrams, bigrams ec\n",
    "  punctuations = re.compile('[%s]' % re.escape(string.punctuation))\n",
    "  if length==1:\n",
    "    cleaned=cleantext(rawtext)\n",
    "    tokenlist=word_tokenize(cleaned)\n",
    "    tokensNoStop=[token for token in tokenlist if token not in stopwords]\n",
    "    return list(set(tokensNoStop))\n",
    "  \n",
    "  if length>=2:\n",
    "    sentenceList=sent_tokenize(rawtext)\n",
    "    sentenceClean=[cleantext(sentence) for sentence in sentenceList]\n",
    "    unigramLists=[word_tokenize(sentence) for sentence in sentenceClean]\n",
    "    \n",
    "    bigramLists=[zip(*[sentUnigram[i::] for i in range(length)]) for sentUnigram in unigramLists]\n",
    "    bigrams=list(itertools.chain.from_iterable(bigramLists))\n",
    "    \n",
    "    return list(set(bigrams))\n",
    "  \n"
   ]
  },
  {
   "cell_type": "code",
   "execution_count": 52,
   "metadata": {
    "collapsed": false,
    "deletable": true,
    "editable": true
   },
   "outputs": [],
   "source": [
    "def getAllTokens(textDict, ngram, stopwords):\n",
    "  allTokens=[]\n",
    "  for website in textDict:\n",
    "    allTokens.extend(getNgrams(textDict[website], ngram, stopwords))\n",
    "  return list(set(allTokens))\n",
    "\n"
   ]
  },
  {
   "cell_type": "code",
   "execution_count": null,
   "metadata": {
    "collapsed": true
   },
   "outputs": [],
   "source": [
    "def countNgrams(rawtext, length, stopwords):  # length defines number of words in the token, i.e. unigrams, bigrams ec\n",
    "  punctuations = re.compile('[%s]' % re.escape(string.punctuation))\n",
    "  if length==1:\n",
    "    cleaned=cleantext(rawtext)\n",
    "    tokenlist=word_tokenize(cleaned)\n",
    "    tokensNoStop=[token for token in tokenlist if token not in stopwords]\n",
    "    return list(tokensNoStop)\n",
    "  \n",
    "  if length>=2:\n",
    "    sentenceList=sent_tokenize(rawtext)\n",
    "    sentenceClean=[cleantext(sentence) for sentence in sentenceList]\n",
    "    unigramLists=[word_tokenize(sentence) for sentence in sentenceClean]\n",
    "    \n",
    "    bigramLists=[zip(*[sentUnigram[i::] for i in range(length)]) for sentUnigram in unigramLists]\n",
    "    bigrams=list(itertools.chain.from_iterable(bigramLists))\n",
    "    \n",
    "    return list(set(bigrams))\n",
    "  "
   ]
  },
  {
   "cell_type": "markdown",
   "metadata": {
    "deletable": true,
    "editable": true
   },
   "source": [
    "#### Generate Training data"
   ]
  },
  {
   "cell_type": "code",
   "execution_count": 16,
   "metadata": {
    "collapsed": true,
    "deletable": true,
    "editable": true
   },
   "outputs": [],
   "source": [
    "## Get annotation of the training documents\n",
    "trainAnno={key:annotations[key] for key in trainTexts.keys()}"
   ]
  },
  {
   "cell_type": "markdown",
   "metadata": {
    "deletable": true,
    "editable": true
   },
   "source": [
    "## Determine Relevance of each sentence in training set"
   ]
  },
  {
   "cell_type": "markdown",
   "metadata": {
    "collapsed": true,
    "deletable": true,
    "editable": true
   },
   "source": [
    "### 1. Get the index of each sentences in the policy texts"
   ]
  },
  {
   "cell_type": "code",
   "execution_count": 19,
   "metadata": {
    "collapsed": true,
    "deletable": true,
    "editable": true
   },
   "outputs": [],
   "source": [
    "## Label the sentences in a policy as relevant or irrelevant\n",
    "## \n",
    "# Topic: \"Personal Information Type\""
   ]
  },
  {
   "cell_type": "code",
   "execution_count": 17,
   "metadata": {
    "collapsed": false,
    "deletable": true,
    "editable": true
   },
   "outputs": [],
   "source": [
    "def getSentIdx(raw):\n",
    "  allIdx={}\n",
    "  secList=raw.split(\"|||\")\n",
    "  for i in range(len(secList)):\n",
    "    try:\n",
    "      secText=secList[i]\n",
    "    except IndexError:\n",
    "      print(i)\n",
    "    secSents=sent_tokenize(secText)\n",
    "    secIdxLists=[]\n",
    "    for sent in secSents:\n",
    "      m=re.search(re.escape(sent), secText)  ## escape to account for quotes in the string\n",
    "      secIdxLists.append((sent, i, m.start(),m.end()))\n",
    "    allIdx[i]=secIdxLists\n",
    "  return allIdx\n",
    "\n",
    "def getAllIdx(textDict):\n",
    "  results={}\n",
    "  for website, text in textDict.items():\n",
    "    try:\n",
    "      senidxes=getSentIdx(text)\n",
    "      results[website]=senidxes\n",
    "    except IndexError:\n",
    "      print(website)\n",
    "  return results\n"
   ]
  },
  {
   "cell_type": "code",
   "execution_count": 18,
   "metadata": {
    "collapsed": false,
    "deletable": true,
    "editable": true
   },
   "outputs": [
    {
     "name": "stdout",
     "output_type": "stream",
     "text": [
      "CPU times: user 14.3 s, sys: 16 ms, total: 14.3 s\n",
      "Wall time: 14.3 s\n"
     ]
    }
   ],
   "source": [
    "%%time\n",
    "trainSentIdx=getAllIdx(trainTexts)"
   ]
  },
  {
   "cell_type": "code",
   "execution_count": 19,
   "metadata": {
    "collapsed": false,
    "deletable": true,
    "editable": true
   },
   "outputs": [
    {
     "name": "stdout",
     "output_type": "stream",
     "text": [
      "endIndexInSegment                                              119\n",
      "section                                                          2\n",
      "selectedText           nformation that specifically identifies you\n",
      "startIndexInSegment                                             76\n",
      "value                                 Generic personal information\n",
      "Name: 4, dtype: object\n",
      "nformation that specifically identifies you\n",
      "\n",
      "\n",
      "Text in corpus : \n"
     ]
    },
    {
     "data": {
      "text/plain": [
       "[('Subscriber Information   UpToDate never automatically collects any information that specifically identifies you such as your name, address, or e-mail address.',\n",
       "  2,\n",
       "  0,\n",
       "  158),\n",
       " ('This information is collected only when you voluntarily provide it as part of the subscription process (\"Subscriber Information\").',\n",
       "  2,\n",
       "  159,\n",
       "  289),\n",
       " ('We will ask you whenever we need Subscriber Information that identifies you or allows us to contact you.',\n",
       "  2,\n",
       "  290,\n",
       "  394)]"
      ]
     },
     "metadata": {},
     "output_type": "display_data"
    },
    {
     "name": "stdout",
     "output_type": "stream",
     "text": [
      "\n",
      "\n",
      "start index in corpus section : 68\n",
      "end index in corpus section : 111\n",
      "Annotation indices is ahead of corpus indices by 8 characters \n",
      "76\n"
     ]
    }
   ],
   "source": [
    "## An example to see if indexing is correct:\n",
    "exampleSite=\"uptodate.com\"\n",
    "annoEg=trainAnno[exampleSite]['First Party Collection/Use']['Personal Information Type'].loc[4]\n",
    "print (annoEg)\n",
    "selecTextAnno=annoEg[\"selectedText\"]\n",
    "\n",
    "print (selecTextAnno)\n",
    "\n",
    "print (\"\\n\")\n",
    "corpusText=trainSentIdx[exampleSite][annoEg['section']]\n",
    "sentenceNumber=[idx for idx in range(len(corpusText))][0]\n",
    "\n",
    "print (\"Text in corpus : \")\n",
    "display(corpusText)\n",
    "\n",
    "print (\"\\n\")\n",
    "\n",
    "corpusStart=re.search(selecTextAnno, corpusText[sentenceNumber][0]).start()\n",
    "corpusEnd= re.search(selecTextAnno, corpusText[sentenceNumber][0]).end()\n",
    "\n",
    "print (\"start index in corpus section :\", corpusText[sentenceNumber][2]+corpusStart)\n",
    "print (\"end index in corpus section :\", corpusText[sentenceNumber][2]+corpusEnd)\n",
    "\n",
    "print (\"Annotation indices is ahead of corpus indices by {} characters \".format(annoEg[\"startIndexInSegment\"]-corpusStart))\n",
    "\n",
    "\n",
    "print (trainAnno[exampleSite]['First Party Collection/Use']['Personal Information Type'].loc[4][\"startIndexInSegment\"])"
   ]
  },
  {
   "cell_type": "markdown",
   "metadata": {},
   "source": [
    "### Gather the sentences and put them in a convenient structure"
   ]
  },
  {
   "cell_type": "code",
   "execution_count": 20,
   "metadata": {
    "collapsed": false
   },
   "outputs": [
    {
     "name": "stdout",
     "output_type": "stream",
     "text": [
      "CPU times: user 1min 2s, sys: 80 ms, total: 1min 2s\n",
      "Wall time: 1min 2s\n"
     ]
    }
   ],
   "source": [
    "%%time\n",
    "# for each selectedText in annotation, search for corresponding sentence in the corpus \n",
    "# if a selectedText is more than one sentence long, it will be discarded, since it does not provide much information\n",
    "# for the importance of words\n",
    "def labelRel(anno, sentIdx):\n",
    "  sentlabels={}\n",
    "  for website, siteanno in anno.items():\n",
    "    sentlabels[website]={}\n",
    "    siteSents=sentIdx[website]\n",
    "    for section, sentList in siteSents.items():\n",
    "\n",
    "      sentlabels[website][section]=[list(sentTuple) for sentTuple in sentList]\n",
    "      for sentEntry in sentlabels[website][section]:\n",
    "        sentEntry.append([])\n",
    "\n",
    "    for category in siteanno:\n",
    "      for topic in siteanno[category]:\n",
    "        topicFrame=siteanno[category][topic]\n",
    "        for idx in topicFrame.index:\n",
    "          if topicFrame.loc[idx][\"startIndexInSegment\"]!=-1 and topicFrame.loc[idx][\"value\"]!=\"Unspecified\":\n",
    "            entry=topicFrame.loc[idx]\n",
    "            anno_start=entry[\"endIndexInSegment\"]\n",
    "            anno_end=entry[\"startIndexInSegment\"]\n",
    "            corpusSents=sentlabels[website][entry[\"section\"]]\n",
    "            for sent in corpusSents:\n",
    "              corpus_start=sent[2]\n",
    "              corpus_end=sent[3]\n",
    "              if corpus_start <=anno_start and corpus_end >= anno_end:\n",
    "                sent[4].append((category, topic, entry[\"value\"]))\n",
    "              elif  abs(corpus_start-anno_start) <20 and abs(corpus_end-anno_end)<20:\n",
    "                sent[4].append((category,topic, entry[\"value\"]))\n",
    "              elif anno_start<=corpus_start and anno_end >= corpus_end:\n",
    "                sent[4].append((category,topic, entry[\"value\"]))\n",
    "                \n",
    "  return sentlabels\n",
    "\n",
    "labeledTrainSents=labelRel(trainAnno, trainSentIdx)"
   ]
  },
  {
   "cell_type": "code",
   "execution_count": 190,
   "metadata": {
    "collapsed": false
   },
   "outputs": [
    {
     "data": {
      "text/plain": [
       "[['\"Cookies\" are bits of electronic information that a website can transfer to a consumer\\'s hard drive to keep records of his or her visit at the website.',\n",
       "  14,\n",
       "  0,\n",
       "  151,\n",
       "  [('First Party Collection/Use',\n",
       "    'Personal Information Type',\n",
       "    'Cookies and tracking elements')]],\n",
       " [\"We may use cookies to improve consumers' experiences when visiting our websites.\",\n",
       "  14,\n",
       "  152,\n",
       "  232,\n",
       "  [('First Party Collection/Use', 'Action First-Party', 'Collect on website'),\n",
       "   ('First Party Collection/Use', 'Action First-Party', 'Collect on website'),\n",
       "   ('First Party Collection/Use',\n",
       "    'Personal Information Type',\n",
       "    'Cookies and tracking elements'),\n",
       "   ('First Party Collection/Use',\n",
       "    'Personal Information Type',\n",
       "    'Cookies and tracking elements'),\n",
       "   ('First Party Collection/Use', 'Purpose', 'Analytics/Research'),\n",
       "   ('First Party Collection/Use', 'Purpose', 'Analytics/Research'),\n",
       "   ('First Party Collection/Use',\n",
       "    'Purpose',\n",
       "    'Personalization/Customization')]],\n",
       " ['We may use cookies to anonymously track interest in, and collect aggregate information on, our websites.',\n",
       "  14,\n",
       "  233,\n",
       "  337,\n",
       "  [('First Party Collection/Use', 'Collection Mode', 'Implicit'),\n",
       "   ('First Party Collection/Use', 'Action First-Party', 'Collect on website'),\n",
       "   ('First Party Collection/Use', 'Action First-Party', 'Collect on website'),\n",
       "   ('First Party Collection/Use', 'Action First-Party', 'Collect on website'),\n",
       "   ('First Party Collection/Use', 'Action First-Party', 'Collect on website'),\n",
       "   ('First Party Collection/Use', 'Does/Does Not', 'Does'),\n",
       "   ('First Party Collection/Use', 'Purpose', 'Analytics/Research'),\n",
       "   ('First Party Collection/Use', 'Purpose', 'Analytics/Research'),\n",
       "   ('First Party Collection/Use',\n",
       "    'Identifiability',\n",
       "    'Aggregated or anonymized'),\n",
       "   ('First Party Collection/Use',\n",
       "    'Identifiability',\n",
       "    'Aggregated or anonymized'),\n",
       "   ('First Party Collection/Use',\n",
       "    'Identifiability',\n",
       "    'Aggregated or anonymized'),\n",
       "   ('First Party Collection/Use',\n",
       "    'Identifiability',\n",
       "    'Aggregated or anonymized')]]]"
      ]
     },
     "execution_count": 190,
     "metadata": {},
     "output_type": "execute_result"
    }
   ],
   "source": [
    "labeledTrainSents['playstation.com'][14]"
   ]
  },
  {
   "cell_type": "code",
   "execution_count": 22,
   "metadata": {
    "collapsed": false
   },
   "outputs": [],
   "source": [
    "%%time\n",
    "### Label all the sentences in all of the texts, just like in  \"labeledTrainSents\" , output to binary\n",
    "allSentIdx=getAllIdx(policyTexts)\n",
    "allLabeledSents=labelRel(annotations, allSentIdx)"
   ]
  },
  {
   "cell_type": "code",
   "execution_count": 533,
   "metadata": {
    "collapsed": true
   },
   "outputs": [],
   "source": [
    "with open(\"LabeledFullSentences.pk\", 'wb') as f:\n",
    "  pickle.dump(allLabeledSents, f)"
   ]
  },
  {
   "cell_type": "code",
   "execution_count": 23,
   "metadata": {
    "collapsed": false
   },
   "outputs": [],
   "source": [
    "### Collect all the sentences , along with their topics, for ease of processing later\n",
    "### Leave out the value for now\n",
    "\n",
    "def gatherSentsTopics(labeldIdxSet):\n",
    "  topiclist=[]\n",
    "  allsentences=[]\n",
    "  for website, corpus in labeldIdxSet.items():\n",
    "    for section, sentLists in corpus.items():\n",
    "      for sent in sentLists:\n",
    "        allsentences.append([website, sent[0], [(item[0], item[1]) for item in sent[4] if item[0]!=\"Other\"]])\n",
    "        for item in sent[4]:\n",
    "          topiclist.append((item[0], item[1]))\n",
    "  return set(topiclist), allsentences\n",
    "\n",
    "alltopics, allLabeledSentences=gatherSentsTopics(labeledTrainSents)"
   ]
  },
  {
   "cell_type": "code",
   "execution_count": 24,
   "metadata": {
    "collapsed": false
   },
   "outputs": [
    {
     "data": {
      "text/plain": [
       "['sheknows.com',\n",
       " 'You can change the settings on your browser or Local Device Storage to prevent cookies being stored on your Local Device Storage without your explicit consent.',\n",
       " [('First Party Collection/Use', 'Choice Type'),\n",
       "  ('First Party Collection/Use', 'Choice Type'),\n",
       "  ('First Party Collection/Use', 'Choice Type'),\n",
       "  ('Third Party Sharing/Collection', 'Choice Type'),\n",
       "  ('Third Party Sharing/Collection', 'Choice Type')]]"
      ]
     },
     "execution_count": 24,
     "metadata": {},
     "output_type": "execute_result"
    }
   ],
   "source": [
    "allLabeledSentences[20]"
   ]
  },
  {
   "cell_type": "code",
   "execution_count": 25,
   "metadata": {
    "collapsed": false,
    "scrolled": false
   },
   "outputs": [
    {
     "name": "stdout",
     "output_type": "stream",
     "text": [
      "CPU times: user 1.68 s, sys: 20 ms, total: 1.7 s\n",
      "Wall time: 1.7 s\n"
     ]
    }
   ],
   "source": [
    "%%time\n",
    "## for each topic, we get alist of related sentences and a list of unrelated sentences\n",
    "\n",
    "def getTopicRelevanceList(labeledSentences, topiclist):\n",
    "  topicSentsCollection={topic:{\"Related\":[], \"Unrelated\":[]} for topic in topiclist}\n",
    "  for entry in labeledSentences:\n",
    "    labelset=set(entry[2])\n",
    "    for topic in topiclist:\n",
    "      if topic not in labelset:\n",
    "        topicSentsCollection[topic][\"Unrelated\"].append(entry[0:2])\n",
    "      else:\n",
    "         topicSentsCollection[topic][\"Related\"].append(entry[0:2])\n",
    "          \n",
    "  results={}\n",
    "  for topic in topiclist:\n",
    "    results[topic]={}\n",
    "    results[topic][\"Related\"]=topicSentsCollection[topic][\"Related\"]\n",
    "    results[topic][\"Unrelated\"]=topicSentsCollection[topic][\"Unrelated\"]\n",
    "  \n",
    "  return results\n",
    "\n",
    "relevantSetences=getTopicRelevanceList(allLabeledSentences, alltopics)"
   ]
  },
  {
   "cell_type": "code",
   "execution_count": 26,
   "metadata": {
    "collapsed": false
   },
   "outputs": [
    {
     "data": {
      "text/plain": [
       "10417"
      ]
     },
     "execution_count": 26,
     "metadata": {},
     "output_type": "execute_result"
    }
   ],
   "source": [
    "len(relevantSetences[('User Choice/Control', 'Personal Information Type')][\"Related\"])+\\\n",
    "len(relevantSetences[('User Choice/Control', 'Personal Information Type')][\"Unrelated\"])"
   ]
  },
  {
   "cell_type": "code",
   "execution_count": 27,
   "metadata": {
    "collapsed": false
   },
   "outputs": [
    {
     "name": "stdout",
     "output_type": "stream",
     "text": [
      "1509\n"
     ]
    }
   ],
   "source": [
    "print(len(relevantSetences[('First Party Collection/Use', 'Does/Does Not')][\"Related\"]))"
   ]
  },
  {
   "cell_type": "code",
   "execution_count": 28,
   "metadata": {
    "collapsed": false
   },
   "outputs": [
    {
     "data": {
      "text/plain": [
       "['sheknows.com',\n",
       " 'You may also \"opt-out\" of other third party programs using OBA technology on your web browser: (a) for users targeted in the United States by visiting http://www.aboutads.info/choices; (b) for users targeted in Europe by visiting http:://www.youronlinechoices.com, selecting the country where you are located; (c) for users targeted in Australia by visiting http://youronlinechoices.com.au, and selecting \"Your Ad Choices\" or \"Your Choices\" as applicable, and (d) for users targeted in Canada by visiting http://youradchoices.ca/choices.']"
      ]
     },
     "execution_count": 28,
     "metadata": {},
     "output_type": "execute_result"
    }
   ],
   "source": [
    "relevantSetences[('User Choice/Control', 'Purpose')][\"Related\"][2]"
   ]
  },
  {
   "cell_type": "code",
   "execution_count": null,
   "metadata": {
    "collapsed": true
   },
   "outputs": [],
   "source": []
  },
  {
   "cell_type": "code",
   "execution_count": 114,
   "metadata": {
    "collapsed": false
   },
   "outputs": [
    {
     "data": {
      "text/plain": [
       "['sheknows.com',\n",
       " ' Information We Collect    User-Provided Information: You provide us information about yourself, such as your name and email address, when you register with the Service.']"
      ]
     },
     "execution_count": 114,
     "metadata": {},
     "output_type": "execute_result"
    }
   ],
   "source": [
    "relevantSetences[('First Party Collection/Use', 'User Type')]['Related'][0]"
   ]
  },
  {
   "cell_type": "code",
   "execution_count": 38,
   "metadata": {
    "collapsed": false
   },
   "outputs": [],
   "source": [
    "## put all the topics and relevance labels in the \n",
    "from itertools import groupby\n",
    "from operator import itemgetter\n",
    "\n",
    "\n",
    "def embedLabels(relSent):\n",
    "  resultsDict={}\n",
    "  for topic, releSents in relSent.items():\n",
    "    for relevance, labeledSents in releSents.items():\n",
    "      for sentence in labeledSents:\n",
    "        resultsDict.setdefault(tuple(sentence), [])\n",
    "        resultsDict[tuple(sentence)].append((topic, relevance))\n",
    "      \n",
    "  results=[list(key)+[list(set(value))] for key, value in resultsDict.items()]\n",
    "  \n",
    "  return results\n",
    "\n",
    "relSentTuples=embedLabels(relevantSetences)"
   ]
  },
  {
   "cell_type": "code",
   "execution_count": 65,
   "metadata": {
    "collapsed": false
   },
   "outputs": [
    {
     "data": {
      "text/plain": [
       "'If you wish to make changes to any personal information you have provided us, or if you have any questions about what we do with your personal information, please contact us by sending an e-mail to privacy@washingtonian.com.'"
      ]
     },
     "execution_count": 65,
     "metadata": {},
     "output_type": "execute_result"
    }
   ],
   "source": [
    "relSentTuples[0][1]"
   ]
  },
  {
   "cell_type": "code",
   "execution_count": 58,
   "metadata": {
    "collapsed": false
   },
   "outputs": [
    {
     "name": "stdout",
     "output_type": "stream",
     "text": [
      "CPU times: user 12 s, sys: 64 ms, total: 12.1 s\n",
      "Wall time: 12.1 s\n"
     ]
    }
   ],
   "source": [
    "%%time\n",
    "## Get ngrams from the the labeled sentences\n",
    "def getNgramsSentTup(sentsRelLabels, n, stopwords):\n",
    "  ngramsList=[]\n",
    "  for sentTuple in sentsRelLabels:\n",
    "    ngrams=getNgrams(sentTuple[1], n, stopwords)\n",
    "    ngramsList.extend(ngrams)\n",
    "  return list(set(ngramsList))\n",
    "\n",
    "\n",
    "trainUnigrams=getNgramsSentTup(relSentTuples, 1, engstop)\n",
    "trainBigrams=getNgramsSentTup(relSentTuples, 2, engstop)\n",
    "trainTrigrams=getNgramsSentTup(relSentTuples, 3, engstop)"
   ]
  },
  {
   "cell_type": "code",
   "execution_count": 62,
   "metadata": {
    "collapsed": false
   },
   "outputs": [],
   "source": [
    "### Index the topics and ngrams\n",
    "alltopicsList=list(alltopics)\n",
    "topicIdx={alltopicsList[n]:n for n in range(len(alltopicsList))}\n",
    "trainUnigramIdx={trainUnigrams[n]:n for n in range(len(trainUnigrams))}\n",
    "trainBigramIdx={trainBigrams[n]:n for n in range(len(trainBigrams))}\n",
    "trainTrigramIdx={trainTrigrams[n]:n for n in range(len(trainTrigrams))}\n",
    "\n",
    "## make revers index\n",
    "topicRev={topicIdx[key]:key for key in topicIdx}\n",
    "trainUnigramRev={trainUnigramIdx[key]:key for key in trainUnigramIdx.keys()}\n",
    "trainBigramRev={trainBigramIdx[key]:key for key in trainBigramIdx.keys()}\n",
    "trainTrigramRev={trainTrigramIdx[key]:key for key in trainTrigramIdx.keys()}"
   ]
  },
  {
   "cell_type": "code",
   "execution_count": 76,
   "metadata": {
    "collapsed": false
   },
   "outputs": [
    {
     "name": "stdout",
     "output_type": "stream",
     "text": [
      "CPU times: user 152 ms, sys: 24 ms, total: 176 ms\n",
      "Wall time: 175 ms\n"
     ]
    }
   ],
   "source": [
    "%%time\n",
    "## for each sentence in relSentTuples, index the topics\n",
    "## \n",
    "def indexTopics(sentTuples, topicIdx):\n",
    "  results=[]\n",
    "  for thing in sentTuples:\n",
    "    item=thing[0:2]\n",
    "    item.append([(topicIdx[topic],rel) for topic, rel in thing[2]])\n",
    "    results.append(item)\n",
    "  return results\n",
    "\n",
    "relSentTuplesIdx=indexTopics(relSentTuples, topicIdx)"
   ]
  },
  {
   "cell_type": "code",
   "execution_count": 79,
   "metadata": {
    "collapsed": false
   },
   "outputs": [
    {
     "data": {
      "text/plain": [
       "'If you wish to make changes to any personal information you have provided us, or if you have any questions about what we do with your personal information, please contact us by sending an e-mail to privacy@washingtonian.com.'"
      ]
     },
     "execution_count": 79,
     "metadata": {},
     "output_type": "execute_result"
    }
   ],
   "source": [
    "relSentTuplesIdx[0][1]"
   ]
  },
  {
   "cell_type": "code",
   "execution_count": 72,
   "metadata": {
    "collapsed": false
   },
   "outputs": [
    {
     "name": "stdout",
     "output_type": "stream",
     "text": [
      "10231\n"
     ]
    }
   ],
   "source": [
    "print(len(relSentTuplesIdx))  ## this will be the input for the subsequent steps"
   ]
  },
  {
   "cell_type": "markdown",
   "metadata": {},
   "source": [
    "## Topic Signature Model \n",
    "\n",
    "### STEP 1: Calculate the scores by indexing the words and processing with numpy array"
   ]
  },
  {
   "cell_type": "markdown",
   "metadata": {},
   "source": [
    "Get ngram collections from the sentences collections"
   ]
  },
  {
   "cell_type": "code",
   "execution_count": 80,
   "metadata": {
    "collapsed": false
   },
   "outputs": [
    {
     "name": "stdout",
     "output_type": "stream",
     "text": [
      "6541\n",
      "57617\n",
      "130350\n"
     ]
    }
   ],
   "source": [
    "print(len(trainUnigrams))\n",
    "print(len(trainBigrams))\n",
    "print(len(trainTrigrams))"
   ]
  },
  {
   "cell_type": "code",
   "execution_count": 81,
   "metadata": {
    "collapsed": false
   },
   "outputs": [],
   "source": [
    "np.seterr(divide='warn', invalid='warn')\n",
    "def lambdaScoresNP(relSentTupAllTopics, n,topicIdxTable, ngramIdxTable, printEvery=5000):\n",
    "  # Initiate Final count Matrix\n",
    "  countresult=np.zeros([len(ngramIdxTable),len(topicIdxTable)*4])+10**-10\n",
    "  # Some lookup tables to help assign number\n",
    "  \n",
    "  totalnumber=len(relSentTupAllTopics)\n",
    "  \n",
    "  obsidx={\"O11\":0, \"O12\":1, \"O21\":2, \"O22\":3}\n",
    "  assignlabel={\"In\":{\"Related\":0, \"Unrelated\":1},\"Out\":{\"Related\":2, \"Unrelated\":3}}\n",
    "  \n",
    "  # initiate some temporary variables\n",
    "  counter=0\n",
    "  \n",
    "  # Some other things\n",
    "  \n",
    "  ngramIdxSet=set(ngramIdxTable.values())\n",
    "  ngramIdxValue=list(ngramIdxTable.values())\n",
    "  \n",
    "  for sentTuple in relSentTupAllTopics:\n",
    "    counter+=1\n",
    "    if counter%printEvery==0:\n",
    "      print(\"Processed {} sentences out of {}\".format(counter, totalnumber))\n",
    "      \n",
    "    sentNgrams=getNgrams(rawtext=sentTuple[1], length=n, stopwords=engstop)\n",
    "    \n",
    "    topicRels=sentTuple[1]\n",
    "    \n",
    "    for topic, relevance in sentTuple[2]:\n",
    "      \n",
    "      ngramIdxIN=[]\n",
    "      for ngram in sentNgrams:\n",
    "        try:\n",
    "          ngramIdxIN.append(ngramIdxTable[ngram])\n",
    "        except:\n",
    "          pass\n",
    "      \n",
    "    \n",
    "      columnIdx=np.repeat(topic*4+assignlabel[\"Out\"][relevance],len(ngramIdxTable))\n",
    "      columnIdx[ngramIdxIN]=topic*4+assignlabel[\"In\"][relevance]\n",
    "      countresult[ngramIdxValue, columnIdx]+=1\n",
    "    \n",
    "  print(\"Calculating -2lambda score\")\n",
    "  O11cols=list(range(0,len(topicIdxTable)*4,4))\n",
    "  O12cols=list(range(1,len(topicIdxTable)*4,4))\n",
    "  O21cols=list(range(2,len(topicIdxTable)*4,4))\n",
    "  O22cols=list(range(3,len(topicIdxTable)*4,4))\n",
    "  \n",
    "  O11values=countresult[:,O11cols]\n",
    "  O12values=countresult[:,O12cols]\n",
    "  O21values=countresult[:,O21cols]\n",
    "  O22values=countresult[:,O22cols]\n",
    "  \n",
    "  p1=O11values/(O11values+O12values)\n",
    "  p2=O21values/(O21values+O22values)\n",
    "  P=(O11values+O21values)/(O11values+O12values+O21values+O22values)\n",
    "  \n",
    "  #change topics back \n",
    "  lambdascore=-2*(( O11values+O21values )*np.log(P)+(O12values+O22values)*np.log(1-P)-(O11values*np.log(p1)+O12values*np.log(1-p1)+O21values*np.log(p2)+O22values*np.log(1-p2)))\n",
    "  \n",
    "  assert lambdascore.shape==(len(ngramIdxValue),len(topicIdxTable)), \"Score matrix doesn't have the right dimensions\"\n",
    "  \n",
    "  print(\"Truning Score matrx to dictionary \")\n",
    "  \n",
    "  topicReverse={topicIdxTable[key]:key for key in topicIdxTable.keys()}\n",
    "  ngramReverse={ngramIdxTable[key]:key for key in ngramIdxTable.keys()}\n",
    "  \n",
    "  finalresult={}\n",
    "  for idx in range(lambdascore.shape[1]):\n",
    "    topic=topicReverse[idx]\n",
    "    topicScores=lambdascore[:,idx]\n",
    "    finalresult.setdefault(topic, {})\n",
    "    finalresult[topic]={ngramReverse[ngramIdx]:topicScores[ngramIdx] for ngramIdx in range(lambdascore.shape[0])}\n",
    "  \n",
    "  return finalresult"
   ]
  },
  {
   "cell_type": "code",
   "execution_count": 125,
   "metadata": {
    "collapsed": false
   },
   "outputs": [
    {
     "name": "stdout",
     "output_type": "stream",
     "text": [
      "Processed 1000 sentences out of 9752\n",
      "Processed 2000 sentences out of 9752\n",
      "Processed 3000 sentences out of 9752\n",
      "Processed 4000 sentences out of 9752\n",
      "Processed 5000 sentences out of 9752\n",
      "Processed 6000 sentences out of 9752\n",
      "Processed 7000 sentences out of 9752\n",
      "Processed 8000 sentences out of 9752\n",
      "Processed 9000 sentences out of 9752\n",
      "Calculating -2lambda score\n",
      "Truning Score matrx to dictionary \n",
      "CPU times: user 8min 43s, sys: 32 ms, total: 8min 43s\n",
      "Wall time: 8min 43s\n"
     ]
    }
   ],
   "source": [
    "%%time\n",
    "unigramScoreNP=lambdaScoresNP(relSentsAllTopicIndexed, 1, topicIdx,trainUnigramIdx, printEvery=1000)"
   ]
  },
  {
   "cell_type": "code",
   "execution_count": 136,
   "metadata": {
    "collapsed": false
   },
   "outputs": [
    {
     "name": "stdout",
     "output_type": "stream",
     "text": [
      "Processed 500 sentences out of 9752\n",
      "Processed 1000 sentences out of 9752\n",
      "Processed 1500 sentences out of 9752\n",
      "Processed 2000 sentences out of 9752\n",
      "Processed 2500 sentences out of 9752\n",
      "Processed 3000 sentences out of 9752\n",
      "Processed 3500 sentences out of 9752\n",
      "Processed 4000 sentences out of 9752\n",
      "Processed 4500 sentences out of 9752\n",
      "Processed 5000 sentences out of 9752\n",
      "Processed 5500 sentences out of 9752\n",
      "Processed 6000 sentences out of 9752\n",
      "Processed 6500 sentences out of 9752\n",
      "Processed 7000 sentences out of 9752\n",
      "Processed 7500 sentences out of 9752\n",
      "Processed 8000 sentences out of 9752\n",
      "Processed 8500 sentences out of 9752\n",
      "Processed 9000 sentences out of 9752\n",
      "Processed 9500 sentences out of 9752\n",
      "Calculating -2lambda score\n",
      "Truning Score matrx to dictionary \n",
      "CPU times: user 1h 15min 29s, sys: 520 ms, total: 1h 15min 29s\n",
      "Wall time: 1h 15min 29s\n"
     ]
    }
   ],
   "source": [
    "%%time\n",
    "bigramScoreNP=lambdaScoresNP(relSentsAllTopicIndexed, 2, topicIdx,trainBigramIdx, printEvery=500)"
   ]
  },
  {
   "cell_type": "code",
   "execution_count": 137,
   "metadata": {
    "collapsed": false
   },
   "outputs": [
    {
     "name": "stdout",
     "output_type": "stream",
     "text": [
      "Processed 2000 sentences out of 9752\n",
      "Processed 4000 sentences out of 9752\n",
      "Processed 6000 sentences out of 9752\n",
      "Processed 8000 sentences out of 9752\n",
      "Calculating -2lambda score\n",
      "Truning Score matrx to dictionary \n",
      "CPU times: user 2h 50min 54s, sys: 1.97 s, total: 2h 50min 56s\n",
      "Wall time: 2h 50min 55s\n"
     ]
    }
   ],
   "source": [
    "%%time\n",
    "trigramScoreNP=lambdaScoresNP(relSentsAllTopicIndexed, 3, topicIdx,trainTrigramIdx, printEvery=2000)"
   ]
  },
  {
   "cell_type": "code",
   "execution_count": 162,
   "metadata": {
    "collapsed": true
   },
   "outputs": [],
   "source": [
    "## Save the scores"
   ]
  },
  {
   "cell_type": "code",
   "execution_count": 167,
   "metadata": {
    "collapsed": false
   },
   "outputs": [],
   "source": [
    "import json\n",
    "import pickle\n",
    "\n",
    "with open(\"/home/nyao/Results/unigramScoresNP_170312.pk\", 'wb') as f:\n",
    "  pickle.dump(unigramScoreNP ,f)\n",
    "  \n",
    "with open(\"/home/nyao/Results/bigramScoresNP_170312.pk\", \"wb\") as f:\n",
    "  pickle.dump(bigramScoreNP, f)\n",
    "\n",
    "with open(\"/home/nyao/Results/trigramScoresNP_170312.pk\", \"wb\") as f:\n",
    "  pickle.dump(trigramScoreNP, f)"
   ]
  },
  {
   "cell_type": "markdown",
   "metadata": {},
   "source": [
    "#### STEP2 : Validation phase"
   ]
  },
  {
   "cell_type": "code",
   "execution_count": 59,
   "metadata": {
    "collapsed": true
   },
   "outputs": [],
   "source": [
    "### Take the output of 'labelRel'\n",
    "### label each sentence in each document with the topic, but keep only the topic\n",
    "### makes it easier for validation later on\n",
    "def labelRelTopicOnly(labeledSentsWithSections):\n",
    "  results={}\n",
    "  for website, sectionList in labeledSentsWithSections.items():\n",
    "    results[website]=[]\n",
    "    for section, sentList in sectionList.items():\n",
    "      for sentTuple in sentList:\n",
    "        results[website].append([sentTuple[0],[topicTuple[0:2] for topicTuple in sentTuple[4]] ])\n",
    "  return results\n",
    "      \n",
    "\n",
    "## Split text into features that can be used to calculate scores \n",
    "## can be used to for creating trainning or validation data\n",
    "\n",
    "def sentWithTopic(ValTextDict, ValAnnoTation):\n",
    "  sentIdx=getAllIdx(ValTextDict)\n",
    "  labelSectionIdx=labelRel(ValAnnoTation, sentIdx)\n",
    "  labelTopOnly=labelRelTopicOnly(labelSectionIdx)\n",
    "  return labelTopOnly\n",
    "  "
   ]
  },
  {
   "cell_type": "code",
   "execution_count": 82,
   "metadata": {
    "collapsed": true
   },
   "outputs": [],
   "source": [
    "### take a raw document, convert to the same output produced by 'getTopicRelevanceList'\n",
    "def text2Label(rawtext, annotationMap):\n",
    "  sentIdx=getAllIdx(rawtext)\n",
    "  anno={key:annotationMap[key] for key in rawtext.keys()}\n",
    "  labeledSents=labelRel(anno, sentIdx)\n",
    "  allTop, allLabeledSents=gatherSentsTopics(labeledSents)\n",
    "  relSents=getTopicRelevanceList(allLabeledSents, allTop)\n",
    "  relSentTup=embedLabels(relSents)\n",
    "  return relSentTup"
   ]
  },
  {
   "cell_type": "code",
   "execution_count": 83,
   "metadata": {
    "collapsed": false
   },
   "outputs": [
    {
     "name": "stdout",
     "output_type": "stream",
     "text": [
      "CPU times: user 4.37 s, sys: 4 ms, total: 4.37 s\n",
      "Wall time: 4.37 s\n"
     ]
    }
   ],
   "source": [
    "%%time\n",
    "valTexts={web:policyTexts[web] for web in valWebsites}\n",
    "valAnno={web: annotations[web] for web in valWebsites}\n",
    "validateRelSentsTuples=text2Label(valTexts, valAnno)"
   ]
  },
  {
   "cell_type": "code",
   "execution_count": 85,
   "metadata": {
    "collapsed": false
   },
   "outputs": [
    {
     "data": {
      "text/plain": [
       "[(('First Party Collection/Use', 'Choice Type'), 'Unrelated'),\n",
       " (('First Party Collection/Use', 'Collection Mode'), 'Unrelated'),\n",
       " (('First Party Collection/Use', 'Action First-Party'), 'Unrelated'),\n",
       " (('International and Specific Audiences', 'Audience Type'), 'Related'),\n",
       " (('Third Party Sharing/Collection', 'Choice Scope'), 'Unrelated'),\n",
       " (('First Party Collection/Use', 'Identifiability'), 'Unrelated'),\n",
       " (('User Choice/Control', 'User Type'), 'Related'),\n",
       " (('User Access, Edit and Deletion', 'Access Type'), 'Related'),\n",
       " (('User Choice/Control', 'Choice Type'), 'Related'),\n",
       " (('Third Party Sharing/Collection', 'Purpose'), 'Unrelated'),\n",
       " (('User Choice/Control', 'Choice Scope'), 'Related'),\n",
       " (('Third Party Sharing/Collection', 'Action Third Party'), 'Unrelated'),\n",
       " (('User Access, Edit and Deletion', 'Access Scope'), 'Related'),\n",
       " (('Other', 'Other Type'), 'Unrelated'),\n",
       " (('Policy Change', 'Notification Type'), 'Unrelated'),\n",
       " (('User Choice/Control', 'Personal Information Type'), 'Related'),\n",
       " (('Third Party Sharing/Collection', 'Identifiability'), 'Unrelated'),\n",
       " (('Third Party Sharing/Collection', 'Third Party Entity'), 'Unrelated'),\n",
       " (('First Party Collection/Use', 'User Type'), 'Unrelated'),\n",
       " (('User Access, Edit and Deletion', 'User Type'), 'Related'),\n",
       " (('Data Retention', 'Retention Purpose'), 'Unrelated'),\n",
       " (('User Choice/Control', 'Purpose'), 'Related'),\n",
       " (('First Party Collection/Use', 'Choice Scope'), 'Unrelated'),\n",
       " (('Policy Change', 'User Choice'), 'Unrelated'),\n",
       " (('Policy Change', 'Change Type'), 'Unrelated'),\n",
       " (('First Party Collection/Use', 'Personal Information Type'), 'Unrelated'),\n",
       " (('Third Party Sharing/Collection', 'Personal Information Type'),\n",
       "  'Unrelated'),\n",
       " (('Data Security', 'Security Measure'), 'Unrelated'),\n",
       " (('Third Party Sharing/Collection', 'Choice Type'), 'Unrelated'),\n",
       " (('Third Party Sharing/Collection', 'Does/Does Not'), 'Unrelated'),\n",
       " (('First Party Collection/Use', 'Does/Does Not'), 'Unrelated'),\n",
       " (('Data Retention', 'Personal Information Type'), 'Unrelated'),\n",
       " (('Do Not Track', 'Do Not Track policy'), 'Unrelated'),\n",
       " (('Third Party Sharing/Collection', 'User Type'), 'Unrelated'),\n",
       " (('Data Retention', 'Retention Period'), 'Unrelated'),\n",
       " (('First Party Collection/Use', 'Purpose'), 'Unrelated')]"
      ]
     },
     "execution_count": 85,
     "metadata": {},
     "output_type": "execute_result"
    }
   ],
   "source": [
    "validateRelSentsTuples[0][2]"
   ]
  },
  {
   "cell_type": "code",
   "execution_count": 60,
   "metadata": {
    "collapsed": false
   },
   "outputs": [
    {
     "name": "stdout",
     "output_type": "stream",
     "text": [
      "CPU times: user 7.56 s, sys: 8 ms, total: 7.56 s\n",
      "Wall time: 7.56 s\n"
     ]
    }
   ],
   "source": [
    "%%time\n",
    "valLabeledData=sentWithTopic(valTexts, valAnno)"
   ]
  },
  {
   "cell_type": "code",
   "execution_count": 446,
   "metadata": {
    "collapsed": false
   },
   "outputs": [
    {
     "data": {
      "text/plain": [
       "['We do not knowingly collect Personal Information from individuals under 13 years of age.',\n",
       " [('First Party Collection/Use', 'Personal Information Type'),\n",
       "  ('First Party Collection/Use', 'Does/Does Not'),\n",
       "  ('International and Specific Audiences', 'Audience Type')]]"
      ]
     },
     "execution_count": 446,
     "metadata": {},
     "output_type": "execute_result"
    }
   ],
   "source": [
    "valLabeledData['everydayhealth.com'][120]"
   ]
  },
  {
   "cell_type": "code",
   "execution_count": 460,
   "metadata": {
    "collapsed": true
   },
   "outputs": [],
   "source": [
    "#See which topic are in all of the texts\n",
    "def countTopicsInDoc(labeledData):\n",
    "  websiteTopics={}\n",
    "  for website, sentList in labeledData.items():\n",
    "    topicList=[]\n",
    "    for sent in sentList:\n",
    "      for topic in sent[1]:\n",
    "        topicList.append(topic)\n",
    "    websiteTopics[website]=dict(Counter(topicList))\n",
    "  return websiteTopics\n",
    "  "
   ]
  },
  {
   "cell_type": "code",
   "execution_count": 459,
   "metadata": {
    "collapsed": false
   },
   "outputs": [
    {
     "data": {
      "text/plain": [
       "{'a': 2}"
      ]
     },
     "execution_count": 459,
     "metadata": {},
     "output_type": "execute_result"
    }
   ],
   "source": [
    "dict(Counter({\"a\":2}))"
   ]
  },
  {
   "cell_type": "code",
   "execution_count": 464,
   "metadata": {
    "collapsed": false
   },
   "outputs": [],
   "source": [
    "valSetTopics=countTopicsInDoc(valLabeledData)\n",
    "\n",
    "## check which topics exist in all of the docs\n",
    "## Drop any rows that have NaN\n",
    "completetopics=pd.DataFrame.from_dict(valSetTopics).dropna(axis=0, how=\"any\")"
   ]
  },
  {
   "cell_type": "code",
   "execution_count": null,
   "metadata": {
    "collapsed": true
   },
   "outputs": [],
   "source": [
    "1+1"
   ]
  },
  {
   "cell_type": "code",
   "execution_count": 465,
   "metadata": {
    "collapsed": false
   },
   "outputs": [
    {
     "data": {
      "text/html": [
       "<div>\n",
       "<table border=\"1\" class=\"dataframe\">\n",
       "  <thead>\n",
       "    <tr style=\"text-align: right;\">\n",
       "      <th></th>\n",
       "      <th></th>\n",
       "      <th>austincc.edu</th>\n",
       "      <th>boardgamegeek.com</th>\n",
       "      <th>dairyqueen.com</th>\n",
       "      <th>dcccd.edu</th>\n",
       "      <th>dogbreedinfo.com</th>\n",
       "      <th>everydayhealth.com</th>\n",
       "      <th>lids.com</th>\n",
       "      <th>naturalnews.com</th>\n",
       "      <th>randomhouse.com</th>\n",
       "      <th>style.com</th>\n",
       "    </tr>\n",
       "  </thead>\n",
       "  <tbody>\n",
       "    <tr>\n",
       "      <th rowspan=\"2\" valign=\"top\">First Party Collection/Use</th>\n",
       "      <th>Action First-Party</th>\n",
       "      <td>27.0</td>\n",
       "      <td>14.0</td>\n",
       "      <td>17.0</td>\n",
       "      <td>3.0</td>\n",
       "      <td>1.0</td>\n",
       "      <td>59.0</td>\n",
       "      <td>50.0</td>\n",
       "      <td>1.0</td>\n",
       "      <td>102</td>\n",
       "      <td>32.0</td>\n",
       "    </tr>\n",
       "    <tr>\n",
       "      <th>Purpose</th>\n",
       "      <td>26.0</td>\n",
       "      <td>14.0</td>\n",
       "      <td>16.0</td>\n",
       "      <td>12.0</td>\n",
       "      <td>2.0</td>\n",
       "      <td>83.0</td>\n",
       "      <td>77.0</td>\n",
       "      <td>1.0</td>\n",
       "      <td>106</td>\n",
       "      <td>63.0</td>\n",
       "    </tr>\n",
       "    <tr>\n",
       "      <th>Other</th>\n",
       "      <th>Other Type</th>\n",
       "      <td>21.0</td>\n",
       "      <td>2.0</td>\n",
       "      <td>23.0</td>\n",
       "      <td>12.0</td>\n",
       "      <td>4.0</td>\n",
       "      <td>44.0</td>\n",
       "      <td>27.0</td>\n",
       "      <td>5.0</td>\n",
       "      <td>52</td>\n",
       "      <td>15.0</td>\n",
       "    </tr>\n",
       "    <tr>\n",
       "      <th rowspan=\"5\" valign=\"top\">Third Party Sharing/Collection</th>\n",
       "      <th>Action Third Party</th>\n",
       "      <td>17.0</td>\n",
       "      <td>11.0</td>\n",
       "      <td>22.0</td>\n",
       "      <td>9.0</td>\n",
       "      <td>6.0</td>\n",
       "      <td>52.0</td>\n",
       "      <td>41.0</td>\n",
       "      <td>3.0</td>\n",
       "      <td>43</td>\n",
       "      <td>47.0</td>\n",
       "    </tr>\n",
       "    <tr>\n",
       "      <th>Does/Does Not</th>\n",
       "      <td>15.0</td>\n",
       "      <td>9.0</td>\n",
       "      <td>4.0</td>\n",
       "      <td>9.0</td>\n",
       "      <td>5.0</td>\n",
       "      <td>50.0</td>\n",
       "      <td>25.0</td>\n",
       "      <td>3.0</td>\n",
       "      <td>21</td>\n",
       "      <td>37.0</td>\n",
       "    </tr>\n",
       "    <tr>\n",
       "      <th>Personal Information Type</th>\n",
       "      <td>16.0</td>\n",
       "      <td>4.0</td>\n",
       "      <td>21.0</td>\n",
       "      <td>5.0</td>\n",
       "      <td>6.0</td>\n",
       "      <td>36.0</td>\n",
       "      <td>23.0</td>\n",
       "      <td>2.0</td>\n",
       "      <td>33</td>\n",
       "      <td>26.0</td>\n",
       "    </tr>\n",
       "    <tr>\n",
       "      <th>Purpose</th>\n",
       "      <td>9.0</td>\n",
       "      <td>8.0</td>\n",
       "      <td>25.0</td>\n",
       "      <td>6.0</td>\n",
       "      <td>7.0</td>\n",
       "      <td>44.0</td>\n",
       "      <td>36.0</td>\n",
       "      <td>2.0</td>\n",
       "      <td>39</td>\n",
       "      <td>42.0</td>\n",
       "    </tr>\n",
       "    <tr>\n",
       "      <th>Third Party Entity</th>\n",
       "      <td>15.0</td>\n",
       "      <td>7.0</td>\n",
       "      <td>24.0</td>\n",
       "      <td>6.0</td>\n",
       "      <td>9.0</td>\n",
       "      <td>75.0</td>\n",
       "      <td>46.0</td>\n",
       "      <td>5.0</td>\n",
       "      <td>40</td>\n",
       "      <td>49.0</td>\n",
       "    </tr>\n",
       "  </tbody>\n",
       "</table>\n",
       "</div>"
      ],
      "text/plain": [
       "                                                          austincc.edu  \\\n",
       "First Party Collection/Use     Action First-Party                 27.0   \n",
       "                               Purpose                            26.0   \n",
       "Other                          Other Type                         21.0   \n",
       "Third Party Sharing/Collection Action Third Party                 17.0   \n",
       "                               Does/Does Not                      15.0   \n",
       "                               Personal Information Type          16.0   \n",
       "                               Purpose                             9.0   \n",
       "                               Third Party Entity                 15.0   \n",
       "\n",
       "                                                          boardgamegeek.com  \\\n",
       "First Party Collection/Use     Action First-Party                      14.0   \n",
       "                               Purpose                                 14.0   \n",
       "Other                          Other Type                               2.0   \n",
       "Third Party Sharing/Collection Action Third Party                      11.0   \n",
       "                               Does/Does Not                            9.0   \n",
       "                               Personal Information Type                4.0   \n",
       "                               Purpose                                  8.0   \n",
       "                               Third Party Entity                       7.0   \n",
       "\n",
       "                                                          dairyqueen.com  \\\n",
       "First Party Collection/Use     Action First-Party                   17.0   \n",
       "                               Purpose                              16.0   \n",
       "Other                          Other Type                           23.0   \n",
       "Third Party Sharing/Collection Action Third Party                   22.0   \n",
       "                               Does/Does Not                         4.0   \n",
       "                               Personal Information Type            21.0   \n",
       "                               Purpose                              25.0   \n",
       "                               Third Party Entity                   24.0   \n",
       "\n",
       "                                                          dcccd.edu  \\\n",
       "First Party Collection/Use     Action First-Party               3.0   \n",
       "                               Purpose                         12.0   \n",
       "Other                          Other Type                      12.0   \n",
       "Third Party Sharing/Collection Action Third Party               9.0   \n",
       "                               Does/Does Not                    9.0   \n",
       "                               Personal Information Type        5.0   \n",
       "                               Purpose                          6.0   \n",
       "                               Third Party Entity               6.0   \n",
       "\n",
       "                                                          dogbreedinfo.com  \\\n",
       "First Party Collection/Use     Action First-Party                      1.0   \n",
       "                               Purpose                                 2.0   \n",
       "Other                          Other Type                              4.0   \n",
       "Third Party Sharing/Collection Action Third Party                      6.0   \n",
       "                               Does/Does Not                           5.0   \n",
       "                               Personal Information Type               6.0   \n",
       "                               Purpose                                 7.0   \n",
       "                               Third Party Entity                      9.0   \n",
       "\n",
       "                                                          everydayhealth.com  \\\n",
       "First Party Collection/Use     Action First-Party                       59.0   \n",
       "                               Purpose                                  83.0   \n",
       "Other                          Other Type                               44.0   \n",
       "Third Party Sharing/Collection Action Third Party                       52.0   \n",
       "                               Does/Does Not                            50.0   \n",
       "                               Personal Information Type                36.0   \n",
       "                               Purpose                                  44.0   \n",
       "                               Third Party Entity                       75.0   \n",
       "\n",
       "                                                          lids.com  \\\n",
       "First Party Collection/Use     Action First-Party             50.0   \n",
       "                               Purpose                        77.0   \n",
       "Other                          Other Type                     27.0   \n",
       "Third Party Sharing/Collection Action Third Party             41.0   \n",
       "                               Does/Does Not                  25.0   \n",
       "                               Personal Information Type      23.0   \n",
       "                               Purpose                        36.0   \n",
       "                               Third Party Entity             46.0   \n",
       "\n",
       "                                                          naturalnews.com  \\\n",
       "First Party Collection/Use     Action First-Party                     1.0   \n",
       "                               Purpose                                1.0   \n",
       "Other                          Other Type                             5.0   \n",
       "Third Party Sharing/Collection Action Third Party                     3.0   \n",
       "                               Does/Does Not                          3.0   \n",
       "                               Personal Information Type              2.0   \n",
       "                               Purpose                                2.0   \n",
       "                               Third Party Entity                     5.0   \n",
       "\n",
       "                                                          randomhouse.com  \\\n",
       "First Party Collection/Use     Action First-Party                     102   \n",
       "                               Purpose                                106   \n",
       "Other                          Other Type                              52   \n",
       "Third Party Sharing/Collection Action Third Party                      43   \n",
       "                               Does/Does Not                           21   \n",
       "                               Personal Information Type               33   \n",
       "                               Purpose                                 39   \n",
       "                               Third Party Entity                      40   \n",
       "\n",
       "                                                          style.com  \n",
       "First Party Collection/Use     Action First-Party              32.0  \n",
       "                               Purpose                         63.0  \n",
       "Other                          Other Type                      15.0  \n",
       "Third Party Sharing/Collection Action Third Party              47.0  \n",
       "                               Does/Does Not                   37.0  \n",
       "                               Personal Information Type       26.0  \n",
       "                               Purpose                         42.0  \n",
       "                               Third Party Entity              49.0  "
      ]
     },
     "execution_count": 465,
     "metadata": {},
     "output_type": "execute_result"
    }
   ],
   "source": [
    "completetopics"
   ]
  },
  {
   "cell_type": "code",
   "execution_count": 128,
   "metadata": {
    "collapsed": true
   },
   "outputs": [],
   "source": [
    "# Make a list of topics that are in all of the documents \n",
    "valTopcis=[('First Party Collection/Use', 'Action First-Party'), \n",
    "          ('First Party Collection/Use', 'Purpose'),\n",
    "          ('Third Party Sharing/Collection', 'Action Third Party'), \n",
    "          ('Third Party Sharing/Collection', 'Does/Does Not'),\n",
    "          ('Third Party Sharing/Collection', 'Personal Information Type'),\n",
    "          ('Third Party Sharing/Collection', 'Purpose'),\n",
    "          ('Third Party Sharing/Collection', 'Third Party Entity')]"
   ]
  },
  {
   "cell_type": "code",
   "execution_count": 380,
   "metadata": {
    "collapsed": false
   },
   "outputs": [],
   "source": [
    "## take a sentence and score it \n",
    "def scoreSentence(rawSent, n, stopwords, scoreMap, scoreCutoff):\n",
    "  cleanSent=re.sub(\"\\\\|\", \"\", rawSent.lower())\n",
    "  ngramList=getNgrams(cleanSent, n , stopwords)\n",
    "  totalscore=0\n",
    "  for ngram in ngramList:\n",
    "    try:\n",
    "      rawscore=scoreMap[ngram]\n",
    "      totalscore+=int(rawscore>=scoreCutoff)\n",
    "    except KeyError:\n",
    "      pass\n",
    "  return totalscore/len(ngramList)\n",
    "    \n",
    "## feed in score table of a specific topic\n",
    "## rank all the sentence in the document, can be used on external data in practice\n",
    "def rankSentencesInCorpus(rawText, cutOff,nList, topic, scoreMapList):\n",
    "  scoredSentences=[]\n",
    "  sentenceList=sent_tokenize(rawText)\n",
    "  for sentence in sentenceList:\n",
    "    cleanSent=re.sub(\"\\\\|\", \"\", sentence.lower())\n",
    "    sentScore=0\n",
    "    for i in range(len(scoreMapList)):\n",
    "      sentScore+=scoreSentence(sentence, nList[i], engstop, scoreMapList[i][topic], cutOff )\n",
    "    scoredSentences.append([cleanSent, sentScore])\n",
    "  return sorted(scoredSentences, reverse=True, key=lambda x: x[1])\n",
    "\n",
    "## feed in the output from  'sentWithTopic', calculate the scores and rank the sentences, and also keep the labels\n",
    "# \n",
    "def rankSentencesWithLabels(valSet, topic,nList,scoreCutOff,rankCutOff, *scoretableList):\n",
    "  # if a sentence ranks higher than a cut off, then it is relevant\n",
    "  fulltuples={}\n",
    "  predLabels={}  # a smplified list of [sentence, topic label, predicted topic]\n",
    "  for website, sentList in valSet.items():\n",
    "\n",
    "    sentenceScoreList=[]\n",
    "    \n",
    "    for sentTuple in sentList:\n",
    "      sentence=sentTuple[0]\n",
    "      if len(sentence.split(\" \"))>4:\n",
    "        sentResult=[sentTuple[0], sentTuple[1]]\n",
    "        sentScore=0\n",
    "        \n",
    "        for i in range(len(scoretableList)):\n",
    "          sentScore+=scoreSentence(sentence, nList[i], engstop, scoretableList[i][topic], scoreCutOff )\n",
    "        sentResult.append([topic, sentScore])\n",
    "        sentenceScoreList.append(sentResult)\n",
    "        \n",
    "    sentScoresRanked=sorted(sentenceScoreList, reverse=True, key=lambda x: x[2][1])\n",
    "    fulltuples[website]=sentScoresRanked\n",
    "    \n",
    "    sentLabelPredList=[]\n",
    "    \n",
    "    for i, sentFeatureLabel in enumerate(sentScoresRanked):\n",
    "      sentLabelPred=[sentFeatureLabel[0], int(topic in sentFeatureLabel[1]), int(i<=rankCutOff), i]\n",
    "      sentLabelPredList.append(sentLabelPred)\n",
    "    \n",
    "    predLabels[website]=sentLabelPredList\n",
    "    \n",
    "  return sentScoresRanked, predLabels\n"
   ]
  },
  {
   "cell_type": "code",
   "execution_count": 447,
   "metadata": {
    "collapsed": false
   },
   "outputs": [],
   "source": [
    "valSentLabeled, valSentPredVectors=rankSentencesWithLabels(valLabeledData,('First Party Collection/Use', 'Does/Does Not'), [1], 3.84, 10, unigramScoreNP)"
   ]
  },
  {
   "cell_type": "code",
   "execution_count": 445,
   "metadata": {
    "collapsed": false
   },
   "outputs": [
    {
     "data": {
      "text/plain": [
       "array([False, False, False], dtype=bool)"
      ]
     },
     "execution_count": 445,
     "metadata": {},
     "output_type": "execute_result"
    }
   ],
   "source": [
    "np.logical_and(np.array([2,3,4])==1,np.array([4,2,1])==1)"
   ]
  },
  {
   "cell_type": "code",
   "execution_count": 452,
   "metadata": {
    "collapsed": false
   },
   "outputs": [],
   "source": [
    "## calculate accuracy for all the topics\n",
    "def getAccuracy(valLabelPred):\n",
    "  websiteAccu={}\n",
    "  for website, result in valLabelPred.items():\n",
    "    labelPred=list(zip(*result))\n",
    "    label=np.array(labelPred[1])\n",
    "    pred=np.array(labelPred[2])\n",
    "    accuracy=np.sum(label==pred)/len(label)\n",
    "    precision=np.sum(np.logical_and(label==1, pred==1))/np.sum(pred==1)\n",
    "    recall=np.sum(np.logical_and(label==1, pred==1))/np.sum(label==1)\n",
    "    websiteAccu[website]=[accuracy,precision, recall]\n",
    "  return websiteAccu\n",
    "\n",
    "def getAccuracyAlltopic(valSet, topicList, nList,scoreCutOff,rankCutOff, *scoretableList):\n",
    "  allPredTuples={}\n",
    "  allLabelPredVectors={}\n",
    "  allAccuracy={}\n",
    "  for topic in topicList:\n",
    "    allInfo,labelPred=rankSentencesWithLabels(valSet, topic,nList, scoreCutOff, rankCutOff, *scoretableList)\n",
    "    allPredTuples[topic]=allInfo\n",
    "    allLabelPredVectors[topic]=labelPred\n",
    "    allAccuracy[topic]=getAccuracy(labelPred)\n",
    "  return allPredTuples, allLabelPredVectors, allAccuracy"
   ]
  },
  {
   "cell_type": "code",
   "execution_count": 477,
   "metadata": {
    "collapsed": false
   },
   "outputs": [],
   "source": [
    "valAllInfo, valPredLabels, valAccuracy=getAccuracyAlltopic(valLabeledData, valTopcis, [1], 3.84, 15, unigramScoreNP)"
   ]
  },
  {
   "cell_type": "code",
   "execution_count": 478,
   "metadata": {
    "collapsed": true
   },
   "outputs": [],
   "source": [
    "valAccuracyTable=pd.DataFrame.from_dict(valAccuracy)"
   ]
  },
  {
   "cell_type": "code",
   "execution_count": 479,
   "metadata": {
    "collapsed": false
   },
   "outputs": [
    {
     "data": {
      "text/html": [
       "<div>\n",
       "<table border=\"1\" class=\"dataframe\">\n",
       "  <thead>\n",
       "    <tr>\n",
       "      <th></th>\n",
       "      <th colspan=\"2\" halign=\"left\">First Party Collection/Use</th>\n",
       "      <th colspan=\"5\" halign=\"left\">Third Party Sharing/Collection</th>\n",
       "    </tr>\n",
       "    <tr>\n",
       "      <th></th>\n",
       "      <th>Action First-Party</th>\n",
       "      <th>Purpose</th>\n",
       "      <th>Action Third Party</th>\n",
       "      <th>Does/Does Not</th>\n",
       "      <th>Personal Information Type</th>\n",
       "      <th>Purpose</th>\n",
       "      <th>Third Party Entity</th>\n",
       "    </tr>\n",
       "  </thead>\n",
       "  <tbody>\n",
       "    <tr>\n",
       "      <th>austincc.edu</th>\n",
       "      <td>[0.717948717949, 0.5, 0.727272727273]</td>\n",
       "      <td>[0.538461538462, 0.3125, 0.416666666667]</td>\n",
       "      <td>[0.692307692308, 0.375, 0.75]</td>\n",
       "      <td>[0.615384615385, 0.25, 0.571428571429]</td>\n",
       "      <td>[0.641025641026, 0.25, 0.666666666667]</td>\n",
       "      <td>[0.615384615385, 0.125, 0.666666666667]</td>\n",
       "      <td>[0.641025641026, 0.25, 0.666666666667]</td>\n",
       "    </tr>\n",
       "    <tr>\n",
       "      <th>boardgamegeek.com</th>\n",
       "      <td>[0.444444444444, 0.375, 1.0]</td>\n",
       "      <td>[0.222222222222, 0.125, 1.0]</td>\n",
       "      <td>[0.333333333333, 0.25, 1.0]</td>\n",
       "      <td>[0.388888888889, 0.3125, 1.0]</td>\n",
       "      <td>[0.222222222222, 0.125, 1.0]</td>\n",
       "      <td>[0.222222222222, 0.125, 1.0]</td>\n",
       "      <td>[0.388888888889, 0.3125, 1.0]</td>\n",
       "    </tr>\n",
       "    <tr>\n",
       "      <th>dairyqueen.com</th>\n",
       "      <td>[0.6, 0.0, 0.0]</td>\n",
       "      <td>[0.66, 0.1875, 0.428571428571]</td>\n",
       "      <td>[0.68, 0.3125, 0.5]</td>\n",
       "      <td>[0.68, 0.0625, 0.5]</td>\n",
       "      <td>[0.64, 0.25, 0.4]</td>\n",
       "      <td>[0.68, 0.4375, 0.5]</td>\n",
       "      <td>[0.7, 0.4375, 0.538461538462]</td>\n",
       "    </tr>\n",
       "    <tr>\n",
       "      <th>dcccd.edu</th>\n",
       "      <td>[0.6, 0.125, 1.0]</td>\n",
       "      <td>[0.457142857143, 0.125, 0.285714285714]</td>\n",
       "      <td>[0.657142857143, 0.25, 1.0]</td>\n",
       "      <td>[0.657142857143, 0.25, 1.0]</td>\n",
       "      <td>[0.542857142857, 0.0625, 0.5]</td>\n",
       "      <td>[0.6, 0.125, 1.0]</td>\n",
       "      <td>[0.6, 0.125, 1.0]</td>\n",
       "    </tr>\n",
       "    <tr>\n",
       "      <th>dogbreedinfo.com</th>\n",
       "      <td>[0.0909090909091, 0.0909090909091, 1.0]</td>\n",
       "      <td>[0.181818181818, 0.181818181818, 1.0]</td>\n",
       "      <td>[0.272727272727, 0.272727272727, 1.0]</td>\n",
       "      <td>[0.272727272727, 0.272727272727, 1.0]</td>\n",
       "      <td>[0.454545454545, 0.454545454545, 1.0]</td>\n",
       "      <td>[0.272727272727, 0.272727272727, 1.0]</td>\n",
       "      <td>[0.363636363636, 0.363636363636, 1.0]</td>\n",
       "    </tr>\n",
       "    <tr>\n",
       "      <th>everydayhealth.com</th>\n",
       "      <td>[0.792307692308, 0.125, 0.133333333333]</td>\n",
       "      <td>[0.746153846154, 0.1875, 0.130434782609]</td>\n",
       "      <td>[0.823076923077, 0.4375, 0.333333333333]</td>\n",
       "      <td>[0.776923076923, 0.3125, 0.217391304348]</td>\n",
       "      <td>[0.8, 0.1875, 0.1875]</td>\n",
       "      <td>[0.784615384615, 0.1875, 0.166666666667]</td>\n",
       "      <td>[0.8, 0.5625, 0.321428571429]</td>\n",
       "    </tr>\n",
       "    <tr>\n",
       "      <th>lids.com</th>\n",
       "      <td>[0.78125, 0.1875, 0.272727272727]</td>\n",
       "      <td>[0.760416666667, 0.5, 0.347826086957]</td>\n",
       "      <td>[0.791666666667, 0.1875, 0.3]</td>\n",
       "      <td>[0.802083333333, 0.1875, 0.333333333333]</td>\n",
       "      <td>[0.791666666667, 0.125, 0.25]</td>\n",
       "      <td>[0.822916666667, 0.3125, 0.454545454545]</td>\n",
       "      <td>[0.791666666667, 0.3125, 0.357142857143]</td>\n",
       "    </tr>\n",
       "    <tr>\n",
       "      <th>naturalnews.com</th>\n",
       "      <td>[0.142857142857, 0.142857142857, 1.0]</td>\n",
       "      <td>[0.142857142857, 0.142857142857, 1.0]</td>\n",
       "      <td>[0.285714285714, 0.285714285714, 1.0]</td>\n",
       "      <td>[0.285714285714, 0.285714285714, 1.0]</td>\n",
       "      <td>[0.285714285714, 0.285714285714, 1.0]</td>\n",
       "      <td>[0.142857142857, 0.142857142857, 1.0]</td>\n",
       "      <td>[0.285714285714, 0.285714285714, 1.0]</td>\n",
       "    </tr>\n",
       "    <tr>\n",
       "      <th>randomhouse.com</th>\n",
       "      <td>[0.766129032258, 0.5, 0.275862068966]</td>\n",
       "      <td>[0.741935483871, 0.5, 0.25]</td>\n",
       "      <td>[0.846774193548, 0.4375, 0.411764705882]</td>\n",
       "      <td>[0.870967741935, 0.375, 0.5]</td>\n",
       "      <td>[0.870967741935, 0.375, 0.5]</td>\n",
       "      <td>[0.83064516129, 0.375, 0.352941176471]</td>\n",
       "      <td>[0.879032258065, 0.5, 0.533333333333]</td>\n",
       "    </tr>\n",
       "    <tr>\n",
       "      <th>style.com</th>\n",
       "      <td>[0.833333333333, 0.4375, 0.636363636364]</td>\n",
       "      <td>[0.782051282051, 0.5, 0.470588235294]</td>\n",
       "      <td>[0.74358974359, 0.25, 0.333333333333]</td>\n",
       "      <td>[0.769230769231, 0.375, 0.428571428571]</td>\n",
       "      <td>[0.74358974359, 0.1875, 0.3]</td>\n",
       "      <td>[0.846153846154, 0.5, 0.666666666667]</td>\n",
       "      <td>[0.769230769231, 0.375, 0.428571428571]</td>\n",
       "    </tr>\n",
       "  </tbody>\n",
       "</table>\n",
       "</div>"
      ],
      "text/plain": [
       "                                  First Party Collection/Use  \\\n",
       "                                          Action First-Party   \n",
       "austincc.edu           [0.717948717949, 0.5, 0.727272727273]   \n",
       "boardgamegeek.com               [0.444444444444, 0.375, 1.0]   \n",
       "dairyqueen.com                               [0.6, 0.0, 0.0]   \n",
       "dcccd.edu                                  [0.6, 0.125, 1.0]   \n",
       "dogbreedinfo.com     [0.0909090909091, 0.0909090909091, 1.0]   \n",
       "everydayhealth.com   [0.792307692308, 0.125, 0.133333333333]   \n",
       "lids.com                   [0.78125, 0.1875, 0.272727272727]   \n",
       "naturalnews.com        [0.142857142857, 0.142857142857, 1.0]   \n",
       "randomhouse.com        [0.766129032258, 0.5, 0.275862068966]   \n",
       "style.com           [0.833333333333, 0.4375, 0.636363636364]   \n",
       "\n",
       "                                                              \\\n",
       "                                                     Purpose   \n",
       "austincc.edu        [0.538461538462, 0.3125, 0.416666666667]   \n",
       "boardgamegeek.com               [0.222222222222, 0.125, 1.0]   \n",
       "dairyqueen.com                [0.66, 0.1875, 0.428571428571]   \n",
       "dcccd.edu            [0.457142857143, 0.125, 0.285714285714]   \n",
       "dogbreedinfo.com       [0.181818181818, 0.181818181818, 1.0]   \n",
       "everydayhealth.com  [0.746153846154, 0.1875, 0.130434782609]   \n",
       "lids.com               [0.760416666667, 0.5, 0.347826086957]   \n",
       "naturalnews.com        [0.142857142857, 0.142857142857, 1.0]   \n",
       "randomhouse.com                  [0.741935483871, 0.5, 0.25]   \n",
       "style.com              [0.782051282051, 0.5, 0.470588235294]   \n",
       "\n",
       "                              Third Party Sharing/Collection  \\\n",
       "                                          Action Third Party   \n",
       "austincc.edu                   [0.692307692308, 0.375, 0.75]   \n",
       "boardgamegeek.com                [0.333333333333, 0.25, 1.0]   \n",
       "dairyqueen.com                           [0.68, 0.3125, 0.5]   \n",
       "dcccd.edu                        [0.657142857143, 0.25, 1.0]   \n",
       "dogbreedinfo.com       [0.272727272727, 0.272727272727, 1.0]   \n",
       "everydayhealth.com  [0.823076923077, 0.4375, 0.333333333333]   \n",
       "lids.com                       [0.791666666667, 0.1875, 0.3]   \n",
       "naturalnews.com        [0.285714285714, 0.285714285714, 1.0]   \n",
       "randomhouse.com     [0.846774193548, 0.4375, 0.411764705882]   \n",
       "style.com              [0.74358974359, 0.25, 0.333333333333]   \n",
       "\n",
       "                                                              \\\n",
       "                                               Does/Does Not   \n",
       "austincc.edu          [0.615384615385, 0.25, 0.571428571429]   \n",
       "boardgamegeek.com              [0.388888888889, 0.3125, 1.0]   \n",
       "dairyqueen.com                           [0.68, 0.0625, 0.5]   \n",
       "dcccd.edu                        [0.657142857143, 0.25, 1.0]   \n",
       "dogbreedinfo.com       [0.272727272727, 0.272727272727, 1.0]   \n",
       "everydayhealth.com  [0.776923076923, 0.3125, 0.217391304348]   \n",
       "lids.com            [0.802083333333, 0.1875, 0.333333333333]   \n",
       "naturalnews.com        [0.285714285714, 0.285714285714, 1.0]   \n",
       "randomhouse.com                 [0.870967741935, 0.375, 0.5]   \n",
       "style.com            [0.769230769231, 0.375, 0.428571428571]   \n",
       "\n",
       "                                                            \\\n",
       "                                 Personal Information Type   \n",
       "austincc.edu        [0.641025641026, 0.25, 0.666666666667]   \n",
       "boardgamegeek.com             [0.222222222222, 0.125, 1.0]   \n",
       "dairyqueen.com                           [0.64, 0.25, 0.4]   \n",
       "dcccd.edu                    [0.542857142857, 0.0625, 0.5]   \n",
       "dogbreedinfo.com     [0.454545454545, 0.454545454545, 1.0]   \n",
       "everydayhealth.com                   [0.8, 0.1875, 0.1875]   \n",
       "lids.com                     [0.791666666667, 0.125, 0.25]   \n",
       "naturalnews.com      [0.285714285714, 0.285714285714, 1.0]   \n",
       "randomhouse.com               [0.870967741935, 0.375, 0.5]   \n",
       "style.com                     [0.74358974359, 0.1875, 0.3]   \n",
       "\n",
       "                                                              \\\n",
       "                                                     Purpose   \n",
       "austincc.edu         [0.615384615385, 0.125, 0.666666666667]   \n",
       "boardgamegeek.com               [0.222222222222, 0.125, 1.0]   \n",
       "dairyqueen.com                           [0.68, 0.4375, 0.5]   \n",
       "dcccd.edu                                  [0.6, 0.125, 1.0]   \n",
       "dogbreedinfo.com       [0.272727272727, 0.272727272727, 1.0]   \n",
       "everydayhealth.com  [0.784615384615, 0.1875, 0.166666666667]   \n",
       "lids.com            [0.822916666667, 0.3125, 0.454545454545]   \n",
       "naturalnews.com        [0.142857142857, 0.142857142857, 1.0]   \n",
       "randomhouse.com       [0.83064516129, 0.375, 0.352941176471]   \n",
       "style.com              [0.846153846154, 0.5, 0.666666666667]   \n",
       "\n",
       "                                                              \n",
       "                                          Third Party Entity  \n",
       "austincc.edu          [0.641025641026, 0.25, 0.666666666667]  \n",
       "boardgamegeek.com              [0.388888888889, 0.3125, 1.0]  \n",
       "dairyqueen.com                 [0.7, 0.4375, 0.538461538462]  \n",
       "dcccd.edu                                  [0.6, 0.125, 1.0]  \n",
       "dogbreedinfo.com       [0.363636363636, 0.363636363636, 1.0]  \n",
       "everydayhealth.com             [0.8, 0.5625, 0.321428571429]  \n",
       "lids.com            [0.791666666667, 0.3125, 0.357142857143]  \n",
       "naturalnews.com        [0.285714285714, 0.285714285714, 1.0]  \n",
       "randomhouse.com        [0.879032258065, 0.5, 0.533333333333]  \n",
       "style.com            [0.769230769231, 0.375, 0.428571428571]  "
      ]
     },
     "execution_count": 479,
     "metadata": {},
     "output_type": "execute_result"
    }
   ],
   "source": []
  },
  {
   "cell_type": "code",
   "execution_count": 375,
   "metadata": {
    "collapsed": false
   },
   "outputs": [],
   "source": [
    "dqRankSent=rankSentencesInCorpus(valTexts['dairyqueen.com'], 1, [1],('Third Party Sharing/Collection', 'Personal Information Type') , [unigramScoreNP])"
   ]
  },
  {
   "cell_type": "markdown",
   "metadata": {},
   "source": [
    "###  Try supervised classification model for sentence selection"
   ]
  },
  {
   "cell_type": "code",
   "execution_count": 96,
   "metadata": {
    "collapsed": false
   },
   "outputs": [],
   "source": [
    "#### Try random forest\n",
    "\n",
    "\n",
    "## Generate Training Features\n",
    "def generateXY(relSentsWithLabels, topic):\n",
    "  trainTexts=[]\n",
    "  trainLabels=[]\n",
    "  for sent in relSentsWithLabels:\n",
    "    trainTexts.append(sent[1])\n",
    "    topicTuple=[x for x in sent[2] if x[0] == topic][0]\n",
    "    trainLabels.append(int(topicTuple[1]==\"Related\"))\n",
    "  return trainTexts, trainLabels\n",
    "\n",
    "train1, labels1=generateXY(relSentTuples,('Third Party Sharing/Collection', 'Personal Information Type'))\n",
    "valtext, valLabels=generateXY(validateRelSentsTuples, ('Third Party Sharing/Collection', 'Personal Information Type'))"
   ]
  },
  {
   "cell_type": "code",
   "execution_count": 108,
   "metadata": {
    "collapsed": true
   },
   "outputs": [],
   "source": [
    "from sklearn.feature_extraction.text import TfidfVectorizer \n",
    "from sklearn.ensemble import RandomForestClassifier\n",
    "from sklearn.ensemble import RandomForestClassifier\n",
    "from sklearn.linear_model import LogisticRegression\n",
    "from sklearn.metrics import f1_score\n",
    "from sklearn.feature_extraction.text import TfidfTransformer\n",
    "\n",
    "vectorizer=TfidfVectorizer(max_df=3, stop_words=\"english\")\n",
    "vectorizer.fit(train1)\n",
    "trainVec=vectorizer.transform(train1)"
   ]
  },
  {
   "cell_type": "code",
   "execution_count": 122,
   "metadata": {
    "collapsed": false
   },
   "outputs": [],
   "source": [
    "valVec=vectorizer.transform(valtext)\n",
    "model = RandomForestClassifier(n_estimators=500)\n",
    "model.fit(trainVec, labels1)\n",
    "pred=model.predict(valVec)\n",
    "f1score=f1_score(valLabels, pred, average=\"weighted\")"
   ]
  },
  {
   "cell_type": "code",
   "execution_count": 132,
   "metadata": {
    "collapsed": true
   },
   "outputs": [],
   "source": [
    "# Make a list of topics that are in all of the documents \n",
    "valTopics=[('First Party Collection/Use', 'Action First-Party'), \n",
    "          ('First Party Collection/Use', 'Purpose'),\n",
    "          ('Third Party Sharing/Collection', 'Action Third Party'), \n",
    "          ('Third Party Sharing/Collection', 'Does/Does Not'),\n",
    "          ('Third Party Sharing/Collection', 'Personal Information Type'),\n",
    "          ('Third Party Sharing/Collection', 'Purpose'),\n",
    "          ('Third Party Sharing/Collection', 'Third Party Entity')]"
   ]
  },
  {
   "cell_type": "code",
   "execution_count": 193,
   "metadata": {
    "collapsed": false
   },
   "outputs": [
    {
     "data": {
      "text/plain": [
       "[\" Parent's Rights    Under COPPA, you have the right to review and have any of your child's information deleted from our records.\",\n",
       " \"You also have the right to tell us to stop collecting or using your child's personal information.\",\n",
       " ' Your California Privacy Rights    California Civil Code Section 1798.83 permits customers of PRH who are California residents to request certain information regarding its disclosure of their personal information to third parties for their direct marketing purposes.',\n",
       " 'To make such a request, please send an email to privacy@penguinrandomhouse.com.',\n",
       " \"If you've registered on any part of the Service, please use the mechanism or contact information on the Service that allows you to change or update your member preferences or information, if available, to keep all such data accurate and up-to-date.\",\n",
       " 'If no such mechanism or contact information is available on the Service, contact our Privacy Policy Coordinator as described below with your changes.',\n",
       " 'Also as discussed above in Section 2(B), if you wish to request updates or changes to your information or your preferences regarding receiving future promotional messages from us, you may contact our Privacy Policy Coordinator.',\n",
       " 'We will correct such information whenever possible and delete stale information on an ongoing basis and are very happy to hear from you to ensure that our information is as complete and accurate as possible.',\n",
       " 'How do I access or change my personal information-   You can access, add or update certain information in the \" My Account\" section of the Sites, including order tracking and account information.',\n",
       " 'When you update information, your old information is replaced by your new information.',\n",
       " 'You can ask us to change or update other personal information about you by clicking here to reach our Privacy Officer.',\n",
       " 'Any request to update personal information may take up to 10 days for your email request and 6-8 weeks for your postal mail request.',\n",
       " 'You can unsubscribe or change your subscription to any of our Personal Notification Services at any time.',\n",
       " 'To change your mind, simply contact our Privacy Officer or sign up again when you visit the Sites or our stores.',\n",
       " 'If you have questions or concerns about how we use personal information about you or if you would prefer that we delete or suppress information we have about you, please click here to reach our Privacy Officer, and we will do our best to meet your concerns.',\n",
       " 'You can limit the way that we tailor advertising based on your self-reported interests and other information in your profile by clicking on the \"Profile\" or \"My Account\" section of this Site and deleting or modifying the information.',\n",
       " 'You can update or correct your Personal Information by logging in and clicking on your user name at the top of the Site to access the \"Profile\" section.',\n",
       " 'If you no longer wish Everyday Health to use or share your Personal Information in accordance with this Policy or you no longer desire to use or access this Site, you can also remove your Personal Information from the \"Profile\" section of the Site.',\n",
       " 'Keep in mind, however, that even if you delete information from your profile, we may retain your Personal Information in conformance with our data retention policy and Personal Information may remain within our databases, access logs, and other records.',\n",
       " 'In addition, we are not responsible for updating or removing your Personal Information contained in the lists or databases of third parties who have been provided information as permitted by this Policy.',\n",
       " \"You can review the information Google has about you in Google's Ads Settings and opt-out of the tracking at https://tools.google.com/dlpage/gaoptout.\",\n",
       " \" How to view your information    Currently enrolled (or recently enrolled) credit students who are registered at one of DCCCD's nine locations can obtain access to their personal information through eConnect, a secure web interface that requires you to enter your student identification number and a password.\",\n",
       " 'The following information is available to registered students:   Class schedule information     Email address     Financial Aid information     Grades     Payment information     Student ID number     Student Information Profile     Registration summary/fee receipts that contain: Address     Class schedule information     Student ID number',\n",
       " ' How to update/correct your student record    Currently enrolled (or recently enrolled students) credit students can correct their Student Information Profile and email address online through eConnect.',\n",
       " \"If any of the remaining personal information in your student record contains an error, please visit the Registrar's Office and request that the error be corrected.\",\n",
       " 'Privacy Policy',\n",
       " 'Dog Breed Info Center does not collect or use your personal information, except in limited circumstances.',\n",
       " 'When submitting photos, listing in our classifieds, or taking our survey, Dog Breed Info Center may collect your name, email address, home address and/or phone number.',\n",
       " 'However, Dog Breed Info Center will not sell this information or your photos to a third party or place you on a mailing list without your express permission.',\n",
       " 'Dog Breed Info Center does not collect cookies from its users.',\n",
       " 'This is strictly an information site used for research and your enjoyment.',\n",
       " 'Dog Breed Info Center uses Google AdSense, which allows third-party vendors to serve ads on our website.',\n",
       " 'You can find a list of allowed third-party ads by going to https://www.google.com/adsense/support/bin/answer.py?answer=94149topic=14535.',\n",
       " 'The third-party advertising companies that Google uses to serve ads when you visit our website may use information that will help them serve ads that will interest you.',\n",
       " 'However, Google AdSense will not collect your name, address, email address or telephone number.',\n",
       " 'It looks at visits to this and other websites in order to provide advertisements about goods and services of interest to you.',\n",
       " 'If you would like more information about this practice and to know your choices about not having this information used by Google AdSense, click here.',\n",
       " 'Privacy Policy   Geekdo takes your privacy seriously.',\n",
       " 'Please read the following to learn more about our privacy policy.',\n",
       " 'Geekdo does not rent, sell, or share personal information about you with other people or companies , except when we have your explicit permission (for example, to pass on your contact information when you have won a contest).',\n",
       " \"You will not get on a spammer's list because of your interactions with Geekdo.\",\n",
       " 'Geekdo collects personal information when you register with Geekdo, when you use Geekdo products or services, when you visit Geekdo pages or the pages of certain Geekdo partners, and when you enter Geekdo contests.',\n",
       " 'Geekdo may combine information about you that we have with information we obtain from business partners or other companies.',\n",
       " 'When you register we ask for information such as your name, e-mail address, birth date, gender, zip code, occupation, industry, and personal interests.',\n",
       " 'Once you register with Geekdo and sign in to our services, you are not anonymous to us.',\n",
       " 'Geekdo collects information about your transactions with us.',\n",
       " 'Geekdo automatically receives and records information on our server logs from your browser, including your IP address, Geekdo cookie information, and the page you request.',\n",
       " 'Geekdo uses information for the following general purposes: to customize the advertising and content you see, fulfill your requests for products and services, improve our services, contact you, conduct research, and investigate abuse.',\n",
       " 'We partner with ValueClick to serve ads and/or collect certain information when you visit our website.',\n",
       " 'ValueClick may use cookies or web beacons to collect non-personally identifiable information during your visit to this website in order to help show advertisements on other websites likely to be more interesting to you.',\n",
       " 'To learn more about this \"behavioral advertising\" practice or to opt-out of this use of your anonymous information, you can visit http://www.valueclickmedia.com/member_privacy.shtml',\n",
       " 'Geekdo reserves the right to modify all or some of this Privacy Policy at any time without notice.',\n",
       " 'If we modify our Privacy Policy, we may post a notice on our website so our users are aware of what information we collect, how we use it, and under what circumstances, if any, we disclose it.',\n",
       " 'We will use information only in accordance with the Privacy Policy under which the information was collected unless we have received explicit authorization from the appropriate user(s) to do otherwise.',\n",
       " 'We reserve the right to share information in order to investigate, prevent, or take action regarding illegal activities, suspected fraud, violations of the Geekdo Terms of Service, situations involving potential threats to the physical safety of any person, or as otherwise required by law.',\n",
       " 'Privacy Policy   Effective Date of Privacy Policy: February 9, 2015',\n",
       " 'Penguin Random House LLC (\"PRH\", \"we\", \"us\", or \"our\") respects your concerns about privacy and values the relationship we have with you.',\n",
       " 'This Privacy Policy describes our privacy practices with respect to information collected through our websites, applications, and any other online service that links to this Privacy Policy, including any websites and online services we operate on behalf of our authors (collectively referred to as the \"Sites\").',\n",
       " 'By using our Sites, you are accepting the practices described in this Privacy Policy.',\n",
       " 'If you do not agree to the terms of this Privacy Policy, please do not use the Sites.',\n",
       " 'We reserve the right to modify or amend the terms of our Privacy Policy from time to time without notice.',\n",
       " 'Your continued use of our Sites following the posting of changes to these terms will mean you accept those changes.',\n",
       " \"Please click on one of the links below to jump to the listed section:     What Information We Collect About You     How We Use Your Information     Who We Share Your Information With     Social Media     Children's Privacy Policy     Security of Your Personal Information     Third Party Content and Links To Third Party Websites     Public Areas, Forums, Reviews, and Community Areas     Governing Law     Assignment     Notice to Non-US Users     Changes to This Privacy Policy     How To Opt-Out or Correct Your Information     Your California Privacy Rights     How To Contact Us\",\n",
       " ' What Information We Collect About You    We collect two basic types of information from you in conjunction with your use of the Sites: (1) personal information, which is any information that individually identifies you (e.g., your name, email address, telephone number, postal address, credit card information) and (2) non-personal information, which is information that does not personally identify you but may include information about your interests, demographics (e.g., age, gender, 5-digit zip code) and use of the Sites.',\n",
       " 'We collect this information in the following ways:',\n",
       " ' Information You Provide Directly To Us:    We may ask you to provide your personal information, demographic information or information about your preferences or interests when you:     Register for an account on the Sites     Sign up to receive email newsletters from us     Make a purchase on the Sites     Enter a contest or sweepstakes     Participate in surveys or special promotions     Participate on social media accounts involving our authors, books or brands     Participate in communities or forums on the Sites     Submit user generated content on any part of the Sites that permit it     Knowingly volunteer information on any other part of the Sites (e.g., request for customer service, submit a job application)',\n",
       " ' Information Collected Using Technology:    In addition to any information you provide directly to us, we and our third party service providers may use a variety of technologies that automatically collect certain non-personal information when you interact with the Sites or emails sent to you, including the following:',\n",
       " ' Device Information    We may collect certain information about your computer or other device that you use to access the Sites, including IP address, geolocation information, unique device identifiers, browser type, browser language, and other transactional information.',\n",
       " ' Usage Information    We may log certain information about your use of the Sites (e.g., log files, clickstream data, a reading history of the pages you view, your search terms and search results) and additional \"traffic data\" (e.g., time of access, date of access, software crash reports, session identification number, access times, referring website addresses).',\n",
       " ' Location Information    Some of our applications may deliver content based on your current location if you choose to enable that feature of the app.',\n",
       " 'If you enable the location-based feature, your current location will be stored locally on your device, which will then be used by the app.',\n",
       " 'If you elect to have a location-based search saved to your history, we will store that information on our servers.',\n",
       " 'If you do not enable the location-based service, or if an app does not have that feature, the app will not transmit to us, and we will not collect or store, location information.',\n",
       " ' Cookies, Flash Cookies and Web Beacons    Like many websites, we use cookies, flash cookies, web beacons or similar technologies.',\n",
       " '\"Cookies\" are small text files that are stored on your computer or other device when you visit certain online pages that record your preferences and actions.',\n",
       " 'We use cookies for a variety of purposes, including remembering you and your preferences, tracking your use of our Sites, and facilitating your payment transactions.',\n",
       " 'Most web browsers automatically accept cookies, but, if you prefer, you can usually modify your browser setting to decline cookies.',\n",
       " 'However, please note that refusing a cookie may limit your access to the Sites.',\n",
       " 'A \"flash cookie\" is a data file placed on your device via the Adobe Flash plug-in, which may be built-in or downloaded by you to your computer or other device.',\n",
       " 'Flash cookies may be used for various purposes, such as enabling a Flash feature and remembering your preferences.',\n",
       " 'If you choose to adjust your Flash privacy settings in your device, some features of the Sites may not function properly.',\n",
       " 'For more information about the privacy choices Adobe offers, visit: http://www.macromedia.com/support/documentation/en/flashplayer/help/settings_manager.html.',\n",
       " 'A \"web beacon\" (also known as an \"action tag\", \"tracer tag\", or \"single-pixel GIF\") is an invisible graphic that is programmed only to collect non-personal information about your use of our Sites or emails sent to you.',\n",
       " 'Web beacons may be used for a number of purposes, including counting visitors to the Sites, monitoring how users navigate the Sites, counting how many emails were opened or how many links were viewed, and providing you with content customized to your interests.',\n",
       " ' Targeted Advertising    We may allow third parties to use cookies, web beacons and similar technologies to better understand your behavior and browsing activities, so that we can serve you targeted advertising while you are on our Sites and display our ads to you when you visit other third party sites.',\n",
       " 'For example, we work with third party network advertisers who may set these technologies to better provide advertisements about goods and services that may be of interest to you.',\n",
       " 'We do not control these third party technologies, and they are not subject to this Privacy Policy.',\n",
       " 'We do not authorize these third party network advertisers to use this technology to collect personal information about you and they do not have access to your personal information from us.',\n",
       " 'They may, however, track your Internet usage anonymously (that is, without being able to identify you personally) over time and across other websites in their networks beyond our Sites.',\n",
       " 'To learn more about the use of this information or to opt out of having this information used by our third party network advertisers, please visit the Network Advertising Initiative by clicking http://www.networkadvertising.org/managing/opt_out.asp.',\n",
       " ' California Do Not Track Notice    Some browsers offer a \"Do Not Track\" feature that lets you tell websites that you do not want to have your online activities tracked.',\n",
       " 'We do not respond to these \"Do Not Track\" signals.',\n",
       " 'At this time, we do not track your personal information about your online activities over time and across third party websites.',\n",
       " 'We also do not authorize third parties to collect any personal information from you on the Sites for these purposes.',\n",
       " ' Collection of Information From Other Third Party Sources    We may also collect personal and non-personal information about you from other sources to, among other things, enable us to supplement the information contained in our database and to better customize your experience with PRH.',\n",
       " ' How We Use Your Information    We use the information we learn about you to help us personalize and continually improve your experience with PRH.',\n",
       " 'We may use your personal and non-personal information in the following ways:',\n",
       " ' General Uses      Provide you with the products and services you request     Post your user generated content to our Sites as you request     Communicate with you about your account or transactions with us and send you information about features on our Sites     Communicate with you about changes to our policies     Send you newsletters, offers and promotions for our products and services, third party products and services, or special events by email or another medium     Personalize content and experiences on our Sites and within emails sent to you, including providing you recommendations based on your preferences     Serve you targeted advertising, both on our Sites and elsewhere online, based on information we previously collected from you, including your activity on the Sites or activity on third party sites and applications     Administer our loyalty programs     Administer contests, sweepstakes, promotions, and surveys     Optimize or improve our products, services and operations     Detect, investigate, and prevent activities that may violate our policies or be illegal     Perform statistical, demographic, and marketing analyses of users of the Sites and recipients of our emails, including browsing and purchasing patterns',\n",
       " ' Combination of Your Information    When you use more than one of our Sites, we may match information collected from you through each of those Sites and combine that information into a single user record.',\n",
       " 'We may also use and/or combine information we collect off-line or from third party sources to enhance and check the accuracy of your user records.',\n",
       " ' Who We Share Your Information With     Personal Information    Except as disclosed in this Privacy Policy, we do not use or disclose your personal information to any companies not part of the PRH family of companies.',\n",
       " 'Although, as disclosed below, we may provide your personal information to our business partners, in no event will we sell or rent your personal information as part of a customer list or similar transaction without your express permission.',\n",
       " ' Third Party Service Providers    We have third party service providers that perform functions on our behalf, such as hosting, billing, marketing, analytics, customer service, fraud protection, etc.',\n",
       " 'These entities have access to your personal information only as needed to perform their functions and they are obligated to maintain the confidentiality and security of that personal information.',\n",
       " 'They are obligated not to use, sell, distribute or alter this information in any way other than to provide the requested services to the Sites.',\n",
       " ' Third Parties With Whom We Do Business    We may share your personal information with certain third parties with whom we do business, such as our authors or promotional co-sponsors, so that they can provide you with special offers, promotional materials, and similar materials that may be of interest to you.',\n",
       " \"Although our treatment of your personal information is governed by this Privacy Policy, the third party's treatment of your personal information will be governed by its privacy policy.\",\n",
       " 'You may withdraw your consent to our sharing of your personal information with such third parties at any time by sending us an email at privacy@penguinrandomhouse.com.',\n",
       " ' Authors Whose Websites We Manage    We manage certain author Sites on behalf of our authors.',\n",
       " 'In those cases, we may transfer personal information collected from the Sites to the authors if they take over management of the Sites (in which case, such sites are no longer controlled by us).',\n",
       " 'Under such circumstances we will use reasonable efforts to direct the author to use personal information you have provided to us in a manner that is consistent with our Privacy Policy.',\n",
       " 'Nevertheless, we cannot ensure that the author will have the same privacy practices as described in this Privacy Policy and such author site will not be subject to the terms of this Privacy Policy.',\n",
       " ' Corporate Parents and Affiliates    We may share your personal information with our corporate parents and other affiliated entities for a variety of purposes, including business, operational and marketing purposes.',\n",
       " ' Other Third Parties When Required By Law or In Emergency Situations    We may also use or disclose personal information if required to do so by law or in the good-faith belief that such action is necessary to (a) conform to applicable law or comply with legal process served on us or the Sites; (b) protect and defend our rights or property, the Sites or our users, and (c) act under emergency circumstances to protect the personal safety of us, our affiliates, agents, or the users of the Sites or the public.',\n",
       " ' Non-Personal Information    Nothing in this Privacy Policy is intended to restrict our use of your non-personal information, and we may disclose or share non-personal information in any manner that we deem appropriate or necessary.',\n",
       " ' Social Media    Our Sites may provide you with the ability to register, log into, \"like\" or otherwise interact with third party social media services, including, but not limited to, Facebook, Instagram, Twitter, Pinterest, YouTube, and other social media services.',\n",
       " 'These features may enable integration and/or access to your social media accounts.',\n",
       " 'We do not control these social media services or your profiles on these services, and we do not establish privacy settings or rules for how your personal information on these services will be used.',\n",
       " \"If you choose to log on to or submit information through any of these social media services, your personal information will be subject to the applicable social media service's terms and conditions and your current privacy settings on such social media service.\",\n",
       " 'By accessing any social media service, you will be assuming the risk that the personal information you provide on that service may be viewed and/or used by third parties for any purpose.',\n",
       " 'You agree that we are not responsible for any acts or omissions by these social media service providers.',\n",
       " 'In addition, by choosing to log in to our Sites using your credentials from a social media service, you are asking that service to send us certain information from your account with the service, and you authorize us to collect, store and use such information in accordance with this Privacy Policy.',\n",
       " \" Children's Privacy Policy    PRH respects the privacy of children and we are committed to complying with the Children's Online Privacy Protection Act (COPPA).\",\n",
       " \"This Children's Privacy Policy describes our practices with respect to the collection of personal information from children under the age of 13.\",\n",
       " 'This Site does not knowingly collect, use, or disclose personal information from children under the age of 13 without prior parental consent, except as permitted by COPPA.',\n",
       " ' What Information We Collect and How We Use It    We do not require children to share any personal information in order to participate on this Site.',\n",
       " 'On occasion, however, we may collect personal information, such as an email address from a child as part of an activity, in accordance with COPPA.',\n",
       " 'For example:',\n",
       " \"Email address: We may collect a child's email address in order to respond to a one-time request from the child, such as if the child asks us or one of our authors a question.\",\n",
       " \"In such case, we promptly delete the child's email address from our system once we have responded, and we do not use the child's email address for any other purpose.\",\n",
       " \"Send-a-friend: In the case of send-a-friend email or card, we only collect a child's first name and the friend's email address to send the friend the email or card.\",\n",
       " \"We do not store the friend's email address for any longer than reasonably necessary to send the email or card to the friend.\",\n",
       " \"Email newsletters: We may collect a child's email address if the child wishes to sign up for our email newsletters.\",\n",
       " 'In such instance, the child will be asked to provide his or her email address and the email address of his or her parent/guardian.',\n",
       " \"We will send the child's parent/guardian a notification email informing them of the child's request to receive the newsletter by email on an ongoing basis and give the parent/guardian the option to have his or her child's information removed from our newsletter database.\",\n",
       " 'If the newsletter is declined, we will not send the newsletter and will delete any related personal information collected in the sign-up process from our files.',\n",
       " 'If the newsletter is not declined, we will send the newsletter.',\n",
       " 'All newsletters contain instructions so that the recipient may unsubscribe at any time.',\n",
       " \"Contests or Sweepstakes: We may collect a child's email address to enter the child in a sweepstakes or contest or to notify the child that he or she has won or lost a contest or sweepstakes or contest.\",\n",
       " \"We will not keep the child's email address after the promotion or use the child's email address for any other purpose other than for the promotion.\",\n",
       " \"For certain promotions, we may ask that a child give us his/her parent's email address so we can obtain more personalized information for prize fulfillment purposes if the child wins the promotion or to notify the parent if we need more than the child's email address to enter the child in the promotion.\",\n",
       " 'In the latter event, parents will be sent a notice along with instructions on how they may provide their consent for their child to participate in such promotion.',\n",
       " \"We may also collect anonymous information automatically from your child's computer or device, such as the frequency with which the child visits our Site and the pages visited, to support the internal operations of the Site.\",\n",
       " 'We collect this information so we can understand and monitor usage of the Site, customize content on the Site and improve the performance of the Site.',\n",
       " 'This information is collected using technologies such as cookies, flash cookies, web beacons, and similar technologies.',\n",
       " 'This information is not used to behaviorally target children and we do not permit behavioral targeting on any of our Sites that are directed to children.',\n",
       " ' Special Circumstances for Information Sharing and Security    We may share children\\'s personal information with \"Third Party Service Providers\" and \"Other Third Parties When Required by Law\" as disclosed above (see \" Who We Share Your Information With\").',\n",
       " \"If you have questions concerning our information practices with respect to children, or if you would like to review, have deleted, or stop the further collection of your child's personal information in connection with the transaction for which it was originally collected, you may email us at privacy@penguinrandomhouse.com.\",\n",
       " \"For tips on protecting your child's privacy online, please see the U.S. Federal Trade Commission's brochure on this topic: www.onguardonline.gov.\",\n",
       " ' Security of Your Personal Information    PRH takes reasonable steps to help protect and secure your personal information.',\n",
       " 'However, please remember that no data storage or data transmission over the Internet, or by other means, can be guaranteed to be 100HEADING_START Third Party Content and Links to Third Party Websites',\n",
       " 'Our Sites may contain content hosted or served by third parties or link to websites operated by affiliates of PRH or third parties.',\n",
       " 'Please be advised that the practices described in this Privacy Policy for PRH do not apply to information gathered by these third parties.',\n",
       " 'We are not responsible for the actions and privacy policies employed by any third party, and our hosting of third party content or linking to third party websites does not constitute an endorsement of the content or business practices of those third parties.',\n",
       " ' Public Areas, Forums, Reviews, and Community Areas    Please remember that any information you share in public areas, such as forums, message boards or feedback sections, becomes public and anyone may take and use that information.',\n",
       " 'Please be careful about what you disclose and do not post any personal information that you expect to keep private.',\n",
       " 'Please consult our Terms of Use and the applicable guidelines, if any, for use of our forums and other community areas for more information.',\n",
       " ' Governing Law    These Sites are published in the United States.',\n",
       " \"We attempt to protect the personal information of all users of our Sites and we attempt to comply with local data protection and consumer rights laws to the extent they may apply to PRH's services, but our family of Sites are located and targeted to United States citizens and our policies are directed at compliance with those laws.\",\n",
       " 'If you are uncertain whether this Privacy Policy conflicts with the applicable local privacy laws where you are located, you should not submit your personal information to PRH.',\n",
       " ' Assignment    We may change our ownership or corporate organization while providing the Sites.',\n",
       " 'We may also sell certain assets associated with the Sites.',\n",
       " 'As a result, please be aware that in such event we may transfer some or all of your information to a company acquiring all or part of our assets or to another company with which we have merged.',\n",
       " 'Under such circumstances we would, to the extent possible, require the acquiring party to follow the practices described in this Privacy Policy, as it may be amended from time to time.',\n",
       " 'Nevertheless, we cannot ensure that an acquiring company or the merged company will have the same privacy practices or treat your information the same as described in this Privacy Policy.',\n",
       " ' Notice to Non-US Users    If you are located outside the United States of America, you should be aware that your personally identifiable information will be transferred to the United States of America, the laws of which may be deemed by the your country to have inadequate data protection.',\n",
       " 'If you are located in a country outside the United States of America and voluntarily submit personally identifiable information to us on the Sites, you thereby consent to the general use of such information as provided in this Privacy Policy and to the transfer of that information to, and/or storage of that information in, the United States of America.',\n",
       " ' Changes to This Privacy Policy    As our Sites continue to develop, we may add new services and features to them.',\n",
       " 'In the event that these additions affect our Privacy Policy, or if other changes in our privacy practices or applicable laws necessitate changes to the Privacy Policy, this document will be updated accordingly.',\n",
       " 'If we make a material change in the way we use your personal information, we will provide prominent notice of the change on the Sites.',\n",
       " 'We will not, however, materially change our policies and practices to make them less protective of personal information we have previously collected from you without your express consent.',\n",
       " ' How To Opt-Out or Correct Your Information    You may always opt-out of receiving future commercial emails and newsletters from PRH.',\n",
       " 'We provide you with the opportunity to opt-out of receiving such communications from us by clicking on the \"unsubscribe\" link within the email you receive.',\n",
       " 'You may also opt out of receiving further communications from us or correct your information by sending us a message at unsubscribe@penguinrandomhouse.com.',\n",
       " 'Please note that your request not to receive unsolicited commercial emails from us will not apply to messages that you request or that are not commercial in nature.',\n",
       " 'For example, we may contact you concerning any purchases you have made with us, even if you opt out of receiving unsolicited commercial messages.',\n",
       " ' VI.Privacy Policy     The Type of Information the Service Collects:    The following Privacy Policy summarizes the various ways we treat personally identifiable and other information about you and your computer, mobile or other device when you access, visit and/or use the Service.',\n",
       " 'This Privacy Policy does not cover information collected elsewhere, including without limitation offline and on sites, applications, destinations, or services linked to from the Service.',\n",
       " 'The Service generally collects personally identifiable information with your specific knowledge and consent.',\n",
       " 'For instance, when you enter a sweepstakes or contest, complete a survey, make a purchase, subscribe to our publication(s), register for certain services, or register and/or set up an account/profile to access, visit and/or use certain portions of the Service, or the Service as a whole, you may be provided, or required to choose, a password and/or User ID, and you may provide a credit, debit, or charge card number, or other payment information, as well as your name, telephone number(s), email and/or street address, and other personally identifiable information.',\n",
       " 'Other information such as your age, gender, an avatar, and the number for your mobile or other device may also be requested.',\n",
       " 'In addition, you may be asked to send us similar information via messaging (e.g., email, SMS, MMS, or other technologies).',\n",
       " 'All such information shall be referred to in this Privacy Policy as your Registration Information.',\n",
       " 'Our servers may also automatically collect information about you, your online behavior and your computer, mobile or other device.',\n",
       " 'The information collected may include, without limitation, the make, model, settings, specifications (e.g., CPU speed, connection speed, browser type, operating system, device identifier) and geographic location of you and/or your computer, mobile or other device, as well as date/time stamp, IP address, pages visited, time of visits, content viewed, ads viewed, the site(s), application(s), destination(s), and/or service(s) you arrived from, and other clickstream data.',\n",
       " 'If you choose to access, visit and/or use any third party social networking service(s) that may be integrated with the Service, we may receive personally identifiable information and other information about you and your computer, mobile or other device that you have made available to those services, including information about your contacts on those services.',\n",
       " 'For example, some social networking services allow you to push content from our Service to your contacts or to pull information about your contacts so you can connect with them on or through our Service.',\n",
       " 'Some social networking services also will facilitate your registration for our Service or enhance or personalize your experience on our Service.',\n",
       " 'Your decision to use a social networking service in connection with our Service is voluntary.',\n",
       " \"However, you should make sure you are comfortable with the information your third party social networking services may make available to our Service by visiting those services' privacy policies and/or modifying your privacy settings directly with those services.\",\n",
       " 'We reserve the right to use, transfer, assign, sell, share, and provide access to all personally identifiable information and other information about you and your computer, mobile or other device that we receive through third-party social networking services in the same ways described in this Agreement as all of your other information.',\n",
       " ' How the Service Uses and Shares Information About You:    We use personally identifiable information you supply through the Service to provide you with the merchandise, product, service, and/or Content you have requested.',\n",
       " 'For example, if you subscribe to any of our publications, we may use your e-mail address to send you a confirmation notice and your mailing address to send you the publication.',\n",
       " 'Similarly, if you enter an online sweepstakes, we will use this information to notify you if you are a winner.',\n",
       " 'We may also use the information to communicate with you about new features, products or services, and/or to improve the services that we offer by tailoring them to your needs.',\n",
       " 'Unless otherwise specified on the Service, we may sell or share information about you and your computer, mobile or other device, including without limitation your Registration Information and other personally identifiable information, with our parent, subsidiaries, and affiliates and with carefully selected companies who we think may offer services and/or products that may be of interest to you.',\n",
       " 'If you do not wish to have your personally identifiable information shared with third parties, contact our Privacy Policy Coordinator as described at the end of this document.',\n",
       " 'If you do not wish to receive future commercial messages from us, simply follow the unsubscribe instructions contained within the message you receive.',\n",
       " '(But note that you may continue to receive certain communications from us, such as transactional or relationship messages, and/or messages about your account/profile).',\n",
       " 'We may also allow access to our database by third parties that provide us with services, such as technical maintenance, market research, community and forums management, auction services, and shopping, personal/job search and other classified ads functionality, but only for the purpose of and to the extent necessary to provide those services.',\n",
       " 'And if you choose to purchase merchandise, products and/or services, including without limitation Content, on or through features on the Service, we may forward your information to third parties for services such as credit card or other payment processing, order fulfillment, credit pre-authorization, and address verification.',\n",
       " 'There are also times when you provide information about yourself to us in areas of the Service that may be managed or participated in by third parties.',\n",
       " 'In such cases, the information may be used by us and by such third party(ies), each pursuant to its own policies.',\n",
       " 'We may also provide your information to our advertisers, so that they can serve ads to you that meet your needs or match your interests.',\n",
       " 'While we may seek to require such third parties to follow appropriate privacy policies and will not authorize them to use this information except for the express purpose for which it is provided, we do not bear any responsibility for any actions or policies of third parties.',\n",
       " 'We reserve the right to access, use, and share with others your personally identifiable information for purposes of health, safety and other matters in the public interest.',\n",
       " 'We may also provide access to our database in order to cooperate with official investigations or legal proceedings initiated by governmental and/or law enforcement officials, as well as private parties, including, for example, in response to subpoenas, search warrants, court orders, or other legal process.',\n",
       " \"In addition, we reserve the right to use the information we collect about your computer, mobile or other device (including its geographic location), which may at times be able to identify you, for any lawful business purpose, including without limitation to help diagnose problems with our servers, to gather broad demographic information, analyze trends, track users' movements around the Service, and to otherwise administer the Service.\",\n",
       " 'Geographic location information about you and/or your computer, mobile or other device may specifically be used to show you content and sponsored messaging based on geographic location.',\n",
       " 'We reserve the right to use, transfer, sell, and share aggregated, anonymous data about our users as a group for any lawful business purpose, such as analyzing usage trends and seeking compatible advertisers, sponsors, clients and customers.',\n",
       " 'In addition, as our business changes, we may buy or sell various assets.',\n",
       " 'In the event all or a portion of the assets owned or controlled by us, our parent or any subsidiary or affiliated entity are sold, assigned, transferred or acquired by another company, the information from and/or about our Service users may be among the transferred assets.',\n",
       " 'We reserve the right to identify you from your Registration Information and/or to merge or co-mingle anonymous or non-personally identifiable data about you, your offline and online behavior, and/or your computer, mobile or other device (including its geographic location), with your Registration Information and/or other personally identifiable data for any lawful business purpose.',\n",
       " ' Local Device Storage and other Tracking Technologies; Do Not Track (DNT):    The Service will at times place and/or store code or other types of information and/or devices (e.g., \"cookies\") on your computer, mobile or other device (\"Local Device Storage\").',\n",
       " 'We may use Local Device Storage for any lawful business purpose, including without limitation to determine which of our messages have been opened by recipients so we can gauge the effectiveness of marketing campaigns, to control the display of ads, to track usage patterns, the movements of individual users, and your geographic location, to help diagnose problems with our servers, to gather broad demographic information, to analyze trends, to conduct research, to deliver editorial content, to record registration and personalization information, and to otherwise administer the Service.',\n",
       " 'For example, if you register on any part of the Service and are given the option to save your user name and password, we may provide this convenience to you via Local Device Storage.',\n",
       " 'Local Device Storage may also collect and store your personally identifiable information, which may be shared with our parent, subsidiaries, and affiliates and other companies.',\n",
       " 'If you do not want Local Device Storage, your computer, mobile or other device may include an option that allows you to not accept it.',\n",
       " 'However, if you disable Local Device Storage, some portions of the Service may not function properly.',\n",
       " 'In addition to Local Device Storage, we may use web beacons, web bugs, clear gifs, and similar technologies (collectively, together with Local Device Storage, the \"Tracking Technologies\").',\n",
       " 'We use Tracking Technologies for all or some of the same lawful business purposes we describe above for use of Local Device Storage.',\n",
       " 'As discussed below, you may opt out of third party tracking on the Service at any time.',\n",
       " 'However, we do not currently support any browser based Do Not Track (DNT) settings or participate in any DNT frameworks, and we do not assign any meaning to any potential DNT track signals you may send or alter any of our data collection or use practices in response to such signals.',\n",
       " ' How to Opt-Out of Third Party Tracking Technologies:    Our advertising service vendors and other third parties will at times also use Tracking Technologies to serve you advertisements tailored to interests you have shown by browsing on this Service and other sites, applications, destinations, and services you have visited, and to determine whether you have seen a particular advertisement before to avoid sending you duplicate advertisements, and for other lawful business purposes.',\n",
       " 'In doing so, these third parties will collect non-personally identifiable data including for example the make, model, settings, specifications (e.g., CPU speed, connection speed, browser type, operating system, device identifier) and geographic location of your computer, mobile or other device, as well as date/time stamp, IP address, pages visited, time of visits, content viewed, ads viewed, the site(s), application(s), destination(s), and/or service(s) you arrived from, and other clickstream data.',\n",
       " 'The use of Tracking Technologies by third parties is subject to their own privacy policies, not this Privacy Policy, and we have no responsibility or liability in connection therewith.',\n",
       " 'If you do not want the services that Tracking Technologies provide, you may be able to opt-out by visiting http://www.aboutads.info.',\n",
       " ' Transfer of Information:    Your information may be transferred to, and maintained on, servers and databases located outside of your state, province, country or other governmental jurisdiction where the privacy laws may not be as protective as your jurisdiction.',\n",
       " 'Please be advised that we may transfer your information to and from any state, province, country or other governmental jurisdiction, and process it in the United States or elsewhere.',\n",
       " 'Your consent to this Privacy Policy followed by your submission of such information represents your agreement to any such transfer.',\n",
       " ' Information Security and Notification:    Because no data transmission is completely secure, and no system of physical or electronic security is impenetrable, we cannot guarantee the security of the information you send to us or the security of our servers, networks or databases, and by using the Service you agree to assume all risk in connection with the information sent to us or collected by us when you access, visit and/or use the Service, including without limitation your personally identifiable information or other Registration Information, and we are not responsible for any loss of such information or the consequences thereof.',\n",
       " 'Moreover, if you elect to store information, such as your personally identifiable information or other Registration Information, where others may access it, we are not responsible for any loss of such information or the consequences thereof.',\n",
       " 'If you lose a computer, mobile or other device, or it is stolen, that contains your personally identifiable information or other Registration Information, it is up to you to take all the steps necessary to protect yourself.',\n",
       " 'In the unlikely event that we believe that the security of your information in our possession or control may have been compromised, we may seek to notify you.',\n",
       " 'If notification is appropriate, we may notify you via your computer, mobile or other device.',\n",
       " ' Kids and Parents:    This Service is not intended for use by children, especially those under age 13.',\n",
       " 'No one under age 13 is allowed to register for the Service or provide any personally identifiable information or use our social, community and public discussion areas, photo and video galleries, bulletin boards, forums, chats, blogs, personal/job search and other classified ads, and elsewhere.',\n",
       " 'Minors between the ages of 13 and 17, inclusive, must get the permission of their parent(s) or legal guardian(s) before making purchases, including subscriptions, on this Service.',\n",
       " 'If your children disclose information about themselves in publicly accessible areas of the Service, they may get unsolicited messages from other parties.',\n",
       " 'Accordingly, you should tell them not to do so.',\n",
       " \"If you're worried about your children's activities or their privacy on the Service, we encourage you to contact our Privacy Policy Coordinator as described below.\",\n",
       " ' Notice to California Customers - Your California Privacy Rights:    Californias \"Shine the Light\" law, Civil Code section 1798.83, requires certain businesses to respond to requests from California customers asking about the business\\' practices related to disclosing personal information to third parties for the third parties direct marketing purposes.',\n",
       " 'Alternately, such businesses may have in place a policy not to disclose personal information of customers to third parties for the third parties direct marketing purposes if the customer has exercised an option to opt-out of such information-sharing.',\n",
       " 'We have such a policy in place.',\n",
       " 'As discussed above in Section 2(B), if you wish to opt-out of our sharing of your information with third parties for the third parties direct marketing purposes or to find out more about your opt-out rights, please contact our Privacy Policy Coordinator as described below.',\n",
       " ' Privacy Policy Coordinator, Opt-Out Requests and Other Privacy Questions:    If you have any concerns or questions about any aspect of this policy, please feel free to contact our Privacy Policy Coordinator as follows:   Privacy Policy Coordinator   Cond Nast   1313 Market Street   Wilmington, DE 19801   Privacy_administration@condenast.com',\n",
       " 'As discussed above in Section 2(B) and 8, you may opt-out of having your personally identifiable information shared with third parties for their marketing purposes.',\n",
       " 'If you wish to exercise this right, please contact our Privacy Policy Coordinator and state that you want to opt-out of our sharing with third parties.',\n",
       " 'Addtionally, you may click here to be removed from our promotional mailing lists.',\n",
       " 'If you opt-out of promotional mailings from Conde Nast, you may continue to receive certain communications from us, such as transactional or relationship messages, and/or messages about your account/profile.',\n",
       " \"If you don't agree to the terms contained in this User Agreement and Privacy Policy, you must immediately exit the Service.\",\n",
       " ' PRIVACY STATEMENT    Effective June 4, 2014   Please read this privacy statement carefully, because by using our website, you accept and agree to the terms stated below.',\n",
       " 'We may change the terms of this privacy statement at any time, and your continued use of this site is your agreement to any change in terms.',\n",
       " ' COLLECTION & USE OF INFORMATION.',\n",
       " 'We collect information through our website in a couple different ways.',\n",
       " 'Information You Submit.',\n",
       " 'You give us personal information when you join one of our loyalty clubs, enter one of our surveys, contests or sweepstakes, if you submit a question, comment or complaint, if you request or submit information about becoming a franchisee, if you submit an employment application, or for an online cake order.',\n",
       " '\"Personal information\" means any information about an identifiable individual, such as name, address, phone number, email, birth date, gender or zip code/postal code.',\n",
       " 'Except with your consent or as required or permitted by law, we will use the information you submit for the purposes for which it is submitted or as otherwise described in this privacy statement.',\n",
       " 'If you join one of our loyalty clubs, you may receive newsletters, email or special offers, which you may unsubscribe from at any time using the unsubscribe link at the bottom of the email.',\n",
       " 'Most of our locations are independently owned and operated franchises, and we do not own or operate these locations.',\n",
       " 'Comments, questions or complaints submitted to us about a specific location will be forwarded to the franchised location, along with any contact information you provide with your comment.',\n",
       " 'If you have comments regarding a specific location, we recommend you contact that location directly so that they may personally and immediately assist you.',\n",
       " 'We do not guarantee the privacy practices of any specific franchised location.',\n",
       " 'Information Collected By Automated Means.',\n",
       " 'We collect and use IP addresses to analyze trends, administer the site, track user movement, and gather broad demographic information for aggregate use.',\n",
       " 'In some circumstances, an IP address may be considered personal information.',\n",
       " 'We also collect information through the use of cookies.',\n",
       " 'Cookies are pieces of data your web browser stores on your hard drive that we use to improve your user experience on our website.',\n",
       " 'We and our third party vendors may also use cookies to provide you with our advertising messages on other websites you visit; these third party vendors may collect information about your online activities over time and across different websites based on these cookies.',\n",
       " 'These activities provide us with important marketing information and lets us know how we are doing at attracting new visitors and maintaining relationships with our existing visitors.',\n",
       " 'If you wish, you can set your browser to refuse cookies or delete any existing cookies from your computer, but this may negatively impact your experience on our website.',\n",
       " 'Our third party vendors may collect additional information by automated means when you visit our website, such as browser type or operating system.',\n",
       " ' SHARING INFORMATION    We may share personal information within the DQ/Orange Julius family of companies, which includes American Dairy Queen Corporation, Orange Julius of America, Dairy Queen Canada Inc., Orange Julius Canada Limited and their affiliates.',\n",
       " 'Information shared within the DQ/Orange Julius family will comply with this privacy statement.',\n",
       " 'Cakes ordered through our dqcakes.com website are prepared at a DQ location, which are independently owned and operated franchises.',\n",
       " 'We will share your cake order information, which may include the contact information you provide, to a franchised location for purposes of tracking, responding to, and fulfilling your order.',\n",
       " 'We may share your personal information with third parties:     To provide services to you, such as purchasing and shipping goods, or credit card processing;',\n",
       " '  In connection with services provided to us, such as hosting, data management and storage, marketing or remarketing, website or marketing analytics, email services for our loyalty clubs, services to assist us with responding to you if you send us a comment, question, or complaint, for contest or sweepstakes administration and fulfillment, for employment application processing, and other similar services.',\n",
       " 'We and our third party service providers may use servers in the U.S. or another country.',\n",
       " 'Your personal information may be processed and stored in the U.S. or another country, and the government, courts, law enforcement or regulatory agencies of that country may by law be able to obtain your personal information;',\n",
       " '  For purposes of improving your user experience across our different websites and platforms (such as our mobile app);',\n",
       " '  We use Zipscene LLC to help us operate our mobile app and administer various activities.',\n",
       " 'To learn more about how Zipscene LLC uses information you provide to us, please visit zipscene.com/privacy;',\n",
       " '  For purposes of a merger, sale or other corporate reorganization (including professional advisors involved in completing such a transaction).',\n",
       " 'You agree that any of our successors may use and disclose the information for the same purposes as described in this statement; or',\n",
       " 'As required by law, or as needed to cooperate in or defend against any law enforcement investigation or legal proceeding.',\n",
       " 'We may share aggregated demographic information (data that cannot identify an individual person) with our third party vendors and advertisers.',\n",
       " 'If you participate in a contest or sweepstakes, we may publish information about you such as your name, city of residence or prize winnings.',\n",
       " ' California Do Not Track Disclosures    California\\'s Business and Professions Code section 22575 requires us to disclose how we respond to \"do not track\" signals.',\n",
       " 'We currently take no action to respond to \"do not track\" signals.',\n",
       " ' LINKS    This website may contain links to third party websites that we do not own, including links on our website to purchase DQ or Orange Julius gift cards or merchandise.',\n",
       " 'We are not responsible for the privacy practices of these other sites, and we encourage you to read the privacy statements of every website that collects personal information from you.',\n",
       " 'This privacy statement applies solely to information collected by this website.',\n",
       " ' FRANCHISEE WEBSITES    Many DQ and Orange Julius locations are independently owned and operated businesses and may have their own websites.',\n",
       " 'This privacy statement does not apply to sites run by independently owned and operated locations.',\n",
       " \" CHILDREN'S PRIVACY    We may have separate websites directed toward children.\",\n",
       " 'Our privacy practices regarding children will be posted on those websites.',\n",
       " ' MOBILE APP    If you download the official DQ mobile app, our privacy policy regarding use of the app is available within the app.',\n",
       " 'There may be other DQ or Orange Julius branded apps run by our franchisees, and our privacy policies do not apply to those apps.',\n",
       " ' SECURITY    We take security measures to protect personal information that we maintain against theft, unauthorized access, or alteration.',\n",
       " ' FEEDBACK    If you have any questions or concerns about this privacy statement, our privacy practices, or your personal information that is under our control, please contact us at: Attn: Privacy Compliance Officer International Dairy Queen, Inc. 7505 Metro Blvd Minneapolis, MN 55439 Email: privacy@idq.com',\n",
       " ' Web Privacy Statement',\n",
       " 'Austin Community College (ACC) is committed to ensuring the privacy of personal information.',\n",
       " 'We do not actively share personal information gathered from our Web servers.',\n",
       " 'However, because ACC is a public institution, some information collected from the ACC web site, including summary server log information, emails, and information collected from Web-based forms, may be subject to.',\n",
       " 'This means that while we do not share or sell information unless solicited, in some cases we may be compelled by Open Records law to release information.',\n",
       " 'Student directory information is routinely requested by vendors through the Texas Public Information Act.',\n",
       " 'Students have the option of excluding their personal information from the directory during registration.',\n",
       " 'ACC complies with the Family Educational Rights and Privacy Act (FERPA), which prohibits the release of education records without student permission.',\n",
       " 'The ACC website consists of several web servers.',\n",
       " 'Some servers hosted by ACC may adopt different privacy statements as their specific needs require.',\n",
       " 'If another ACC web server has a privacy statement that is different from this statement, that policy will be posted on their site.',\n",
       " 'The ACC website contains links to external websites.',\n",
       " 'The college is not responsible for the privacy practices or content of external web links.',\n",
       " ' Information we gather    The following information is collected and stored automatically from all users accessing the ACC website to browse or download information:     Internet address of computer being used     Web pages requested     Referring web page     Date and time     Type of web browser being used',\n",
       " 'This information is used to create summary statistics which are used for purposes such as assessing what information is of most interest to users, determining technical design specifications, and identifying system performance or problem areas.',\n",
       " 'This information is not reported or used in any manner that would reveal personally identifiable information, and will not be released to outside (third) parties unless legally required.',\n",
       " 'ACC will collect anonymous non-personally identifiable information about your website visit through pixel tags, sometimes known as cookies.',\n",
       " 'These tags help us track information about your visit and are used to deliver banner advertisements to you on the Internet.',\n",
       " ' Personal information you provide to us    ACC does not retain personally identifiable information about you when you visit our web sites unless you choose to provide such information to us (i.e.',\n",
       " 'sending an email, participating in a survey, responding to a request for information or \"contact us\" form, etc.)',\n",
       " 'We consider any information that could reasonably be used to identify you as \"personally identifying information.\"',\n",
       " 'This includes, but is not limited to:     Name     Address     Email address     Social Security Number     Any combination of data that could be used to identify you such as your birth date, your zip code and your gender',\n",
       " 'If you provide personal information in an email or by completing a form and submitting it through our Web site, we may use that information to respond to your message and to help us get you the information you have requested.',\n",
       " 'We do not collect personal information from such communications for any purpose other than to respond to you.',\n",
       " ' Cookies    ACC uses cookies, which are small pieces of information sent to your browser by a website that you visit.',\n",
       " 'These cookies do not collect personally identifiable information.',\n",
       " 'Cookies are used to track usage patterns, traffic trends and customer behavior, as well as to record other information from the website.',\n",
       " 'Many content adjustments and customer service improvements are made based on the data derived from cookies.',\n",
       " 'Information that ACC collects from cookies will not be used to create profiles of users and will only be used in aggregate form.',\n",
       " ' Web Beacons    A \"tracking pixel\" (sometimes called \"web beacons\", \"transparent GIFs\", \"clear GIFs\", \"pixel gifs\", or \"pixel tags\") is a tiny, invisible image that allows us to track activities based on pages you visit.',\n",
       " 'Tracking pixels redeliver advertising and notifications through 3rd party vendors.',\n",
       " 'No personally identifiable information is collected through these retargeting services, and we do not sell or rent the information collected through tracking pixels.',\n",
       " \"Information collected through tracking pixels can only be shared with third parties in aggregated form and in accordance with the college's privacy policy.\",\n",
       " ' Security accuracy of personal and confidential information    Although no computer system is 100 percent secure, Austin Community College has deployed extensive security measures to protect against the loss, misuse, or alteration of the information under our control.',\n",
       " 'If you are concerned about the accuracy of information contained in your personal records, you should contact the custodian of the record, which is typically the department that collects and maintains the information.',\n",
       " 'For example, contact the Admissions and Records Office about information collected through the Web application for admission.',\n",
       " ' Offsite links    Links to non-ACC organizations are provided solely as a service to our users.',\n",
       " 'These links do not constitute an endorsement of these organizations or their programs by ACC, and none should be inferred.',\n",
       " 'ACC is not responsible for the content found at these links.',\n",
       " ' Questions    If you have questions about this privacy statement or you believe that your personal information has been released without your consent email the Help Center.',\n",
       " 'Privacy Policy',\n",
       " 'Last updated: August 26, 2014',\n",
       " 'Our Commitment to Privacy   Hat World values your time, respects your privacy, and seeks to earn your trust.',\n",
       " 'We collect information about you in our stores and through the Sites ( lids.com, lids.ca and hatworld.com) in an effort to improve your shopping experience and to tell you about our products, services, contests and promotions.',\n",
       " 'Your trust is essential to us, and we are not in the business of selling or renting information about our customers to others.',\n",
       " 'As described in this policy, we may share your information among our brands and, under certain circumstances, with third parties that provide services on our behalf or with whom we have partnered to offer a particular product or service.',\n",
       " 'In line with these values, our privacy policy may change from time to time.',\n",
       " 'If it does, we will post an updated policy on the Sites and change the \"last updated\" line above.',\n",
       " 'If we make significant changes to the policy, we will provide appropriate notice to you.',\n",
       " 'If you have any unanswered questions about our privacy policy, click here to reach our Privacy Officer.',\n",
       " 'What kind of personal information does Hat World collect-   We may collect personal information from you, such as your name, email address, postal address, phone number, purchase history, credit card number, gender, birthday, and personal interests, when you visit one of the Sites or stores, place an order online or by phone, make an in-store purchase, save your information with us online, return an item to a store, contact us with a question or concern, participate in a contest, promotion, or survey, or communicate with us in any other way.',\n",
       " \"We may occasionally collect an individual's IP address to help identify an individual, gather broad demographic information about users of the Sites, diagnose problems with our systems, and administer the Sites.\",\n",
       " 'How does Hat World collect this information-   We receive and store any information from your visits to our Sites or that you give us in any other way.',\n",
       " 'As is true of most web sites, we gather and store certain information automatically, including Internet Protocol (IP) addresses, browser types, Internet Service Provider (ISP), referring/exit pages, operating system, date/time stamp, and click stream data.',\n",
       " \"This information does not identify individual users, and is used to analyze trends, to administer the site, to track users' movements around the site and to gather demographic information about our user base as a whole.\",\n",
       " \"To do this, we use 'cookies' or alphanumeric identifiers that we transfer to your computer's hard drive through your web browser to enable our systems to recognize your browser and to provide features such as storage of items in your Shopping Cart between visits.\",\n",
       " 'We use a third-party service provider to serve ads on our behalf across the Internet and sometimes on the Sites.',\n",
       " 'This provider may collect anonymous information about your visits to the Sites and may also use information about your visits to this and other Web sites to refine our services.',\n",
       " 'If you are concerned about cookies, the \"help\", \"options\" or \"preferences\" functions on most browsers will allow to limit or disable cookies altogether.',\n",
       " 'However, cookies allow you to take full advantage of our interactive features, and we recommend that you leave them turned on.',\n",
       " 'Currently, our Sites do not respond to \"Do Not Track\" signals from your browser.',\n",
       " 'We may also collect anonymous information about your interactions with us through the use of pixel tags (also called \"web beacons\" or \"clear gifs\"), which are tiny graphic images on the Sites and in our emails.',\n",
       " \"Pixel tags are now standard in the industry and help to us analyze our customers' online behavior and measure the effectiveness of our Sites and our advertising.\",\n",
       " 'A third-party service provider also helps us in our use of these tools.',\n",
       " 'To ensure we are sending our emails to the right address, we may receive a confirmation when you open email from us if your computer supports such capabilities.',\n",
       " 'Last, to provide customer service, we might receive information about you from other sources and add it to our account information.',\n",
       " 'We also sometimes receive address information from these sources to correct our records and deliver your next purchase or communication more easily.',\n",
       " 'Any personal information that we collect will be stored in secure servers hosted in the U.S. or Canada.',\n",
       " 'How does Hat World use your personal information-   The information we learn from customers helps us personalize and improve your shopping experience.',\n",
       " 'In particular, by using the Sites, you agree that we may use your personal information in the following ways:     To process and fulfill your order, including sending you email to confirm your order status and shipment.',\n",
       " 'To communicate with you, to send you information about our products, services, contests, and promotions, and to send offers to selected groups of customers on behalf of other businesses.',\n",
       " 'When we send you offer on behalf of other businesses, we never give that business your name and address.',\n",
       " 'If you do not wish to receive such offers, please let us know, and we will place you on a \"do not contact\" list.',\n",
       " 'To administer contests and other promotions.',\n",
       " 'To help us learn more about your shopping preferences so that we can customize future shopping for you, improve our stores, and tailor offers and promotions to you.',\n",
       " 'To help us address problems with and improve our site design, products and services.',\n",
       " 'To enhance your shopping experience.',\n",
       " 'To administer our loyalty programs.',\n",
       " 'To process merchandise returns.',\n",
       " 'To analyze trends and statistics.',\n",
       " 'To correct our records and make it easier to deliver your next purchase or communication more easily.',\n",
       " 'To protect the security and integrity of the Sites and our business.',\n",
       " 'To respond to your requests and to contact you if necessary.',\n",
       " 'For customer service purposes, such as contacting customers who have not checked out to follow up on abandoned shopping carts or to see if there was a problem with their use of our Sites.',\n",
       " 'If you have questions or concerns about how we use personal information, please contact us as indicated below.',\n",
       " 'Does Hat World share personal information about me-   By using the Sites, you agree that we may share your personal information in the following ways:     When you provide personal information to one of our retail stores or affiliates, we may share that information with our other retail stores or affiliates in the United States or Canada.',\n",
       " 'We may share information about you with our service providers who manage our customer information and perform services on our behalf, such as fulfilling promotions, sending communications to our customers, validating addresses, and conducting surveys.',\n",
       " 'We may share information about you when we team up with another company to offer or provide products, services, contests, or promotions to our customers.',\n",
       " 'We may share personal information about you to address a security, integrity, or legal threat to the Sites or our business, including for fraud protection and credit risk reduction, to protect the legal rights, privacy or safety of Hat World or our employees, agents and contractors, to enforce our terms of use, to respond to inquiries or requests from government or public authorities in any country in which we operate, including the U.S. and Canada, or to comply with the law or legal process.',\n",
       " 'We employ other companies and individuals as agents to perform functions on our behalf.',\n",
       " 'Examples include delivering packages, sending postal mail and email, removing repetitive information from customer lists, analyzing data, providing marketing assistance, processing credit card payments, and providing customer service.',\n",
       " 'Whenever we share personal information with our agents, we restrict their access to only that information needed to perform their functions, demand that they provide a comparable level of protection for personal information, and require that they not use it for other purposes.',\n",
       " 'In addition, if you choose to participate in any loyalty program in which Hat World participates, such as LIDS Club, and you authorize Hat World to provide information about purchases you make to the company administering the program, we will share personal information about you with that company.',\n",
       " 'Loyalty programs allow you to obtain discounts on purchases at our stores, special member-only offers, and VIP access to new product releases and the hottest trends.',\n",
       " 'The information you authorize us to disclose may include your credit card number and the date and amount of your purchase, and may also include your name and other information you have asked us to provide.',\n",
       " 'Please note that once we disclose this information, the company administering the loyalty program may use and share it with others in accordance with its own privacy policy.',\n",
       " 'You should review these policies carefully, as we have no control over them.',\n",
       " 'How does Hat World keep your information secure-   Hat World is always striving to ensure you a safe and convenient online experience.',\n",
       " 'This goes beyond our technologies to include physical, contractual, and managerial safeguards to protect your personal information.',\n",
       " 'We work to protect the security of your information during transmission by using Thawte Certified Secure Sockets Layer (SSL) software, which encrypts information you input.',\n",
       " 'We reveal only the last four digits of your credit card numbers when confirming an order.',\n",
       " 'Of course, we transmit the entire credit card number to the appropriate credit card company during order processing.',\n",
       " 'Security lies in your hands as well.',\n",
       " 'It is important for you to protect against unauthorized access to your password and to your computer.',\n",
       " 'Be sure to sign off when finished using a shared computer.',\n",
       " 'In the event of unauthorized use of your credit card, you must notify your credit card provider in accordance with its reporting rules and procedures.',\n",
       " 'What is \"phishing\"-   \"Phishing\" is a scam where fraudsters pretend that they represent well-known companies to steal your personal information.',\n",
       " 'If you receive an email claiming to be from Hat World that asks you for your personal information, do not respond.',\n",
       " 'We will never request your password, user name, credit card information or other personal information through email.',\n",
       " 'How can I control your use of my personal information-   We want to communicate with you only if you want to hear from us.',\n",
       " 'If you prefer not to receive promotional information from one or more of our brands, please let us know by making a written request to our Privacy Officer.',\n",
       " 'In any such request, please provide us with your full name and the email address you used when you registered with or made a purchase from us.',\n",
       " 'If you ask us to remove your name and address from promotional lists, we will maintain your name in a \"do not contact\" file to ensure that we can honor your request.',\n",
       " 'It may take up to 10 days to process your email request and 6-8 weeks to process your postal mail request, during which transition period you may continue to receive communications from us.',\n",
       " \"How does Hat World protect kids' privacy-   Hat World is concerned about the privacy and safety of children when they use the Internet.\",\n",
       " 'We will never knowingly request personally identifiable information online from anyone under the age of 13 without prior verifiable parental consent.',\n",
       " 'The Sites are general audience sites and are not targeted to or intended for use by children.',\n",
       " 'To carry this promise through, we do not sell products for purchase by children.',\n",
       " \"We sell children's products for purchase by adults.\",\n",
       " 'If you are under 18, you may use the Sites only with involvement of a parent or guardian.',\n",
       " 'What about links to other web sites-   The Sites may contain links to third-party web sites.',\n",
       " 'All such sites are independent from the Sites and from Hat World.',\n",
       " 'Hat World has no control over and expressly disclaims any liability for such sites or their contents.',\n",
       " 'Our links do not constitute an express or implied adoption or endorsement of anything contained in the other sites.',\n",
       " 'Any transactions that take place between you and the third party are directly with the third party and Hat World will not be held responsible for any loss or damage that you may incur as a consequence thereto.',\n",
       " 'Please read the privacy policies and terms and conditions posted on these other sites before using the sites or disclosing any personal information to the sites.',\n",
       " 'If you decide to access any of these sites, you do so entirely at your own risk.',\n",
       " 'Your California Privacy Rights   California Civil Code Section 1798.83 permits customers of Hat World who are California residents to request certain information regarding our disclosure of personal information to third parties for their direct marketing purposes.',\n",
       " 'To make such a request, please click here to reach our Privacy Officer.',\n",
       " 'How do I contact you-   To reach us with any questions or requests about customer care or our privacy policy, you can contact us by email, telephone, or postal mail:    US CANADA    Hat World   Attn: Privacy Officer   7555 Woodland Dr   Indianapolis, IN 46278   1-888-564-4287',\n",
       " ' Everyday Health Privacy Policy    This Policy was last changed on October 24, 2014',\n",
       " 'Everyday Health Media, LLC and its subsidiaries (\"Everyday Health,\" \"us\" or \"we\") operate this website (the \"Site\"), and other health, wellness, diet and fitness websites that are part of the Everyday Health portfolio of websites (collectively, the \"Sites\") and the services related to or offered on the Sites (hereinafter, the \"Services\").',\n",
       " 'Some of the Sites are websites that we operate on behalf of third party licensors, for example, JillianMichaels.com, PDRHealth.com and SouthBeachDiet.com (collectively, \"Licensors\").',\n",
       " \"Everyday Health's Services may include, without limitation, tools, applications, email services, bulletin and message boards, chat areas, news groups, forums, communities, calendars, and downloadable mobile applications related to the Sites or provided through the Sites.\",\n",
       " 'We provide you this privacy policy (the \"Policy\") to help you understand the kinds of information we may gather about you when you visit the Site or use any of our Services, how we may use and disclose the information, and how you can control, correct and/or update the information.',\n",
       " 'To be clear about the terminology we are using, when we use the phrase \"Personal Information\" in this Policy, we mean information that can be used to identify or contact a person, like a person\\'s full name, address, e-mail address, or phone number.',\n",
       " 'When we use the phrase \"Anonymous Information\" in this Policy, we mean information that cannot reasonably be used to identify individual persons.',\n",
       " 'By visiting this Site or using the Services, you are accepting the policies and practices described in this Policy.',\n",
       " 'Each time you visit the Site or use the Services, you agree and expressly consent to our collection, use and disclosure of the information that you provide as described in this Policy.',\n",
       " 'Your Personal Information will be processed by us in the United States.',\n",
       " 'In addition to this general Policy, each Service may have additional privacy provisions that are specific to the particular Service.',\n",
       " 'These supplemental disclosures are made adjacent to the particular Service at the time we collect the information.',\n",
       " 'These supplemental disclosures also govern the use of your information.',\n",
       " ' 1.',\n",
       " 'The Information We Gather    We collect information about you in the following ways:',\n",
       " ' A.',\n",
       " 'Information you voluntarily provide us    We collect and maintain information that you voluntarily submit to us during your use of the Sites and Services.',\n",
       " \"For example:     when you register for a Site, you may provide us certain information including your name, email address, screen name, password, demographic information and the health topics that interest you;     to engage a Site's social networking function, you may add to your profile by providing information about your interests or health topics.\",\n",
       " 'For example, your profile may list your favorite healthy foods or movie;     if you are registering for a customized weight loss program, you may provide us answers to questions we use to provide you the program, like your actual and goal weights, your preferred method of exercise, or your caloric intake;     if you sign up to receive a newsletter, enter a contest or participate in social networking activities, you may provide us contact information (e.g., email or physical address);     if you purchase a product or service, you may provide us your credit card information; and     you may provide us with Personal Information in the course of email, customer support interactions and surveys.',\n",
       " 'You can choose not to provide us with certain information, but this may stop you from gaining access to a Service or limit the features that you can use.',\n",
       " 'For more information, please see the How We Use Your Information section below.',\n",
       " ' B.',\n",
       " 'Information we collect through your use of the Site.',\n",
       " 'As you use the Site and Services, certain information may also be passively collected.',\n",
       " 'Through cookies, pixels, beacons, log files and other technologies, we may collect information about how you use the Site and the Services.',\n",
       " 'For example we may determine through an IP address that a particular computer or device is located in New York City and we may use this information to deliver advertisements promoting New York City-based businesses.',\n",
       " 'This information allows us to deliver more helpful information, programs, tools and advertisements.',\n",
       " 'Please see the Cookies and Targeted Advertising sections below for more information.',\n",
       " ' C. Information we receive from third parties.',\n",
       " 'We may also combine online and/or offline information received from third parties with the information we have already collected from you via our Sites and Services.',\n",
       " 'The third party information is used for a variety of purposes including to verify other information about you (e.g., verify your mailing address to send you requested products or services) and to enhance the content and advertising we provide to you.',\n",
       " ' 2.',\n",
       " 'How We Use Your Information    We will use your Personal Information in the ways described below or described at the time that the information is collected.',\n",
       " 'Advertising.',\n",
       " 'We believe that advertising is more interesting to you when it is relevant.',\n",
       " 'Accordingly, we customize the advertisements that you see based upon: (i) the information that you provide us (e.g., age, gender, stated health interests and other information in your profile); (ii) geographic location information, which we may determine through your IP address, from your mobile device, or other ways; (iii) data we receive from third parties or; (iv) your visits on the Sites or use of Services (commonly referred to as \"Behavioral Advertising\").',\n",
       " 'Please see the Cookies and Targeted Advertising section below for more information on the use of cookies and the information collected for Behavioral Advertising.',\n",
       " 'We may use your Personal Information to deliver customized advertizing to you on this Site, on other websites and on other digital and offline media channels.',\n",
       " 'On some Sites, the profile section is accessed through the MySite tab, (e.g., MyEverydayHealth).',\n",
       " 'Please see the section below on Updating and Control of Your Personal Information for more information.',\n",
       " \"Please note that if you have registered on multiple Sites, you'll need to modify your profile on each Site.\",\n",
       " 'In addition, you can delete the cookies that we have placed on your browser.',\n",
       " 'Please see the section below on Cookies, Web Beacons and IP Address Information for more information.',\n",
       " 'To Provide the Sites and Services.',\n",
       " 'In general, we use your Personal Information as necessary or appropriate for purposes including to:   administer your account;     register you and provide you access to the Site or Services;     respond to inquiries or requests that you direct to us; fulfill your requests for products or services;     send communications and administrative emails about the Sites or Services;     personalize and better tailor the features, performance and support of the Sites and Services for your use;     send you promotional/marketing information, newsletters, offers or other information regarding opportunities and functionality that we think would be of particular interest to you;     improve the quality of the Site and the Services, and     analyze, benchmark and conduct research on user data and user interactions with the Site and Services.',\n",
       " ' 3.',\n",
       " 'Cookies and Targeted Advertising     A.',\n",
       " 'Cookies, Web Beacons and IP Address Information      \"Cookies\" are small pieces of information that a website places on your browser when you visit that website.',\n",
       " 'We may use cookies to provide you with a more personal and interactive experience with the Sites and Services.',\n",
       " \"For example, we may use cookies to control what advertisements you see, the sequence of advertisements and to make sure you don't see the same advertisement too many times.\",\n",
       " 'For contests or sweepstakes, we may also use cookies in order to track your progress and the number of entries in some promotions.',\n",
       " \"For polls, we may use cookies to help ensure that an individual can't vote more than once on a particular question or issue.\",\n",
       " 'We do not store Personal Information in any cookies on your computer.',\n",
       " \"  Cookies can be removed by following your Internet browser's directions within the help tab.\",\n",
       " 'In order to use certain Services offered through the Sites, your web browser must accept cookies.',\n",
       " 'If you choose to disable cookies, some aspects of the Sites may not work properly, and you may not be able to access our Services.',\n",
       " '  We may also use cookies, pixels, web beacons (which are usually small, transparent graphic images), operating system and device information and navigational data like Uniform Resource Locators (URL) to gather information regarding the date and time of your visit, the features and information for which you searched and viewed, the email you opened, or on which advertisements you clicked.',\n",
       " 'This type of information is collected to make the Sites and Services more useful to you and to tailor the experience with us to meet your special interests and needs.',\n",
       " '  An \"Internet protocol address\" or \"IP Address\" is a number that is automatically assigned to your computer when you use the Internet.',\n",
       " 'We, or our service providers, may use your IP Address when you access the Sites or Services or use other means to assist with delivering geographically targeted advertisements.',\n",
       " \"Targeted Advertising    Companies Everyday Health works with may use cookies for purposes including understanding Web usage patterns of users who see advertisements on the Sites, controlling the sequence of advertisements you see, making sure you don't see the same advertisement too many times, determining your interests and tailoring advertisements and promotions based on those interests.\",\n",
       " 'For example, if you read an article about a particular health condition on the Sites, we may use cookies from a vendor to later serve you an advertisement for a product related to the viewed article.',\n",
       " 'These third-party vendors may connect information about pages you visit on our Sites with information about pages you visit on other websites and media channels and show you advertising based on this combined information.',\n",
       " 'The advertisement may appear when you are visiting a different section of this Site or another website or media channel if the website or media channel also has a relationship with us or our vendor.',\n",
       " 'You can choose to limit Behavioral Advertising on the Sites by clicking here and opting-out of cookies placed by those vendors listed.',\n",
       " 'After you opt-out, you will still see advertisements but the advertising may not be as relevant to your interests.',\n",
       " 'If you change your computer, change your browser, or delete your cookies, you will need to renew your opt-out.',\n",
       " 'Our Sites currently are not setup to process or respond to \"Do Not Track\" settings or signals from web browsers.',\n",
       " 'We do adhere to the Self-Regulatory Principles for Online Behavioral Advertising of the Digital Advertising Alliance (for more information click here).',\n",
       " ' C. Information Collected by Third Party Advertisers    Advertisers or other third parties on the Sites may also engage in Behavioral Advertising and use cookies and web beacons in the manner described above.',\n",
       " \"We do not control these advertisers or other parties' use of cookies or web beacons or what they do with the information they collect.\",\n",
       " 'Many third party vendors that engage in Behavioral Advertising participate in the Network Advertising Initiative (NAI) and/or the Digital Advertising Alliance (DAA) and abide by NAI and/or DAA principles.',\n",
       " 'If you wish to opt out of participating in advertising programs conducted by NAI and DAA members or learn more about the NAI and DAA, please go to the NAI Opt-Out website and DAA Choice Page and follow the instructions.',\n",
       " 'After you opt-out, you will still see advertisements, but the advertising may not be as relevant to your interests.',\n",
       " 'If you change your computer, change your browser or delete your cookies, you will need to renew your opt-out.',\n",
       " ' 4.',\n",
       " 'How We Disclose Information to Third Parties    We may share your Personal Information with third parties as specifically approved by you or under the circumstances described below.',\n",
       " 'If you do not want us to use or disclose Personal Information collected about you in the ways identified in this Policy, you should not use the Site or Services.',\n",
       " 'Disclosure for legal reasons.',\n",
       " 'We may disclose and release your Personal Information to third parties: (a) to comply with valid legal requirements such as a law, regulation, search warrant, subpoena or court order; or (b) in special cases, such as a physical threat to you or others, a threat to homeland security, a threat to our system or network, or in any cases in which we believe it is reasonably necessary to investigate or prevent harm, fraud, abuse, illegal conduct or a violation or alleged violation of this Policy or other agreement we may have with you.',\n",
       " 'Agents and Contractors.',\n",
       " 'We may provide your Personal Information to service providers who work on our behalf or help us to operate our business, the Sites and the Services.',\n",
       " 'Examples of such service providers include vendors and suppliers that provide us with technology, research, and/or marketing assistance; provide services and/or content for sending email and providing customer service; analyze data, serve advertisements on our Sites and Services and on third-party channels; and process payments (including credit card payments).',\n",
       " 'Access to your Personal Information by these service providers is limited to the information reasonably necessary to perform its limited function.',\n",
       " ' C. Aggregated, Anonymous Information.',\n",
       " 'We may share aggregated Anonymous Information about you with third parties.',\n",
       " 'Aggregated information is your Anonymous Information that is combined with the Anonymous Information of other users.',\n",
       " ' D. Contests, sweepstakes and polls.',\n",
       " 'Some or all of the information collected during a promotions, contest, polls, or sweepstakes (\"Promotions\") may be disclosed publicly.',\n",
       " 'It may also be shared with other third parties as disclosed at the time of collection or in the Promotion rules.',\n",
       " 'These third parties may include providers of prizes in order to update you of your status of your prize or other fulfillment needs or a co-sponsor who may use your Personal Information to administer the Promotion or for their marketing purposes, but only in conformance with their privacy policy as made available to you at the time of collection.',\n",
       " 'Everyday Health is not responsible for their privacy policy or practices.',\n",
       " 'When you participate in a Promotion, you are subject to any official rules for that Promotion, which may contain additional information about the specific privacy practices associated with the Promotion.',\n",
       " ' E. Long-Term-License Services.',\n",
       " 'Some of the Sites are websites that Everyday Health operates on behalf of Licensors, for example PDRHealth.com, JillianMichaels.com and SouthBeachDiet.com.',\n",
       " 'Everyday Health may share some or all of your Personal Information with its Licensors.',\n",
       " 'This Policy does not cover the use of your Personal Information by Licensors.',\n",
       " \"The privacy practices of Everyday Health's Licensors may differ from this policy and we encourage you to contact those third parties directly if you have questions regarding their use of your Personal Information.\",\n",
       " ' F. Sponsors, Merchants and other ways that you approve at the time of collection.',\n",
       " 'We may collect Personal Information about you and share it with third parties to the extent that you give us permission at the time of collection.',\n",
       " 'For example, if you purchase a deal, product, or service, we will provide your information to the applicable merchant or vendor.',\n",
       " 'We also sometimes gather Personal Information on behalf of a sponsor in association with a promotion.',\n",
       " \"In such a case, we will provide you notice at the time of collection that the information is being collected on the sponsor's behalf.\",\n",
       " 'We do not control and are not responsible for how these third parties use your information.',\n",
       " ' G. Within our Company; Changes to our Company.',\n",
       " 'We may share your Personal Information with any of our subsidiaries, joint ventures, or other companies under common control.',\n",
       " 'Additionally, in the event we go through a business transition such as a merger, acquisition by another company, or sale of all or a portion of our assets, your Personal Information may be among the assets transferred.',\n",
       " 'You acknowledge that such transfers may occur and are permitted by this Policy.',\n",
       " ' 5.',\n",
       " 'Message Boards and Chats    We may make message boards, chat rooms, and other interactive forums available as part of the Services.',\n",
       " 'You should be aware that any information which you post to these interactive forums or otherwise choose to make publicly available, including your Personal Information, may be disclosed and available to all users who have access to that portion of the Site or Services.',\n",
       " 'By using these interactive forums, you agree that we are not responsible for any information that you disclose or communicate in such forums, and any disclosures you make are at your own risk.',\n",
       " ' 6.',\n",
       " \"Children's Information    The Site and Services are not directed or intended for children under 13 years of age.\",\n",
       " 'We do not knowingly collect Personal Information from individuals under 13 years of age.',\n",
       " 'If you are under 13 years of age, you should not register or provide Personal Information on the Site or through the Services.',\n",
       " \"If you are the parent or guardian of a child whom you believe has disclosed Personal Information to us, please contact us at privacy@everydayhealth.com so that we may delete and remove such child's information from our systems.\",\n",
       " ' 7.',\n",
       " 'Updating and Control of Your Personal Information    We offer you choices regarding the collection, use, and sharing of your Personal Information.',\n",
       " 'When you receive promotional communications from us you will have the opportunity to \"opt-out\" by following the unsubscribe instructions provided in the promotional e-mail or newsletter you receive or by editing your preference to receive these communications within the \"Manage My Email\" or similar feature on the individual Sites when you are logged in as a registered user.',\n",
       " 'If you would like assistance disabling your account, please contact customer service at support@everydayhealth.com or call 1-888-795-4719.',\n",
       " ' 8.',\n",
       " 'Co-branded Sections of the Sites    Certain portions of the Sites may be co-branded with a business partner and subject to a different privacy policy that is either the partner\\'s privacy policy or a privacy policy developed jointly by Everyday Health and our partner (collectively the \"Co-branded Policy\").',\n",
       " \"The partner's collection, use and dissemination practices regarding any data or Personal Information provided by, or obtained from users of these Co-branded portions of the Sites will be governed by the Co-branded Policy.\",\n",
       " 'Please read the Co-branded Policy for each Co-branded Site before providing any Personal Information.',\n",
       " ' 9.',\n",
       " 'Third Party Links    The Sites may link to websites operated by third parties that we do not control.',\n",
       " 'We do not monitor, control, or endorse the information collection or privacy practices of any third parties.',\n",
       " 'We encourage you to become familiar with the privacy practices of every website you visit and to contact them if you have any questions about their respective privacy policies and practices.',\n",
       " 'This Policy applies solely to information collected by us through the Sites or Services and does not apply to these third party websites.',\n",
       " 'The ability to access information of third parties from the Sites or Services, or links to other websites or locations, is for your convenience only and does not signify our endorsement of such third parties, their products, services, websites, locations or their content.',\n",
       " ' 10.',\n",
       " 'Security    We place a priority on the security of Personal Information, and we undertake reasonable security measures to help protect the data that resides on our servers.',\n",
       " 'We also use secure server software (SSL) to process all financial transactions that occur on the Site.',\n",
       " 'SSL technology can encrypt Personal Information transmitted over the Internet.',\n",
       " 'However, no security system is impenetrable.',\n",
       " 'We do not warrant the security of our servers, nor do we warrant that your information, including Personal Information, will be completely secure or not be intercepted while being transmitted over the Internet.',\n",
       " ' 11.',\n",
       " 'How To Contact Us    If you have any questions regarding privacy or this Policy, you may contact us as follows: Telephone: 888-795-4719 Email: privacy@everydayhealth.com Address: Everyday Health, LLC 345 Hudson Street, 16th Floor New York, NY 10014    12.',\n",
       " 'Privacy Policy Changes    We reserve the right to change, modify, add or remove portions of this Policy at any time and without prior notice, and any changes will become effective immediately upon being posted unless we advise you otherwise.',\n",
       " 'Your continued use of the Site or Services after this Policy has been amended shall be deemed to be your continued acceptance of the terms and conditions of the Policy, as amended.',\n",
       " 'We encourage you to bookmark this Web page and review this Policy regularly.',\n",
       " \" Privacy and Security Commitment    Our Promise to You   Dallas County Community College District's (DCCCD) Privacy Commitment is based on two principles.\",\n",
       " 'We promise to: Comply with all the applicable local, state and federal laws and regulations; and Protect your privacy while still offering relevant, personalized service.',\n",
       " 'DCCCD is a public higher education institution and therefore bound by the Texas Public Information Act and the Family Education Rights and Privacy Act (FERPA).',\n",
       " \"Continue reading for more detailed information about DCCCD's Privacy and Security Commitment.\",\n",
       " ' Texas Public Information Act    The Texas Public Information Act requires disclosure of information by a public body -- unless the law specifically protects the information.',\n",
       " 'Most information kept by a public body is public under the Act.',\n",
       " 'The State Attorney General enforces this Act.',\n",
       " ' Family Education Rights and Privacy Act of 1974 (FERPA)    FERPA protects educational records of a student from public disclosure without written permission of the student.',\n",
       " 'Although many exceptions to the Act exist, the exceptions are very limited.',\n",
       " 'The Department of Education enforces this Act.',\n",
       " ' Directory Information    Unless you request that your information be withheld, to comply with FERPA, DCCCD may release information classified as \"directory information\" to the general public without the written consent of the student.',\n",
       " 'Directory information includes:   name;     home address;     home telephone number;     email addresses;     field of study;     photograph;     dates of attendance;     enrollment status, i.e., full-time, part-time, undergraduate, graduate;     degrees, certificates and other honors and awards received;     the type of award received, i.e., academic, technical, tech-prep, or continuing education;     participation in officially recognized activities;     weight and height of members of athletic teams;     student classification;     name of the most recent previous institution attended',\n",
       " \" How to request that your directory information be withheld    A student may request that the institution withhold from the public all or any part of the student's directory information.\",\n",
       " \"To request withholding of this information, a student shall give written notice (in person, by mail or fax) to the Registrar's Office during the first 12 class days of a Fall or Spring semester or the first four class days of a Summer session.\",\n",
       " \"If they are unable to provide written notice within these time frames, credit students may protect their directory information at any time during the academic year through eConnect's 'My Privacy' feature.\",\n",
       " 'If a request to withhold information is not made, the institution shall release all directory information.',\n",
       " 'Directory information is released only upon written request unless permitted by law.',\n",
       " 'Telephone requests are not acceptable.',\n",
       " \"Transcripts or academic records are not released without a student's written consent except as allowed by law.\",\n",
       " \" Information collected by DCCCD    DCCCD's Web servers only record the visitor's Internet Protocol (IP) address.\",\n",
       " \"We also use Google's services (Google Analytics, Google's Display Advertising, Google Display Network Impression Reporting, the DoubleClick Campaign Manager Integration, and Google Analytics Demographics and Interest Reporting) to record and review additional information about our users to improve our user experience and services.\",\n",
       " 'Cookies and how they are used',\n",
       " \"We use cookies to:   Store visitors' preferences;     Record session information;     Record user-specific information on what pages visitors visit;     Customize webpage content on visitors' browser type or other information that the visitor sends;     Show DCCCD ads to people who have previously visited our website.\",\n",
       " 'Make sure you take a photo identification card with you.',\n",
       " \"Dallas TeleCollege students should visit the Dallas TeleCollege Registrar's Contact Us website.\",\n",
       " \" Security    DCCCD has carefully implemented the information technology industry's best practices in security measures to ensure that: 1) the information you entrust to us is not intercepted or abused; and 2) to protect against the loss, misuse and alteration of the information under our control.\",\n",
       " 'Industry standard technologies like Secure Socket Layers (SSL) are used to protect your credit card information, email address, social security number and other information so it cannot be read as it travels on the Internet.',\n",
       " \"Verisign, the leading provider of digital trust services, provides secure payment processing for your online transactions with DCCCD's eConnect.\",\n",
       " \"For Verisign's security information please visit their website at http://www.verisign.com/truste.\",\n",
       " \"Please send comments or questions to DCCCD's Director of Internet Publishing.\",\n",
       " 'Privacy Policy   NaturalNews.com never rents or sells emails to third parties.',\n",
       " 'We honor the privacy of our members and users, and unlike some other social networking sites, we DO NOT share user details with advertisers.',\n",
       " 'NaturalNews.com honors all email unsubscribe requests and makes every attempt to honor the privacy of its members, viewers and sponsors.',\n",
       " 'Postmaster Webseed 6336 N. Oracle Rd.',\n",
       " '325-315 Tucson, AZ 85704 reply@naturalnews.com',\n",
       " 'To opt-out of NaturalNews emails, simply click the \"unsubscribe\" link found at the bottom of any email from NaturalNews.',\n",
       " 'If you experience any difficulty unsubscribing, simply forward this entire email to reply@naturalnews.com and you will be automatically unsubscribed.']"
      ]
     },
     "execution_count": 193,
     "metadata": {},
     "output_type": "execute_result"
    }
   ],
   "source": []
  },
  {
   "cell_type": "code",
   "execution_count": 163,
   "metadata": {
    "collapsed": false
   },
   "outputs": [],
   "source": [
    "def modelAndValidate(trainSentTuples, valSentTuples,topiclist, vectorizer, classifier):\n",
    "  results={}\n",
    "\n",
    "  for topic in topiclist:\n",
    "    ## fit the model\n",
    "    traintexts, trainlabels=generateXY(trainSentTuples, topic)\n",
    "    vectorizer.fit(traintexts)\n",
    "    trainCounts=vectorizer.transform(traintexts)\n",
    "    valTexts, valLabels=generateXY(valSentTuples, topic)\n",
    "    valCounts=vectorizer.transform(valTexts)\n",
    "    classifier.fit(trainCounts, trainlabels)\n",
    "    predictions=classifier.predict(valCounts)\n",
    "    f1score=f1_score(valLabels, predictions, average=\"weighted\")\n",
    "    results[topic]={\"model\":classifier, \"validation_labels\":valLabels, \"predictions\":predictions, \"f1_score\":f1score}\n",
    "    print(\"Finished modeling for topic {}\".format(topic))\n",
    "  return results, vectorizer"
   ]
  },
  {
   "cell_type": "code",
   "execution_count": 171,
   "metadata": {
    "collapsed": false
   },
   "outputs": [
    {
     "name": "stdout",
     "output_type": "stream",
     "text": [
      "Finished modeling for topic ('First Party Collection/Use', 'Action First-Party')\n",
      "Finished modeling for topic ('First Party Collection/Use', 'Purpose')\n",
      "Finished modeling for topic ('Third Party Sharing/Collection', 'Action Third Party')\n",
      "Finished modeling for topic ('Third Party Sharing/Collection', 'Does/Does Not')\n",
      "Finished modeling for topic ('Third Party Sharing/Collection', 'Personal Information Type')\n",
      "Finished modeling for topic ('Third Party Sharing/Collection', 'Purpose')\n",
      "Finished modeling for topic ('Third Party Sharing/Collection', 'Third Party Entity')\n",
      "CPU times: user 6min 4s, sys: 180 ms, total: 6min 5s\n",
      "Wall time: 6min 5s\n"
     ]
    }
   ],
   "source": [
    "%%time\n",
    "vectorizerFinal=TfidfVectorizer(max_df=0.2, stop_words=\"english\")\n",
    "classifierFinal=RandomForestClassifier(n_estimators=500)\n",
    "extractionModels, fittedVectorizer =modelAndValidate(relSentTuples, validateRelSentsTuples, valTopics, vectorizerFinal, classifierFinal)"
   ]
  },
  {
   "cell_type": "code",
   "execution_count": 172,
   "metadata": {
    "collapsed": false
   },
   "outputs": [
    {
     "data": {
      "text/html": [
       "<div>\n",
       "<table border=\"1\" class=\"dataframe\">\n",
       "  <thead>\n",
       "    <tr style=\"text-align: right;\">\n",
       "      <th></th>\n",
       "      <th></th>\n",
       "      <th>f1_score</th>\n",
       "      <th>model</th>\n",
       "    </tr>\n",
       "  </thead>\n",
       "  <tbody>\n",
       "    <tr>\n",
       "      <th rowspan=\"2\" valign=\"top\">First Party Collection/Use</th>\n",
       "      <th>Action First-Party</th>\n",
       "      <td>0.861534</td>\n",
       "      <td>(DecisionTreeClassifier(class_weight=None, cri...</td>\n",
       "    </tr>\n",
       "    <tr>\n",
       "      <th>Purpose</th>\n",
       "      <td>0.809102</td>\n",
       "      <td>(DecisionTreeClassifier(class_weight=None, cri...</td>\n",
       "    </tr>\n",
       "    <tr>\n",
       "      <th rowspan=\"5\" valign=\"top\">Third Party Sharing/Collection</th>\n",
       "      <th>Action Third Party</th>\n",
       "      <td>0.878209</td>\n",
       "      <td>(DecisionTreeClassifier(class_weight=None, cri...</td>\n",
       "    </tr>\n",
       "    <tr>\n",
       "      <th>Does/Does Not</th>\n",
       "      <td>0.852496</td>\n",
       "      <td>(DecisionTreeClassifier(class_weight=None, cri...</td>\n",
       "    </tr>\n",
       "    <tr>\n",
       "      <th>Personal Information Type</th>\n",
       "      <td>0.874944</td>\n",
       "      <td>(DecisionTreeClassifier(class_weight=None, cri...</td>\n",
       "    </tr>\n",
       "    <tr>\n",
       "      <th>Purpose</th>\n",
       "      <td>0.879136</td>\n",
       "      <td>(DecisionTreeClassifier(class_weight=None, cri...</td>\n",
       "    </tr>\n",
       "    <tr>\n",
       "      <th>Third Party Entity</th>\n",
       "      <td>0.870839</td>\n",
       "      <td>(DecisionTreeClassifier(class_weight=None, cri...</td>\n",
       "    </tr>\n",
       "  </tbody>\n",
       "</table>\n",
       "</div>"
      ],
      "text/plain": [
       "                                                          f1_score  \\\n",
       "First Party Collection/Use     Action First-Party         0.861534   \n",
       "                               Purpose                    0.809102   \n",
       "Third Party Sharing/Collection Action Third Party         0.878209   \n",
       "                               Does/Does Not              0.852496   \n",
       "                               Personal Information Type  0.874944   \n",
       "                               Purpose                    0.879136   \n",
       "                               Third Party Entity         0.870839   \n",
       "\n",
       "                                                                                                      model  \n",
       "First Party Collection/Use     Action First-Party         (DecisionTreeClassifier(class_weight=None, cri...  \n",
       "                               Purpose                    (DecisionTreeClassifier(class_weight=None, cri...  \n",
       "Third Party Sharing/Collection Action Third Party         (DecisionTreeClassifier(class_weight=None, cri...  \n",
       "                               Does/Does Not              (DecisionTreeClassifier(class_weight=None, cri...  \n",
       "                               Personal Information Type  (DecisionTreeClassifier(class_weight=None, cri...  \n",
       "                               Purpose                    (DecisionTreeClassifier(class_weight=None, cri...  \n",
       "                               Third Party Entity         (DecisionTreeClassifier(class_weight=None, cri...  "
      ]
     },
     "metadata": {},
     "output_type": "display_data"
    }
   ],
   "source": [
    "accuracyTables=pd.DataFrame.from_dict(extractionModels, orient=\"index\")\n",
    "display(accuracyTables.loc[:, [\"f1_score\", \"model\"]])\n"
   ]
  },
  {
   "cell_type": "code",
   "execution_count": 166,
   "metadata": {
    "collapsed": true
   },
   "outputs": [],
   "source": [
    "extractionModelsOnly={topic:value[\"model\"] for topic, value in extractionModels.items()}"
   ]
  },
  {
   "cell_type": "code",
   "execution_count": 173,
   "metadata": {
    "collapsed": true
   },
   "outputs": [],
   "source": [
    "with open(\"/share/pub/Results/extractionModels_randomForest_upgrade.pk\", \"wb\") as f:\n",
    "  pickle.dump([extractionModelsOnly, valTopics, fittedVectorizer], f)"
   ]
  },
  {
   "cell_type": "code",
   "execution_count": 170,
   "metadata": {
    "collapsed": false
   },
   "outputs": [
    {
     "data": {
      "text/plain": [
       "{('Data Retention', 'Personal Information Type'),\n",
       " ('Data Retention', 'Retention Period'),\n",
       " ('Data Retention', 'Retention Purpose'),\n",
       " ('Data Security', 'Security Measure'),\n",
       " ('Do Not Track', 'Do Not Track policy'),\n",
       " ('First Party Collection/Use', 'Action First-Party'),\n",
       " ('First Party Collection/Use', 'Choice Scope'),\n",
       " ('First Party Collection/Use', 'Choice Type'),\n",
       " ('First Party Collection/Use', 'Collection Mode'),\n",
       " ('First Party Collection/Use', 'Does/Does Not'),\n",
       " ('First Party Collection/Use', 'Identifiability'),\n",
       " ('First Party Collection/Use', 'Personal Information Type'),\n",
       " ('First Party Collection/Use', 'Purpose'),\n",
       " ('First Party Collection/Use', 'User Type'),\n",
       " ('International and Specific Audiences', 'Audience Type'),\n",
       " ('Other', 'Other Type'),\n",
       " ('Policy Change', 'Change Type'),\n",
       " ('Policy Change', 'Notification Type'),\n",
       " ('Policy Change', 'User Choice'),\n",
       " ('Third Party Sharing/Collection', 'Action Third Party'),\n",
       " ('Third Party Sharing/Collection', 'Choice Scope'),\n",
       " ('Third Party Sharing/Collection', 'Choice Type'),\n",
       " ('Third Party Sharing/Collection', 'Does/Does Not'),\n",
       " ('Third Party Sharing/Collection', 'Identifiability'),\n",
       " ('Third Party Sharing/Collection', 'Personal Information Type'),\n",
       " ('Third Party Sharing/Collection', 'Purpose'),\n",
       " ('Third Party Sharing/Collection', 'Third Party Entity'),\n",
       " ('Third Party Sharing/Collection', 'User Type'),\n",
       " ('User Access, Edit and Deletion', 'Access Scope'),\n",
       " ('User Access, Edit and Deletion', 'Access Type'),\n",
       " ('User Access, Edit and Deletion', 'User Type'),\n",
       " ('User Choice/Control', 'Choice Scope'),\n",
       " ('User Choice/Control', 'Choice Type'),\n",
       " ('User Choice/Control', 'Personal Information Type'),\n",
       " ('User Choice/Control', 'Purpose'),\n",
       " ('User Choice/Control', 'User Type')}"
      ]
     },
     "execution_count": 170,
     "metadata": {},
     "output_type": "execute_result"
    }
   ],
   "source": [
    "alltopics"
   ]
  },
  {
   "cell_type": "markdown",
   "metadata": {},
   "source": [
    "#### Mutual information approach (not finish)"
   ]
  },
  {
   "cell_type": "code",
   "execution_count": 55,
   "metadata": {
    "collapsed": false
   },
   "outputs": [
    {
     "name": "stdout",
     "output_type": "stream",
     "text": [
      "[[0 0 0 ..., 0 1 1]\n",
      " [0 0 1 ..., 0 1 1]\n",
      " [0 1 0 ..., 1 1 1]\n",
      " ..., \n",
      " [1 0 0 ..., 0 1 0]\n",
      " [1 1 0 ..., 0 0 1]\n",
      " [1 0 1 ..., 0 0 1]]\n",
      "[[0 1 0 ..., 1 0 0]\n",
      " [1 0 1 ..., 1 1 1]\n",
      " [0 0 0 ..., 1 1 1]\n",
      " ..., \n",
      " [1 0 1 ..., 1 0 0]\n",
      " [1 0 0 ..., 0 1 0]\n",
      " [0 1 1 ..., 0 0 0]]\n"
     ]
    }
   ],
   "source": [
    "x=np.random.randint(0,2,size=(1000,200))\n",
    "y=np.random.randint(0,2,size=(1000,200))\n",
    "\n",
    "print(x)\n",
    "print(y)"
   ]
  },
  {
   "cell_type": "code",
   "execution_count": 53,
   "metadata": {
    "collapsed": false
   },
   "outputs": [],
   "source": [
    "# Given matrices of 1s and 0s, row is number of observations\n",
    "# column is the number of variables , implement a function that calculates MI\n",
    "\n",
    "def MIscorePart(X,Y,xlabel, ylabel):\n",
    "  assert X.shape==Y.shape, \"Shape of the two input matrices must be the same\"\n",
    "  nrow=X.shape[0]\n",
    "  ncol=X.shape[1]\n",
    "  rightX=X==xlabel\n",
    "  rightY=Y==ylabel\n",
    "  margX=(np.sum(rightX, axis=0)+10**-10)/nrow\n",
    "  margY=(np.sum(rightY, axis=0)+10**-10)/nrow\n",
    "  \n",
    "  inter=(np.sum(np.logical_and(rightX, rightY), axis=0)+10**-10)/nrow\n",
    "  #print(margX, margY, inter)\n",
    "  #print(inter*np.log(margX*margY))\n",
    "  result=inter*np.log(inter/(margX*margY))\n",
    "  return result\n",
    "  \n",
    "\n",
    "\n",
    "def MIscore(X,Y):\n",
    "  assert X.shape==Y.shape, \"Shape of the two input matrices must be the same\"\n",
    "  nrow=X.shape[0]\n",
    "  ncol=X.shape[1]\n",
    "  part1=MIscorePart(X,Y,1,1) #x=1, y=1 \n",
    "  part2=MIscorePart(X,Y,1,0)\n",
    "  part3=MIscorePart(X,Y,0,1)\n",
    "  part4=MIscorePart(X,Y,0,0)\n",
    "  \n",
    "  score=part1+part2+part3+part4\n",
    "  return score"
   ]
  },
  {
   "cell_type": "code",
   "execution_count": 57,
   "metadata": {
    "collapsed": false
   },
   "outputs": [],
   "source": [
    "np.seterr(divide='warn', invalid='warn')\n",
    "testresult=MIscore(x,y)"
   ]
  },
  {
   "cell_type": "code",
   "execution_count": null,
   "metadata": {
    "collapsed": true
   },
   "outputs": [],
   "source": [
    "from sklearn.metrics import mutual_info_score\n",
    "def compareMI(X,Y):\n",
    "  scikitMI=mutual_info_score(X,Y)\n",
    "  myMI=MIscore(X,Y)\n",
    "  return np.equal(scikitMI, myMI)"
   ]
  },
  {
   "cell_type": "code",
   "execution_count": null,
   "metadata": {
    "collapsed": true
   },
   "outputs": [],
   "source": [
    "testx=np.random.randint(0,2,10000)\n",
    "testy=np.random.randint(0,2,10000)\n",
    "\n",
    "result=compareMI(testx, testy)\n",
    "print(result)"
   ]
  },
  {
   "cell_type": "code",
   "execution_count": null,
   "metadata": {
    "collapsed": true
   },
   "outputs": [],
   "source": [
    "#index All the Sentences, \n",
    "#for each sentences\n",
    "\n",
    "def getScoreMI(relSentsAllTopic, n,topicIdxTable, ngramIdxTable, printEvery=50000):\n",
    "  relSentsAllTopic"
   ]
  },
  {
   "cell_type": "code",
   "execution_count": 174,
   "metadata": {
    "collapsed": false
   },
   "outputs": [
    {
     "data": {
      "text/plain": [
       "[('First Party Collection/Use', 'Action First-Party'),\n",
       " ('First Party Collection/Use', 'Purpose'),\n",
       " ('Third Party Sharing/Collection', 'Action Third Party'),\n",
       " ('Third Party Sharing/Collection', 'Does/Does Not'),\n",
       " ('Third Party Sharing/Collection', 'Personal Information Type'),\n",
       " ('Third Party Sharing/Collection', 'Purpose'),\n",
       " ('Third Party Sharing/Collection', 'Third Party Entity')]"
      ]
     },
     "execution_count": 174,
     "metadata": {},
     "output_type": "execute_result"
    }
   ],
   "source": [
    "valTopcis"
   ]
  }
 ],
 "metadata": {
  "anaconda-cloud": {},
  "kernelspec": {
   "display_name": "Python 3",
   "language": "python",
   "name": "python3"
  },
  "language_info": {
   "codemirror_mode": {
    "name": "ipython",
    "version": 3
   },
   "file_extension": ".py",
   "mimetype": "text/x-python",
   "name": "python",
   "nbconvert_exporter": "python",
   "pygments_lexer": "ipython3",
   "version": "3.6.0"
  }
 },
 "nbformat": 4,
 "nbformat_minor": 1
}
