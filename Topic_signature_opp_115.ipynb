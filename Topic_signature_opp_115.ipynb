{
 "cells": [
  {
   "cell_type": "code",
   "execution_count": 1,
   "metadata": {
    "collapsed": true
   },
   "outputs": [],
   "source": [
    "import pandas as pd"
   ]
  },
  {
   "cell_type": "code",
   "execution_count": 2,
   "metadata": {
    "collapsed": false
   },
   "outputs": [
    {
     "name": "stdout",
     "output_type": "stream",
     "text": [
      "/home/meaney.lab/nyao/210/Code\r\n"
     ]
    }
   ],
   "source": [
    "!pwd"
   ]
  },
  {
   "cell_type": "code",
   "execution_count": 15,
   "metadata": {
    "collapsed": false
   },
   "outputs": [
    {
     "data": {
      "text/html": [
       "<div>\n",
       "<table border=\"1\" class=\"dataframe\">\n",
       "  <thead>\n",
       "    <tr style=\"text-align: right;\">\n",
       "      <th></th>\n",
       "      <th>ID</th>\n",
       "      <th>Type</th>\n",
       "      <th>number</th>\n",
       "      <th>number2</th>\n",
       "      <th>number3</th>\n",
       "      <th>category</th>\n",
       "      <th>annotation</th>\n",
       "      <th>date</th>\n",
       "      <th>url</th>\n",
       "    </tr>\n",
       "  </thead>\n",
       "  <tbody>\n",
       "    <tr>\n",
       "      <th>0</th>\n",
       "      <td>20842</td>\n",
       "      <td>test_category_labeling_highlight_upitt</td>\n",
       "      <td>95</td>\n",
       "      <td>3836</td>\n",
       "      <td>0</td>\n",
       "      <td>Other</td>\n",
       "      <td>{\"Other Type\": {\"selectedText\": \"STATEMENT OF ...</td>\n",
       "      <td>12/23/14</td>\n",
       "      <td>http://www.honda.com/site/site_privacy.aspx</td>\n",
       "    </tr>\n",
       "    <tr>\n",
       "      <th>1</th>\n",
       "      <td>15695</td>\n",
       "      <td>test_category_labeling_highlight_upitt</td>\n",
       "      <td>103</td>\n",
       "      <td>3836</td>\n",
       "      <td>1</td>\n",
       "      <td>Other</td>\n",
       "      <td>{\"Other Type\": {\"selectedText\": \"American Hond...</td>\n",
       "      <td>12/23/14</td>\n",
       "      <td>http://www.honda.com/site/site_privacy.aspx</td>\n",
       "    </tr>\n",
       "    <tr>\n",
       "      <th>2</th>\n",
       "      <td>20843</td>\n",
       "      <td>test_category_labeling_highlight_upitt</td>\n",
       "      <td>95</td>\n",
       "      <td>3836</td>\n",
       "      <td>1</td>\n",
       "      <td>Other</td>\n",
       "      <td>{\"Other Type\": {\"selectedText\": \"American Hond...</td>\n",
       "      <td>12/23/14</td>\n",
       "      <td>http://www.honda.com/site/site_privacy.aspx</td>\n",
       "    </tr>\n",
       "    <tr>\n",
       "      <th>3</th>\n",
       "      <td>15696</td>\n",
       "      <td>test_category_labeling_highlight_upitt</td>\n",
       "      <td>103</td>\n",
       "      <td>3836</td>\n",
       "      <td>2</td>\n",
       "      <td>Other</td>\n",
       "      <td>{\"Other Type\": {\"selectedText\": \"This statemen...</td>\n",
       "      <td>12/23/14</td>\n",
       "      <td>http://www.honda.com/site/site_privacy.aspx</td>\n",
       "    </tr>\n",
       "    <tr>\n",
       "      <th>4</th>\n",
       "      <td>15697</td>\n",
       "      <td>test_category_labeling_highlight_upitt</td>\n",
       "      <td>103</td>\n",
       "      <td>3836</td>\n",
       "      <td>2</td>\n",
       "      <td>Other</td>\n",
       "      <td>{\"Other Type\": {\"selectedText\": \"This statemen...</td>\n",
       "      <td>12/23/14</td>\n",
       "      <td>http://www.honda.com/site/site_privacy.aspx</td>\n",
       "    </tr>\n",
       "  </tbody>\n",
       "</table>\n",
       "</div>"
      ],
      "text/plain": [
       "      ID                                    Type  number  number2  number3  \\\n",
       "0  20842  test_category_labeling_highlight_upitt      95     3836        0   \n",
       "1  15695  test_category_labeling_highlight_upitt     103     3836        1   \n",
       "2  20843  test_category_labeling_highlight_upitt      95     3836        1   \n",
       "3  15696  test_category_labeling_highlight_upitt     103     3836        2   \n",
       "4  15697  test_category_labeling_highlight_upitt     103     3836        2   \n",
       "\n",
       "  category                                         annotation      date  \\\n",
       "0    Other  {\"Other Type\": {\"selectedText\": \"STATEMENT OF ...  12/23/14   \n",
       "1    Other  {\"Other Type\": {\"selectedText\": \"American Hond...  12/23/14   \n",
       "2    Other  {\"Other Type\": {\"selectedText\": \"American Hond...  12/23/14   \n",
       "3    Other  {\"Other Type\": {\"selectedText\": \"This statemen...  12/23/14   \n",
       "4    Other  {\"Other Type\": {\"selectedText\": \"This statemen...  12/23/14   \n",
       "\n",
       "                                           url  \n",
       "0  http://www.honda.com/site/site_privacy.aspx  \n",
       "1  http://www.honda.com/site/site_privacy.aspx  \n",
       "2  http://www.honda.com/site/site_privacy.aspx  \n",
       "3  http://www.honda.com/site/site_privacy.aspx  \n",
       "4  http://www.honda.com/site/site_privacy.aspx  "
      ]
     },
     "execution_count": 15,
     "metadata": {},
     "output_type": "execute_result"
    }
   ],
   "source": [
    "honda=pd.read_csv(\"../Data/OPP-115/annotations/1050_honda.com.csv\", header=None)\n",
    "honda.columns=[\"ID\", \"Type\", \"number\", \"number2\", \"number3\", \"category\", \"annotation\", \"date\", \"url\"]\n",
    "honda.head()"
   ]
  },
  {
   "cell_type": "code",
   "execution_count": 21,
   "metadata": {
    "collapsed": false
   },
   "outputs": [],
   "source": [
    "FirstParty=honda.loc[honda.category==\"First Party Collection/Use\", \"annotation\"]"
   ]
  },
  {
   "cell_type": "code",
   "execution_count": 24,
   "metadata": {
    "collapsed": false
   },
   "outputs": [
    {
     "data": {
      "text/plain": [
       "'{\"Collection Mode\": {\"selectedText\": \"null\", \"startIndexInSegment\": -1, \"endIndexInSegment\": -1, \"value\": \"not-selected\"}, \"Choice Scope\": {\"selectedText\": \"without sharing personally identifiable information.\", \"startIndexInSegment\": 61, \"endIndexInSegment\": 113, \"value\": \"Collection\"}, \"Action First-Party\": {\"selectedText\": \"You can visit our Web Sites\", \"startIndexInSegment\": 33, \"endIndexInSegment\": 60, \"value\": \"Collect on website\"}, \"Personal Information Type\": {\"selectedText\": \"personally identifiable information.\", \"startIndexInSegment\": 77, \"endIndexInSegment\": 113, \"value\": \"Generic personal information\"}, \"Choice Type\": {\"selectedText\": \"You can visit our Web Sites without sharing personally identifiable information.\", \"startIndexInSegment\": 33, \"endIndexInSegment\": 113, \"value\": \"Other\"}, \"Identifiability\": {\"selectedText\": \"personally identifiable\", \"startIndexInSegment\": 77, \"endIndexInSegment\": 100, \"value\": \"Identifiable\"}, \"Does/Does Not\": {\"selectedText\": \"without\", \"startIndexInSegment\": 61, \"endIndexInSegment\": 68, \"value\": \"Does Not\"}, \"User Type\": {\"selectedText\": \"You can visit our Web Sites\", \"startIndexInSegment\": 33, \"endIndexInSegment\": 60, \"value\": \"Other\"}, \"Purpose\": {\"selectedText\": \"Not selected\", \"startIndexInSegment\": -1, \"endIndexInSegment\": -1, \"value\": \"Unspecified\"}}'"
      ]
     },
     "execution_count": 24,
     "metadata": {},
     "output_type": "execute_result"
    }
   ],
   "source": [
    "FirstParty[7]"
   ]
  }
 ],
 "metadata": {
  "anaconda-cloud": {},
  "kernelspec": {
   "display_name": "Python [conda root]",
   "language": "python",
   "name": "conda-root-py"
  },
  "language_info": {
   "codemirror_mode": {
    "name": "ipython",
    "version": 2
   },
   "file_extension": ".py",
   "mimetype": "text/x-python",
   "name": "python",
   "nbconvert_exporter": "python",
   "pygments_lexer": "ipython2",
   "version": "2.7.12"
  }
 },
 "nbformat": 4,
 "nbformat_minor": 1
}
