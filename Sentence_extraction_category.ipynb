{
 "cells": [
  {
   "cell_type": "code",
   "execution_count": 37,
   "metadata": {
    "collapsed": true
   },
   "outputs": [],
   "source": [
    "import pickle\n",
    "import random\n",
    "import pandas as pd\n",
    "from sklearn.feature_extraction.text import TfidfVectorizer \n",
    "from sklearn.ensemble import RandomForestClassifier\n",
    "from sklearn.ensemble import RandomForestClassifier\n",
    "from sklearn.linear_model import LogisticRegression\n",
    "from sklearn.metrics import f1_score\n",
    "from sklearn.feature_extraction.text import TfidfTransformer"
   ]
  },
  {
   "cell_type": "code",
   "execution_count": 7,
   "metadata": {
    "collapsed": false
   },
   "outputs": [],
   "source": [
    "## read in the training data\n",
    "with open(\"/home/nyao/Code/Data/sentence_score_conso10.pk\", 'rb') as f:\n",
    "    data=pickle.load(f)"
   ]
  },
  {
   "cell_type": "code",
   "execution_count": 9,
   "metadata": {
    "collapsed": false
   },
   "outputs": [
    {
     "data": {
      "text/html": [
       "<div>\n",
       "<table border=\"1\" class=\"dataframe\">\n",
       "  <thead>\n",
       "    <tr style=\"text-align: right;\">\n",
       "      <th></th>\n",
       "      <th>Website</th>\n",
       "      <th>Sentence</th>\n",
       "      <th>Data Retention</th>\n",
       "      <th>Data Security</th>\n",
       "      <th>Do Not Track</th>\n",
       "      <th>First Party Collection/Use</th>\n",
       "      <th>International and Specific Audiences</th>\n",
       "      <th>Not_used</th>\n",
       "      <th>Policy Change</th>\n",
       "      <th>Third Party Sharing/Collection</th>\n",
       "      <th>User Access, Edit and Deletion</th>\n",
       "      <th>User Choice/Control</th>\n",
       "    </tr>\n",
       "  </thead>\n",
       "  <tbody>\n",
       "    <tr>\n",
       "      <th>0</th>\n",
       "      <td>playstation.com</td>\n",
       "      <td>Privacy Policy    Last Revised: April, 2011</td>\n",
       "      <td>NaN</td>\n",
       "      <td>NaN</td>\n",
       "      <td>NaN</td>\n",
       "      <td>NaN</td>\n",
       "      <td>NaN</td>\n",
       "      <td>0.0</td>\n",
       "      <td>NaN</td>\n",
       "      <td>NaN</td>\n",
       "      <td>NaN</td>\n",
       "      <td>NaN</td>\n",
       "    </tr>\n",
       "    <tr>\n",
       "      <th>1</th>\n",
       "      <td>playstation.com</td>\n",
       "      <td>Sony Computer Entertainment America LLC (\"SCEA...</td>\n",
       "      <td>NaN</td>\n",
       "      <td>NaN</td>\n",
       "      <td>NaN</td>\n",
       "      <td>NaN</td>\n",
       "      <td>NaN</td>\n",
       "      <td>0.0</td>\n",
       "      <td>NaN</td>\n",
       "      <td>NaN</td>\n",
       "      <td>NaN</td>\n",
       "      <td>NaN</td>\n",
       "    </tr>\n",
       "    <tr>\n",
       "      <th>2</th>\n",
       "      <td>playstation.com</td>\n",
       "      <td>This privacy policy is intended to provide you...</td>\n",
       "      <td>NaN</td>\n",
       "      <td>NaN</td>\n",
       "      <td>NaN</td>\n",
       "      <td>NaN</td>\n",
       "      <td>NaN</td>\n",
       "      <td>0.0</td>\n",
       "      <td>NaN</td>\n",
       "      <td>NaN</td>\n",
       "      <td>NaN</td>\n",
       "      <td>NaN</td>\n",
       "    </tr>\n",
       "    <tr>\n",
       "      <th>3</th>\n",
       "      <td>playstation.com</td>\n",
       "      <td>If you have any questions, complaints or comme...</td>\n",
       "      <td>NaN</td>\n",
       "      <td>NaN</td>\n",
       "      <td>NaN</td>\n",
       "      <td>NaN</td>\n",
       "      <td>NaN</td>\n",
       "      <td>0.0</td>\n",
       "      <td>NaN</td>\n",
       "      <td>NaN</td>\n",
       "      <td>NaN</td>\n",
       "      <td>NaN</td>\n",
       "    </tr>\n",
       "    <tr>\n",
       "      <th>4</th>\n",
       "      <td>playstation.com</td>\n",
       "      <td>This Privacy Statement and the certification s...</td>\n",
       "      <td>NaN</td>\n",
       "      <td>NaN</td>\n",
       "      <td>NaN</td>\n",
       "      <td>NaN</td>\n",
       "      <td>NaN</td>\n",
       "      <td>0.0</td>\n",
       "      <td>NaN</td>\n",
       "      <td>NaN</td>\n",
       "      <td>NaN</td>\n",
       "      <td>NaN</td>\n",
       "    </tr>\n",
       "  </tbody>\n",
       "</table>\n",
       "</div>"
      ],
      "text/plain": [
       "           Website                                           Sentence  \\\n",
       "0  playstation.com        Privacy Policy    Last Revised: April, 2011   \n",
       "1  playstation.com  Sony Computer Entertainment America LLC (\"SCEA...   \n",
       "2  playstation.com  This privacy policy is intended to provide you...   \n",
       "3  playstation.com  If you have any questions, complaints or comme...   \n",
       "4  playstation.com  This Privacy Statement and the certification s...   \n",
       "\n",
       "   Data Retention  Data Security  Do Not Track  First Party Collection/Use  \\\n",
       "0             NaN            NaN           NaN                         NaN   \n",
       "1             NaN            NaN           NaN                         NaN   \n",
       "2             NaN            NaN           NaN                         NaN   \n",
       "3             NaN            NaN           NaN                         NaN   \n",
       "4             NaN            NaN           NaN                         NaN   \n",
       "\n",
       "   International and Specific Audiences  Not_used  Policy Change  \\\n",
       "0                                   NaN       0.0            NaN   \n",
       "1                                   NaN       0.0            NaN   \n",
       "2                                   NaN       0.0            NaN   \n",
       "3                                   NaN       0.0            NaN   \n",
       "4                                   NaN       0.0            NaN   \n",
       "\n",
       "   Third Party Sharing/Collection  User Access, Edit and Deletion  \\\n",
       "0                             NaN                             NaN   \n",
       "1                             NaN                             NaN   \n",
       "2                             NaN                             NaN   \n",
       "3                             NaN                             NaN   \n",
       "4                             NaN                             NaN   \n",
       "\n",
       "   User Choice/Control  \n",
       "0                  NaN  \n",
       "1                  NaN  \n",
       "2                  NaN  \n",
       "3                  NaN  \n",
       "4                  NaN  "
      ]
     },
     "execution_count": 9,
     "metadata": {},
     "output_type": "execute_result"
    }
   ],
   "source": [
    "data.head(5)"
   ]
  },
  {
   "cell_type": "code",
   "execution_count": 36,
   "metadata": {
    "collapsed": false
   },
   "outputs": [
    {
     "data": {
      "text/plain": [
       "(423, 2)"
      ]
     },
     "execution_count": 36,
     "metadata": {},
     "output_type": "execute_result"
    }
   ],
   "source": [
    "datasecurity=data[[\"Sentence\", \"Data Security\"]]\n",
    "datasecurity.loc[pd.isnull(datasecurity[\"Data Security\"])]\n",
    "datasecurity.iloc[:423].shape"
   ]
  },
  {
   "cell_type": "code",
   "execution_count": 14,
   "metadata": {
    "collapsed": false
   },
   "outputs": [
    {
     "name": "stdout",
     "output_type": "stream",
     "text": [
      "[1, 3, 4, 2]\n"
     ]
    }
   ],
   "source": [
    "a=[1,2,3,4]\n",
    "random.shuffle(a)\n",
    "print(a)"
   ]
  },
  {
   "cell_type": "code",
   "execution_count": 66,
   "metadata": {
    "collapsed": true
   },
   "outputs": [],
   "source": [
    "\n",
    "def getXY(scoretable, category, trainportion):\n",
    "    # trainportion means the percentage of data to be used as training, the rest are used as validation\n",
    "    # choose a category, get the data from the data file\n",
    "    categoryFrame=scoretable[[\"Sentence\", category]]\n",
    "    nonmissing=categoryFrame.dropna()\n",
    "    nonmissing=nonmissing.copy()\n",
    "    nonmissing.loc[:,category]=1\n",
    "    missingdata=categoryFrame.loc[pd.isnull(categoryFrame[category])]\n",
    "    missingdata=missingdata.copy()\n",
    "    missingdata.loc[:,category]=0\n",
    "\n",
    "    ## equal portion sampling, sample from both positive and negative group\n",
    "    shufflednonmissing=nonmissing.sample(frac=1)   # shuffle the data \n",
    "    shuffledmissing=missingdata.sample(frac=1)\n",
    "\n",
    "    nonmissingNumber=shufflednonmissing.shape[0]\n",
    "    missingNumber=shuffledmissing.shape[0]\n",
    "\n",
    "    trainPos=shufflednonmissing.iloc[0:int(nonmissingNumber*trainportion)]\n",
    "    valPos=shufflednonmissing.iloc[int(nonmissingNumber*trainportion)+1::]\n",
    "\n",
    "    trainNeg=shuffledmissing.iloc[0:int(missingNumber*trainportion)]\n",
    "    valNeg=shuffledmissing.iloc[int(missingNumber*trainportion)+1::]\n",
    "\n",
    "    trainData=pd.concat([trainPos, trainNeg], axis=0)\n",
    "    valData=pd.concat([valPos, valNeg], axis=0)\n",
    "\n",
    "    trainData=trainData.sample(frac=1)\n",
    "    valData=valData.sample(frac=1)\n",
    "\n",
    "    trainTexts=trainData[\"Sentence\"].tolist()\n",
    "    trainLabels=trainData[category].tolist()\n",
    "\n",
    "    valTexts=valData[\"Sentence\"].tolist()\n",
    "    valLabels=valData[category].tolist()\n",
    "\n",
    "    return trainTexts, valTexts, trainLabels, valLabels\n",
    "\n",
    "def modelAndValidate(datatable,category, vectorizer, classifier, trainportion):\n",
    "    results={}\n",
    "\n",
    "    # generate the data\n",
    "    traintexts, valTexts,trainlabels, valLabels =getXY(datatable, category, trainportion)\n",
    "    \n",
    "    # use the vectorizer to generate features, for both training and validation data\n",
    "    vectorizer.fit(traintexts)\n",
    "    trainCounts=vectorizer.transform(traintexts)\n",
    "    valCounts=vectorizer.transform(valTexts)\n",
    "    \n",
    "    # fit the model onto the data\n",
    "    classifier.fit(trainCounts, trainlabels)\n",
    "    \n",
    "    # predict the samples in the validation\n",
    "    predictions=classifier.predict(valCounts)\n",
    "    f1score=f1_score(valLabels, predictions, average=\"weighted\")\n",
    "    \n",
    "    \n",
    "    # return the results\n",
    "    results={\"model\":classifier, \"validation_labels\":valLabels, \"predictions\":predictions, \"f1_score\":f1score}\n",
    "    print(\"Finished modeling for category {}\".format(category))\n",
    "    print(\"F1 score : \", f1score)\n",
    "    \n",
    "    return results\n",
    "    "
   ]
  },
  {
   "cell_type": "code",
   "execution_count": 67,
   "metadata": {
    "collapsed": false,
    "scrolled": false
   },
   "outputs": [
    {
     "name": "stdout",
     "output_type": "stream",
     "text": [
      "Finished modeling for category Data Security\n",
      "F1 score :  0.951169555546\n",
      "0.951169555546\n"
     ]
    }
   ],
   "source": [
    "## initialize a vectorizer\n",
    "vectorizerFinal=TfidfVectorizer(max_df=0.2, stop_words=\"english\") \n",
    "## initialize a classifer\n",
    "\n",
    "classifierFinal=RandomForestClassifier(n_estimators=500)\n",
    "\n",
    "category=\"Data Security\"\n",
    "results = modelAndValidate(data, category, vectorizerFinal, classifierFinal, 0.8)\n",
    "print(results[\"f1_score\"])"
   ]
  }
 ],
 "metadata": {
  "kernelspec": {
   "display_name": "Python 3",
   "language": "python",
   "name": "python3"
  },
  "language_info": {
   "codemirror_mode": {
    "name": "ipython",
    "version": 3
   },
   "file_extension": ".py",
   "mimetype": "text/x-python",
   "name": "python",
   "nbconvert_exporter": "python",
   "pygments_lexer": "ipython3",
   "version": "3.6.0"
  }
 },
 "nbformat": 4,
 "nbformat_minor": 2
}
