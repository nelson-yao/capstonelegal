{
 "cells": [
  {
   "cell_type": "code",
   "execution_count": 1,
   "metadata": {
    "collapsed": true
   },
   "outputs": [],
   "source": [
    "import pickle\n",
    "import random\n",
    "import pandas as pd\n",
    "from sklearn.feature_extraction.text import TfidfVectorizer \n",
    "from sklearn.ensemble import RandomForestClassifier\n",
    "from sklearn.ensemble import AdaBoostClassifier\n",
    "from sklearn.linear_model import LogisticRegression\n",
    "from sklearn.metrics import f1_score\n",
    "from sklearn.feature_extraction.text import TfidfTransformer"
   ]
  },
  {
   "cell_type": "code",
   "execution_count": 2,
   "metadata": {
    "collapsed": false
   },
   "outputs": [],
   "source": [
    "## read in the training data\n",
    "#with open(\"/home/nyao/Code/Data/sentence_score_conso10.pk\", 'rb') as f:\n",
    "with open(\"./Data/sentence_score_conso10.pk\", 'rb') as f:\n",
    "    data=pickle.load(f)"
   ]
  },
  {
   "cell_type": "code",
   "execution_count": 3,
   "metadata": {
    "collapsed": false
   },
   "outputs": [
    {
     "data": {
      "text/html": [
       "<div>\n",
       "<table border=\"1\" class=\"dataframe\">\n",
       "  <thead>\n",
       "    <tr style=\"text-align: right;\">\n",
       "      <th></th>\n",
       "      <th>Website</th>\n",
       "      <th>Sentence</th>\n",
       "      <th>Data Retention</th>\n",
       "      <th>Data Security</th>\n",
       "      <th>Do Not Track</th>\n",
       "      <th>First Party Collection/Use</th>\n",
       "      <th>International and Specific Audiences</th>\n",
       "      <th>Not_used</th>\n",
       "      <th>Policy Change</th>\n",
       "      <th>Third Party Sharing/Collection</th>\n",
       "      <th>User Access, Edit and Deletion</th>\n",
       "      <th>User Choice/Control</th>\n",
       "    </tr>\n",
       "  </thead>\n",
       "  <tbody>\n",
       "    <tr>\n",
       "      <th>0</th>\n",
       "      <td>playstation.com</td>\n",
       "      <td>Privacy Policy    Last Revised: April, 2011</td>\n",
       "      <td>NaN</td>\n",
       "      <td>NaN</td>\n",
       "      <td>NaN</td>\n",
       "      <td>NaN</td>\n",
       "      <td>NaN</td>\n",
       "      <td>0.0</td>\n",
       "      <td>NaN</td>\n",
       "      <td>NaN</td>\n",
       "      <td>NaN</td>\n",
       "      <td>NaN</td>\n",
       "    </tr>\n",
       "    <tr>\n",
       "      <th>1</th>\n",
       "      <td>playstation.com</td>\n",
       "      <td>Sony Computer Entertainment America LLC (\"SCEA...</td>\n",
       "      <td>NaN</td>\n",
       "      <td>NaN</td>\n",
       "      <td>NaN</td>\n",
       "      <td>NaN</td>\n",
       "      <td>NaN</td>\n",
       "      <td>0.0</td>\n",
       "      <td>NaN</td>\n",
       "      <td>NaN</td>\n",
       "      <td>NaN</td>\n",
       "      <td>NaN</td>\n",
       "    </tr>\n",
       "    <tr>\n",
       "      <th>2</th>\n",
       "      <td>playstation.com</td>\n",
       "      <td>This privacy policy is intended to provide you...</td>\n",
       "      <td>NaN</td>\n",
       "      <td>NaN</td>\n",
       "      <td>NaN</td>\n",
       "      <td>NaN</td>\n",
       "      <td>NaN</td>\n",
       "      <td>0.0</td>\n",
       "      <td>NaN</td>\n",
       "      <td>NaN</td>\n",
       "      <td>NaN</td>\n",
       "      <td>NaN</td>\n",
       "    </tr>\n",
       "    <tr>\n",
       "      <th>3</th>\n",
       "      <td>playstation.com</td>\n",
       "      <td>If you have any questions, complaints or comme...</td>\n",
       "      <td>NaN</td>\n",
       "      <td>NaN</td>\n",
       "      <td>NaN</td>\n",
       "      <td>NaN</td>\n",
       "      <td>NaN</td>\n",
       "      <td>0.0</td>\n",
       "      <td>NaN</td>\n",
       "      <td>NaN</td>\n",
       "      <td>NaN</td>\n",
       "      <td>NaN</td>\n",
       "    </tr>\n",
       "    <tr>\n",
       "      <th>4</th>\n",
       "      <td>playstation.com</td>\n",
       "      <td>This Privacy Statement and the certification s...</td>\n",
       "      <td>NaN</td>\n",
       "      <td>NaN</td>\n",
       "      <td>NaN</td>\n",
       "      <td>NaN</td>\n",
       "      <td>NaN</td>\n",
       "      <td>0.0</td>\n",
       "      <td>NaN</td>\n",
       "      <td>NaN</td>\n",
       "      <td>NaN</td>\n",
       "      <td>NaN</td>\n",
       "    </tr>\n",
       "  </tbody>\n",
       "</table>\n",
       "</div>"
      ],
      "text/plain": [
       "           Website                                           Sentence  \\\n",
       "0  playstation.com        Privacy Policy    Last Revised: April, 2011   \n",
       "1  playstation.com  Sony Computer Entertainment America LLC (\"SCEA...   \n",
       "2  playstation.com  This privacy policy is intended to provide you...   \n",
       "3  playstation.com  If you have any questions, complaints or comme...   \n",
       "4  playstation.com  This Privacy Statement and the certification s...   \n",
       "\n",
       "   Data Retention  Data Security  Do Not Track  First Party Collection/Use  \\\n",
       "0             NaN            NaN           NaN                         NaN   \n",
       "1             NaN            NaN           NaN                         NaN   \n",
       "2             NaN            NaN           NaN                         NaN   \n",
       "3             NaN            NaN           NaN                         NaN   \n",
       "4             NaN            NaN           NaN                         NaN   \n",
       "\n",
       "   International and Specific Audiences  Not_used  Policy Change  \\\n",
       "0                                   NaN       0.0            NaN   \n",
       "1                                   NaN       0.0            NaN   \n",
       "2                                   NaN       0.0            NaN   \n",
       "3                                   NaN       0.0            NaN   \n",
       "4                                   NaN       0.0            NaN   \n",
       "\n",
       "   Third Party Sharing/Collection  User Access, Edit and Deletion  \\\n",
       "0                             NaN                             NaN   \n",
       "1                             NaN                             NaN   \n",
       "2                             NaN                             NaN   \n",
       "3                             NaN                             NaN   \n",
       "4                             NaN                             NaN   \n",
       "\n",
       "   User Choice/Control  \n",
       "0                  NaN  \n",
       "1                  NaN  \n",
       "2                  NaN  \n",
       "3                  NaN  \n",
       "4                  NaN  "
      ]
     },
     "execution_count": 3,
     "metadata": {},
     "output_type": "execute_result"
    }
   ],
   "source": [
    "data.head(5)"
   ]
  },
  {
   "cell_type": "code",
   "execution_count": 4,
   "metadata": {
    "collapsed": false
   },
   "outputs": [
    {
     "data": {
      "text/plain": [
       "(423, 2)"
      ]
     },
     "execution_count": 4,
     "metadata": {},
     "output_type": "execute_result"
    }
   ],
   "source": [
    "datasecurity=data[[\"Sentence\", \"Data Security\"]]\n",
    "datasecurity.loc[pd.isnull(datasecurity[\"Data Security\"])]\n",
    "datasecurity.iloc[:423].shape"
   ]
  },
  {
   "cell_type": "code",
   "execution_count": 5,
   "metadata": {
    "collapsed": false
   },
   "outputs": [
    {
     "name": "stdout",
     "output_type": "stream",
     "text": [
      "[2, 4, 3, 1]\n"
     ]
    }
   ],
   "source": [
    "a=[1,2,3,4]\n",
    "random.shuffle(a)\n",
    "print(a)"
   ]
  },
  {
   "cell_type": "code",
   "execution_count": 6,
   "metadata": {
    "collapsed": true
   },
   "outputs": [],
   "source": [
    "\n",
    "def getXY(scoretable, category, trainportion):\n",
    "    # trainportion means the percentage of data to be used as training, the rest are used as validation\n",
    "    # choose a category, get the data from the data file\n",
    "    categoryFrame=scoretable[[\"Sentence\", category]]\n",
    "    nonmissing=categoryFrame.dropna()\n",
    "    nonmissing=nonmissing.copy()\n",
    "    nonmissing.loc[:,category]=1\n",
    "    missingdata=categoryFrame.loc[pd.isnull(categoryFrame[category])]\n",
    "    missingdata=missingdata.copy()\n",
    "    missingdata.loc[:,category]=0\n",
    "\n",
    "    ## equal portion sampling, sample from both positive and negative group\n",
    "    shufflednonmissing=nonmissing.sample(frac=1)   # shuffle the data \n",
    "    shuffledmissing=missingdata.sample(frac=1)\n",
    "\n",
    "    nonmissingNumber=shufflednonmissing.shape[0]\n",
    "    missingNumber=shuffledmissing.shape[0]\n",
    "\n",
    "    trainPos=shufflednonmissing.iloc[0:int(nonmissingNumber*trainportion)]\n",
    "    valPos=shufflednonmissing.iloc[int(nonmissingNumber*trainportion)+1::]\n",
    "\n",
    "    trainNeg=shuffledmissing.iloc[0:int(missingNumber*trainportion)]\n",
    "    valNeg=shuffledmissing.iloc[int(missingNumber*trainportion)+1::]\n",
    "\n",
    "    trainData=pd.concat([trainPos, trainNeg], axis=0)\n",
    "    valData=pd.concat([valPos, valNeg], axis=0)\n",
    "\n",
    "    trainData=trainData.sample(frac=1)\n",
    "    valData=valData.sample(frac=1)\n",
    "\n",
    "    trainTexts=trainData[\"Sentence\"].tolist()\n",
    "    trainLabels=trainData[category].tolist()\n",
    "\n",
    "    valTexts=valData[\"Sentence\"].tolist()\n",
    "    valLabels=valData[category].tolist()\n",
    "\n",
    "    return trainTexts, valTexts, trainLabels, valLabels\n",
    "\n",
    "def modelAndValidate(datatable, category, vectorizer, classifier, trainportion):\n",
    "    results={}\n",
    "\n",
    "    # generate the data\n",
    "    traintexts, valTexts,trainlabels, valLabels =getXY(datatable, category, trainportion)\n",
    "    \n",
    "    # use the vectorizer to generate features, for both training and validation data\n",
    "    vectorizer.fit(traintexts)\n",
    "    trainCounts=vectorizer.transform(traintexts)\n",
    "    valCounts=vectorizer.transform(valTexts)\n",
    "    \n",
    "    # fit the model onto the data\n",
    "    classifier.fit(trainCounts, trainlabels)\n",
    "    \n",
    "    # predict the samples in the validation\n",
    "    predictions=classifier.predict(valCounts)\n",
    "    f1score=f1_score(valLabels, predictions, average=\"weighted\")\n",
    "    \n",
    "    \n",
    "    # return the results\n",
    "    results={\"model\":classifier, \"validation_labels\":valLabels, \"predictions\":predictions, \"f1_score\":f1score}\n",
    "    #print(\"Finished modeling for category {}\".format(category))\n",
    "    #print(\"F1 score : \", f1score)\n",
    "    \n",
    "    return results\n",
    "    "
   ]
  },
  {
   "cell_type": "code",
   "execution_count": 7,
   "metadata": {
    "collapsed": false,
    "scrolled": false
   },
   "outputs": [
    {
     "name": "stdout",
     "output_type": "stream",
     "text": [
      "0.946380533612\n",
      "CPU times: user 16.3 s, sys: 112 ms, total: 16.4 s\n",
      "Wall time: 16.4 s\n"
     ]
    }
   ],
   "source": [
    "%%time\n",
    "\n",
    "## initialize a vectorizer\n",
    "vectorizerFinal=TfidfVectorizer(max_df=0.2, stop_words=\"english\") \n",
    "## initialize a classifer\n",
    "\n",
    "classifierFinal=RandomForestClassifier(n_estimators=500)\n",
    "\n",
    "category=\"Data Security\"\n",
    "results = modelAndValidate(data, category, vectorizerFinal, classifierFinal, 0.8)\n",
    "print(results[\"f1_score\"])"
   ]
  },
  {
   "cell_type": "markdown",
   "metadata": {},
   "source": [
    "### Test models"
   ]
  },
  {
   "cell_type": "code",
   "execution_count": 8,
   "metadata": {
    "collapsed": false
   },
   "outputs": [
    {
     "name": "stdout",
     "output_type": "stream",
     "text": [
      "Tf-idf, unigrams RandomForest, n=500 Data Retention\n",
      "Tf-idf, unigrams RandomForest, n=500 Data Security\n",
      "Tf-idf, unigrams RandomForest, n=500 Do Not Track\n",
      "Tf-idf, unigrams AdaBoost, n=500 Data Retention\n",
      "Tf-idf, unigrams AdaBoost, n=500 Data Security\n",
      "Tf-idf, unigrams AdaBoost, n=500 Do Not Track\n",
      "Tf-idf, uni+bigrams RandomForest, n=500 Data Retention\n",
      "Tf-idf, uni+bigrams RandomForest, n=500 Data Security\n",
      "Tf-idf, uni+bigrams RandomForest, n=500 Do Not Track\n",
      "Tf-idf, uni+bigrams AdaBoost, n=500 Data Retention\n",
      "Tf-idf, uni+bigrams AdaBoost, n=500 Data Security\n",
      "Tf-idf, uni+bigrams AdaBoost, n=500 Do Not Track\n",
      "CPU times: user 2min 39s, sys: 591 ms, total: 2min 39s\n",
      "Wall time: 2min 39s\n"
     ]
    }
   ],
   "source": [
    "%%time\n",
    "\n",
    "# get list of categories\n",
    "categories = list(data)\n",
    "categories.remove(\"Not_used\")\n",
    "categories.remove(\"Website\")\n",
    "categories.remove(\"Sentence\")\n",
    "\n",
    "# TODO: Remove this and run on full dataset\n",
    "categories = ['Data Retention','Data Security', 'Do Not Track']\n",
    "\n",
    "## initialize vectorizers\n",
    "vectorizers = {}\n",
    "vectorizers['Tf-idf, unigrams'] = TfidfVectorizer(max_df=0.2, stop_words=\"english\")\n",
    "vectorizers['Tf-idf, uni+bigrams'] = TfidfVectorizer(max_df=0.2, stop_words=\"english\", ngram_range = (1,2)) \n",
    "vectorizers['Tf-idf, unigrams'] = TfidfVectorizer(max_df=0.2, stop_words=\"english\")\n",
    "vectorizers['Tf-idf, uni+bigrams'] = TfidfVectorizer(max_df=0.2, stop_words=\"english\", ngram_range = (1,2)) \n",
    "\n",
    "## initialize classifiers\n",
    "classifiers = {}\n",
    "classifiers['RandomForest, n=500'] = RandomForestClassifier(n_estimators=500)\n",
    "classifiers['AdaBoost, n=500'] = AdaBoostClassifier(n_estimators=500)\n",
    "\n",
    "allResults = {}\n",
    "\n",
    "for vname in vectorizers:\n",
    "    vectorizer = vectorizers[vname]\n",
    "    allResults[vname] = {}\n",
    "    \n",
    "    for cname in classifiers:\n",
    "        classifier = classifiers[cname]\n",
    "        allResults[vname][cname] = {}\n",
    "\n",
    "        for category in categories:\n",
    "            print(\"{} {} {}\".format(vname,cname,category))\n",
    "            results = modelAndValidate(data, category, vectorizer, classifier, 0.8)\n",
    "            allResults[vname][cname][category] = results"
   ]
  },
  {
   "cell_type": "markdown",
   "metadata": {},
   "source": [
    "### Print results"
   ]
  },
  {
   "cell_type": "code",
   "execution_count": 10,
   "metadata": {
    "collapsed": false
   },
   "outputs": [
    {
     "data": {
      "text/html": [
       "<div>\n",
       "<table border=\"1\" class=\"dataframe\">\n",
       "  <thead>\n",
       "    <tr style=\"text-align: right;\">\n",
       "      <th></th>\n",
       "      <th>Vectorizer</th>\n",
       "      <th>Classifier</th>\n",
       "      <th>Data Retention</th>\n",
       "      <th>Data Security</th>\n",
       "      <th>Do Not Track</th>\n",
       "    </tr>\n",
       "  </thead>\n",
       "  <tbody>\n",
       "    <tr>\n",
       "      <th>0</th>\n",
       "      <td>Tf-idf, unigrams</td>\n",
       "      <td>RandomForest, n=500</td>\n",
       "      <td>0.9715</td>\n",
       "      <td>0.9495</td>\n",
       "      <td>0.9942</td>\n",
       "    </tr>\n",
       "    <tr>\n",
       "      <th>1</th>\n",
       "      <td>Tf-idf, unigrams</td>\n",
       "      <td>AdaBoost, n=500</td>\n",
       "      <td>0.9723</td>\n",
       "      <td>0.9411</td>\n",
       "      <td>0.9957</td>\n",
       "    </tr>\n",
       "    <tr>\n",
       "      <th>2</th>\n",
       "      <td>Tf-idf, uni+bigrams</td>\n",
       "      <td>RandomForest, n=500</td>\n",
       "      <td>0.9731</td>\n",
       "      <td>0.9499</td>\n",
       "      <td>0.9939</td>\n",
       "    </tr>\n",
       "    <tr>\n",
       "      <th>3</th>\n",
       "      <td>Tf-idf, uni+bigrams</td>\n",
       "      <td>AdaBoost, n=500</td>\n",
       "      <td>0.9764</td>\n",
       "      <td>0.9422</td>\n",
       "      <td>0.9929</td>\n",
       "    </tr>\n",
       "  </tbody>\n",
       "</table>\n",
       "</div>"
      ],
      "text/plain": [
       "            Vectorizer           Classifier  Data Retention  Data Security  \\\n",
       "0     Tf-idf, unigrams  RandomForest, n=500          0.9715         0.9495   \n",
       "1     Tf-idf, unigrams      AdaBoost, n=500          0.9723         0.9411   \n",
       "2  Tf-idf, uni+bigrams  RandomForest, n=500          0.9731         0.9499   \n",
       "3  Tf-idf, uni+bigrams      AdaBoost, n=500          0.9764         0.9422   \n",
       "\n",
       "   Do Not Track  \n",
       "0        0.9942  \n",
       "1        0.9957  \n",
       "2        0.9939  \n",
       "3        0.9929  "
      ]
     },
     "execution_count": 10,
     "metadata": {},
     "output_type": "execute_result"
    }
   ],
   "source": [
    "rows = []\n",
    "\n",
    "for vname in vectorizers:\n",
    "    for cname in classifiers:\n",
    "        # get all the f1_scores for this vectorizer/classifer combination\n",
    "        f1_scores = []\n",
    "        for category in categories:\n",
    "            results = allResults[vname][cname][category]\n",
    "            f1_scores.append(results[\"f1_score\"])\n",
    "        row = [vname, cname]\n",
    "        row.extend(f1_scores)\n",
    "        rows.append(row)\n",
    "\n",
    "# create a pandas dataframe from results\n",
    "cols = ['Vectorizer','Classifier']\n",
    "cols.extend(categories)\n",
    "df = pd.DataFrame(rows,columns=cols)\n",
    "df.round(4)"
   ]
  },
  {
   "cell_type": "code",
   "execution_count": null,
   "metadata": {
    "collapsed": true
   },
   "outputs": [],
   "source": []
  }
 ],
 "metadata": {
  "kernelspec": {
   "display_name": "Python 3",
   "language": "python",
   "name": "python3"
  },
  "language_info": {
   "codemirror_mode": {
    "name": "ipython",
    "version": 3
   },
   "file_extension": ".py",
   "mimetype": "text/x-python",
   "name": "python",
   "nbconvert_exporter": "python",
   "pygments_lexer": "ipython3",
   "version": "3.6.0"
  }
 },
 "nbformat": 4,
 "nbformat_minor": 2
}
