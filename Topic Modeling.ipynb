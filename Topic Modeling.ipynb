{
 "cells": [
  {
   "cell_type": "code",
   "execution_count": 30,
   "metadata": {
    "collapsed": false
   },
   "outputs": [],
   "source": [
    "import nltk\n",
    "import gensim\n",
    "from nltk.tokenize import RegexpTokenizer\n",
    "from nltk.corpus import stopwords\n",
    "from stop_words import get_stop_words\n",
    "import pandas as pd\n",
    "import json\n",
    "from nltk.tokenize import RegexpTokenizer\n",
    "en_stop = set(get_stop_words('en'))\n",
    "tokenizer = RegexpTokenizer(r'\\w+')"
   ]
  },
  {
   "cell_type": "code",
   "execution_count": 60,
   "metadata": {
    "collapsed": false
   },
   "outputs": [
    {
     "data": {
      "text/html": [
       "<div>\n",
       "<table border=\"1\" class=\"dataframe\">\n",
       "  <thead>\n",
       "    <tr style=\"text-align: right;\">\n",
       "      <th></th>\n",
       "      <th>Policy</th>\n",
       "    </tr>\n",
       "  </thead>\n",
       "  <tbody>\n",
       "    <tr>\n",
       "      <th>4shared.com</th>\n",
       "      <td>This privacy policy (\"Policy\") explains how p...</td>\n",
       "    </tr>\n",
       "    <tr>\n",
       "      <th>www_venere.com</th>\n",
       "      <td>\\n\\n\\nPriceGrabber Terms of Use and Privacy St...</td>\n",
       "    </tr>\n",
       "    <tr>\n",
       "      <th>brookstone.com</th>\n",
       "      <td>Privacy Policy &amp;amp.;\\nSecurity Effective Jun...</td>\n",
       "    </tr>\n",
       "    <tr>\n",
       "      <th>www_sitepoint.com</th>\n",
       "      <td>\\n\\n\\nPriceGrabber Terms of Use and Privacy St...</td>\n",
       "    </tr>\n",
       "    <tr>\n",
       "      <th>haven.com</th>\n",
       "      <td>Privacy Policy \\n\\nThis Privacy Statement set...</td>\n",
       "    </tr>\n",
       "  </tbody>\n",
       "</table>\n",
       "</div>"
      ],
      "text/plain": [
       "                                                              Policy\n",
       "4shared.com         This privacy policy (\"Policy\") explains how p...\n",
       "www_venere.com     \\n\\n\\nPriceGrabber Terms of Use and Privacy St...\n",
       "brookstone.com      Privacy Policy &amp.;\\nSecurity Effective Jun...\n",
       "www_sitepoint.com  \\n\\n\\nPriceGrabber Terms of Use and Privacy St...\n",
       "haven.com           Privacy Policy \\n\\nThis Privacy Statement set..."
      ]
     },
     "execution_count": 60,
     "metadata": {},
     "output_type": "execute_result"
    }
   ],
   "source": [
    "polClean=json.load(open(\"privacyClean.json\"))\n",
    "\n",
    "polData=pd.DataFrame.from_dict(polClean, orient=\"index\", dtype='unicode')\n",
    "polData.columns=[\"Policy\"]\n",
    "\n",
    "polData.head()"
   ]
  },
  {
   "cell_type": "code",
   "execution_count": 26,
   "metadata": {
    "collapsed": true
   },
   "outputs": [],
   "source": [
    "polText=polData[\"Policy\"].values"
   ]
  },
  {
   "cell_type": "code",
   "execution_count": 29,
   "metadata": {
    "collapsed": false
   },
   "outputs": [
    {
     "name": "stdout",
     "output_type": "stream",
     "text": [
      "CPU times: user 3.81 s, sys: 1.08 s, total: 4.89 s\n",
      "Wall time: 4.88 s\n"
     ]
    }
   ],
   "source": [
    "%%time\n",
    "polTextLow=[text.lower() for text in polText]\n",
    "polTokens=[tokenizer.tokenize(text) for text in polTextLow]"
   ]
  },
  {
   "cell_type": "code",
   "execution_count": 33,
   "metadata": {
    "collapsed": false
   },
   "outputs": [
    {
     "name": "stdout",
     "output_type": "stream",
     "text": [
      "CPU times: user 971 ms, sys: 465 ms, total: 1.44 s\n",
      "Wall time: 1.43 s\n"
     ]
    }
   ],
   "source": [
    "%%time\n",
    "# remove the stop words\n",
    "polTokenNoStop=map(lambda tokenlist: [token for token in tokenlist if token not in en_stop], polTokens)"
   ]
  },
  {
   "cell_type": "code",
   "execution_count": 37,
   "metadata": {
    "collapsed": false
   },
   "outputs": [
    {
     "name": "stdout",
     "output_type": "stream",
     "text": [
      "CPU times: user 46.6 s, sys: 1.57 s, total: 48.2 s\n",
      "Wall time: 48 s\n"
     ]
    }
   ],
   "source": [
    "%%time\n",
    "from nltk.stem.porter import PorterStemmer\n",
    "# Create p_stemmer of class PorterStemmer\n",
    "p_stemmer = PorterStemmer()\n",
    "# Stem the token\n",
    "polStem=map(lambda tokenlist:[p_stemmer.stem(token) for token in tokenlist],polTokenNoStop)"
   ]
  },
  {
   "cell_type": "markdown",
   "metadata": {},
   "source": [
    "## Topic Modeling "
   ]
  },
  {
   "cell_type": "code",
   "execution_count": 42,
   "metadata": {
    "collapsed": false
   },
   "outputs": [],
   "source": [
    "from gensim import corpora, models\n",
    "# assign unique integers\n",
    "dictionary = corpora.Dictionary(polStem)\n"
   ]
  },
  {
   "cell_type": "code",
   "execution_count": 46,
   "metadata": {
    "collapsed": false
   },
   "outputs": [
    {
     "name": "stdout",
     "output_type": "stream",
     "text": [
      "CPU times: user 2.36 s, sys: 619 ms, total: 2.98 s\n",
      "Wall time: 2.94 s\n"
     ]
    }
   ],
   "source": [
    "%%time\n",
    "# Changing to bag of words\n",
    "bow=[dictionary.doc2bow(text) for text in polStem]"
   ]
  },
  {
   "cell_type": "code",
   "execution_count": 47,
   "metadata": {
    "collapsed": false
   },
   "outputs": [
    {
     "name": "stdout",
     "output_type": "stream",
     "text": [
      "CPU times: user 1h 26min 36s, sys: 25.7 s, total: 1h 27min 1s\n",
      "Wall time: 1h 11min 30s\n"
     ]
    }
   ],
   "source": [
    "%%time\n",
    "ldamodel = gensim.models.ldamodel.LdaModel(bow, num_topics=5, id2word = dictionary, passes=100)"
   ]
  },
  {
   "cell_type": "code",
   "execution_count": 49,
   "metadata": {
    "collapsed": false
   },
   "outputs": [
    {
     "name": "stdout",
     "output_type": "stream",
     "text": [
      "[(0, u'0.029*\"de\" + 0.013*\"e\" + 0.013*\"o\" + 0.012*\"que\"'), (1, u'0.024*\"microsoft\" + 0.024*\"data\" + 0.018*\"servic\" + 0.013*\"can\"'), (2, u'0.039*\"pricegrabb\" + 0.030*\"site\" + 0.020*\"use\" + 0.017*\"may\"'), (3, u'0.045*\"inform\" + 0.023*\"use\" + 0.022*\"may\" + 0.019*\"servic\"'), (4, u'0.061*\"de\" + 0.026*\"le\" + 0.020*\"et\" + 0.019*\"\\xe0\"')]\n"
     ]
    }
   ],
   "source": [
    "print(ldamodel.print_topics(num_topics=5, num_words=4))"
   ]
  },
  {
   "cell_type": "code",
   "execution_count": 57,
   "metadata": {
    "collapsed": false
   },
   "outputs": [
    {
     "name": "stdout",
     "output_type": "stream",
     "text": [
      "CPU times: user 1h 39min 53s, sys: 1min 44s, total: 1h 41min 37s\n",
      "Wall time: 39min 47s\n"
     ]
    }
   ],
   "source": [
    "%%time\n",
    "ldamodel = gensim.models.ldamodel.LdaModel(bow, num_topics=10, id2word = dictionary, passes=50)"
   ]
  },
  {
   "cell_type": "code",
   "execution_count": 58,
   "metadata": {
    "collapsed": true
   },
   "outputs": [],
   "source": [
    "#ldamodel2=ldamodel"
   ]
  },
  {
   "cell_type": "code",
   "execution_count": 59,
   "metadata": {
    "collapsed": false
   },
   "outputs": [
    {
     "name": "stdout",
     "output_type": "stream",
     "text": [
      "[(0, u'0.018*\"servic\" + 0.013*\"inform\" + 0.013*\"may\" + 0.012*\"inde\" + 0.012*\"use\" + 0.011*\"websit\" + 0.011*\"us\" + 0.009*\"provid\" + 0.008*\"s\" + 0.008*\"job\"'), (1, u'0.036*\"site\" + 0.032*\"pricegrabb\" + 0.022*\"may\" + 0.020*\"inform\" + 0.017*\"use\" + 0.014*\"parti\" + 0.012*\"third\" + 0.010*\"merchant\" + 0.010*\"s\" + 0.010*\"provid\"'), (2, u'0.020*\"use\" + 0.016*\"servic\" + 0.016*\"site\" + 0.014*\"content\" + 0.013*\"may\" + 0.012*\"inform\" + 0.011*\"user\" + 0.011*\"term\" + 0.010*\"right\" + 0.009*\"s\"'), (3, u'0.029*\"die\" + 0.024*\"und\" + 0.022*\"der\" + 0.018*\"sie\" + 0.015*\"gm\" + 0.013*\"oder\" + 0.012*\"von\" + 0.012*\"zu\" + 0.010*\"de\" + 0.010*\"daten\"'), (4, u'0.057*\"amp\" + 0.021*\"gov\" + 0.012*\"avg\" + 0.012*\"see\" + 0.010*\"depot\" + 0.009*\"product\" + 0.009*\"offic\" + 0.008*\"beemp3\" + 0.008*\"busi\" + 0.007*\"hous\"'), (5, u'0.039*\"pricegrabb\" + 0.030*\"site\" + 0.022*\"use\" + 0.017*\"inform\" + 0.016*\"parti\" + 0.014*\"may\" + 0.013*\"merchant\" + 0.011*\"s\" + 0.011*\"third\" + 0.011*\"review\"'), (6, u'0.056*\"de\" + 0.019*\"le\" + 0.014*\"et\" + 0.014*\"\\xe0\" + 0.014*\"la\" + 0.012*\"ou\" + 0.011*\"que\" + 0.010*\"webmd\" + 0.010*\"en\" + 0.010*\"l\"'), (7, u'0.054*\"pricegrabb\" + 0.028*\"site\" + 0.019*\"use\" + 0.017*\"may\" + 0.014*\"inform\" + 0.013*\"review\" + 0.011*\"s\" + 0.011*\"content\" + 0.011*\"parti\" + 0.010*\"servic\"'), (8, u'0.044*\"inform\" + 0.023*\"use\" + 0.021*\"may\" + 0.019*\"servic\" + 0.016*\"person\" + 0.013*\"privaci\" + 0.013*\"provid\" + 0.013*\"site\" + 0.012*\"collect\" + 0.011*\"us\"'), (9, u'0.031*\"pricegrabb\" + 0.026*\"site\" + 0.024*\"use\" + 0.018*\"inform\" + 0.015*\"may\" + 0.013*\"parti\" + 0.012*\"servic\" + 0.011*\"merchant\" + 0.011*\"content\" + 0.011*\"s\"')]\n"
     ]
    }
   ],
   "source": [
    "print(ldamodel2.print_topics(num_topics=10))"
   ]
  },
  {
   "cell_type": "markdown",
   "metadata": {},
   "source": [
    "## Try without stemming"
   ]
  },
  {
   "cell_type": "code",
   "execution_count": 61,
   "metadata": {
    "collapsed": true
   },
   "outputs": [],
   "source": [
    "dictionaryNoStem = corpora.Dictionary(polTokenNoStop)\n",
    "bowNoStop=[dictionary.doc2bow(text) for text in polStem]"
   ]
  },
  {
   "cell_type": "code",
   "execution_count": 63,
   "metadata": {
    "collapsed": false
   },
   "outputs": [
    {
     "name": "stdout",
     "output_type": "stream",
     "text": [
      "CPU times: user 1h 40min 26s, sys: 1min 43s, total: 1h 42min 10s\n",
      "Wall time: 40min 4s\n"
     ]
    }
   ],
   "source": [
    "%%time\n",
    "ldamodelNoStop = gensim.models.ldamodel.LdaModel(bowNoStop, num_topics=10, id2word = dictionaryNoStem, passes=50)"
   ]
  },
  {
   "cell_type": "code",
   "execution_count": 67,
   "metadata": {
    "collapsed": false
   },
   "outputs": [],
   "source": [
    "topicsNoStop=ldamodelNoStop.print_topics(num_topics=10)"
   ]
  },
  {
   "cell_type": "code",
   "execution_count": 69,
   "metadata": {
    "collapsed": false
   },
   "outputs": [],
   "source": [
    "ldamodelNoStop20 = gensim.models.ldamodel.LdaModel(bowNoStop, num_topics=20, id2word = dictionaryNoStem, passes=100)"
   ]
  },
  {
   "cell_type": "code",
   "execution_count": 70,
   "metadata": {
    "collapsed": true
   },
   "outputs": [],
   "source": [
    "topicsNoStop20=ldamodelNoStop20.print_topics(num_topics=20)"
   ]
  },
  {
   "cell_type": "code",
   "execution_count": 71,
   "metadata": {
    "collapsed": false
   },
   "outputs": [
    {
     "data": {
      "text/plain": [
       "[(0,\n",
       "  u'0.152*\"improve\" + 0.050*\"criptografamos\" + 0.024*\"forwarded\" + 0.008*\"wish\" + 0.007*\"intercepting\" + 0.007*\"vulnerabilities\" + 0.005*\"checked\" + 0.004*\"1290\" + 0.004*\"marilyn\" + 0.004*\"endobj\"'),\n",
       " (1,\n",
       "  u'0.014*\"reporters\" + 0.014*\"segment\" + 0.012*\"pspmainhowtocontactusmodulepspmainmicrosofthealthandbandmodule\" + 0.011*\"component\" + 0.010*\"massachusetts\" + 0.007*\"sensors\" + 0.006*\"apparent\" + 0.005*\"522360\" + 0.005*\"setup\" + 0.004*\"webmarketing\"'),\n",
       " (2,\n",
       "  u'0.033*\"thirty\" + 0.029*\"company\" + 0.018*\"reject\" + 0.018*\"information\" + 0.016*\"files\" + 0.014*\"processes\" + 0.013*\"track\" + 0.012*\"sale\" + 0.012*\"means\" + 0.012*\"absolute\"'),\n",
       " (3,\n",
       "  u'0.030*\"plays\" + 0.025*\"lethal\" + 0.023*\"_atuvc\" + 0.019*\"podcast\" + 0.014*\"carriers\" + 0.013*\"lifestyle\" + 0.013*\"truste\" + 0.011*\"reveal\" + 0.010*\"strategic\" + 0.010*\"s_vi\"'),\n",
       " (4,\n",
       "  u'0.036*\"see\" + 0.020*\"means\" + 0.011*\"exclusive\" + 0.009*\"contract\" + 0.009*\"apply\" + 0.008*\"control\" + 0.008*\"adjust\" + 0.007*\"read\" + 0.007*\"web\" + 0.007*\"guarantee\"'),\n",
       " (5,\n",
       "  u'0.038*\"cricket\" + 0.017*\"1960\" + 0.014*\"hier\" + 0.009*\"purged\" + 0.005*\"invalid\" + 0.004*\"counsel\" + 0.003*\"rely\" + 0.002*\"commissioner\" + 0.002*\"users\" + 0.002*\"internships\"'),\n",
       " (6,\n",
       "  u'0.171*\"worthiness\" + 0.033*\"autoris\\xe9e\" + 0.026*\"arbitrator\" + 0.025*\"geltend\" + 0.021*\"eingeloggt\" + 0.017*\"identities\" + 0.016*\"380\" + 0.013*\"e\" + 0.013*\"coming\" + 0.013*\"malveillances\"'),\n",
       " (7,\n",
       "  u'0.019*\"1st\" + 0.019*\"read\" + 0.018*\"alliance\" + 0.018*\"reject\" + 0.017*\"bill\" + 0.017*\"owners\" + 0.014*\"company\" + 0.013*\"additional\" + 0.011*\"information\" + 0.010*\"invalidated\"'),\n",
       " (8,\n",
       "  u'0.015*\"ways\" + 0.014*\"donn\\xe9es\" + 0.012*\"identity\" + 0.011*\"means\" + 0.011*\"looked\" + 0.011*\"507\" + 0.010*\"render\" + 0.010*\"major\" + 0.010*\"explains\" + 0.009*\"visitor\"'),\n",
       " (9,\n",
       "  u'0.029*\"reject\" + 0.024*\"files\" + 0.024*\"subject\" + 0.017*\"provide\" + 0.014*\"information\" + 0.012*\"owners\" + 0.012*\"south\" + 0.012*\"community\" + 0.012*\"grant\" + 0.011*\"graphic\"'),\n",
       " (10,\n",
       "  u'0.037*\"thirty\" + 0.027*\"company\" + 0.018*\"files\" + 0.016*\"reject\" + 0.015*\"information\" + 0.014*\"means\" + 0.014*\"absolute\" + 0.013*\"track\" + 0.011*\"processes\" + 0.011*\"subject\"'),\n",
       " (11,\n",
       "  u'0.043*\"reject\" + 0.030*\"company\" + 0.029*\"ask\" + 0.028*\"disclosed\" + 0.024*\"turned\" + 0.019*\"information\" + 0.016*\"subject\" + 0.012*\"owners\" + 0.011*\"files\" + 0.011*\"grant\"'),\n",
       " (12,\n",
       "  u'0.064*\"reject\" + 0.024*\"community\" + 0.024*\"company\" + 0.023*\"files\" + 0.022*\"information\" + 0.017*\"read\" + 0.016*\"owners\" + 0.015*\"parties\" + 0.014*\"grant\" + 0.014*\"south\"'),\n",
       " (13,\n",
       "  u'0.044*\"thirty\" + 0.032*\"company\" + 0.018*\"files\" + 0.015*\"reject\" + 0.013*\"absolute\" + 0.013*\"sale\" + 0.013*\"information\" + 0.012*\"processes\" + 0.010*\"feature\" + 0.010*\"track\"'),\n",
       " (14,\n",
       "  u'0.045*\"thirty\" + 0.025*\"files\" + 0.025*\"company\" + 0.021*\"information\" + 0.016*\"reject\" + 0.016*\"absolute\" + 0.011*\"south\" + 0.011*\"feature\" + 0.011*\"means\" + 0.011*\"subject\"'),\n",
       " (15,\n",
       "  u'0.039*\"thirty\" + 0.036*\"company\" + 0.022*\"files\" + 0.021*\"reject\" + 0.020*\"information\" + 0.012*\"absolute\" + 0.011*\"south\" + 0.010*\"subject\" + 0.010*\"law\" + 0.010*\"means\"'),\n",
       " (16,\n",
       "  u'0.047*\"nc\" + 0.045*\"analytics\" + 0.037*\"pangolin\" + 0.022*\"agreement\" + 0.022*\"datasecurity\" + 0.018*\"od\" + 0.018*\"el\" + 0.018*\"12901\" + 0.017*\"clarification\" + 0.011*\"bedrohender\"'),\n",
       " (17,\n",
       "  u'0.053*\"reject\" + 0.036*\"information\" + 0.024*\"subject\" + 0.022*\"files\" + 0.021*\"absolute\" + 0.020*\"feature\" + 0.018*\"company\" + 0.016*\"south\" + 0.015*\"community\" + 0.015*\"law\"'),\n",
       " (18,\n",
       "  u'0.074*\"reveal\" + 0.025*\"executive\" + 0.019*\"intranet\" + 0.019*\"pan\" + 0.018*\"lighting\" + 0.016*\"privacy_officer\" + 0.014*\"tribal\" + 0.014*\"verwendeten\" + 0.013*\"4624\" + 0.012*\"audience\"'),\n",
       " (19,\n",
       "  u'0.021*\"subject\" + 0.019*\"files\" + 0.013*\"processes\" + 0.012*\"information\" + 0.012*\"com\" + 0.011*\"still\" + 0.010*\"reject\" + 0.009*\"means\" + 0.009*\"linked\" + 0.009*\"instance\"')]"
      ]
     },
     "execution_count": 71,
     "metadata": {},
     "output_type": "execute_result"
    }
   ],
   "source": [
    "topicsNoStop20"
   ]
  }
 ],
 "metadata": {
  "anaconda-cloud": {},
  "kernelspec": {
   "display_name": "Python [conda root]",
   "language": "python",
   "name": "conda-root-py"
  },
  "language_info": {
   "codemirror_mode": {
    "name": "ipython",
    "version": 2
   },
   "file_extension": ".py",
   "mimetype": "text/x-python",
   "name": "python",
   "nbconvert_exporter": "python",
   "pygments_lexer": "ipython2",
   "version": "2.7.12"
  }
 },
 "nbformat": 4,
 "nbformat_minor": 1
}
