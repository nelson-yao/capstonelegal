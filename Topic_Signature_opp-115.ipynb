{
 "cells": [
  {
   "cell_type": "code",
   "execution_count": 246,
   "metadata": {
    "collapsed": false
   },
   "outputs": [],
   "source": [
    "import json\n",
    "import pandas as pd \n",
    "import glob\n",
    "import os\n",
    "import re\n",
    "from bs4 import BeautifulSoup \n",
    "from IPython.display import display, HTML\n",
    "import pickle"
   ]
  },
  {
   "cell_type": "code",
   "execution_count": 28,
   "metadata": {
    "collapsed": false
   },
   "outputs": [
    {
     "name": "stdout",
     "output_type": "stream",
     "text": [
      "115\n",
      "115\n"
     ]
    }
   ],
   "source": [
    "## Read in consolidated annotations\n",
    "annotations={}\n",
    "annofiles=glob.glob(\"Data/opp115-parsed-annotation-1.0/*.json\")\n",
    "print len(annofiles)\n",
    "policyFiles=glob.glob(\"../Data/OPP-115/sanitized_policies/*.html\")\n",
    "print len(policyFiles)"
   ]
  },
  {
   "cell_type": "markdown",
   "metadata": {},
   "source": [
    "###  Read in the annotations and original policies"
   ]
  },
  {
   "cell_type": "code",
   "execution_count": 40,
   "metadata": {
    "collapsed": true
   },
   "outputs": [],
   "source": [
    "def readAnno(filelist):\n",
    "  annotations={}\n",
    "  for filename in filelist:\n",
    "    website=re.sub(\".json\", '', os.path.basename(filename))\n",
    "    with open(filename, \"r\") as f:\n",
    "      annotations[website]=json.load(f)\n",
    "    f.close()\n",
    "  return annotations\n",
    "\n",
    "def readPolicies(filelist):\n",
    "  soups={}\n",
    "  for filename in filelist:\n",
    "    base=os.path.basename(filename).split(\"_\")[1]\n",
    "    website=re.sub(\".html\", '', base)\n",
    "    soups[website]=BeautifulSoup(open(filename, \"r\").read(), 'html.parser')\n",
    "  return soups"
   ]
  },
  {
   "cell_type": "code",
   "execution_count": 248,
   "metadata": {
    "collapsed": false
   },
   "outputs": [],
   "source": [
    "with open(\"Data/parsed-annotation-0.5.pk\", 'rb') as f:\n",
    "  annotations=pickle.load(f)"
   ]
  },
  {
   "cell_type": "code",
   "execution_count": 251,
   "metadata": {
    "collapsed": false
   },
   "outputs": [
    {
     "data": {
      "text/html": [
       "<div>\n",
       "<table border=\"1\" class=\"dataframe\">\n",
       "  <thead>\n",
       "    <tr style=\"text-align: right;\">\n",
       "      <th></th>\n",
       "      <th>endIndexInSegment</th>\n",
       "      <th>section</th>\n",
       "      <th>selectedText</th>\n",
       "      <th>startIndexInSegment</th>\n",
       "      <th>value</th>\n",
       "    </tr>\n",
       "  </thead>\n",
       "  <tbody>\n",
       "    <tr>\n",
       "      <th>0</th>\n",
       "      <td>153</td>\n",
       "      <td>18</td>\n",
       "      <td>promotional purpose through one of our websites</td>\n",
       "      <td>106</td>\n",
       "      <td>Marketing</td>\n",
       "    </tr>\n",
       "    <tr>\n",
       "      <th>1</th>\n",
       "      <td>201</td>\n",
       "      <td>18</td>\n",
       "      <td>or to make a purchase from the PlayStation Shop</td>\n",
       "      <td>154</td>\n",
       "      <td>Perform service</td>\n",
       "    </tr>\n",
       "    <tr>\n",
       "      <th>2</th>\n",
       "      <td>226</td>\n",
       "      <td>22</td>\n",
       "      <td>Email addresses collected from consumers durin...</td>\n",
       "      <td>0</td>\n",
       "      <td>Perform service</td>\n",
       "    </tr>\n",
       "    <tr>\n",
       "      <th>3</th>\n",
       "      <td>200</td>\n",
       "      <td>24</td>\n",
       "      <td>so that we may assist these customers with cur...</td>\n",
       "      <td>124</td>\n",
       "      <td>Perform service</td>\n",
       "    </tr>\n",
       "    <tr>\n",
       "      <th>4</th>\n",
       "      <td>159</td>\n",
       "      <td>40</td>\n",
       "      <td>necessary to fulfill the purposes outlined in ...</td>\n",
       "      <td>102</td>\n",
       "      <td>Other</td>\n",
       "    </tr>\n",
       "  </tbody>\n",
       "</table>\n",
       "</div>"
      ],
      "text/plain": [
       "   endIndexInSegment  section  \\\n",
       "0                153       18   \n",
       "1                201       18   \n",
       "2                226       22   \n",
       "3                200       24   \n",
       "4                159       40   \n",
       "\n",
       "                                        selectedText  startIndexInSegment  \\\n",
       "0    promotional purpose through one of our websites                  106   \n",
       "1    or to make a purchase from the PlayStation Shop                  154   \n",
       "2  Email addresses collected from consumers durin...                    0   \n",
       "3  so that we may assist these customers with cur...                  124   \n",
       "4  necessary to fulfill the purposes outlined in ...                  102   \n",
       "\n",
       "             value  \n",
       "0        Marketing  \n",
       "1  Perform service  \n",
       "2  Perform service  \n",
       "3  Perform service  \n",
       "4            Other  "
      ]
     },
     "execution_count": 251,
     "metadata": {},
     "output_type": "execute_result"
    }
   ],
   "source": [
    "annotations[\"playstation.com\"][\"Data Retention\"]['Retention Purpose']"
   ]
  },
  {
   "cell_type": "code",
   "execution_count": 51,
   "metadata": {
    "collapsed": true
   },
   "outputs": [],
   "source": [
    "policySoups=readPolicies(policyFiles)"
   ]
  },
  {
   "cell_type": "code",
   "execution_count": 72,
   "metadata": {
    "collapsed": false
   },
   "outputs": [
    {
     "name": "stdout",
     "output_type": "stream",
     "text": [
      "True\n",
      "True\n"
     ]
    }
   ],
   "source": [
    "## make sure that the website names are the same in both dictinoaries\n",
    "test1=filter(lambda website: website in annotations.keys(), policySoups.keys())\n",
    "test2=filter(lambda website: website in policySoups.keys(), annotations.keys())\n",
    "print all(test1)\n",
    "print all(test2)"
   ]
  },
  {
   "cell_type": "markdown",
   "metadata": {},
   "source": [
    "## Get a list of tokens from all of the policies, with frequencies"
   ]
  },
  {
   "cell_type": "code",
   "execution_count": 56,
   "metadata": {
    "collapsed": true
   },
   "outputs": [],
   "source": [
    "def extractTexts(soups):\n",
    "  policyTexts={}\n",
    "  for website in soups:\n",
    "    policyTexts[website]=soups[website].get_text()\n",
    "  return policyTexts"
   ]
  },
  {
   "cell_type": "code",
   "execution_count": 57,
   "metadata": {
    "collapsed": true
   },
   "outputs": [],
   "source": [
    "## get texts from soup objects\n",
    "policyTexts=extractTexts(policySoups)"
   ]
  },
  {
   "cell_type": "code",
   "execution_count": 160,
   "metadata": {
    "collapsed": false
   },
   "outputs": [],
   "source": [
    "## get the training and validation set \n",
    "import random\n",
    "websites=policyTexts.keys()\n",
    "seed=124\n",
    "random.seed(seed)\n",
    "trainWebsites=random.sample(websites, 105)\n",
    "valWebstes=[web for web in websites if web not in trainWebsites]\n",
    "\n",
    "trainTexts={web:policyTexts[web] for web in trainWebsites}"
   ]
  },
  {
   "cell_type": "code",
   "execution_count": 161,
   "metadata": {
    "collapsed": false
   },
   "outputs": [],
   "source": [
    "from nltk.corpus import stopwords\n",
    "from nltk import word_tokenize\n",
    "from nltk.tokenize import sent_tokenize\n",
    "import re\n",
    "import itertools\n",
    "import string\n",
    "engstop=set(stopwords.words(\"english\"))\n"
   ]
  },
  {
   "cell_type": "code",
   "execution_count": 144,
   "metadata": {
    "collapsed": false
   },
   "outputs": [
    {
     "name": "stdout",
     "output_type": "stream",
     "text": [
      "!\"#$%&'()*+,-./:;<=>?@[\\]^_`{|}~\n"
     ]
    }
   ],
   "source": [
    "print string.punctuation"
   ]
  },
  {
   "cell_type": "code",
   "execution_count": 245,
   "metadata": {
    "collapsed": false
   },
   "outputs": [],
   "source": [
    "from collections import Counter\n",
    "def cleantext(rawtext, remove):\n",
    "  # remove punctuations\n",
    "  cleaned3=remove.sub(\"\", rawtext.lower())\n",
    "  return cleaned3\n",
    "\n",
    "def getTokens(rawtext, mode, stopwords):\n",
    "  punctuations = re.compile('[%s]' % re.escape(string.punctuation))\n",
    "  if mode==\"unigram\":\n",
    "    cleaned=cleantext(rawtext, punctuations)\n",
    "    tokenlist=word_tokenize(cleaned)\n",
    "    tokensNoStop=[token for token in tokenlist if token not in stopwords]\n",
    "    return list(set(tokensNoStop))\n",
    "  \n",
    "  if mode==\"bigram\":\n",
    "    sentenceList=sent_tokenize(rawtext)\n",
    "    sentenceClean=[cleantext(sentence, punctuations) for sentence in sentenceList]\n",
    "    unigramLists=[word_tokenize(sentence) for sentence in sentenceClean]\n",
    "    bigramLists=[zip(uniList, uniList[1::]) for uniList in unigramLists]\n",
    "    bigramTotal=[bigram for bigramlist in bigramLists for bigram in bigramlist]\n",
    "    \n",
    "    return list(set(bigramTotal))"
   ]
  },
  {
   "cell_type": "code",
   "execution_count": 149,
   "metadata": {
    "collapsed": false
   },
   "outputs": [],
   "source": [
    "def getAllTokens(textDict, mode, stopwords):\n",
    "  allTokens=[]\n",
    "  if mode==\"unigram\":\n",
    "    for website in textDict:\n",
    "      allTokens.extend(getTokens(textDict[website], \"unigram\", stopwords)) \n",
    "    \n",
    "  elif mode==\"bigram\":\n",
    "    for website in textDict:\n",
    "      allTokens.extend(getTokens(textDict[website], \"bigram\", stopwords))\n",
    "    return list(set(allTokens))                   \n",
    "           "
   ]
  },
  {
   "cell_type": "code",
   "execution_count": 162,
   "metadata": {
    "collapsed": false
   },
   "outputs": [
    {
     "name": "stdout",
     "output_type": "stream",
     "text": [
      "CPU times: user 3.28 s, sys: 0 ns, total: 3.28 s\n",
      "Wall time: 3.26 s\n"
     ]
    }
   ],
   "source": [
    "%%time\n",
    "trainUnigrams=getAllTokens(trainTexts, \"unigram\", engstop)\n",
    "trainBigrams=getAllTokens(trainTexts, \"bigram\", engstop)"
   ]
  },
  {
   "cell_type": "code",
   "execution_count": 241,
   "metadata": {
    "collapsed": false
   },
   "outputs": [
    {
     "data": {
      "text/plain": [
       "u\" name, email address, and your friend's email address. This information is collected and used only in a manner\""
      ]
     },
     "execution_count": 241,
     "metadata": {},
     "output_type": "execute_result"
    }
   ],
   "source": [
    "hondaSoup=policySoups[\"honda.com\"]\n",
    "hondaText=hondaSoup.get_text()\n",
    "hondaText.split(\"|||\")[52][250:360]"
   ]
  },
  {
   "cell_type": "code",
   "execution_count": 196,
   "metadata": {
    "collapsed": false,
    "scrolled": false
   },
   "outputs": [
    {
     "data": {
      "text/plain": [
       "u' Privacy Policy    Last Revised: April, 2011  |||Sony Computer Entertainment America LLC (\"SCEA\") is committed to respecting the privacy rights of all visitors to our websites. This privacy policy is intended to provide you with information on how we collect, use and store the information that you provide to us through our websites so that you can make appropriate choices for sharing information with us. If you have any questions, complaints or comments regarding our online or offline privacy policies, please contact SCEA\\'s Consumer Services Hotline at 1-800-345-7669.  |||This Privacy Statement and the certification seal located to your right confirms that SCEA is a valid licensee and participating member in the Entertainment Software Rating Board\\'s Privacy Online Program: ESRB Privacy Online. To protect your privacy to the maximum extent possible, we have undertaken this privacy initiative and our websites have been reviewed and certified by ESRB Privacy Online to meet established online information collection and use practices. As part of the privacy program, we are subject to frequent audits of our sites and other enforcement and accountability mechanisms administered independently by ESRB.  |||ESRB Privacy Online is a third-party seal provider whose mission is to protect consumers\\' online privacy and make the Internet a secure, reliable and private place to share information and conduct business. ESRB Privacy Online promotes and enforces established principles and guidelines for fair information collection practices that include requirements of full disclosure, notice and informed consent.  |||Whenever you visit a website that displays the ESRB Privacy Online certification seal, you can expect to be notified of:   What personal information may be collected and by what means  Who, if anyone, is collecting your personal information  How this information may be used, including who, if anyone, it might be shared with  The consequences, if any, resulting from your refusal to provide personal information  How you can access and, if necessary, change the personal information a company maintains  How a company ensures data security, quality and integrity  Where and how to ask questions or file complaints |||THIS POLICY APPLIES TO:   This policy applies to the websites us.playstation.com and naughtydog.com. In addition, we own several other domain names that point to us.playstation.com. From time to time, we may add new websites not listed above, and will provide a link to this policy or the applicable privacy policy. Finally, we collect information via dynamic in-game advertising that is served to some online PlayStation3 games. By use of our websites and games that have dynamic in-game advertising, you signify your assent to SCEA\\'s privacy policy. If you do not agree to this policy, please do not use our websites or games with dynamic in-game advertising.  |||THIS POLICY DOES NOT APPLY TO:   PlayStationNetwork   In parts of North America and South America, Sony Network Entertainment America Inc. (\"SNEA\") operates Sony Online Services, a network of online games, movies, music, other media and content and communication services. PlayStation Network (\"PSN\") is one of these Sony Online Services. With a Sony Online Services or Sony Entertainment Network account, users can purchase goods and services from SNEA through Sony Online Services and may have the opportunity to participate in various network community activities. Users can register for and log into a Sony Entertainment Network account via us.playstation.com. Collection and use of your information by Sony Online Services is governed by the SNEA Privacy Policy, which can be found here:   http://www.qriocity.com/us/en/legal-privacy.  |||Links   SCEA may provide links to the websites of our promotional partners and licensed software publishers, our affiliates or other entities that we own or control. This privacy policy does not apply to third-party websites and treatment of any personal information you provide on those sites is subject to the applicable third party\\'s individual privacy policy.  |||WHAT WE COLLECT:   Collection of Personal Information through our Websites   We do not require that website visitors reveal any personally identifying information in order to gain general access to our websites. However, visitors who do not wish to, or are not allowed by law to share personally identifying information, may not be able to access certain areas of our websites, participate in certain activities, or make a purchase from the PlayStationShop. Although personally identifying information may be required to participate in certain promotions or features offered through our websites or to make a purchase from the PlayStationShop, participants provide this information on a voluntary basis only. Collection of personal information required to access certain website services may include the collection of date of birth, name, mailing address, email address or credit card information.  |||We collect personally identifying information in connection with the following:   Questions or comments sent through our websites to Consumer Services  Repair of, replacement of or service on system hardware  Subscription to a non-PSN marketing program  \"Send-to-a-Friend\" emails  Purchases made from the PlayStation Shop |||Some of our website activities require that the user log in using a PlayStationNetwork (\"PSN\") account; for information regarding SNEA\\'s collection of information in association with a Sony Entertainment Network account, please see their Privacy Policy http://www.qriocity.com/us/en/legal-privacy. On our websites, PlayStation Network log in information is being authenticated by SNEA, not SCEA.  |||SCEA may require a Sony Entertainment Network account in connection with:   Participation in online contests, sweepstakes or other promotions  Inclusion in our email newsletter program  Participation on our message boards  Access to special sections of official game websites |||Passive Information Collection   SCEA may collect information such as our website visitors\\' IP address, IP address-related information, system Media Access Control (\"MAC\") address, network configuration information, network device information, browser plug-in types and versions, operating system, and platform. We also may collect information about your download activity, browser activity, forum postings and session information.  |||Dynamic advertisement serving technology enables advertisements to be temporarily loaded or cached to a Sony Entertainment Network account holder\\'s PS3 system for display only in games that incorporate this technology. If a Sony Entertainment Network account holder plays a game that utilizes this feature, SCEA will log information about his or her system and game play to ensure that advertisements are being appropriately served to him or her and to track information about the advertisements displayed during his or her gaming session. Logged data may include: Online ID, system IP address, system MAC address, in-game advertisement location, the length of time an advertisement was visible, relative size of advertisements, the angle of view and other information related to each advertisement visible during the gaming session.  |||\"Cookies\" are bits of electronic information that a website can transfer to a consumer\\'s hard drive to keep records of his or her visit at the website. We may use cookies to improve consumers\\' experiences when visiting our websites. We may use cookies to anonymously track interest in, and collect aggregate information on, our websites.  |||\"Log files\" are files that log actions that have occurred on a website. We may use log files to gather statistics about consumers\\' browsing habits and to assess overall website activity, including how many \"hits\" a particular web page is getting. These entries are generated anonymously, and enable us to track interest in specific promotions, troubleshoot technical concerns, and provide consumers with content that may be of interest to them. We also use the log file entries for our internal marketing and demographic studies, so we can constantly improve the online services we provide to consumers. Log files are used internally only, and are not associated with any particular user, computer, or browser.  |||Our websites use a variety of technical methods for tracking purposes, including \"Web beacons\". Web beacons are small pieces of data that are embedded in images on the pages of websites. We also use these technical methods to analyze the traffic patterns on our websites, such as the frequency with which consumers visit various parts of our websites. These technical methods may involve the transmission of information either directly to us or to another party authorized by us to collect information on our behalf. We also use these technical methods in HTML emails that we send our guests to determine whether our consumers have opened those emails or clicked on links in those emails. The information from use of these technical methods may be collected in a form that is personally identifiable.  |||Information from PlayStationNetwork   SNEA shares its Sony Entertainment Network account holders\\' information with us so that we may provide you with marketing and community services.  |||HOW WE USE YOUR INFORMATION   Personally identifying information that we collect for a particular promotional purpose through one of our websites or to make a purchase from the PlayStation Shop is saved and used only for that purpose, unless the participant chooses to opt-in to one of our marketing programs. Visitors to our websites may be given the opportunity to \"opt-in\" to two different programs. The first option is to receive marketing content from SCEA. The second is to have personal information shared with SCEA\\'s third party partners so that they may send you marketing materials.  |||Consumers who voluntarily provide personally identifying information via our website for purposes of receiving marketing materials or who opt-in to receiving marketing materials when they register a Network Adaptor (Ethernet/Modem)(for PlayStation2) or PlayStation2 with integrated network and line connectors for online gaming through the Online Start-Up Disc, become members of our marketing program.  |||By logging in as a Sony Entertainment Network account holder on our websites, consumers consent to having information regarding their activities added to their customer profile, whether information regarding those activities comes from SCEA internal sources, Sony-related entities or affiliated sources. We may give Sony Entertainment Network account holders the opportunity to provide information about themselves and will from time to time conduct surveys or questionnaires for members to provide feedback and additional information. This information allows us to provide those Sony Entertainment Network account holders with information about our products that best suits their interests and to customize their experience.  |||Data that we have collected about a Sony Entertainment Network account holder via dynamic in-game advertising may be used to provide him or her with future advertisements that we believe will be of particular interest.  |||Email addresses collected from consumers during the use of the E-Cards or \"Send-to-a-Friend\" email feature on our websites are not retained by us, and are only used to send a one-time email notification on a consumer\\'s behalf.  |||SCEA may use personally identifying information for marketing and demographic studies. These studies help us improve our websites, products and services to better meet our users\\' needs.  |||SCEA\\'s consumer services department maintains information obtained from consumers who contact or submit an online complaint so that we may assist these customers with current or future service issues. SCEA\\'s consumer services department may collect additional information such as credit card, personal check information, if a consumer contacts consumer services to request repair of, exchange of, or service on, a PlayStation system. Consumer Services uses this information only for payment and payment verification purposes. SCEA\\'s consumer services department may direct consumers to the consumer services departments of other companies with whom SCEA has arranged to provide consumer service, so that the consumer receives appropriate assistance.  |||We may use personally identifying information and records for defense of a lawsuit, investigation or other action if such personally identifying information, records or profiles are relevant to the lawsuit, investigation or action.  |||WHO WE SHARE WITH:   We may share the personally identifying information of our website users with our affiliates in the Sony group family of companies and other third parties who assist us with fulfilling your requests, clear and verify transactions, deliver and administer products, content or services, manage and enhance customer data, store and maintain our database records, provide customer service, detect fraud or illegal activities, conduct customer research and surveys, develop new products and services and sell products and services to you.  |||SCEA may also share personally identifying information with law enforcement or similar organizations, in connection with a criminal investigation, investigation or prevention of fraud or criminal activities, infringement of intellectual property rights or other activity that is suspected to be illegal or may expose our users or SCEA to legal liability.  |||We may share non-personally identifying information and behavioral data from our studies with our affiliates and other third parties.  |||Data logged via PS3 dynamic in-game advertising or some portion of it will be shared with third party companies that operate the advertisement serving technology, and these companies may share aggregated data (meaning data that includes data about a Sony Entertainment Network account holder\\'s gaming session but is not specific to him or her) with advertisers and game publishers.  |||We do not control our affiliates\\' or third parties\\' use of your information after we share it, but we use reasonable efforts to obtain our affiliates\\' and third parties\\' agreement to protect the confidentiality, security, and integrity of any personal information we share with them or that we permit them to collect directly. If consumers do not want their personal information made available to others in these ways, they should not provide their personal information to us.  |||California Privacy Rights   Beginning on January 1, 2005, California Civil Code section 1798.83 permits SCEA customers who are California residents to request certain information regarding SCEA\\'s disclosure within the immediately preceding calendar year of that California resident\\'s personal information to third parties for their direct marketing purposes. To make such a request, contact our consumer services department through the following link: http://us.playstation.com/corporate/contactus or via telephone at 1-800-345-7669. If you would like to change your current account preferences, go to the account management section of your Sony Online Services account.  |||Policies for Children   SCEA does not knowingly collect personally identifying information from children under 13 years of age via our websites.  |||Data from Sony Online Services accounts is transferred from SNEA to SCEA for community administration and, depending on your child\\'s age, marketing purposes.  |||PlayStation Website Message Boards   Our PlayStation website message boards are a place where users can go to freely share their thoughts and ideas about the PlayStation brand. A Sony Entertainment Network account is required to contribute to these message boards. We prohibit message board participants from disclosing their own personally identifying information other than their own Online IDs. We ask our users to respect the privacy of others. Disclosure of phone numbers, addresses, age or other personally identifying information that may violate someone else\\'s privacy is prohibited. Encouraging or asking users to disclose publicly their personally identifying information is also prohibited.  |||Business Contacts   Through our job page at http://us.playstation.com/corporate/about/careers, SCEA allows job seekers to inquire about jobs and submit personally identifying information in connection with applying for employment. If a job seeker creates a job profile, he or she will be asked to provide an email address and create a password. He or she can use that email address and password to access his or her account, review the information in his or her profile, edit or delete his or her profile at any time.  |||We treat personally identifying information submitted to us for business purposes differently from information we receive in a non-business capacity. We may share resumes or potential developer contact information submitted to us, for example, with other Sony companies or third parties, depending on the nature of the inquiry.  |||Accuracy Security   We take reasonable measures to protect the confidentiality, security, and integrity of the personal information collected from our website visitors. Personal information is stored in secure operating environments that are not available to the public and that are only accessible to authorized employees. We also have security measures in place to protect the loss, misuse, and alteration of the information under our control. Unfortunately, there is no such thing as perfect security. As a result, although we strive to protect personally identifying information, we cannot ensure or warrant the security of any information transmitted to us through or in connection with our websites, that we store on our systems or that is stored on our service providers\\' systems.  |||Governing Law   SCEA operates in parts of North and South America but this site is intended for consumers in the United States. When we process personal data and information and personally identifying information in the United States, we follow United States data protection and privacy regulations, which may not offer the same level of protection as in other parts of the world, such as the European Union. If we are made aware that a consumer\\'s country of residence is outside the United States, that consumer will be directed to the appropriate Sony company.  |||Transfer of Your Information in the Event of Sale or Acquisition   In the event that SCEA sells or transfers its business or its business is acquired, our website visitors\\' stored personally identifying information may be transferred to the purchasing or acquiring entity. Please be aware that accepting this privacy policy means that you also consent to the possible transfer of your personally identifying information outside your country of residence.  |||Retention Policy   We will retain personally identifying information about you for the period necessary to fulfill the purposes outlined in this policy unless a longer retention period is required by law or regulations.  |||Changes to Our Privacy Policy   We reserve the right to make changes to this privacy policy at any time. If we make a material change to this privacy policy, we will notify you by posting notice of the change on www.us.playstation.com or on our other websites. We will post the changes in the privacy policy and, if necessary, give you additional choices regarding changes. Please check this privacy policy from time to time to ensure that you are aware of these changes. Your continued use of our websites or other SCEA online portals subject to this privacy policy will signify your acceptance of privacy policy changes.  |||Contact Us   For further information on our privacy policy, or for questions on information that we may have collected from you, please contact us by either of the following methods and we will be happy to review, update, or change your record status as appropriate:   Sony Computer Entertainment America LLC  Consumer Services Department  P.O. Box 5888  San Mateo, California, 94402-0888  United States of America  On the web: http://us.playstation.com/corporate/contactus  By Phone: 1-800-345-7669  |||ESRB   SCEA is a licensee of the ESRB\\'s Privacy Online Program. If you believe that we have not responded to your inquiry or your inquiry has not been satisfactorily addressed, please contact ESRB at http://www.esrb.org/privacy/contact.jsp   ESRB  Attn.: Privacy Online Program  317 Madison Avenue, 22nd Floor  New York, NY 10017  privacy@esrb.org'"
      ]
     },
     "execution_count": 196,
     "metadata": {},
     "output_type": "execute_result"
    }
   ],
   "source": [
    "psSoup=policySoups['playstation.com']\n",
    "psSoup.get_text()"
   ]
  },
  {
   "cell_type": "code",
   "execution_count": 225,
   "metadata": {
    "collapsed": false
   },
   "outputs": [
    {
     "data": {
      "text/plain": [
       "[u'selectedText', u'startIndexInSegment', u'endIndexInSegment', u'value']"
      ]
     },
     "execution_count": 225,
     "metadata": {},
     "output_type": "execute_result"
    }
   ],
   "source": [
    "annotations['playstation.com']['First Party Collection/Use'][\"Collection Mode\"].keys()"
   ]
  },
  {
   "cell_type": "code",
   "execution_count": 218,
   "metadata": {
    "collapsed": false,
    "scrolled": false
   },
   "outputs": [
    {
     "name": "stdout",
     "output_type": "stream",
     "text": [
      "344\n"
     ]
    }
   ],
   "source": [
    "#print(annotations['playstation.com']['First Party Collection/Use'][\"Personal Information Type\"].keys())\n",
    "#print annotations['playstation.com']['First Party Collection/Use'][\"Personal Information Type\"][\"selectedText\"]\n",
    "\n",
    "print annotations['playstation.com']['First Party Collection/Use'][\"Personal Information Type\"][\"startIndexInSegment\"][0]\n",
    "#print annotations['playstation.com']['First Party Collection/Use'][\"Personal Information Type\"]['endIndexInSegment'][0]\n",
    "\n",
    "textinfo=pd.DataFrame({\"selectedText\":annotations['playstation.com']['First Party Collection/Use'][\"Personal Information Type\"][\"selectedText\"],\\\n",
    "                      \"startIndexInSegment\": annotations['playstation.com']['First Party Collection/Use'][\"Personal Information Type\"][\"startIndexInSegment\"],\\\n",
    "                      \"endIndexInSegment\": annotations['playstation.com']['First Party Collection/Use'][\"Personal Information Type\"]['endIndexInSegment'],\\\n",
    "                      \"value\": annotations['playstation.com']['First Party Collection/Use'][\"Personal Information Type\"]['value']})\n",
    "\n",
    "\n",
    "textinfo=textinfo[[\"selectedText\", \"value\", \"startIndexInSegment\", \"endIndexInSegment\"]]"
   ]
  },
  {
   "cell_type": "code",
   "execution_count": 232,
   "metadata": {
    "collapsed": false
   },
   "outputs": [
    {
     "name": "stdout",
     "output_type": "stream",
     "text": [
      "                                        selectedText  \\\n",
      "0                                        information   \n",
      "1  PlayStationNetwork In parts of North America a...   \n",
      "2                 personally identifying information   \n",
      "3  may include the collection of date of birth, n...   \n",
      "4                     mailing address, email address   \n",
      "\n",
      "                          value  startIndexInSegment  endIndexInSegment  \n",
      "0                   Unspecified                  344                355  \n",
      "1                         Other                   41                680  \n",
      "2  Generic personal information                  483                517  \n",
      "3                   Demographic                  804                854  \n",
      "4                       Contact                  855                885  \n"
     ]
    }
   ],
   "source": [
    "textinfo.loc[1,\"selectedText\"]\n",
    "print textinfo.head()"
   ]
  },
  {
   "cell_type": "code",
   "execution_count": 220,
   "metadata": {
    "collapsed": false
   },
   "outputs": [],
   "source": [
    "psSections=psSoup.get_text().split(\"|||\")"
   ]
  },
  {
   "cell_type": "code",
   "execution_count": 233,
   "metadata": {
    "collapsed": false
   },
   "outputs": [
    {
     "data": {
      "text/plain": [
       "u'ionNetwork   In parts of North America and South America, Sony Network Entertainment America Inc. (\"SNEA\") operates Sony Online Services, a network of online games, movies, music, other media and content and communication services. PlayStation Network (\"PSN\") is one of these Sony Online Services. With a Sony Online Services or Sony Entertainment Network account, users can purchase goods and services from SNEA through Sony Online Services and may have the opportunity to participate in various network community activities. Users can register for and log into a Sony Entertainment Network account via us.playstation.com. Collection and '"
      ]
     },
     "execution_count": 233,
     "metadata": {},
     "output_type": "execute_result"
    }
   ],
   "source": [
    "psSections[6][41:680]"
   ]
  },
  {
   "cell_type": "code",
   "execution_count": 222,
   "metadata": {
    "collapsed": true
   },
   "outputs": [],
   "source": [
    "## Label the sentences in a policy as relevant or irrelevant\n",
    "## \n",
    "# Topic: \"Personal Information Type\"\n",
    "\n",
    "PS=trainTexts[\"playstation.com\"]\n",
    "PSsentences=trainTexts"
   ]
  },
  {
   "cell_type": "code",
   "execution_count": null,
   "metadata": {
    "collapsed": true
   },
   "outputs": [],
   "source": []
  }
 ],
 "metadata": {
  "anaconda-cloud": {},
  "kernelspec": {
   "display_name": "Python [conda root]",
   "language": "python",
   "name": "conda-root-py"
  },
  "language_info": {
   "codemirror_mode": {
    "name": "ipython",
    "version": 2
   },
   "file_extension": ".py",
   "mimetype": "text/x-python",
   "name": "python",
   "nbconvert_exporter": "python",
   "pygments_lexer": "ipython2",
   "version": "2.7.12"
  }
 },
 "nbformat": 4,
 "nbformat_minor": 1
}
