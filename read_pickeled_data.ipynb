{
 "cells": [
  {
   "cell_type": "markdown",
   "metadata": {},
   "source": [
    "## Read Pickeled Data\n",
    "This file reads and processes data that has previously been pickeled by Parse_opp_115"
   ]
  },
  {
   "cell_type": "code",
   "execution_count": 32,
   "metadata": {
    "collapsed": false
   },
   "outputs": [],
   "source": [
    "import pickle\n",
    "import pandas as pd\n",
    "\n",
    "# Choose one of several data files\n",
    "with open('Data/parsed-annotation-0.5.pk', 'rb') as pfile:\n",
    "    data = pickle.load(pfile)\n",
    "    pfile.close()\n"
   ]
  },
  {
   "cell_type": "markdown",
   "metadata": {},
   "source": [
    "### Data structure\n",
    "`data[site][category][topic] =` pandas dataframe"
   ]
  },
  {
   "cell_type": "markdown",
   "metadata": {},
   "source": [
    "### Sites, Categories, and Topics\n",
    "Print out all sites, categories, and topics"
   ]
  },
  {
   "cell_type": "code",
   "execution_count": 25,
   "metadata": {
    "collapsed": false
   },
   "outputs": [
    {
     "name": "stdout",
     "output_type": "stream",
     "text": [
      "Sites: playstation.com, honda.com, sports-reference.com, sltrib.com, foxsports.com, style.com, wnep.com, sheknows.com, mlb.mlb.com, coffeereview.com, jibjab.com, theatlantic.com, kaleidahealth.org, uptodate.com, gwdocs.com, meredith.com, ticketmaster.com, abita.com, www.loc.gov, washingtonian.com, lynda.com, highgearmedia.com, walmart.com, ted.com, nytimes.com, lodgemfg.com, enthusiastnetwork.com, kraftrecipes.com, rockstargames.com, geocaching.com, tangeroutlet.com, voxmedia.com, ironhorsevineyards.com, gawker.com, abcnews.com, eatchicken.com, allstate.com, austincc.edu, sidearmsports.com, uh.edu, dogbreedinfo.com, amazon.com, si.edu, ocregister.com, boardgamegeek.com, yahoo.com, freep.com, neworleansonline.com, instagram.com, tulsaworld.com, liquor.com, stlouisfed.org, gamestop.com, msn.com, cincymuseum.org, cariboucoffee.com, esquire.com, vikings.com, bankofamerica.com, dailynews.com, lids.com, tgifridays.com, thehill.com, sciencemag.org, dcccd.edu, acbj.com, restaurantnews.com, communitycoffee.com, adweek.com, newsbusters.org, nbcuniversal.com, solarviews.com, taylorswift.com, opensecrets.org, pbs.org, education.jlab.org, timeinc.com, steampowered.com, washingtonpost.com, usa.gov, military.com, dailyillini.com, latinpost.com, sci-news.com, aol.com, chasepaymentech.com, internetbrands.com, archives.gov, randomhouse.com, fortune.com, thefreedictionary.com, buffalowildwings.com, ifsa-butler.org, wsmv.com, naturalnews.com, earthkam.org, fool.com, fredericknewspost.com, minecraft.gamepedia.com, post-gazette.com, mohegansun.com, reddit.com, zacks.com, barnesandnoble.com, citizen.org, foodallergy.org, disinfo.com, dairyqueen.com, imdb.com, google.com, miaminewtimes.com, reference.com, redorbit.com, everydayhealth.com, cbsinteractive.com\n",
      "\n",
      "Categories: Data Retention, First Party Collection/Use, Policy Change, Do Not Track, International and Specific Audiences, User Access, Edit and Deletion, User Choice/Control, Data Security, Third Party Sharing/Collection, Other\n",
      "\n",
      "Topics: Access Scope, Other Type, Access Type, Change Type, Action Third Party, Collection Mode, User Choice, Retention Purpose, Purpose, Does/Does Not, Do Not Track policy, Third Party Entity, Notification Type, User Type, Identifiability, Choice Type, Security Measure, Action First-Party, Audience Type, Retention Period, Personal Information Type, Choice Scope\n"
     ]
    }
   ],
   "source": [
    "sites = set()\n",
    "categories = set()\n",
    "topics = set()\n",
    "\n",
    "for site in data:\n",
    "    sites.add(site)\n",
    "    for category in data[site]:\n",
    "        categories.add(category)\n",
    "        for topic in data[site][category]:\n",
    "            topics.add(topic)\n",
    "        \n",
    "print \"Sites: \" + \", \".join(sites)\n",
    "print\n",
    "print \"Categories: \" + \", \".join(categories)\n",
    "print\n",
    "print \"Topics: \" + \", \".join(topics)\n"
   ]
  },
  {
   "cell_type": "markdown",
   "metadata": {},
   "source": [
    "### Convert to a Pandas DataFrame"
   ]
  },
  {
   "cell_type": "code",
   "execution_count": 35,
   "metadata": {
    "collapsed": false
   },
   "outputs": [
    {
     "data": {
      "text/html": [
       "<div>\n",
       "<table border=\"1\" class=\"dataframe\">\n",
       "  <thead>\n",
       "    <tr style=\"text-align: right;\">\n",
       "      <th></th>\n",
       "      <th>endIndexInSegment</th>\n",
       "      <th>section</th>\n",
       "      <th>selectedText</th>\n",
       "      <th>startIndexInSegment</th>\n",
       "      <th>value</th>\n",
       "    </tr>\n",
       "  </thead>\n",
       "  <tbody>\n",
       "    <tr>\n",
       "      <th>0</th>\n",
       "      <td>599</td>\n",
       "      <td>26</td>\n",
       "      <td>personal information</td>\n",
       "      <td>579</td>\n",
       "      <td>Generic personal information</td>\n",
       "    </tr>\n",
       "    <tr>\n",
       "      <th>1</th>\n",
       "      <td>599</td>\n",
       "      <td>26</td>\n",
       "      <td>personal information</td>\n",
       "      <td>579</td>\n",
       "      <td>Generic personal information</td>\n",
       "    </tr>\n",
       "  </tbody>\n",
       "</table>\n",
       "</div>"
      ],
      "text/plain": [
       "   endIndexInSegment  section          selectedText  startIndexInSegment  \\\n",
       "0                599       26  personal information                  579   \n",
       "1                599       26  personal information                  579   \n",
       "\n",
       "                          value  \n",
       "0  Generic personal information  \n",
       "1  Generic personal information  "
      ]
     },
     "execution_count": 35,
     "metadata": {},
     "output_type": "execute_result"
    }
   ],
   "source": [
    "df = pd.DataFrame(data)\n",
    "df['abcnews.com']['Data Retention']['Personal Information Type']"
   ]
  },
  {
   "cell_type": "code",
   "execution_count": 31,
   "metadata": {
    "collapsed": false
   },
   "outputs": [
    {
     "data": {
      "text/plain": [
       "'Generic personal information'"
      ]
     },
     "execution_count": 31,
     "metadata": {},
     "output_type": "execute_result"
    }
   ],
   "source": [
    "df['abcnews.com']['Data Retention']['Personal Information Type']['value'][0]"
   ]
  },
  {
   "cell_type": "code",
   "execution_count": 46,
   "metadata": {
    "collapsed": false
   },
   "outputs": [
    {
     "data": {
      "text/plain": [
       "['Retention Period', 'Retention Purpose', 'Personal Information Type']"
      ]
     },
     "execution_count": 46,
     "metadata": {},
     "output_type": "execute_result"
    }
   ],
   "source": [
    "df['usa.gov']['Data Retention'].keys()"
   ]
  },
  {
   "cell_type": "code",
   "execution_count": 48,
   "metadata": {
    "collapsed": false
   },
   "outputs": [
    {
     "data": {
      "text/html": [
       "<div>\n",
       "<table border=\"1\" class=\"dataframe\">\n",
       "  <thead>\n",
       "    <tr style=\"text-align: right;\">\n",
       "      <th></th>\n",
       "      <th>endIndexInSegment</th>\n",
       "      <th>section</th>\n",
       "      <th>selectedText</th>\n",
       "      <th>startIndexInSegment</th>\n",
       "      <th>value</th>\n",
       "    </tr>\n",
       "  </thead>\n",
       "  <tbody>\n",
       "    <tr>\n",
       "      <th>0</th>\n",
       "      <td>172</td>\n",
       "      <td>3</td>\n",
       "      <td>the Internet protocol address</td>\n",
       "      <td>143</td>\n",
       "      <td>IP address and device IDs</td>\n",
       "    </tr>\n",
       "    <tr>\n",
       "      <th>1</th>\n",
       "      <td>217</td>\n",
       "      <td>3</td>\n",
       "      <td>date and time</td>\n",
       "      <td>204</td>\n",
       "      <td>Other</td>\n",
       "    </tr>\n",
       "    <tr>\n",
       "      <th>2</th>\n",
       "      <td>346</td>\n",
       "      <td>3</td>\n",
       "      <td>the name of the web site from which you linked...</td>\n",
       "      <td>219</td>\n",
       "      <td>User online activities</td>\n",
       "    </tr>\n",
       "    <tr>\n",
       "      <th>3</th>\n",
       "      <td>388</td>\n",
       "      <td>3</td>\n",
       "      <td>the browser and operating system used</td>\n",
       "      <td>351</td>\n",
       "      <td>Computer information</td>\n",
       "    </tr>\n",
       "    <tr>\n",
       "      <th>4</th>\n",
       "      <td>-1</td>\n",
       "      <td>6</td>\n",
       "      <td>NaN</td>\n",
       "      <td>-1</td>\n",
       "      <td>Unspecified</td>\n",
       "    </tr>\n",
       "  </tbody>\n",
       "</table>\n",
       "</div>"
      ],
      "text/plain": [
       "   endIndexInSegment  section  \\\n",
       "0                172        3   \n",
       "1                217        3   \n",
       "2                346        3   \n",
       "3                388        3   \n",
       "4                 -1        6   \n",
       "\n",
       "                                        selectedText  startIndexInSegment  \\\n",
       "0                      the Internet protocol address                  143   \n",
       "1                                      date and time                  204   \n",
       "2  the name of the web site from which you linked...                  219   \n",
       "3              the browser and operating system used                  351   \n",
       "4                                                NaN                   -1   \n",
       "\n",
       "                       value  \n",
       "0  IP address and device IDs  \n",
       "1                      Other  \n",
       "2     User online activities  \n",
       "3       Computer information  \n",
       "4                Unspecified  "
      ]
     },
     "execution_count": 48,
     "metadata": {},
     "output_type": "execute_result"
    }
   ],
   "source": [
    "df['usa.gov']['Data Retention']['Personal Information Type']"
   ]
  },
  {
   "cell_type": "code",
   "execution_count": null,
   "metadata": {
    "collapsed": true
   },
   "outputs": [],
   "source": []
  }
 ],
 "metadata": {
  "kernelspec": {
   "display_name": "Python 2",
   "language": "python",
   "name": "python2"
  },
  "language_info": {
   "codemirror_mode": {
    "name": "ipython",
    "version": 2
   },
   "file_extension": ".py",
   "mimetype": "text/x-python",
   "name": "python",
   "nbconvert_exporter": "python",
   "pygments_lexer": "ipython2",
   "version": "2.7.13"
  }
 },
 "nbformat": 4,
 "nbformat_minor": 2
}
