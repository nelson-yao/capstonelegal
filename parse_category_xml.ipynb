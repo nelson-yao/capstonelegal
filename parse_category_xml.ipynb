{
 "cells": [
  {
   "cell_type": "code",
   "execution_count": 1,
   "metadata": {
    "collapsed": false
   },
   "outputs": [
    {
     "name": "stdout",
     "output_type": "stream",
     "text": [
      "2.7.12 |Anaconda 4.2.0 (x86_64)| (default, Jul  2 2016, 17:43:17) \n",
      "[GCC 4.2.1 (Based on Apple Inc. build 5658) (LLVM build 2336.11.00)]\n"
     ]
    }
   ],
   "source": [
    "import sys\n",
    "print(sys.version)\n",
    "\n",
    "import xmltodict\n",
    "import types\n",
    "import pandas as pd"
   ]
  },
  {
   "cell_type": "code",
   "execution_count": 2,
   "metadata": {
    "collapsed": false
   },
   "outputs": [],
   "source": [
    "with open('Data/categories-july30.xml') as fd:\n",
    "    doc = xmltodict.parse(fd.read())"
   ]
  },
  {
   "cell_type": "code",
   "execution_count": 3,
   "metadata": {
    "collapsed": false
   },
   "outputs": [
    {
     "name": "stdout",
     "output_type": "stream",
     "text": [
      "Category: First Party Collection/Use\n",
      "Description: Privacy practice describing data collection or data use by the company/organization owning the website or mobile app.\n",
      "\n",
      "Category: Third Party Sharing/Collection\n",
      "Description: Privacy practice describing data sharing with third parties or data collection by third parties. A third party is a company/organization other than the first party  company/organization that owns the website or mobile app.\n",
      "\n",
      "Category: User Choice/Control\n",
      "Description: Practice that describes general choices and control options available to users.\n",
      "\n",
      "Category: User Access, Edit and Deletion\n",
      "Description: Privacy practice that allows users to access, edit or delete the data that the company/organization has about them.\n",
      "\n",
      "Category: Data Retention\n",
      "Description: Privacy practice specifying the retention period for collected user information.\n",
      "\n",
      "Category: Data Security\n",
      "Description: Practice that describes how users’ information is secured and protected, e.g., from confidentiality, integrity, or availability breaches. Common practices include the encryption of stored data and online communications.\n",
      "\n",
      "Category: Policy Change\n",
      "Description: The company/organization’s practices concerning if and how users will be informed of changes to its privacy policy, including any choices offered to users.\n",
      "\n",
      "Category: Do Not Track\n",
      "Description: Practices that explain if and how Do Not Track signals (DNT) for online tracking and advertising are honored.\n",
      "\n",
      "Category: International and Specific Audiences\n",
      "Description: Specific audiences mentioned in the company/organization’s privacy policy, such as children or international users, for which the company/organization may provide special provisions.\n",
      "\n",
      "Category: Other\n",
      "Description: Another aspect not covered in the other categories is discussed in the text segment.\n",
      "\n",
      "First 5 items of category data:\n",
      "\n",
      "[(u'First Party Collection/Use', u'Privacy practice describing data collection or data use by the company/organization owning the website or mobile app.', u'Does/Does Not', u'Use this optional attribute to denote if the policy explicitly states that something is NOT done. Defaults to Does.', u'Does', u'The first party does engage in the described practice.'), (u'First Party Collection/Use', u'Privacy practice describing data collection or data use by the company/organization owning the website or mobile app.', u'Does/Does Not', u'Use this optional attribute to denote if the policy explicitly states that something is NOT done. Defaults to Does.', u'Does Not', u'The first party does not engage in the described practice.'), (u'First Party Collection/Use', u'Privacy practice describing data collection or data use by the company/organization owning the website or mobile app.', u'Collection Mode', u\"Use this optional attribute to denote if the data collection performed by the first party is implicit (e.g., company collects information without user's explicit awareness) or explicit (e.g., user provides information). Defaults to \\u201cnot selected.\\u201d\", u'Explicit', u'The company/organization collects or uses information that the user explicitly provides, e.g., the user enters information in a web form.'), (u'First Party Collection/Use', u'Privacy practice describing data collection or data use by the company/organization owning the website or mobile app.', u'Collection Mode', u\"Use this optional attribute to denote if the data collection performed by the first party is implicit (e.g., company collects information without user's explicit awareness) or explicit (e.g., user provides information). Defaults to \\u201cnot selected.\\u201d\", u'Implicit', u'The company/organization collects or uses information that the user does not explicitly provide, e.g., data is collected or transferred automatically in the background. The user may or may not have given consent to such implicit collection/use.'), (u'First Party Collection/Use', u'Privacy practice describing data collection or data use by the company/organization owning the website or mobile app.', u'Collection Mode', u\"Use this optional attribute to denote if the data collection performed by the first party is implicit (e.g., company collects information without user's explicit awareness) or explicit (e.g., user provides information). Defaults to \\u201cnot selected.\\u201d\", u'Unspecified', u'It is not specified or unclear whether the information is collected explicitly or implicitly.')]\n",
      "\n",
      "Total Categories: 10\n",
      "Total Topics: 36\n",
      "Total Values: 259\n",
      "\n"
     ]
    },
    {
     "data": {
      "text/html": [
       "<div>\n",
       "<table border=\"1\" class=\"dataframe\">\n",
       "  <thead>\n",
       "    <tr style=\"text-align: right;\">\n",
       "      <th></th>\n",
       "      <th>category</th>\n",
       "      <th>category_description</th>\n",
       "      <th>topic</th>\n",
       "      <th>topic_description</th>\n",
       "      <th>value</th>\n",
       "      <th>value_description</th>\n",
       "    </tr>\n",
       "  </thead>\n",
       "  <tbody>\n",
       "    <tr>\n",
       "      <th>0</th>\n",
       "      <td>First Party Collection/Use</td>\n",
       "      <td>Privacy practice describing data collection or...</td>\n",
       "      <td>Does/Does Not</td>\n",
       "      <td>Use this optional attribute to denote if the p...</td>\n",
       "      <td>Does</td>\n",
       "      <td>The first party does engage in the described p...</td>\n",
       "    </tr>\n",
       "    <tr>\n",
       "      <th>1</th>\n",
       "      <td>First Party Collection/Use</td>\n",
       "      <td>Privacy practice describing data collection or...</td>\n",
       "      <td>Does/Does Not</td>\n",
       "      <td>Use this optional attribute to denote if the p...</td>\n",
       "      <td>Does Not</td>\n",
       "      <td>The first party does not engage in the describ...</td>\n",
       "    </tr>\n",
       "    <tr>\n",
       "      <th>2</th>\n",
       "      <td>First Party Collection/Use</td>\n",
       "      <td>Privacy practice describing data collection or...</td>\n",
       "      <td>Collection Mode</td>\n",
       "      <td>Use this optional attribute to denote if the d...</td>\n",
       "      <td>Explicit</td>\n",
       "      <td>The company/organization collects or uses info...</td>\n",
       "    </tr>\n",
       "    <tr>\n",
       "      <th>3</th>\n",
       "      <td>First Party Collection/Use</td>\n",
       "      <td>Privacy practice describing data collection or...</td>\n",
       "      <td>Collection Mode</td>\n",
       "      <td>Use this optional attribute to denote if the d...</td>\n",
       "      <td>Implicit</td>\n",
       "      <td>The company/organization collects or uses info...</td>\n",
       "    </tr>\n",
       "    <tr>\n",
       "      <th>4</th>\n",
       "      <td>First Party Collection/Use</td>\n",
       "      <td>Privacy practice describing data collection or...</td>\n",
       "      <td>Collection Mode</td>\n",
       "      <td>Use this optional attribute to denote if the d...</td>\n",
       "      <td>Unspecified</td>\n",
       "      <td>It is not specified or unclear whether the inf...</td>\n",
       "    </tr>\n",
       "  </tbody>\n",
       "</table>\n",
       "</div>"
      ],
      "text/plain": [
       "                     category  \\\n",
       "0  First Party Collection/Use   \n",
       "1  First Party Collection/Use   \n",
       "2  First Party Collection/Use   \n",
       "3  First Party Collection/Use   \n",
       "4  First Party Collection/Use   \n",
       "\n",
       "                                category_description            topic  \\\n",
       "0  Privacy practice describing data collection or...    Does/Does Not   \n",
       "1  Privacy practice describing data collection or...    Does/Does Not   \n",
       "2  Privacy practice describing data collection or...  Collection Mode   \n",
       "3  Privacy practice describing data collection or...  Collection Mode   \n",
       "4  Privacy practice describing data collection or...  Collection Mode   \n",
       "\n",
       "                                   topic_description        value  \\\n",
       "0  Use this optional attribute to denote if the p...         Does   \n",
       "1  Use this optional attribute to denote if the p...     Does Not   \n",
       "2  Use this optional attribute to denote if the d...     Explicit   \n",
       "3  Use this optional attribute to denote if the d...     Implicit   \n",
       "4  Use this optional attribute to denote if the d...  Unspecified   \n",
       "\n",
       "                                   value_description  \n",
       "0  The first party does engage in the described p...  \n",
       "1  The first party does not engage in the describ...  \n",
       "2  The company/organization collects or uses info...  \n",
       "3  The company/organization collects or uses info...  \n",
       "4  It is not specified or unclear whether the inf...  "
      ]
     },
     "execution_count": 3,
     "metadata": {},
     "output_type": "execute_result"
    }
   ],
   "source": [
    "total_cat, total_topic, total_value = 0,0,0\n",
    "data = []\n",
    "\n",
    "for c in (doc[\"categories\"][\"category\"]):\n",
    "    total_cat += 1\n",
    "    #print \"Category: \" + c[\"name\"] + \"\\n\" + \"Description: \" + c[\"description\"] + '\\n'\n",
    "    for att in c[\"attributes\"].items():\n",
    "        #print att[1]\n",
    "        if (isinstance(att[1], types.ListType) ):\n",
    "            for a in att[1]:\n",
    "                #print \"Attribute Name: \" + a[\"name\"] + \"\\n\" + \"Description: \" + a[\"description\"] + \"\\n\"\n",
    "                total_topic +=1\n",
    "             \n",
    "                for val in a[\"values\"].items():\n",
    "                    for v in val[1]:\n",
    "                        #print \"Value Name: \" + v[\"name\"] + \"\\n\" + \"Description: \" + v[\"description\"] + \"\\n\"\n",
    "                        total_value +=1\n",
    "                        \n",
    "                        data.append((c[\"name\"], c[\"description\"], a[\"name\"], a[\"description\"], v[\"name\"], v[\"description\"]))\n",
    "            \n",
    "            #print '\\n\\n\\n'\n",
    "        else:\n",
    "            a = att[1]\n",
    "            #print \"Attribute Name: \" + a[\"name\"] + \"\\n\" + \"Description: \" + a[\"description\"] + \"\\n\"\n",
    "            total_topic +=1\n",
    "            \n",
    "            for val in a[\"values\"].items():\n",
    "                    for v in val[1]:\n",
    "                        #print \"Value Name: \" + v[\"name\"] + \"\\n\" + \"Description: \" + v[\"description\"] + \"\\n\"\n",
    "                        total_value +=1\n",
    "                        data.append((c[\"name\"], c[\"description\"], a[\"name\"], a[\"description\"], v[\"name\"], v[\"description\"]))\n",
    "                            \n",
    "            #print \"\\n\\n\\n\"\n",
    "\n",
    "labels = [\"category\", \"category_description\", \"topic\", \"topic_description\", \"value\", \"value_description\"]\n",
    "df = pd.DataFrame.from_records(data, columns= labels)\n",
    "\n",
    "print \"First 5 items of category data:\\n\"\n",
    "print data[:5]\n",
    "print\n",
    "\n",
    "print \"Total Categories: %d\"%(total_cat)\n",
    "print \"Total Topics: %d\"%(total_topic)\n",
    "print \"Total Values: %d\"%(total_value)\n",
    "print \n",
    "\n",
    "df.head()\n",
    "            "
   ]
  },
  {
   "cell_type": "code",
   "execution_count": null,
   "metadata": {
    "collapsed": true
   },
   "outputs": [],
   "source": []
  }
 ],
 "metadata": {
  "anaconda-cloud": {},
  "kernelspec": {
   "display_name": "Python [default]",
   "language": "python",
   "name": "python2"
  },
  "language_info": {
   "codemirror_mode": {
    "name": "ipython",
    "version": 2
   },
   "file_extension": ".py",
   "mimetype": "text/x-python",
   "name": "python",
   "nbconvert_exporter": "python",
   "pygments_lexer": "ipython2",
   "version": "2.7.12"
  }
 },
 "nbformat": 4,
 "nbformat_minor": 1
}
