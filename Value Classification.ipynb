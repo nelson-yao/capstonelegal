{
 "cells": [
  {
   "cell_type": "code",
   "execution_count": 11,
   "metadata": {
    "collapsed": true
   },
   "outputs": [],
   "source": [
    "## import labeled data from pickled object\n",
    "import pickle\n",
    "import random"
   ]
  },
  {
   "cell_type": "code",
   "execution_count": 3,
   "metadata": {
    "collapsed": false
   },
   "outputs": [],
   "source": [
    "with open(\"/share/pub/Results/LabeledFullSentences.pk\", 'rb') as f:\n",
    "  labeledSentences=pickle.load(f)"
   ]
  },
  {
   "cell_type": "code",
   "execution_count": null,
   "metadata": {
    "collapsed": false
   },
   "outputs": [],
   "source": [
    "\"\"\"\n",
    "The structure of the labeledSentences is {website:{section:[sentence, section, startIdx, endIdx, (topic, value)]}}\n",
    "The topic is made up of two parts : category ,\n",
    "\"\"\""
   ]
  },
  {
   "cell_type": "code",
   "execution_count": 16,
   "metadata": {
    "collapsed": false
   },
   "outputs": [
    {
     "data": {
      "text/plain": [
       "[[\"This Privacy Statement and the certification seal located to your right confirms that SCEA is a valid licensee and participating member in the Entertainment Software Rating Board's Privacy Online Program: ESRB Privacy Online.\",\n",
       "  2,\n",
       "  0,\n",
       "  225,\n",
       "  [('Other', 'Other Type', 'Practice not covered')]],\n",
       " ['To protect your privacy to the maximum extent possible, we have undertaken this privacy initiative and our websites have been reviewed and certified by ESRB Privacy Online to meet established online information collection and use practices.',\n",
       "  2,\n",
       "  226,\n",
       "  466,\n",
       "  [('Other', 'Other Type', 'Practice not covered'),\n",
       "   ('Data Security', 'Security Measure', 'Privacy/Security program')]],\n",
       " ['As part of the privacy program, we are subject to frequent audits of our sites and other enforcement and accountability mechanisms administered independently by ESRB.',\n",
       "  2,\n",
       "  467,\n",
       "  633,\n",
       "  [('Other', 'Other Type', 'Practice not covered'),\n",
       "   ('Data Security', 'Security Measure', 'Privacy/Security program')]]]"
      ]
     },
     "execution_count": 16,
     "metadata": {},
     "output_type": "execute_result"
    }
   ],
   "source": [
    "labeledSentences['playstation.com'][2]"
   ]
  },
  {
   "cell_type": "code",
   "execution_count": 9,
   "metadata": {
    "collapsed": true
   },
   "outputs": [],
   "source": [
    "websites=list(labeledSentences.keys())"
   ]
  },
  {
   "cell_type": "code",
   "execution_count": 30,
   "metadata": {
    "collapsed": false
   },
   "outputs": [],
   "source": [
    "## choose the websites for training and validating \n",
    "seed=1324\n",
    "random.seed(seed)\n",
    "trainWebsites=random.sample(websites, 102)\n",
    "valWebsites=[thing for thing in websites if thing not in trainWebsites]"
   ]
  },
  {
   "cell_type": "code",
   "execution_count": 17,
   "metadata": {
    "collapsed": true
   },
   "outputs": [],
   "source": [
    "## A list of all topics \n",
    "\n",
    "topicList=[('Data Retention', 'Personal Information Type'),\n",
    " ('Data Retention', 'Retention Period'),\n",
    " ('Data Retention', 'Retention Purpose'),\n",
    " ('Data Security', 'Security Measure'),\n",
    " ('Do Not Track', 'Do Not Track policy'),\n",
    " ('First Party Collection/Use', 'Action First-Party'),\n",
    " ('First Party Collection/Use', 'Choice Scope'),\n",
    " ('First Party Collection/Use', 'Choice Type'),\n",
    " ('First Party Collection/Use', 'Collection Mode'),\n",
    " ('First Party Collection/Use', 'Does/Does Not'),\n",
    " ('First Party Collection/Use', 'Identifiability'),\n",
    " ('First Party Collection/Use', 'Personal Information Type'),\n",
    " ('First Party Collection/Use', 'Purpose'),\n",
    " ('First Party Collection/Use', 'User Type'),\n",
    " ('International and Specific Audiences', 'Audience Type'),\n",
    " ('Other', 'Other Type'),\n",
    " ('Policy Change', 'Change Type'),\n",
    " ('Policy Change', 'Notification Type'),\n",
    " ('Policy Change', 'User Choice'),\n",
    " ('Third Party Sharing/Collection', 'Action Third Party'),\n",
    " ('Third Party Sharing/Collection', 'Choice Scope'),\n",
    " ('Third Party Sharing/Collection', 'Choice Type'),\n",
    " ('Third Party Sharing/Collection', 'Does/Does Not'),\n",
    " ('Third Party Sharing/Collection', 'Identifiability'),\n",
    " ('Third Party Sharing/Collection', 'Personal Information Type'),\n",
    " ('Third Party Sharing/Collection', 'Purpose'),\n",
    " ('Third Party Sharing/Collection', 'Third Party Entity'),\n",
    " ('Third Party Sharing/Collection', 'User Type'),\n",
    " ('User Access, Edit and Deletion', 'Access Scope'),\n",
    " ('User Access, Edit and Deletion', 'Access Type'),\n",
    " ('User Access, Edit and Deletion', 'User Type'),\n",
    " ('User Choice/Control', 'Choice Scope'),\n",
    " ('User Choice/Control', 'Choice Type'),\n",
    " ('User Choice/Control', 'Personal Information Type'),\n",
    " ('User Choice/Control', 'Purpose'),\n",
    " ('User Choice/Control', 'User Type')]"
   ]
  },
  {
   "cell_type": "code",
   "execution_count": 13,
   "metadata": {
    "collapsed": true
   },
   "outputs": [],
   "source": [
    "## We can take the data and put them in a better format \n",
    "## For example, we can just keep the website information, the sentence, the topic and the value"
   ]
  },
  {
   "cell_type": "code",
   "execution_count": 20,
   "metadata": {
    "collapsed": false
   },
   "outputs": [],
   "source": [
    "def extractFeatureLabels(labeledSents):\n",
    "  results={}\n",
    "  for website, data in labeledSents.items():\n",
    "    websiteresult=[]\n",
    "    for section, infoList in data.items():\n",
    "      for sentence in infoList:\n",
    "        websiteresult.append([sentence[0], sentence[4]])\n",
    "    results[website]=websiteresult\n",
    "  return results\n",
    "\n",
    "simpleSentLabels=extractFeatureLabels(labeledSentences)"
   ]
  },
  {
   "cell_type": "code",
   "execution_count": 28,
   "metadata": {
    "collapsed": false
   },
   "outputs": [
    {
     "data": {
      "text/plain": [
       "[[\"This Privacy Statement and the certification seal located to your right confirms that SCEA is a valid licensee and participating member in the Entertainment Software Rating Board's Privacy Online Program: ESRB Privacy Online.\",\n",
       "  [('Other', 'Other Type', 'Practice not covered')]],\n",
       " ['To protect your privacy to the maximum extent possible, we have undertaken this privacy initiative and our websites have been reviewed and certified by ESRB Privacy Online to meet established online information collection and use practices.',\n",
       "  [('Other', 'Other Type', 'Practice not covered'),\n",
       "   ('Data Security', 'Security Measure', 'Privacy/Security program')]]]"
      ]
     },
     "execution_count": 28,
     "metadata": {},
     "output_type": "execute_result"
    }
   ],
   "source": [
    "simpleSentLabels[\"playstation.com\"][4:6]  # each sentence is grouped with the topic they are related to and the label"
   ]
  },
  {
   "cell_type": "code",
   "execution_count": 31,
   "metadata": {
    "collapsed": true
   },
   "outputs": [],
   "source": [
    "trainData={website:simpleSentLabels[website] for website in trainWebsites}\n",
    "valData={website:simpleSentLabels[website] for website in valWebsites}"
   ]
  },
  {
   "cell_type": "code",
   "execution_count": 42,
   "metadata": {
    "collapsed": true
   },
   "outputs": [],
   "source": [
    "## Make a way to organize the training texts and labels\n",
    "## we need to make a model for each topic\n",
    "def generateXY(inputdata, topic):\n",
    "  results=[]\n",
    "  for website, data in inputdata.items():\n",
    "    for item in data:    \n",
    "      if topic in [x[0:2] for x in item[1]]:   # if the topic is in a (sentence, topic+label)  tuple\n",
    "        label=[x[2] for x in item[1] if x[0:2]==topic][0]\n",
    "        results.append([item[0], label])\n",
    "  text, labels=zip(*results)\n",
    "  return text, labels"
   ]
  },
  {
   "cell_type": "code",
   "execution_count": 43,
   "metadata": {
    "collapsed": false
   },
   "outputs": [],
   "source": [
    "topic=('Third Party Sharing/Collection', 'Personal Information Type')\n",
    "trainText, trainLabels=generateXY(trainData, topic)"
   ]
  },
  {
   "cell_type": "code",
   "execution_count": 44,
   "metadata": {
    "collapsed": false
   },
   "outputs": [
    {
     "name": "stdout",
     "output_type": "stream",
     "text": [
      "(\"To do this, we use 'cookies' or alphanumeric identifiers that we transfer to your computer's hard drive through your web browser to enable our systems to recognize your browser and to provide features such as storage of items in your Shopping Cart between visits.\", 'This provider may collect anonymous information about your visits to the Sites and may also use information about your visits to this and other Web sites to refine our services.', 'We may also collect anonymous information about your interactions with us through the use of pixel tags (also called \"web beacons\" or \"clear gifs\"), which are tiny graphic images on the Sites and in our emails.', 'Does Hat World share personal information about me-   By using the Sites, you agree that we may share your personal information in the following ways:     When you provide personal information to one of our retail stores or affiliates, we may share that information with our other retail stores or affiliates in the United States or Canada.', 'Whenever we share personal information with our agents, we restrict their access to only that information needed to perform their functions, demand that they provide a comparable level of protection for personal information, and require that they not use it for other purposes.')\n",
      "('Cookies and tracking elements', 'Generic personal information', 'Cookies and tracking elements', 'Generic personal information', 'Generic personal information')\n"
     ]
    }
   ],
   "source": [
    "print(trainText[:5])\n",
    "print(trainLabels[:5])"
   ]
  },
  {
   "cell_type": "code",
   "execution_count": 45,
   "metadata": {
    "collapsed": true
   },
   "outputs": [],
   "source": [
    "valText, valLabels=generateXY(valData, topic)"
   ]
  },
  {
   "cell_type": "code",
   "execution_count": 47,
   "metadata": {
    "collapsed": false
   },
   "outputs": [
    {
     "data": {
      "text/plain": [
       "RandomForestClassifier(bootstrap=True, class_weight=None, criterion='gini',\n",
       "            max_depth=None, max_features='auto', max_leaf_nodes=None,\n",
       "            min_impurity_split=1e-07, min_samples_leaf=1,\n",
       "            min_samples_split=2, min_weight_fraction_leaf=0.0,\n",
       "            n_estimators=1000, n_jobs=1, oob_score=False,\n",
       "            random_state=None, verbose=0, warm_start=False)"
      ]
     },
     "execution_count": 47,
     "metadata": {},
     "output_type": "execute_result"
    }
   ],
   "source": [
    "from sklearn.feature_extraction.text import TfidfVectorizer \n",
    "from sklearn.ensemble import RandomForestClassifier\n",
    "from sklearn.ensemble import RandomForestClassifier\n",
    "from sklearn.linear_model import LogisticRegression\n",
    "from sklearn.metrics import f1_score\n",
    "from sklearn.feature_extraction.text import TfidfTransformer\n",
    "\n",
    "# make features using tfidf vectorizer\n",
    "vectorizer=TfidfVectorizer(max_df=0.2)  \n",
    "\n",
    "# max_df = maximum document frequency , this makes it ignores the terms \n",
    "# that have higher document frequency than the specified threshold, in this case it's 20% of the documents\n",
    "# so if a term appears in 20% of all the sentences, it will be ignored\n",
    "# http://scikit-learn.org/stable/modules/generated/sklearn.feature_extraction.text.TfidfVectorizer.html\n",
    "# There are also several other parameters we can play with\n",
    "\n",
    "vectorizer.fit(trainText)\n",
    "trainVec=vectorizer.transform(trainText )  # this is the input to the model\n",
    "\n",
    "model=RandomForestClassifier(n_estimators=1000)  # instantiate a classifier object\n",
    "\n",
    "model.fit(trainVec, trainLabels)"
   ]
  },
  {
   "cell_type": "code",
   "execution_count": 51,
   "metadata": {
    "collapsed": false
   },
   "outputs": [
    {
     "name": "stdout",
     "output_type": "stream",
     "text": [
      "['Generic personal information' 'Generic personal information'\n",
      " 'Cookies and tracking elements' 'Cookies and tracking elements'\n",
      " 'Generic personal information' 'Generic personal information'\n",
      " 'Generic personal information' 'Generic personal information'\n",
      " 'Generic personal information' 'Generic personal information']\n"
     ]
    }
   ],
   "source": [
    "## Get the prediction of the validation data\n",
    "valVec=vectorizer.transform(valText)\n",
    "pred=model.predict(valVec)\n",
    "print(pred[:10])"
   ]
  },
  {
   "cell_type": "code",
   "execution_count": 54,
   "metadata": {
    "collapsed": false
   },
   "outputs": [
    {
     "name": "stdout",
     "output_type": "stream",
     "text": [
      "(0.44297507993749757, 0.37142857142857133, 0.36475513939559961, None)\n"
     ]
    },
    {
     "name": "stderr",
     "output_type": "stream",
     "text": [
      "/opt/anaconda/anaconda3/lib/python3.6/site-packages/sklearn/metrics/classification.py:1113: UndefinedMetricWarning: Precision and F-score are ill-defined and being set to 0.0 in labels with no predicted samples.\n",
      "  'precision', 'predicted', average, warn_for)\n"
     ]
    }
   ],
   "source": [
    "#http://scikit-learn.org/stable/modules/generated/sklearn.metrics.precision_recall_fscore_support.html \n",
    "#we can show precision and recall \n",
    "\n",
    "\n",
    "from sklearn.metrics import precision_recall_fscore_support\n",
    "\n",
    "prec_recall=precision_recall_fscore_support(valLabels, pred, average=\"macro\")\n"
   ]
  },
  {
   "cell_type": "code",
   "execution_count": 56,
   "metadata": {
    "collapsed": false
   },
   "outputs": [
    {
     "name": "stderr",
     "output_type": "stream",
     "text": [
      "/opt/anaconda/anaconda3/lib/python3.6/site-packages/sklearn/metrics/classification.py:1113: UndefinedMetricWarning: F-score is ill-defined and being set to 0.0 in labels with no predicted samples.\n",
      "  'precision', 'predicted', average, warn_for)\n"
     ]
    }
   ],
   "source": [
    "# or we can show f1_score\n",
    "f1score=f1_score(valLabels, pred, average=\"macro\")"
   ]
  },
  {
   "cell_type": "code",
   "execution_count": 57,
   "metadata": {
    "collapsed": false
   },
   "outputs": [
    {
     "data": {
      "text/plain": [
       "0.36475513939559961"
      ]
     },
     "execution_count": 57,
     "metadata": {},
     "output_type": "execute_result"
    }
   ],
   "source": [
    "f1score"
   ]
  }
 ],
 "metadata": {
  "kernelspec": {
   "display_name": "Python 3",
   "language": "python",
   "name": "python3"
  },
  "language_info": {
   "codemirror_mode": {
    "name": "ipython",
    "version": 3
   },
   "file_extension": ".py",
   "mimetype": "text/x-python",
   "name": "python",
   "nbconvert_exporter": "python",
   "pygments_lexer": "ipython3",
   "version": "3.6.0"
  }
 },
 "nbformat": 4,
 "nbformat_minor": 2
}
